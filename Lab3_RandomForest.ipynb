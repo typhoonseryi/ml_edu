{
  "nbformat": 4,
  "nbformat_minor": 0,
  "metadata": {
    "colab": {
      "name": "Lab3_RandomForest.ipynb",
      "provenance": [],
      "collapsed_sections": [],
      "toc_visible": true
    },
    "kernelspec": {
      "name": "python3",
      "display_name": "Python 3"
    }
  },
  "cells": [
    {
      "cell_type": "code",
      "metadata": {
        "id": "5np0f8d6n5ti"
      },
      "source": [
        "# Импорт необходимых модулей \n",
        "import matplotlib\n",
        "import seaborn as sns\n",
        "import matplotlib.pyplot as plt\n",
        "import numpy as np\n",
        "import pandas as pd\n",
        "\n",
        "# Настройки для визуализации\n",
        "# Если используется темная тема - лучше текст сделать белым\n",
        "TEXT_COLOR = 'black'\n",
        "\n",
        "matplotlib.rcParams['figure.figsize'] = (15, 10)\n",
        "matplotlib.rcParams['text.color'] = 'black'\n",
        "matplotlib.rcParams['font.size'] = 14\n",
        "matplotlib.rcParams['axes.labelcolor'] = TEXT_COLOR\n",
        "matplotlib.rcParams['xtick.color'] = TEXT_COLOR\n",
        "matplotlib.rcParams['ytick.color'] = TEXT_COLOR\n",
        "\n",
        "# Зафиксируем состояние случайных чисел\n",
        "RANDOM_STATE = 42\n",
        "np.random.seed(RANDOM_STATE)"
      ],
      "execution_count": null,
      "outputs": []
    },
    {
      "cell_type": "markdown",
      "metadata": {
        "id": "u4dJttl0xebt"
      },
      "source": [
        "# Случайные леса на Титанике\n",
        "\n",
        "Ахой, дамы и господа! Мы уже знакомились с игрушечными задачками для решения, когда данных было не так много и в них не было особо проблем: ни пропусков, ни строковых значений - все уже готово для модели. В этот раз мы возьмем данные посложнее и посмотрим, как работать с наиболее распространенными случаями предобработки!\n",
        "\n",
        "В этот раз мы идем в плавание и планируем научиться предсказывать выживет ли человек или нет! В этом нам поможет набор данных с Kaggle - [Titanic: Machine Learning from Disaster](https://www.kaggle.com/c/titanic). Вы можете скачать данные прямо с сайта, ну а мы для примеров возьмем уже скачанный файл данных:"
      ]
    },
    {
      "cell_type": "code",
      "metadata": {
        "id": "zeAnrA_b5JuW",
        "colab": {
          "base_uri": "https://localhost:8080/",
          "height": 204
        },
        "outputId": "6a150f5f-51c8-4c98-df72-b4e66516bf60"
      },
      "source": [
        "URL = 'https://raw.githubusercontent.com/KaiL4eK/ml_edu/master/datasets/Titanic_train.csv'\n",
        "src_df = pd.read_csv(URL)\n",
        "src_df.head()"
      ],
      "execution_count": null,
      "outputs": [
        {
          "output_type": "execute_result",
          "data": {
            "text/html": [
              "<div>\n",
              "<style scoped>\n",
              "    .dataframe tbody tr th:only-of-type {\n",
              "        vertical-align: middle;\n",
              "    }\n",
              "\n",
              "    .dataframe tbody tr th {\n",
              "        vertical-align: top;\n",
              "    }\n",
              "\n",
              "    .dataframe thead th {\n",
              "        text-align: right;\n",
              "    }\n",
              "</style>\n",
              "<table border=\"1\" class=\"dataframe\">\n",
              "  <thead>\n",
              "    <tr style=\"text-align: right;\">\n",
              "      <th></th>\n",
              "      <th>PassengerId</th>\n",
              "      <th>Survived</th>\n",
              "      <th>Pclass</th>\n",
              "      <th>Name</th>\n",
              "      <th>Sex</th>\n",
              "      <th>Age</th>\n",
              "      <th>SibSp</th>\n",
              "      <th>Parch</th>\n",
              "      <th>Ticket</th>\n",
              "      <th>Fare</th>\n",
              "      <th>Cabin</th>\n",
              "      <th>Embarked</th>\n",
              "    </tr>\n",
              "  </thead>\n",
              "  <tbody>\n",
              "    <tr>\n",
              "      <th>0</th>\n",
              "      <td>1</td>\n",
              "      <td>0</td>\n",
              "      <td>3</td>\n",
              "      <td>Braund, Mr. Owen Harris</td>\n",
              "      <td>male</td>\n",
              "      <td>22.0</td>\n",
              "      <td>1</td>\n",
              "      <td>0</td>\n",
              "      <td>A/5 21171</td>\n",
              "      <td>7.2500</td>\n",
              "      <td>NaN</td>\n",
              "      <td>S</td>\n",
              "    </tr>\n",
              "    <tr>\n",
              "      <th>1</th>\n",
              "      <td>2</td>\n",
              "      <td>1</td>\n",
              "      <td>1</td>\n",
              "      <td>Cumings, Mrs. John Bradley (Florence Briggs Th...</td>\n",
              "      <td>female</td>\n",
              "      <td>38.0</td>\n",
              "      <td>1</td>\n",
              "      <td>0</td>\n",
              "      <td>PC 17599</td>\n",
              "      <td>71.2833</td>\n",
              "      <td>C85</td>\n",
              "      <td>C</td>\n",
              "    </tr>\n",
              "    <tr>\n",
              "      <th>2</th>\n",
              "      <td>3</td>\n",
              "      <td>1</td>\n",
              "      <td>3</td>\n",
              "      <td>Heikkinen, Miss. Laina</td>\n",
              "      <td>female</td>\n",
              "      <td>26.0</td>\n",
              "      <td>0</td>\n",
              "      <td>0</td>\n",
              "      <td>STON/O2. 3101282</td>\n",
              "      <td>7.9250</td>\n",
              "      <td>NaN</td>\n",
              "      <td>S</td>\n",
              "    </tr>\n",
              "    <tr>\n",
              "      <th>3</th>\n",
              "      <td>4</td>\n",
              "      <td>1</td>\n",
              "      <td>1</td>\n",
              "      <td>Futrelle, Mrs. Jacques Heath (Lily May Peel)</td>\n",
              "      <td>female</td>\n",
              "      <td>35.0</td>\n",
              "      <td>1</td>\n",
              "      <td>0</td>\n",
              "      <td>113803</td>\n",
              "      <td>53.1000</td>\n",
              "      <td>C123</td>\n",
              "      <td>S</td>\n",
              "    </tr>\n",
              "    <tr>\n",
              "      <th>4</th>\n",
              "      <td>5</td>\n",
              "      <td>0</td>\n",
              "      <td>3</td>\n",
              "      <td>Allen, Mr. William Henry</td>\n",
              "      <td>male</td>\n",
              "      <td>35.0</td>\n",
              "      <td>0</td>\n",
              "      <td>0</td>\n",
              "      <td>373450</td>\n",
              "      <td>8.0500</td>\n",
              "      <td>NaN</td>\n",
              "      <td>S</td>\n",
              "    </tr>\n",
              "  </tbody>\n",
              "</table>\n",
              "</div>"
            ],
            "text/plain": [
              "   PassengerId  Survived  Pclass  ...     Fare Cabin  Embarked\n",
              "0            1         0       3  ...   7.2500   NaN         S\n",
              "1            2         1       1  ...  71.2833   C85         C\n",
              "2            3         1       3  ...   7.9250   NaN         S\n",
              "3            4         1       1  ...  53.1000  C123         S\n",
              "4            5         0       3  ...   8.0500   NaN         S\n",
              "\n",
              "[5 rows x 12 columns]"
            ]
          },
          "metadata": {
            "tags": []
          },
          "execution_count": 2
        }
      ]
    },
    {
      "cell_type": "markdown",
      "metadata": {
        "id": "KWDH8wwu5U2x"
      },
      "source": [
        "На официальном сайте предоставлена информация по данным, сделаем краткое обобщение:\n",
        "- `Survived` - (Целевая переменная) булевая переменная - выжил или нет;\n",
        "- `PassengerId` - уникальный идентификатор пассажира; \n",
        "- `Pclass` - класс обслуживания;\n",
        "- `Name` - имя пассажира;\n",
        "- `Sex` - пол пассажира;\n",
        "- `Age` - возраст пассажира (вещественное - возраст менее 1; х.5 - призблизительная оценка);\n",
        "- `SibSp` - количество родственников на борту (братья, сестры, мужья, жены);\n",
        "- `Parch` - количество родственников на борту (матери, отцы, дочери, сыновья);\n",
        "- `Ticket` - номер билета;\n",
        "- `Fare` - плата за проезд;\n",
        "- `Cabin` - номер кабины;\n",
        "- `Embarked` - порт посадки."
      ]
    },
    {
      "cell_type": "code",
      "metadata": {
        "id": "Y0H4LHTU5UkB",
        "colab": {
          "base_uri": "https://localhost:8080/"
        },
        "outputId": "2caa2d23-ea1f-4009-a3c9-e8b0779fc6f5"
      },
      "source": [
        "print(f'Shape of data: {src_df.shape}')\n",
        "print(src_df.columns)"
      ],
      "execution_count": null,
      "outputs": [
        {
          "output_type": "stream",
          "text": [
            "Shape of data: (891, 12)\n",
            "Index(['PassengerId', 'Survived', 'Pclass', 'Name', 'Sex', 'Age', 'SibSp',\n",
            "       'Parch', 'Ticket', 'Fare', 'Cabin', 'Embarked'],\n",
            "      dtype='object')\n"
          ],
          "name": "stdout"
        }
      ]
    },
    {
      "cell_type": "code",
      "metadata": {
        "id": "5mU02duL5gx-",
        "colab": {
          "base_uri": "https://localhost:8080/"
        },
        "outputId": "ab3905b4-f539-411d-dde5-a8cee3aa1338"
      },
      "source": [
        "src_df.info()"
      ],
      "execution_count": null,
      "outputs": [
        {
          "output_type": "stream",
          "text": [
            "<class 'pandas.core.frame.DataFrame'>\n",
            "RangeIndex: 891 entries, 0 to 890\n",
            "Data columns (total 12 columns):\n",
            " #   Column       Non-Null Count  Dtype  \n",
            "---  ------       --------------  -----  \n",
            " 0   PassengerId  891 non-null    int64  \n",
            " 1   Survived     891 non-null    int64  \n",
            " 2   Pclass       891 non-null    int64  \n",
            " 3   Name         891 non-null    object \n",
            " 4   Sex          891 non-null    object \n",
            " 5   Age          714 non-null    float64\n",
            " 6   SibSp        891 non-null    int64  \n",
            " 7   Parch        891 non-null    int64  \n",
            " 8   Ticket       891 non-null    object \n",
            " 9   Fare         891 non-null    float64\n",
            " 10  Cabin        204 non-null    object \n",
            " 11  Embarked     889 non-null    object \n",
            "dtypes: float64(2), int64(5), object(5)\n",
            "memory usage: 83.7+ KB\n"
          ],
          "name": "stdout"
        }
      ]
    },
    {
      "cell_type": "markdown",
      "metadata": {
        "id": "Myhjy7s25e3X"
      },
      "source": [
        "Видим 891 запись, 12 колонок: 11 колонок данных и целевая переменная. Как видно из `.info()` - данные имеют пропуск и имеются колонки с типом `object`, что означает наличие строковых (а то и еще каких) данных. Давайте разберемся, как нам сделать базовую предобработку, чтобы построить первую модель!"
      ]
    },
    {
      "cell_type": "markdown",
      "metadata": {
        "id": "uQKsstFB55lv"
      },
      "source": [
        "# Базовый анализ данных\n",
        "\n",
        "В этой части мы пройдемся по дополнительным методам подготовки данных для построения базовой модели (к тем, что мы изучили ранее). Целью базового анализа является первое знакомство с данными и подготовка к формату, который позволяет модели работать с данными - численная 2D матрица."
      ]
    },
    {
      "cell_type": "markdown",
      "metadata": {
        "id": "8XjFWC1r6O7S"
      },
      "source": [
        "## Анализ признаков\n",
        "\n",
        "При работе с данными первым делом необходимо понять, что значит каждый признак, какие в нем есть значения и пригодится ли он в работе. Для начала самыми подозрительными признаками являются признаки со строчными или целочисленными значениями, которые имеют слишком много уникальных значений. Как правило к категориальным такое отнести уже сложно, поэтому такие признаки чаще всего исключаются. Для примера возьмем признак `PassengerId`. С виду это какой-то индетификацтор, но взглянем на количество уникальных знчений:"
      ]
    },
    {
      "cell_type": "code",
      "metadata": {
        "id": "hJgHLaYs7ts3",
        "colab": {
          "base_uri": "https://localhost:8080/"
        },
        "outputId": "888f4038-b559-4270-ccc7-cb14e2c22007"
      },
      "source": [
        "print(src_df['PassengerId'].nunique())\n",
        "print(src_df['PassengerId'].count())\n",
        "src_df['PassengerId'].head()"
      ],
      "execution_count": null,
      "outputs": [
        {
          "output_type": "stream",
          "text": [
            "891\n",
            "891\n"
          ],
          "name": "stdout"
        },
        {
          "output_type": "execute_result",
          "data": {
            "text/plain": [
              "0    1\n",
              "1    2\n",
              "2    3\n",
              "3    4\n",
              "4    5\n",
              "Name: PassengerId, dtype: int64"
            ]
          },
          "metadata": {
            "tags": []
          },
          "execution_count": 5
        }
      ]
    },
    {
      "cell_type": "markdown",
      "metadata": {
        "id": "Ycdaiwbv71B5"
      },
      "source": [
        "Как видно, абсолютно все значения уникальны, что означает невозможность применения данного признака в работе и он должен быть исключен. Аналогично имеет смысл проверить остальные признаки. Вещественные значения признаков часто также имеют очень много уникальных значений, но их либо сразу относят к типу признаков **непрерывные (численные)**, либо проводят более глубокий анализ.\n",
        "\n",
        "Полезной практикой является проводить в начале унивариативный анализ, показывающий характеристики каждого признака и что с ним можно/нужно сделать в качестве первого этапа базового анализа.\n",
        "\n",
        "Для колонок с типом `object` полезно воспользоваться методом `Series.describe()`:"
      ]
    },
    {
      "cell_type": "code",
      "metadata": {
        "id": "Q6Igi5pL8j0s",
        "colab": {
          "base_uri": "https://localhost:8080/"
        },
        "outputId": "40f9d39a-b07e-4619-9a1a-def70433035f"
      },
      "source": [
        "src_df['Name'].describe()"
      ],
      "execution_count": null,
      "outputs": [
        {
          "output_type": "execute_result",
          "data": {
            "text/plain": [
              "count                  891\n",
              "unique                 891\n",
              "top       Kelly, Mr. James\n",
              "freq                     1\n",
              "Name: Name, dtype: object"
            ]
          },
          "metadata": {
            "tags": []
          },
          "execution_count": 6
        }
      ]
    },
    {
      "cell_type": "markdown",
      "metadata": {
        "id": "Vk6ow1TG9Mdk"
      },
      "source": [
        "**Вывод:** самым первым этапом базового анализа является анализ признаков, который проводится по каждому признаку с целью определить применимость, необходимость коррекции и другие особенности и проблемы."
      ]
    },
    {
      "cell_type": "markdown",
      "metadata": {
        "id": "xjprXtZr-iEF"
      },
      "source": [
        "## Заполнение пропусков\n",
        "\n",
        "Для просмотра количества пропусков удобно воспользоаться проверкой на `null` и затем вывести сумму по колонкам:"
      ]
    },
    {
      "cell_type": "code",
      "metadata": {
        "id": "a7W5B1CP-taD",
        "colab": {
          "base_uri": "https://localhost:8080/"
        },
        "outputId": "221328c7-e2b7-4181-95a2-bedfdcb7f6d0"
      },
      "source": [
        "src_df.isnull().sum()"
      ],
      "execution_count": null,
      "outputs": [
        {
          "output_type": "execute_result",
          "data": {
            "text/plain": [
              "PassengerId      0\n",
              "Survived         0\n",
              "Pclass           0\n",
              "Name             0\n",
              "Sex              0\n",
              "Age            177\n",
              "SibSp            0\n",
              "Parch            0\n",
              "Ticket           0\n",
              "Fare             0\n",
              "Cabin          687\n",
              "Embarked         2\n",
              "dtype: int64"
            ]
          },
          "metadata": {
            "tags": []
          },
          "execution_count": 7
        }
      ]
    },
    {
      "cell_type": "markdown",
      "metadata": {
        "id": "s1ZXJNOo-vs6"
      },
      "source": [
        "По результатам отображения количества пропусков видно, что данные имеют пропуски и требуется произвести их обработку, так как данные в таком виде не могут быть применены для построения модели.\n",
        "\n",
        "Существует огромное количество возможных вариантов работы с пропусками (https://scikit-learn.org/stable/modules/impute.html):\n",
        "- Исключение признаков (колонок), имеющих пропуски;\n",
        "- Исключение записей (строк), имеющих пропуски;\n",
        "- Заполнение пропусков средним/медианным значением признака (**Унивариативное** заполнение - Используется единственный признак);\n",
        "- Заполнение пропусков наиболее частым значением признака (мода);\n",
        "- Заполнение путем построения регрессионной модели по остальным признакам (**Мультивариативное** заполнение - используется несколько признаков);\n",
        "- и т.д.\n",
        "\n",
        "Так, например, признак `Age` имеет 177 пропущенных значений, что является достаточно большим количеством, чтобы исключить записи с пропусками. Признак также невозможно исключить, так как он имеет информативный характер (возраст часто связывают со способностью к выживанию). Таким образом, можно воспользоваться `sklearn.impute.SimpleImputer` со стратегией заполнения `mean`, чтобы заполнить пропущенные данные на основе статистики остальных данных данного признака."
      ]
    },
    {
      "cell_type": "code",
      "metadata": {
        "id": "xGfBcMsx-zJT",
        "colab": {
          "base_uri": "https://localhost:8080/"
        },
        "outputId": "f90a6632-bd2c-4a58-f525-113e5601632e"
      },
      "source": [
        "from sklearn.impute import SimpleImputer\n",
        "\n",
        "imp = SimpleImputer(strategy='mean')\n",
        "# Двойные скобки использованы, чтобы передать в fit() 2D массив\n",
        "X_in = src_df[['Age']]\n",
        "print(X_in.shape)\n",
        "\n",
        "src_df['Age'] = imp.fit_transform(X_in)\n",
        "src_df.isnull().sum()"
      ],
      "execution_count": null,
      "outputs": [
        {
          "output_type": "stream",
          "text": [
            "(891, 1)\n"
          ],
          "name": "stdout"
        },
        {
          "output_type": "execute_result",
          "data": {
            "text/plain": [
              "PassengerId      0\n",
              "Survived         0\n",
              "Pclass           0\n",
              "Name             0\n",
              "Sex              0\n",
              "Age              0\n",
              "SibSp            0\n",
              "Parch            0\n",
              "Ticket           0\n",
              "Fare             0\n",
              "Cabin          687\n",
              "Embarked         2\n",
              "dtype: int64"
            ]
          },
          "metadata": {
            "tags": []
          },
          "execution_count": 8
        }
      ]
    },
    {
      "cell_type": "markdown",
      "metadata": {
        "id": "-WAgzKBg_H4m"
      },
      "source": [
        "Вот так мы убедились в том, что метод работает! Исходя из распределения данных лучше выбирать стратегию по следующему признаку:\n",
        "- Гауссово распределение - стратегия `mean`, так как в нормальном расрпделении наиболее частое ~ среднее значение;\n",
        "- Ненормальное распределение - стратегия `meadian`, чтобы получить близкое к наиболее частому значению.\n",
        "\n",
        "Для категориальных признаков наиболее простым методом является стратегия `most_frequent`, когда берется наиболее частое значение:"
      ]
    },
    {
      "cell_type": "code",
      "metadata": {
        "id": "JLLcdhD5_39x",
        "colab": {
          "base_uri": "https://localhost:8080/"
        },
        "outputId": "23587bd3-80b6-49a8-cef6-bca1f5ea2be0"
      },
      "source": [
        "imp = SimpleImputer(strategy='most_frequent')\n",
        "src_df['Embarked'] = imp.fit_transform(src_df[['Embarked']])\n",
        "\n",
        "src_df.isnull().sum()"
      ],
      "execution_count": null,
      "outputs": [
        {
          "output_type": "execute_result",
          "data": {
            "text/plain": [
              "PassengerId      0\n",
              "Survived         0\n",
              "Pclass           0\n",
              "Name             0\n",
              "Sex              0\n",
              "Age              0\n",
              "SibSp            0\n",
              "Parch            0\n",
              "Ticket           0\n",
              "Fare             0\n",
              "Cabin          687\n",
              "Embarked         0\n",
              "dtype: int64"
            ]
          },
          "metadata": {
            "tags": []
          },
          "execution_count": 9
        }
      ]
    },
    {
      "cell_type": "markdown",
      "metadata": {
        "id": "HIFB5fZ6AUd5"
      },
      "source": [
        "Другим методом работы с пропусками является исключение признаков из-за слишком большого количества пропусков:\n"
      ]
    },
    {
      "cell_type": "code",
      "metadata": {
        "id": "SMiDKCY3AgbP",
        "colab": {
          "base_uri": "https://localhost:8080/"
        },
        "outputId": "4838582e-858b-4aa9-99a3-dcdc48685966"
      },
      "source": [
        "src_df['Cabin'].isnull().sum()/src_df.shape[0]"
      ],
      "execution_count": null,
      "outputs": [
        {
          "output_type": "execute_result",
          "data": {
            "text/plain": [
              "0.7710437710437711"
            ]
          },
          "metadata": {
            "tags": []
          },
          "execution_count": 10
        }
      ]
    },
    {
      "cell_type": "markdown",
      "metadata": {
        "id": "12iTKgdSAm46"
      },
      "source": [
        "77% - это слишком большое количество пропусков, чтобы пытаться заполнить!"
      ]
    },
    {
      "cell_type": "markdown",
      "metadata": {
        "id": "I-zkmSBY_9LP"
      },
      "source": [
        "## Кодирование признаков\n",
        "\n",
        "Как уже ранее обсуждалось, признаки бывают разные:\n",
        "- Непрерывные (численные) - вещественные или целочисленные (чаще всего представляются типом `float` и `int`);\n",
        "- Категориальные - могут быть представлены строками или числами с небольшим количеством уникальных значений, они могут быть разделены на следующие подтипы:\n",
        "    - Номинальные - значения признаков ограничены группой возможных значений (красный/синий/зеленый);\n",
        "    - Бинарные - те же номинальные, но всего две группы (Да/Нет, Правда/Ложь);\n",
        "    - Последовательные - те же номинальные, но еще группы имеют порядок (плохой/хороший/отличный).\n",
        "\n",
        "Непрерывные признаки с точки зрения базового анализа не требуют особой предобработки, так как они уже представлены числами. Можно лишь попробовать провести их стандартизацию.\n",
        "\n",
        "С категориальными часто бывает чуть сложнее. Наибольшую проблему составляют признаки, которые представлены строками, например признак `Embarked`:"
      ]
    },
    {
      "cell_type": "code",
      "metadata": {
        "id": "wnG3Qx8wACV7",
        "colab": {
          "base_uri": "https://localhost:8080/"
        },
        "outputId": "7a5d7d89-a981-4b03-9ae0-5e19c8a50521"
      },
      "source": [
        "src_df.info()\n",
        "src_df['Embarked'].value_counts()"
      ],
      "execution_count": null,
      "outputs": [
        {
          "output_type": "stream",
          "text": [
            "<class 'pandas.core.frame.DataFrame'>\n",
            "RangeIndex: 891 entries, 0 to 890\n",
            "Data columns (total 12 columns):\n",
            " #   Column       Non-Null Count  Dtype  \n",
            "---  ------       --------------  -----  \n",
            " 0   PassengerId  891 non-null    int64  \n",
            " 1   Survived     891 non-null    int64  \n",
            " 2   Pclass       891 non-null    int64  \n",
            " 3   Name         891 non-null    object \n",
            " 4   Sex          891 non-null    object \n",
            " 5   Age          891 non-null    float64\n",
            " 6   SibSp        891 non-null    int64  \n",
            " 7   Parch        891 non-null    int64  \n",
            " 8   Ticket       891 non-null    object \n",
            " 9   Fare         891 non-null    float64\n",
            " 10  Cabin        204 non-null    object \n",
            " 11  Embarked     891 non-null    object \n",
            "dtypes: float64(2), int64(5), object(5)\n",
            "memory usage: 83.7+ KB\n"
          ],
          "name": "stdout"
        },
        {
          "output_type": "execute_result",
          "data": {
            "text/plain": [
              "S    646\n",
              "C    168\n",
              "Q     77\n",
              "Name: Embarked, dtype: int64"
            ]
          },
          "metadata": {
            "tags": []
          },
          "execution_count": 11
        }
      ]
    },
    {
      "cell_type": "markdown",
      "metadata": {
        "id": "6yd5SqQHAHAm"
      },
      "source": [
        "Этот признак представлен в данных типом `object` - строка, при этом мы видим, что уникальных значений мало, а это наводит на мысль, что признак - категориальный. Теперь важно понять, имеют ли значения порядок или они независимы? В данном случае логично предположить, что независимы, поэтому присваиваем тип - категориальные номинальный.\n",
        "\n",
        "Но мало просто присвоить тип, нам же нужно подготовить данные для модели, а значит как-то представить в численном виде эти строки.\n",
        "\n",
        "Для этого нам может помочь кодирование One-Hot! Давайте посмотрим, как это делается в `sklearn`:"
      ]
    },
    {
      "cell_type": "code",
      "metadata": {
        "id": "ZdJGQqDdAIMp",
        "colab": {
          "base_uri": "https://localhost:8080/"
        },
        "outputId": "ec380b5e-32cb-4f8f-99ca-62541e90212c"
      },
      "source": [
        "from sklearn.preprocessing import OneHotEncoder\n",
        "\n",
        "# Мы отключим создание разреженного представления, но оно оптимальнее для хранения\n",
        "# Поэтому для отладки лучше использовать и проверять dense представление,\n",
        "#   а для работы в конечном представлении - sparse\n",
        "oh_enc = OneHotEncoder(sparse=False)\n",
        "\n",
        "# Любой энкодер ненавидит пропуски в данных, поэтому перед использованием\n",
        "#   заполните пропуски в данных\n",
        "X_sample = src_df[['Embarked']]\n",
        "print(X_sample.shape)\n",
        "\n",
        "oh_enc.fit(X_sample)"
      ],
      "execution_count": null,
      "outputs": [
        {
          "output_type": "stream",
          "text": [
            "(891, 1)\n"
          ],
          "name": "stdout"
        },
        {
          "output_type": "execute_result",
          "data": {
            "text/plain": [
              "OneHotEncoder(categories='auto', drop=None, dtype=<class 'numpy.float64'>,\n",
              "              handle_unknown='error', sparse=False)"
            ]
          },
          "metadata": {
            "tags": []
          },
          "execution_count": 12
        }
      ]
    },
    {
      "cell_type": "code",
      "metadata": {
        "id": "4kmcAb54A2O_",
        "colab": {
          "base_uri": "https://localhost:8080/"
        },
        "outputId": "79e0db54-cde5-448d-91ca-bf3b6cee67e8"
      },
      "source": [
        "# Можно проверить, какие есть категории\n",
        "oh_enc.categories_"
      ],
      "execution_count": null,
      "outputs": [
        {
          "output_type": "execute_result",
          "data": {
            "text/plain": [
              "[array(['C', 'Q', 'S'], dtype=object)]"
            ]
          },
          "metadata": {
            "tags": []
          },
          "execution_count": 13
        }
      ]
    },
    {
      "cell_type": "code",
      "metadata": {
        "id": "HHSDyg-UA8-8",
        "colab": {
          "base_uri": "https://localhost:8080/"
        },
        "outputId": "1bcc37e6-b278-42b7-e106-05a817675f7d"
      },
      "source": [
        "# Также посмотреть, что происходит после кодирования с данными\n",
        "X_sample_ohe = oh_enc.transform(X_sample)\n",
        "\n",
        "print(X_sample[:6])\n",
        "print(X_sample_ohe[:6])"
      ],
      "execution_count": null,
      "outputs": [
        {
          "output_type": "stream",
          "text": [
            "  Embarked\n",
            "0        S\n",
            "1        C\n",
            "2        S\n",
            "3        S\n",
            "4        S\n",
            "5        Q\n",
            "[[0. 0. 1.]\n",
            " [1. 0. 0.]\n",
            " [0. 0. 1.]\n",
            " [0. 0. 1.]\n",
            " [0. 0. 1.]\n",
            " [0. 1. 0.]]\n"
          ],
          "name": "stdout"
        }
      ]
    },
    {
      "cell_type": "code",
      "metadata": {
        "id": "71id1yz2oXj-",
        "colab": {
          "base_uri": "https://localhost:8080/"
        },
        "outputId": "7fe8fc5b-723e-4a93-e943-e460acd1da0c"
      },
      "source": [
        "oh_enc = OneHotEncoder(sparse=True)\n",
        "oh_enc.fit(X_sample)\n",
        "X_sample_ohe = oh_enc.transform(X_sample)\n",
        "print(X_sample_ohe[:6])"
      ],
      "execution_count": null,
      "outputs": [
        {
          "output_type": "stream",
          "text": [
            "  (0, 2)\t1.0\n",
            "  (1, 0)\t1.0\n",
            "  (2, 2)\t1.0\n",
            "  (3, 2)\t1.0\n",
            "  (4, 2)\t1.0\n",
            "  (5, 1)\t1.0\n"
          ],
          "name": "stdout"
        }
      ]
    },
    {
      "cell_type": "markdown",
      "metadata": {
        "id": "_14IW5_PA9zj"
      },
      "source": [
        "> Теперь попробуйте поменять флаг `sparse` на `True` и посмотреть на результат кодирования. *Dense* (плотное) представление матрицы - это то, к чему мы привыкли, но есть и более экономное - *sparse* (разреженное). В этом случае матрица представлена в виде списка пар (или `dict`), в котором первым элементом (или ключем) обозначается положение в матрице, а вторым - значение. В случае с OHE кодированием sparse представление - дело обычное!\n",
        "\n",
        "\n",
        "Еще одним важным аргументом является поведение энкодера при поступлении новых данных, которые он раньше не видел. Тут многое зависит от задачи, но можно сделать так, чтобы он выдавал ошибку или игнорировал новую категорию, которая не была в обучающих данных:\n",
        "\n"
      ]
    },
    {
      "cell_type": "code",
      "metadata": {
        "id": "bNt2sNLdDdbT",
        "colab": {
          "base_uri": "https://localhost:8080/"
        },
        "outputId": "321b2e5e-6656-47c7-cbde-c75e7bca29ee"
      },
      "source": [
        "# Кидаем исключение, если появилась ранее невиданная категория\n",
        "oh_enc = OneHotEncoder(sparse=False, handle_unknown='error')\n",
        "oh_enc.fit(src_df[['Embarked']])\n",
        "\n",
        "# Воспользуемся try-except, чтобы поймать ошибку\n",
        "try:\n",
        "    print(oh_enc.transform(np.array([['K']])))\n",
        "except Exception as e:\n",
        "    print(f'Error happened: {e}')"
      ],
      "execution_count": null,
      "outputs": [
        {
          "output_type": "stream",
          "text": [
            "Error happened: Found unknown categories ['K'] in column 0 during transform\n"
          ],
          "name": "stdout"
        }
      ]
    },
    {
      "cell_type": "code",
      "metadata": {
        "id": "YUduZqy9ESwZ",
        "colab": {
          "base_uri": "https://localhost:8080/"
        },
        "outputId": "ce79c2e8-42c2-47b6-bcae-9613587c99b7"
      },
      "source": [
        "# Или просто игнорируем\n",
        "oh_enc = OneHotEncoder(sparse=False, handle_unknown='ignore')\n",
        "oh_enc.fit(src_df[['Embarked']])\n",
        "\n",
        "# Воспользуемся try-except, чтобы поймать ошибку\n",
        "try:\n",
        "    print(oh_enc.transform(np.array([['K']])))\n",
        "except Exception as e:\n",
        "    print(f'Error happened: {e}')"
      ],
      "execution_count": null,
      "outputs": [
        {
          "output_type": "stream",
          "text": [
            "[[0. 0. 0.]]\n"
          ],
          "name": "stdout"
        }
      ]
    },
    {
      "cell_type": "markdown",
      "metadata": {
        "id": "-g7wBFZBEXEP"
      },
      "source": [
        "1. Первый способ (ошибка) - удобен для проверки, что данные соответсвуют формату и все происходит так как надо - жесткая логика. \n",
        "2. Второй вариант (игнорировать) - более мягкая, но тут надо учитывать, что при обучении модель должна уметь обрабатывать ранее невиданные данные. Такой способ удобен, когда мы сами задаем список категорий:"
      ]
    },
    {
      "cell_type": "code",
      "metadata": {
        "id": "ShF2xo05E40B",
        "colab": {
          "base_uri": "https://localhost:8080/"
        },
        "outputId": "197069e0-0dd5-40e7-d218-9e1e177694d0"
      },
      "source": [
        "# Или просто игнорируем\n",
        "oh_enc = OneHotEncoder(sparse=False, handle_unknown='ignore', categories=[['C', 'Q']])\n",
        "X_sample = src_df[['Embarked']]\n",
        "oh_enc.fit(X_sample)\n",
        "\n",
        "X_sample_ohe = oh_enc.transform(X_sample)\n",
        "\n",
        "print(X_sample[:6])\n",
        "print(X_sample_ohe[:6])"
      ],
      "execution_count": null,
      "outputs": [
        {
          "output_type": "stream",
          "text": [
            "  Embarked\n",
            "0        S\n",
            "1        C\n",
            "2        S\n",
            "3        S\n",
            "4        S\n",
            "5        Q\n",
            "[[0. 0.]\n",
            " [1. 0.]\n",
            " [0. 0.]\n",
            " [0. 0.]\n",
            " [0. 0.]\n",
            " [0. 1.]]\n"
          ],
          "name": "stdout"
        }
      ]
    },
    {
      "cell_type": "markdown",
      "metadata": {
        "id": "lf_KRGRCCrAX"
      },
      "source": [
        "# Полноценная предобработка\n",
        "\n",
        "Когда мы разобрались с тем, как нужно обработать признаки, мы можем поступить двумя способами:\n",
        "- Написать свой код предобработки, протестировать, сохранить категории при кодировании, параметры стандартизации и другие этапы;\n",
        "- Воспользоваться готовыми инструментами, которые делают все действия и на этапе `.fit()` вычисляют и запоминают параметры, чтобы далее во время `.transform()` их применять!\n",
        "\n",
        "Первый способ подходит, когда нет готового инструмента, но `sklearn` имеет огромный арсенал по предобработке, а также можно посмотреть другие фреймворки!\n",
        "\n",
        "Мы пойдем вторым способом и познакомимся с двумя полезными инструментами: [`Pipeline`](https://scikit-learn.org/stable/modules/generated/sklearn.pipeline.Pipeline.html) и [`ColumnTransformer`](https://scikit-learn.org/stable/modules/generated/sklearn.compose.ColumnTransformer.html).\n",
        "\n",
        "Пайплайн позволяет собирать несколько этапов обработки/моделей воедино, чтобы затем пользоваться им как единым целым! Для примера наша обработка категориальных признаков может состоять из двух этапов:"
      ]
    },
    {
      "cell_type": "code",
      "metadata": {
        "id": "iN86MMBfGNLN"
      },
      "source": [
        "from sklearn.pipeline import Pipeline\n",
        "\n",
        "categorical_features = ['Sex', 'Embarked']\n",
        "\n",
        "# Создаем обработчик категориальный признаков\n",
        "# Так как имеются пропущенные данные в Embarked - \n",
        "#   создадим Pipeline для выполнения нескольких шагов\n",
        "categorical_transformer = Pipeline(\n",
        "    # Шаги в Pipeline указываются как кортежи, каждый из которых\n",
        "    #   представляет собой (имя шага, трансформер)\n",
        "    steps=[\n",
        "        ('imp', SimpleImputer(strategy='most_frequent')),\n",
        "        # Опять sparse для отладки = False\n",
        "        ('enc', OneHotEncoder(sparse=False, handle_unknown='error')),                   \n",
        "])"
      ],
      "execution_count": null,
      "outputs": []
    },
    {
      "cell_type": "markdown",
      "metadata": {
        "id": "1gZFo3AdGdw4"
      },
      "source": [
        "Далее, мы снова загрузим данные, чтобы восстановить те проблемы, которые решались до этого и воспользуемся реализацией пайплайна:"
      ]
    },
    {
      "cell_type": "code",
      "metadata": {
        "id": "LssphTHEGmpF",
        "colab": {
          "base_uri": "https://localhost:8080/"
        },
        "outputId": "fb635bf4-04c1-4453-a93d-2a96814091e3"
      },
      "source": [
        "URL = 'https://raw.githubusercontent.com/KaiL4eK/ml_edu/master/datasets/Titanic_train.csv'\n",
        "df = pd.read_csv(URL)\n",
        "\n",
        "categorical_transformer.fit(df[categorical_features])\n",
        "\n",
        "X_transformed = categorical_transformer.transform(df[categorical_features])\n",
        "print(df[categorical_features][:3])\n",
        "print(X_transformed[:3])"
      ],
      "execution_count": null,
      "outputs": [
        {
          "output_type": "stream",
          "text": [
            "      Sex Embarked\n",
            "0    male        S\n",
            "1  female        C\n",
            "2  female        S\n",
            "[[0. 1. 0. 0. 1.]\n",
            " [1. 0. 1. 0. 0.]\n",
            " [1. 0. 0. 0. 1.]]\n"
          ],
          "name": "stdout"
        }
      ]
    },
    {
      "cell_type": "code",
      "metadata": {
        "id": "ExESS5S1GvqN",
        "colab": {
          "base_uri": "https://localhost:8080/"
        },
        "outputId": "6c98fa5f-8e70-4cb2-b63c-2e96599e6edb"
      },
      "source": [
        "# До конкретных шагов можно добраться через атрибут named_steps\n",
        "categorical_transformer.named_steps['enc'].categories_"
      ],
      "execution_count": null,
      "outputs": [
        {
          "output_type": "execute_result",
          "data": {
            "text/plain": [
              "[array(['female', 'male'], dtype=object), array(['C', 'Q', 'S'], dtype=object)]"
            ]
          },
          "metadata": {
            "tags": []
          },
          "execution_count": 21
        }
      ]
    },
    {
      "cell_type": "code",
      "metadata": {
        "id": "YdNzdRBWHE4N",
        "colab": {
          "base_uri": "https://localhost:8080/"
        },
        "outputId": "a900be20-11be-4aef-9145-a5dcd22f1b04"
      },
      "source": [
        "# Или посмотреть названия признаков после кодирования\n",
        "categorical_transformer.named_steps['enc'].get_feature_names(categorical_features)"
      ],
      "execution_count": null,
      "outputs": [
        {
          "output_type": "execute_result",
          "data": {
            "text/plain": [
              "array(['Sex_female', 'Sex_male', 'Embarked_C', 'Embarked_Q', 'Embarked_S'],\n",
              "      dtype=object)"
            ]
          },
          "metadata": {
            "tags": []
          },
          "execution_count": 22
        }
      ]
    },
    {
      "cell_type": "markdown",
      "metadata": {
        "id": "U39FbWL4HKyo"
      },
      "source": [
        "> Если обратить внимание, то можно заметить, что `OneHotEncoder` генерирует признаки по количеству категорий, хотя признак `Sex` можно закодировать 0 или 1. Для этого есть аргумент в конструкторе `drop`, который управляет исключением лишних данных. Если его применить, то признак `Sex` в закодированном виде будет представлен всего одной колонкой, что выглядет логичнее.\n",
        "\n",
        "Пайплайн очень удобен тем, что это полноценный объект настраиваемой предобработки, который можно один раз собрать и далее активно пользоваться! Более того, его можно сохранить в файл (сериализация) и затем переносить с сохраненными параметрами!\n",
        "\n",
        "Также, пайплайн позволяет добраться до своих этапов, чтобы получить необходимые атрибуты!\n",
        "\n",
        "Теперь перейдем к другому классу - преобразователь колонок! Его применение в том, чтобы также собирать шаги обработки, но уже указывая, на какие колонки, какая обработка. То есть в пайплайн мы явно передавали данные. `ColumnTransformer` позволяет настроить всю линию предобработки, указывая, какую колонку, чем обрабатывать:"
      ]
    },
    {
      "cell_type": "code",
      "metadata": {
        "id": "8JquUK-TH99f",
        "colab": {
          "base_uri": "https://localhost:8080/"
        },
        "outputId": "6d0066a8-6845-41a5-9ef1-d77a22199955"
      },
      "source": [
        "from sklearn.compose import ColumnTransformer\n",
        "\n",
        "# Составляет список признаков для обработки\n",
        "categorical_features = ['Sex', 'Embarked']\n",
        "numeric_features = ['Age', 'Fare']\n",
        "\n",
        "# Создаем обработчик категориальных признаков\n",
        "categorical_transformer = Pipeline(\n",
        "    steps=[\n",
        "        ('imp', SimpleImputer(strategy='most_frequent')),\n",
        "        ('enc', OneHotEncoder(handle_unknown='error')),                   \n",
        "])\n",
        "\n",
        "# Численные значения имеют пропуски, заполним стратегией медианы\n",
        "numeric_transformer = SimpleImputer(strategy='median')\n",
        "\n",
        "# Создаем конечный конвертер, который будет использован для \n",
        "#   предобработки\n",
        "preprocessor = ColumnTransformer(\n",
        "    # Список конвертеров, каждый кортеж содержит\n",
        "    #   имя, конвертер и признаки, на которые он будет применен\n",
        "    transformers=[\n",
        "        ('cat', categorical_transformer, categorical_features),\n",
        "        ('num', numeric_transformer, numeric_features)\n",
        "    ],\n",
        "    # Признаки, не указанные ни в одном из конвертеров будут удалены\n",
        "    remainder='drop'\n",
        ")\n",
        "\n",
        "preprocessor.fit(df)\n",
        "\n",
        "X_data = preprocessor.transform(df)\n",
        "print(type(X_data))"
      ],
      "execution_count": null,
      "outputs": [
        {
          "output_type": "stream",
          "text": [
            "<class 'numpy.ndarray'>\n"
          ],
          "name": "stdout"
        }
      ]
    },
    {
      "cell_type": "markdown",
      "metadata": {
        "id": "P3_9B1OvHB9Q"
      },
      "source": [
        "На выходе конвертера получается числовая матрица numpy, которую можно уже передавать на вход модели. При этом трансформер колонок позволяет также получать доступ до своих составляющих через атрибут `named_transformers_`:"
      ]
    },
    {
      "cell_type": "code",
      "metadata": {
        "id": "XcrfnxtSJR1O",
        "colab": {
          "base_uri": "https://localhost:8080/"
        },
        "outputId": "a913d2a9-9f87-4f09-9741-62926d93dab1"
      },
      "source": [
        "# Получим объект пайплайна категориальных признаков\n",
        "pipe = preprocessor.named_transformers_['cat']\n",
        "# Отобразим категории OHE для шага кодирования\n",
        "print(pipe.named_steps['enc'].categories_)"
      ],
      "execution_count": null,
      "outputs": [
        {
          "output_type": "stream",
          "text": [
            "[array(['female', 'male'], dtype=object), array(['C', 'Q', 'S'], dtype=object)]\n"
          ],
          "name": "stdout"
        }
      ]
    },
    {
      "cell_type": "markdown",
      "metadata": {
        "id": "Hbe7k4B2J-Vo"
      },
      "source": [
        "При желании можно восстановить представление DataFrame, если из всех шагов собрать имена столбцов результирующей матрицы, но это нужно в редких случаях. А мы всё-таки сделаем для примера:\n",
        "\n"
      ]
    },
    {
      "cell_type": "code",
      "metadata": {
        "id": "EltBOZl0OLp7",
        "colab": {
          "base_uri": "https://localhost:8080/",
          "height": 204
        },
        "outputId": "a51b052a-d7ed-4c01-e19d-c79d54ea4c14"
      },
      "source": [
        "# Для того, чтобы получить имена признаков, воспользуемся функцией\n",
        "#   OneHotEncoder.get_feature_names()\n",
        "# Чтобы ею воспользоваться, необходимо добраться до объекта через атрибуты\n",
        "#   - ColumnTransformer.named_transformers_ + ключ имени\n",
        "#   - Pipeline.named_steps + ключ шага\n",
        "ohe_column_names = preprocessor \\\n",
        "    .named_transformers_['cat'] \\\n",
        "    .named_steps['enc'] \\\n",
        "    .get_feature_names(categorical_features)\n",
        "\n",
        "recovered_feat_names = \\\n",
        "    list(ohe_column_names) + \\\n",
        "    list(numeric_features)\n",
        "\n",
        "df_enc = pd.DataFrame(X_data, columns=recovered_feat_names)\n",
        "\n",
        "df_enc.head()"
      ],
      "execution_count": null,
      "outputs": [
        {
          "output_type": "execute_result",
          "data": {
            "text/html": [
              "<div>\n",
              "<style scoped>\n",
              "    .dataframe tbody tr th:only-of-type {\n",
              "        vertical-align: middle;\n",
              "    }\n",
              "\n",
              "    .dataframe tbody tr th {\n",
              "        vertical-align: top;\n",
              "    }\n",
              "\n",
              "    .dataframe thead th {\n",
              "        text-align: right;\n",
              "    }\n",
              "</style>\n",
              "<table border=\"1\" class=\"dataframe\">\n",
              "  <thead>\n",
              "    <tr style=\"text-align: right;\">\n",
              "      <th></th>\n",
              "      <th>Sex_female</th>\n",
              "      <th>Sex_male</th>\n",
              "      <th>Embarked_C</th>\n",
              "      <th>Embarked_Q</th>\n",
              "      <th>Embarked_S</th>\n",
              "      <th>Age</th>\n",
              "      <th>Fare</th>\n",
              "    </tr>\n",
              "  </thead>\n",
              "  <tbody>\n",
              "    <tr>\n",
              "      <th>0</th>\n",
              "      <td>0.0</td>\n",
              "      <td>1.0</td>\n",
              "      <td>0.0</td>\n",
              "      <td>0.0</td>\n",
              "      <td>1.0</td>\n",
              "      <td>22.0</td>\n",
              "      <td>7.2500</td>\n",
              "    </tr>\n",
              "    <tr>\n",
              "      <th>1</th>\n",
              "      <td>1.0</td>\n",
              "      <td>0.0</td>\n",
              "      <td>1.0</td>\n",
              "      <td>0.0</td>\n",
              "      <td>0.0</td>\n",
              "      <td>38.0</td>\n",
              "      <td>71.2833</td>\n",
              "    </tr>\n",
              "    <tr>\n",
              "      <th>2</th>\n",
              "      <td>1.0</td>\n",
              "      <td>0.0</td>\n",
              "      <td>0.0</td>\n",
              "      <td>0.0</td>\n",
              "      <td>1.0</td>\n",
              "      <td>26.0</td>\n",
              "      <td>7.9250</td>\n",
              "    </tr>\n",
              "    <tr>\n",
              "      <th>3</th>\n",
              "      <td>1.0</td>\n",
              "      <td>0.0</td>\n",
              "      <td>0.0</td>\n",
              "      <td>0.0</td>\n",
              "      <td>1.0</td>\n",
              "      <td>35.0</td>\n",
              "      <td>53.1000</td>\n",
              "    </tr>\n",
              "    <tr>\n",
              "      <th>4</th>\n",
              "      <td>0.0</td>\n",
              "      <td>1.0</td>\n",
              "      <td>0.0</td>\n",
              "      <td>0.0</td>\n",
              "      <td>1.0</td>\n",
              "      <td>35.0</td>\n",
              "      <td>8.0500</td>\n",
              "    </tr>\n",
              "  </tbody>\n",
              "</table>\n",
              "</div>"
            ],
            "text/plain": [
              "   Sex_female  Sex_male  Embarked_C  Embarked_Q  Embarked_S   Age     Fare\n",
              "0         0.0       1.0         0.0         0.0         1.0  22.0   7.2500\n",
              "1         1.0       0.0         1.0         0.0         0.0  38.0  71.2833\n",
              "2         1.0       0.0         0.0         0.0         1.0  26.0   7.9250\n",
              "3         1.0       0.0         0.0         0.0         1.0  35.0  53.1000\n",
              "4         0.0       1.0         0.0         0.0         1.0  35.0   8.0500"
            ]
          },
          "metadata": {
            "tags": []
          },
          "execution_count": 25
        }
      ]
    },
    {
      "cell_type": "code",
      "metadata": {
        "id": "NWO9io8VOUoW",
        "colab": {
          "base_uri": "https://localhost:8080/",
          "height": 204
        },
        "outputId": "01ad371e-2490-409a-9ce5-535d6033aef7"
      },
      "source": [
        "# Для сравнения выведем исходные данные\n",
        "df[categorical_features + numeric_features].head()"
      ],
      "execution_count": null,
      "outputs": [
        {
          "output_type": "execute_result",
          "data": {
            "text/html": [
              "<div>\n",
              "<style scoped>\n",
              "    .dataframe tbody tr th:only-of-type {\n",
              "        vertical-align: middle;\n",
              "    }\n",
              "\n",
              "    .dataframe tbody tr th {\n",
              "        vertical-align: top;\n",
              "    }\n",
              "\n",
              "    .dataframe thead th {\n",
              "        text-align: right;\n",
              "    }\n",
              "</style>\n",
              "<table border=\"1\" class=\"dataframe\">\n",
              "  <thead>\n",
              "    <tr style=\"text-align: right;\">\n",
              "      <th></th>\n",
              "      <th>Sex</th>\n",
              "      <th>Embarked</th>\n",
              "      <th>Age</th>\n",
              "      <th>Fare</th>\n",
              "    </tr>\n",
              "  </thead>\n",
              "  <tbody>\n",
              "    <tr>\n",
              "      <th>0</th>\n",
              "      <td>male</td>\n",
              "      <td>S</td>\n",
              "      <td>22.0</td>\n",
              "      <td>7.2500</td>\n",
              "    </tr>\n",
              "    <tr>\n",
              "      <th>1</th>\n",
              "      <td>female</td>\n",
              "      <td>C</td>\n",
              "      <td>38.0</td>\n",
              "      <td>71.2833</td>\n",
              "    </tr>\n",
              "    <tr>\n",
              "      <th>2</th>\n",
              "      <td>female</td>\n",
              "      <td>S</td>\n",
              "      <td>26.0</td>\n",
              "      <td>7.9250</td>\n",
              "    </tr>\n",
              "    <tr>\n",
              "      <th>3</th>\n",
              "      <td>female</td>\n",
              "      <td>S</td>\n",
              "      <td>35.0</td>\n",
              "      <td>53.1000</td>\n",
              "    </tr>\n",
              "    <tr>\n",
              "      <th>4</th>\n",
              "      <td>male</td>\n",
              "      <td>S</td>\n",
              "      <td>35.0</td>\n",
              "      <td>8.0500</td>\n",
              "    </tr>\n",
              "  </tbody>\n",
              "</table>\n",
              "</div>"
            ],
            "text/plain": [
              "      Sex Embarked   Age     Fare\n",
              "0    male        S  22.0   7.2500\n",
              "1  female        C  38.0  71.2833\n",
              "2  female        S  26.0   7.9250\n",
              "3  female        S  35.0  53.1000\n",
              "4    male        S  35.0   8.0500"
            ]
          },
          "metadata": {
            "tags": []
          },
          "execution_count": 26
        }
      ]
    },
    {
      "cell_type": "markdown",
      "metadata": {
        "id": "Wl-Ddd89OL-b"
      },
      "source": [
        "\n",
        "Сутью данного инструмента является сбор инструментов обработки в единый объект уже после этапа поиска подходящих инструментов!\n",
        "\n",
        "Аналогично, нынешний объект `preprocessor` можно разместить внутрь пайплайна вместе с моделью предсказания!\n",
        "![Ну монитор](https://cs8.pikabu.ru/images/big_size_comm/2017-06_6/149883834117099533.jpg)"
      ]
    },
    {
      "cell_type": "markdown",
      "metadata": {
        "id": "v-3jlaUKEbUz"
      },
      "source": [
        "# Разработка модели случайного леса"
      ]
    },
    {
      "cell_type": "markdown",
      "metadata": {
        "id": "v2BKnEhyEe-Q"
      },
      "source": [
        "Подход с использование случайного леса (RandomForest) является одним из подходов группы под названием **ансамблирование**.\n",
        "\n",
        "Ансамблирование - это парадигма, при которой большое количество слабых моделей собираются в группу и принятие конечного решения делается на основе голосования этих моделей. Основной девиз - много слабых моделей дают лучший результат, чем одна большая.\n",
        "\n",
        "Подход RandomForest организует набор *решающих деревьев*. Решающее дерево - бинарное дерево, в котором узлами являются пороги одного из обученных признаков, листьями - предсказываемые классы.\n",
        "\n",
        "Для примера обучим решающее дерево для задачи XOR."
      ]
    },
    {
      "cell_type": "code",
      "metadata": {
        "id": "1lizKt-FGA2J",
        "colab": {
          "base_uri": "https://localhost:8080/",
          "height": 684
        },
        "outputId": "2f9b937a-c215-468d-bf03-82040507ec80"
      },
      "source": [
        "import numpy as np\n",
        "\n",
        "# Пример решающего дерева на основе задачи XOR\n",
        "X = np.array([\n",
        "     [1, 1],\n",
        "     [1, 0],\n",
        "     [0, 1],\n",
        "     [0, 0]\n",
        "])\n",
        "\n",
        "y = np.array([\n",
        "     0,\n",
        "     1,\n",
        "     1,\n",
        "     0\n",
        "])\n",
        "\n",
        "plt.figure(figsize=[5,5])\n",
        "plt.scatter(X[y==1, 0], X[y==1, 1], marker='o')\n",
        "plt.scatter(X[y==0, 0], X[y==0, 1], marker='x')\n",
        "plt.xlabel('X[0]')\n",
        "plt.ylabel('X[1]')\n",
        "plt.xlim([-0.5, 1.5])\n",
        "plt.grid()\n",
        "\n",
        "from sklearn.tree import DecisionTreeClassifier, plot_tree\n",
        "\n",
        "tree = DecisionTreeClassifier(random_state=42)\n",
        "tree.fit(X, y)\n",
        "\n",
        "plt.figure()\n",
        "plot_tree(tree, filled=True, rounded=True, impurity=True, class_names=['0', '1'])\n"
      ],
      "execution_count": null,
      "outputs": [
        {
          "output_type": "execute_result",
          "data": {
            "text/plain": [
              "[Text(167.4, 181.2, 'X[0] <= 0.5\\ngini = 0.5\\nsamples = 4\\nvalue = [2, 2]\\nclass = 0'),\n",
              " Text(83.7, 108.72, 'X[1] <= 0.5\\ngini = 0.5\\nsamples = 2\\nvalue = [1, 1]\\nclass = 0'),\n",
              " Text(41.85, 36.23999999999998, 'gini = 0.0\\nsamples = 1\\nvalue = [1, 0]\\nclass = 0'),\n",
              " Text(125.55000000000001, 36.23999999999998, 'gini = 0.0\\nsamples = 1\\nvalue = [0, 1]\\nclass = 1'),\n",
              " Text(251.10000000000002, 108.72, 'X[1] <= 0.5\\ngini = 0.5\\nsamples = 2\\nvalue = [1, 1]\\nclass = 0'),\n",
              " Text(209.25, 36.23999999999998, 'gini = 0.0\\nsamples = 1\\nvalue = [0, 1]\\nclass = 1'),\n",
              " Text(292.95, 36.23999999999998, 'gini = 0.0\\nsamples = 1\\nvalue = [1, 0]\\nclass = 0')]"
            ]
          },
          "metadata": {
            "tags": []
          },
          "execution_count": 27
        },
        {
          "output_type": "display_data",
          "data": {
            "image/png": "[encoded data removed]",
            "text/plain": [
              "<Figure size 360x360 with 1 Axes>"
            ]
          },
          "metadata": {
            "tags": [],
            "needs_background": "light"
          }
        },
        {
          "output_type": "display_data",
          "data": {
            "image/png": "[encoded data removed]",
            "text/plain": [
              "<Figure size 432x288 with 1 Axes>"
            ]
          },
          "metadata": {
            "tags": [],
            "needs_background": "light"
          }
        }
      ]
    },
    {
      "cell_type": "markdown",
      "metadata": {
        "id": "3Vbk1g4YIzmP"
      },
      "source": [
        "На рисунке представлена визуализация обученного дерева решения для нелинейной задачи XOR. Как видно, каждый узел определяет порог признака, так решение сходится до листьев, в котором и определяется конечное решение дерева (предсказанный класс)."
      ]
    },
    {
      "cell_type": "markdown",
      "metadata": {
        "id": "IRMl2ZIBJ3cO"
      },
      "source": [
        "Случайный лес работает по принципу набора таких деревьев:\n",
        "\n",
        "![Замещающий текст](https://miro.medium.com/max/500/1*VHDtVaDPNepRglIAv72BFg.jpeg)\n",
        "\n",
        "Обучение деревьев происходит на основе алгоритма построения дерева (один из них - [CART](http://pages.stat.wisc.edu/~loh/treeprogs/guide/wires11.pdf)  ~ Classification and regression trees). Построение происходит по принципу поиска наилучших разделений пространства на основе одного из признаков для создания узла и дальнейшего роста.\n",
        "\n",
        "Одной из важных особенностей случайного леса является то, что для обучения каждое дерево из леса получает не полную выборку, а лишь подвыборку из всей обучающей выборки. Такой принцип назван **Bagging**.\n",
        "\n",
        "Деревья сами по себе очень чувствительны ко входным данным, так как могут бесконечно создавать узлы по признакам, чтобы максимально точно разделить классы. По факту, дерево очень легко переобучается на тех данных, которые даны для обучения (построения), если не ограничить глубину дерева.\n",
        "\n",
        "Поэтому при построении каждого малого дерева используется подвыборка, куда могут попадать с повторениями случайные записи из данных со случайными признаками. Таким образом, каждая модель будет видеть лишь часть данных, при этом отдельно каждая слабая модель будет работать плохо, но в совокупности все модели будут давать более точную среднюю оценку в соответсвии с принятием решения по большинству голосов."
      ]
    },
    {
      "cell_type": "code",
      "metadata": {
        "id": "QwZTs7_E4mxs",
        "colab": {
          "base_uri": "https://localhost:8080/"
        },
        "outputId": "89750db3-0f03-4efe-8f0e-c63b64f70362"
      },
      "source": [
        "from sklearn.model_selection import train_test_split\n",
        "\n",
        "TRAIN_RATIO = 0.8\n",
        "\n",
        "y_data = df['Survived']\n",
        "\n",
        "X_train, X_test, y_train, y_test = train_test_split(\n",
        "    X_data, y_data, \n",
        "    train_size=TRAIN_RATIO, \n",
        "    random_state=RANDOM_STATE,\n",
        "    stratify=y_data\n",
        ")\n",
        "\n",
        "print(X_train.shape, y_train.shape)\n",
        "print(X_test.shape, y_test.shape)"
      ],
      "execution_count": null,
      "outputs": [
        {
          "output_type": "stream",
          "text": [
            "(712, 7) (712,)\n",
            "(179, 7) (179,)\n"
          ],
          "name": "stdout"
        }
      ]
    },
    {
      "cell_type": "code",
      "metadata": {
        "id": "KXN4pILYp-fR",
        "colab": {
          "base_uri": "https://localhost:8080/"
        },
        "outputId": "c40db143-bdb4-413b-adbb-eb8d67153caa"
      },
      "source": [
        "from sklearn.ensemble import RandomForestClassifier\n",
        "\n",
        "rf_clf = RandomForestClassifier()\n",
        "rf_clf.fit(X_train, y_train)"
      ],
      "execution_count": null,
      "outputs": [
        {
          "output_type": "execute_result",
          "data": {
            "text/plain": [
              "RandomForestClassifier(bootstrap=True, ccp_alpha=0.0, class_weight=None,\n",
              "                       criterion='gini', max_depth=None, max_features='auto',\n",
              "                       max_leaf_nodes=None, max_samples=None,\n",
              "                       min_impurity_decrease=0.0, min_impurity_split=None,\n",
              "                       min_samples_leaf=1, min_samples_split=2,\n",
              "                       min_weight_fraction_leaf=0.0, n_estimators=100,\n",
              "                       n_jobs=None, oob_score=False, random_state=None,\n",
              "                       verbose=0, warm_start=False)"
            ]
          },
          "metadata": {
            "tags": []
          },
          "execution_count": 29
        }
      ]
    },
    {
      "cell_type": "markdown",
      "metadata": {
        "id": "RzunrMbXoN7Y"
      },
      "source": [
        "# Важность признаков\n",
        "\n",
        "Обучение модели случайного леса позволяет получить оценку важности признаков! Для работы с показателями важности признаков достаточно воспользоваться атрибутом `RandomForestClassifier.feature_importances_`:"
      ]
    },
    {
      "cell_type": "code",
      "metadata": {
        "id": "s7Dxqam-qRoX",
        "colab": {
          "base_uri": "https://localhost:8080/",
          "height": 453
        },
        "outputId": "eb85dcbe-c678-4f13-d299-37284cd44120"
      },
      "source": [
        "def show_importance(model, feature_names, X):\n",
        "    importances = model.feature_importances_\n",
        "    for feat_imp, feat_name in zip(importances, feature_names):\n",
        "        print(f'Feature: {feat_name} | {feat_imp}')\n",
        "\n",
        "    indices = np.argsort(importances)[::-1]\n",
        "    sorted_feat_names = [feature_names[ind] for ind in indices]\n",
        "\n",
        "    plt.figure()\n",
        "    plt.title(\"Feature importances\")\n",
        "    plt.bar(range(X.shape[1]), importances[indices], color=\"b\", align=\"center\")\n",
        "    plt.xticks(range(X.shape[1]), sorted_feat_names, rotation=70)\n",
        "    plt.xlim([-1, X.shape[1]])\n",
        "    plt.show()\n",
        "\n",
        "show_importance(rf_clf, recovered_feat_names, X_train)"
      ],
      "execution_count": null,
      "outputs": [
        {
          "output_type": "stream",
          "text": [
            "Feature: Sex_female | 0.15224129686733381\n",
            "Feature: Sex_male | 0.14384419737286344\n",
            "Feature: Embarked_C | 0.011105298934466924\n",
            "Feature: Embarked_Q | 0.004819245681205841\n",
            "Feature: Embarked_S | 0.013524060985120172\n",
            "Feature: Age | 0.2941428805908806\n",
            "Feature: Fare | 0.3803230195681293\n"
          ],
          "name": "stdout"
        },
        {
          "output_type": "display_data",
          "data": {
            "image/png": "[encoded data removed]",
            "text/plain": [
              "<Figure size 432x288 with 1 Axes>"
            ]
          },
          "metadata": {
            "tags": [],
            "needs_background": "light"
          }
        }
      ]
    },
    {
      "cell_type": "markdown",
      "metadata": {
        "id": "0TqmtpDirZG4"
      },
      "source": [
        "Такой график показывает, как признаки влияли на построение деревьев и насколько каждый из них важен по отношению к другим. \n",
        "\n",
        "> **ВАЖНО:** Несмотря на то, что цель графика - показать, насколько важны признаки для предсказания, **нельзя** полагаться лишь на результаты анализа лесом! Часто такая оценка важности смещена. Для более полного анализа в заданиях попробуйте воспользоваться подходом под названием *Feature Elimination*, который более точно позволяет оценить, какие признаки имеют высокое влияние на принимаемое решение модели! Суть подхода в том, что мы постепенно удаляем один за другим признаки из данных и оцениваем, как это повлияло на работу модели."
      ]
    },
    {
      "cell_type": "markdown",
      "metadata": {
        "id": "J6JRKX9SPI55"
      },
      "source": [
        "# Расширенный анализ данных\n",
        "\n",
        "Результаты построения baseline модели как правило позволяют оценить результаты, которые можно получить наиболее быстрым способом. Дальнейших улучшений можно добиться как настраиванием модели и усложнением алгоритма, так и поиском \"инсайтов\" в данных, что позволит модели более просто понимать зависимости и принимать правильные решения. Для расширения знаний и подходов предлагаю ознакомиться с [хорошей статьей по EDA](https://towardsdatascience.com/predicting-the-survival-of-titanic-passengers-30870ccc7e8), а мы рассмотрим несколько основных способов проанализировать данные и сделать выводы."
      ]
    },
    {
      "cell_type": "markdown",
      "metadata": {
        "id": "g3rwugsCQntR"
      },
      "source": [
        "### Больше графиков!"
      ]
    },
    {
      "cell_type": "markdown",
      "metadata": {
        "id": "KHC3u0UgP1d9"
      },
      "source": [
        "Один из самых простых способов проверить пользу признака - анализ нескольких признаков в совокупности, чтобы понять, какие взаимосвязи имеются и дает ли признак информацию. Начнем с того, что постараемся определить, кто чаще выживает - мужчины или женщины:"
      ]
    },
    {
      "cell_type": "code",
      "metadata": {
        "id": "JOqClg-dQMyT",
        "colab": {
          "base_uri": "https://localhost:8080/",
          "height": 400
        },
        "outputId": "094fe5ed-d4dc-4647-b8ca-d5ba6dae5b39"
      },
      "source": [
        "sns.catplot(x=\"Sex\", hue=\"Survived\", kind=\"count\", data=df)"
      ],
      "execution_count": null,
      "outputs": [
        {
          "output_type": "execute_result",
          "data": {
            "text/plain": [
              "<seaborn.axisgrid.FacetGrid at 0x7f8f57622a90>"
            ]
          },
          "metadata": {
            "tags": []
          },
          "execution_count": 31
        },
        {
          "output_type": "display_data",
          "data": {
            "image/png": "[encoded data removed]",
            "text/plain": [
              "<Figure size 411.875x360 with 1 Axes>"
            ]
          },
          "metadata": {
            "tags": [],
            "needs_background": "light"
          }
        }
      ]
    },
    {
      "cell_type": "markdown",
      "metadata": {
        "id": "vB9lnFfTQPAV"
      },
      "source": [
        "Ответ на графике - выживаемость (Survived = 1) у женского пола больше, что означает необходимость использвания данного признака, так как он влияет на конечное решение! Если бы графики были ровные (все на одном уровне), мы бы не могли по полу человека сказать, кто скорее всего выживет, а значит такой признак бесполезен!"
      ]
    },
    {
      "cell_type": "markdown",
      "metadata": {
        "id": "VK7V7MUHTjyN"
      },
      "source": [
        "Еще одним интересный признак `Pclass`, класс обслуживания, можно проверить, влияет ли он на выживаемость:"
      ]
    },
    {
      "cell_type": "code",
      "metadata": {
        "id": "Pq7J7MptTt0N",
        "colab": {
          "base_uri": "https://localhost:8080/",
          "height": 296
        },
        "outputId": "053233c4-d31f-4c3d-a209-c50fd70e9587"
      },
      "source": [
        "sns.barplot(x='Pclass', y='Survived', data=df)"
      ],
      "execution_count": null,
      "outputs": [
        {
          "output_type": "execute_result",
          "data": {
            "text/plain": [
              "<matplotlib.axes._subplots.AxesSubplot at 0x7f8f58221d68>"
            ]
          },
          "metadata": {
            "tags": []
          },
          "execution_count": 32
        },
        {
          "output_type": "display_data",
          "data": {
            "image/png": "[encoded data removed]",
            "text/plain": [
              "<Figure size 432x288 with 1 Axes>"
            ]
          },
          "metadata": {
            "tags": [],
            "needs_background": "light"
          }
        }
      ]
    },
    {
      "cell_type": "markdown",
      "metadata": {
        "id": "CGK8EjIrQp6J"
      },
      "source": [
        "Как видно, класс тоже вносит свое влияние в выживаемость: обслуживание первого класса более склонно к выживанию.\n",
        "\n",
        "Также можно влияние признака проверить отображением через `sns.FacetGrid`, чтобы проверить все значения, связанные с несколькими признаками:"
      ]
    },
    {
      "cell_type": "code",
      "metadata": {
        "id": "Q2uxeuFNSNFl",
        "colab": {
          "base_uri": "https://localhost:8080/",
          "height": 998
        },
        "outputId": "d3269be3-af91-4e72-d472-e40bb8f971f7"
      },
      "source": [
        "FacetGrid = sns.FacetGrid(df, row='Embarked', height=4.5, aspect=1.6)\n",
        "FacetGrid.map(sns.pointplot, 'Pclass', 'Survived', 'Sex', palette=None,  order=None, hue_order=None)\n",
        "FacetGrid.add_legend()"
      ],
      "execution_count": null,
      "outputs": [
        {
          "output_type": "execute_result",
          "data": {
            "text/plain": [
              "<seaborn.axisgrid.FacetGrid at 0x7f8f56e4d080>"
            ]
          },
          "metadata": {
            "tags": []
          },
          "execution_count": 33
        },
        {
          "output_type": "display_data",
          "data": {
            "image/png": "[encoded data removed]",
            "text/plain": [
              "<Figure size 588.9x972 with 3 Axes>"
            ]
          },
          "metadata": {
            "tags": [],
            "needs_background": "light"
          }
        }
      ]
    },
    {
      "cell_type": "markdown",
      "metadata": {
        "id": "HiaWOyaHUBQl"
      },
      "source": [
        "Как видно, в зависимости от порта посадки, а одних случаях (порты Q и S) женский пол имеет большие шансы на выживание, чего не скажешь о порте C. Тоже свой вклад в предсказания."
      ]
    },
    {
      "cell_type": "markdown",
      "metadata": {
        "id": "1QBBWh_qUX27"
      },
      "source": [
        "## Создание новых признаков\n",
        "\n",
        "Помимо исключения признаков одним из широкоприменяемых подходов является создание новых признаков. Для примера, наличие двух признаков `SibSp` и `Parch` сообщает информацию о количестве родственников на борту. Таким образом, можно сформировать дополнительный признак `FamilySize`."
      ]
    },
    {
      "cell_type": "code",
      "metadata": {
        "id": "BDUAzI3qUc6c"
      },
      "source": [
        "# +1 - we are in family too\n",
        "df['FamilySize'] = df['Parch'] + df['SibSp'] + 1"
      ],
      "execution_count": null,
      "outputs": []
    },
    {
      "cell_type": "markdown",
      "metadata": {
        "id": "PPBQjUK6Ueco"
      },
      "source": [
        "Новые признаки являются производными от исходных признаков, при этом зависимости не всегда могут являться линейными (например, из даты получить бинарную информацию, является ли день выходным или нет). Такие признаки могут помочь модели найти новые зависимостии и повысить точность.\n",
        "\n",
        "> Как и ранее с генерацией полиномиальных признаков, можно проводить базовые операции над признаками (унивариативно или над несколькими). С одной стороны, можно делать операции на основе логических допущений - если вы понимаете, что новые признаки точно дадут новую информацию. В другой стороны, можно просто перебирать, пока не найдете такие операции, которые дадут прирост в точности, но это бывает долго и неэффективно.\n",
        "\n",
        "Для примера после того, как мы создали свой признак \"размер семьи\", то можно отобразить единый график шансов выживания:"
      ]
    },
    {
      "cell_type": "code",
      "metadata": {
        "id": "xosyxIECUq81",
        "colab": {
          "base_uri": "https://localhost:8080/",
          "height": 279
        },
        "outputId": "6670ff7c-3c1d-47cb-ccc7-06bb1fd18eb4"
      },
      "source": [
        "axes = sns.pointplot(x='FamilySize', y='Survived', data=df)"
      ],
      "execution_count": null,
      "outputs": [
        {
          "output_type": "display_data",
          "data": {
            "image/png": "[encoded data removed]",
            "text/plain": [
              "<Figure size 432x288 with 1 Axes>"
            ]
          },
          "metadata": {
            "tags": [],
            "needs_background": "light"
          }
        }
      ]
    },
    {
      "cell_type": "markdown",
      "metadata": {
        "id": "NRr6E7SKUg_i"
      },
      "source": [
        "По такому графику можем видеть, что в зависимости от количества членов семьи меняются и шансы на выживание, при этом есть некоторая \"критическая точка\", что в четыре человека выжить больше шансов, нежели дальнейшее увеличение количества людей в семье на борту."
      ]
    },
    {
      "cell_type": "markdown",
      "metadata": {
        "id": "g-balBdsVlJ4"
      },
      "source": [
        "## Группировка данных (binning)\n",
        "\n",
        "Одним из способов предобработки данных является группировка численные признаков для формирования категориального признака. Суть подхода в том, чтобы заменить непрерывное значение группами, каждая из которых описывает диапазон значений. Таким образом численное значение заменяется категориальным последовательным.\n",
        "\n",
        "Такой подход является с одной стороны методом регуляризации, так как модель учится не на точных значениях, а на группах значений. С другой стороны, такой подход теряет часть информации.\n",
        "\n",
        "Для примера разберем признак `Fare`:"
      ]
    },
    {
      "cell_type": "code",
      "metadata": {
        "id": "v-u16gMOVo9C",
        "colab": {
          "base_uri": "https://localhost:8080/",
          "height": 350
        },
        "outputId": "20c0ad1e-a91d-4387-aecb-0c4da357c4b3"
      },
      "source": [
        "sns.distplot(df['Fare'], bins=50)"
      ],
      "execution_count": null,
      "outputs": [
        {
          "output_type": "stream",
          "text": [
            "/usr/local/lib/python3.6/dist-packages/seaborn/distributions.py:2551: FutureWarning: `distplot` is a deprecated function and will be removed in a future version. Please adapt your code to use either `displot` (a figure-level function with similar flexibility) or `histplot` (an axes-level function for histograms).\n",
            "  warnings.warn(msg, FutureWarning)\n"
          ],
          "name": "stderr"
        },
        {
          "output_type": "execute_result",
          "data": {
            "text/plain": [
              "<matplotlib.axes._subplots.AxesSubplot at 0x7f8f5440b630>"
            ]
          },
          "metadata": {
            "tags": []
          },
          "execution_count": 36
        },
        {
          "output_type": "display_data",
          "data": {
            "image/png": "[encoded data removed]",
            "text/plain": [
              "<Figure size 432x288 with 1 Axes>"
            ]
          },
          "metadata": {
            "tags": [],
            "needs_background": "light"
          }
        }
      ]
    },
    {
      "cell_type": "markdown",
      "metadata": {
        "id": "xHhgSZAcVs1g"
      },
      "source": [
        "Раcпределение немного сдвинуто влево, также слева имеется небольшая мода. Для группировки воспользуется классом `KBinsDiscretizer`, который разделяет весь диапазон на заданное количество групп (бинов)."
      ]
    },
    {
      "cell_type": "code",
      "metadata": {
        "id": "N5GDtNPrVtxA",
        "colab": {
          "base_uri": "https://localhost:8080/",
          "height": 435
        },
        "outputId": "347e5119-9d90-4925-ba56-fb20ad7ef611"
      },
      "source": [
        "from sklearn.preprocessing import KBinsDiscretizer\n",
        "\n",
        "discr = KBinsDiscretizer(\n",
        "    # Количество бинов    \n",
        "    n_bins=10,\n",
        "    # Способ кодирования - порядковый\n",
        "    encode='ordinal',\n",
        ")\n",
        "\n",
        "# Двойные скобки для передачи DataFrame (2D данные)\n",
        "df['Fare_groups'] = discr.fit_transform(df[['Fare']])\n",
        "# Отобразим границы бинов\n",
        "print(discr.bin_edges_)\n",
        "\n",
        "sns.catplot(x='Fare_groups', kind=\"count\", data=df)"
      ],
      "execution_count": null,
      "outputs": [
        {
          "output_type": "stream",
          "text": [
            "[array([  0.    ,   7.55  ,   7.8542,   8.05  ,  10.5   ,  14.4542,\n",
            "        21.6792,  27.    ,  39.6875,  77.9583, 512.3292])]\n"
          ],
          "name": "stdout"
        },
        {
          "output_type": "execute_result",
          "data": {
            "text/plain": [
              "<seaborn.axisgrid.FacetGrid at 0x7f8f56e97d30>"
            ]
          },
          "metadata": {
            "tags": []
          },
          "execution_count": 37
        },
        {
          "output_type": "display_data",
          "data": {
            "image/png": "[encoded data removed]",
            "text/plain": [
              "<Figure size 360x360 with 1 Axes>"
            ]
          },
          "metadata": {
            "tags": [],
            "needs_background": "light"
          }
        }
      ]
    },
    {
      "cell_type": "markdown",
      "metadata": {
        "id": "qetwJxu4VxLc"
      },
      "source": [
        "Группировка, как видно, привела сильно смещенное влево распределение к равномерному.\n",
        "\n",
        "Более того, теперь мы можем визуально представить зависимость выживаемости от стоимости билета:"
      ]
    },
    {
      "cell_type": "code",
      "metadata": {
        "id": "1viL6R2rYoV4",
        "colab": {
          "base_uri": "https://localhost:8080/",
          "height": 401
        },
        "outputId": "59371e30-41d5-436d-b2b9-a63a0d9a3ff7"
      },
      "source": [
        "sns.catplot(x='Fare_groups', y='Survived', data=df, kind='point')"
      ],
      "execution_count": null,
      "outputs": [
        {
          "output_type": "execute_result",
          "data": {
            "text/plain": [
              "<seaborn.axisgrid.FacetGrid at 0x7f8f542f37b8>"
            ]
          },
          "metadata": {
            "tags": []
          },
          "execution_count": 38
        },
        {
          "output_type": "display_data",
          "data": {
            "image/png": "[encoded data removed]",
            "text/plain": [
              "<Figure size 360x360 with 1 Axes>"
            ]
          },
          "metadata": {
            "tags": [],
            "needs_background": "light"
          }
        }
      ]
    },
    {
      "cell_type": "markdown",
      "metadata": {
        "id": "_MySO9JhfwYQ"
      },
      "source": [
        "или"
      ]
    },
    {
      "cell_type": "code",
      "metadata": {
        "id": "-2Xo8N-Dfw99",
        "colab": {
          "base_uri": "https://localhost:8080/",
          "height": 401
        },
        "outputId": "919fe06b-1738-4ffe-c8d9-8aa575c43c58"
      },
      "source": [
        "sns.catplot(x='Fare_groups', hue='Survived', data=df, kind='count')"
      ],
      "execution_count": null,
      "outputs": [
        {
          "output_type": "execute_result",
          "data": {
            "text/plain": [
              "<seaborn.axisgrid.FacetGrid at 0x7f8f57622c18>"
            ]
          },
          "metadata": {
            "tags": []
          },
          "execution_count": 39
        },
        {
          "output_type": "display_data",
          "data": {
            "image/png": "[encoded data removed]",
            "text/plain": [
              "<Figure size 411.875x360 with 1 Axes>"
            ]
          },
          "metadata": {
            "tags": [],
            "needs_background": "light"
          }
        }
      ]
    },
    {
      "cell_type": "markdown",
      "metadata": {
        "id": "5H_58I_0ZhPf"
      },
      "source": [
        "Как видим, сгруппированный признак отображает определенную зависимость выживаемости и стоимости билета. Более высокая стоимость билета имеет больший шанс на выживание.\n",
        "\n",
        "При этом обратите внимание, что сейчас деление на группы произведено по стратегии равного количества во всех группах. Можно попробовать сделать деление по равным диапазонам групп и сравнить!"
      ]
    },
    {
      "cell_type": "markdown",
      "metadata": {
        "id": "sFvp4-nY0pQS"
      },
      "source": [
        "# Поиск гиперпараметров"
      ]
    },
    {
      "cell_type": "markdown",
      "metadata": {
        "id": "PH1FOJ-s0pwP"
      },
      "source": [
        "Как известно, многие модели имеют различные параметры, которые влияют на ход построения модели, максимальные и минимальные ограничения в структуре и др. При этом помним, что и сами модели имеют обучаемые параметры (для случая линейной регрессии, например, это веса при признаках). Те параметры, которые не участвуют в предсказании, но определяют архитектуру или другие внешние характеристики модели называют **гиперпараметрами**.\n",
        "\n",
        "Уже не раз было необходимо произвести поиск и оценку этих гиперпараметров (в KNN - количество соседелей, в Ридж регрессии - $\\alpha$). Ручной поиск хорошо справляется, когда имеется опыт и понимание работы модели, но также существуют и автоматизированные методы поиска - одним из них является **GridSearch**.\n",
        "\n",
        "Основная суть метода в том, что для каждого гиперпараметра задается набор значений, которые требуется попробовать и далее создаётся набор из всех возможных комбинаций заданных гиперпараметров и их значений. Таким образом, исследуемые значения располагаются \"как-бы на сетке\"."
      ]
    },
    {
      "cell_type": "markdown",
      "metadata": {
        "id": "y0lMOLyP00Yq"
      },
      "source": [
        "В качестве реализации воспользуемся классом `sklearn.model_selection.GridSearchCV`, который реализует GridSearch с кросс-валидацией."
      ]
    },
    {
      "cell_type": "code",
      "metadata": {
        "id": "n3sSK28h01oz",
        "colab": {
          "base_uri": "https://localhost:8080/"
        },
        "outputId": "74c2e406-3892-4994-af70-a047f9e12440"
      },
      "source": [
        "from sklearn.model_selection import GridSearchCV\n",
        "\n",
        "parameters = {\n",
        "    'max_depth': [1, 2, 4, 5, 7],\n",
        "    'n_estimators': [1, 5, 10, 20, 40],\n",
        "}\n",
        "\n",
        "grid_search = GridSearchCV(\n",
        "    # модель\n",
        "    estimator=rf_clf,                   \n",
        "    # сетка параметров\n",
        "    #   может быть объектом dict \n",
        "    #   или list с несколькими dict внутри (несколько сеток)\n",
        "    param_grid=parameters,              \n",
        "    # кол-во фолдов для CV\n",
        "    cv=5,                               \n",
        "    # метрика для оценки - используем F1 \n",
        "    scoring='f1_macro',   \n",
        ")\n",
        "\n",
        "grid_search.fit(X_train, y_train)"
      ],
      "execution_count": null,
      "outputs": [
        {
          "output_type": "execute_result",
          "data": {
            "text/plain": [
              "GridSearchCV(cv=5, error_score=nan,\n",
              "             estimator=RandomForestClassifier(bootstrap=True, ccp_alpha=0.0,\n",
              "                                              class_weight=None,\n",
              "                                              criterion='gini', max_depth=None,\n",
              "                                              max_features='auto',\n",
              "                                              max_leaf_nodes=None,\n",
              "                                              max_samples=None,\n",
              "                                              min_impurity_decrease=0.0,\n",
              "                                              min_impurity_split=None,\n",
              "                                              min_samples_leaf=1,\n",
              "                                              min_samples_split=2,\n",
              "                                              min_weight_fraction_leaf=0.0,\n",
              "                                              n_estimators=100, n_jobs=None,\n",
              "                                              oob_score=False,\n",
              "                                              random_state=None, verbose=0,\n",
              "                                              warm_start=False),\n",
              "             iid='deprecated', n_jobs=None,\n",
              "             param_grid={'max_depth': [1, 2, 4, 5, 7],\n",
              "                         'n_estimators': [1, 5, 10, 20, 40]},\n",
              "             pre_dispatch='2*n_jobs', refit=True, return_train_score=False,\n",
              "             scoring='f1_macro', verbose=0)"
            ]
          },
          "metadata": {
            "tags": []
          },
          "execution_count": 40
        }
      ]
    },
    {
      "cell_type": "code",
      "metadata": {
        "id": "pBq-4BahUGoc",
        "colab": {
          "base_uri": "https://localhost:8080/"
        },
        "outputId": "2b161be1-4fea-4211-8d41-9715338944df"
      },
      "source": [
        "# Для поиска параметров модели внутри пайплайна используется специальное именование:\n",
        "#   <название шага>__<название параметра>\n",
        "pipe = Pipeline(steps=[\n",
        "    ('clf', RandomForestClassifier()),\n",
        "])\n",
        "\n",
        "# В названии два подчеркивания!\n",
        "parameters = {\n",
        "    'clf__max_depth': [1, 2, 4, 5, 7],\n",
        "    'clf__n_estimators': [1, 5, 10, 20, 40],\n",
        "}\n",
        "\n",
        "grid_search = GridSearchCV(\n",
        "    # пайплайн\n",
        "    estimator=pipe,                   \n",
        "    param_grid=parameters,              \n",
        "    cv=5,                               \n",
        "    scoring='f1_macro',   \n",
        ")\n",
        "\n",
        "grid_search.fit(X_train, y_train)"
      ],
      "execution_count": null,
      "outputs": [
        {
          "output_type": "execute_result",
          "data": {
            "text/plain": [
              "GridSearchCV(cv=5, error_score=nan,\n",
              "             estimator=Pipeline(memory=None,\n",
              "                                steps=[('clf',\n",
              "                                        RandomForestClassifier(bootstrap=True,\n",
              "                                                               ccp_alpha=0.0,\n",
              "                                                               class_weight=None,\n",
              "                                                               criterion='gini',\n",
              "                                                               max_depth=None,\n",
              "                                                               max_features='auto',\n",
              "                                                               max_leaf_nodes=None,\n",
              "                                                               max_samples=None,\n",
              "                                                               min_impurity_decrease=0.0,\n",
              "                                                               min_impurity_split=None,\n",
              "                                                               min_samples_leaf=1,\n",
              "                                                               min_samples_split=2,\n",
              "                                                               min_weight_fraction_leaf=0.0,\n",
              "                                                               n_estimators=100,\n",
              "                                                               n_jobs=None,\n",
              "                                                               oob_score=False,\n",
              "                                                               random_state=None,\n",
              "                                                               verbose=0,\n",
              "                                                               warm_start=False))],\n",
              "                                verbose=False),\n",
              "             iid='deprecated', n_jobs=None,\n",
              "             param_grid={'clf__max_depth': [1, 2, 4, 5, 7],\n",
              "                         'clf__n_estimators': [1, 5, 10, 20, 40]},\n",
              "             pre_dispatch='2*n_jobs', refit=True, return_train_score=False,\n",
              "             scoring='f1_macro', verbose=0)"
            ]
          },
          "metadata": {
            "tags": []
          },
          "execution_count": 41
        }
      ]
    },
    {
      "cell_type": "markdown",
      "metadata": {
        "id": "9dWFNLF105-k"
      },
      "source": [
        "После того, как поиск закончен, можно посмотреть на сетку сгенерированных параметров через аттрибут `cv_results_` и ключ `params`."
      ]
    },
    {
      "cell_type": "code",
      "metadata": {
        "id": "fXP8lsIc0649",
        "colab": {
          "base_uri": "https://localhost:8080/"
        },
        "outputId": "4b971543-50a9-43f7-9125-394bcabce566"
      },
      "source": [
        "grid_search.cv_results_['params']"
      ],
      "execution_count": null,
      "outputs": [
        {
          "output_type": "execute_result",
          "data": {
            "text/plain": [
              "[{'clf__max_depth': 1, 'clf__n_estimators': 1},\n",
              " {'clf__max_depth': 1, 'clf__n_estimators': 5},\n",
              " {'clf__max_depth': 1, 'clf__n_estimators': 10},\n",
              " {'clf__max_depth': 1, 'clf__n_estimators': 20},\n",
              " {'clf__max_depth': 1, 'clf__n_estimators': 40},\n",
              " {'clf__max_depth': 2, 'clf__n_estimators': 1},\n",
              " {'clf__max_depth': 2, 'clf__n_estimators': 5},\n",
              " {'clf__max_depth': 2, 'clf__n_estimators': 10},\n",
              " {'clf__max_depth': 2, 'clf__n_estimators': 20},\n",
              " {'clf__max_depth': 2, 'clf__n_estimators': 40},\n",
              " {'clf__max_depth': 4, 'clf__n_estimators': 1},\n",
              " {'clf__max_depth': 4, 'clf__n_estimators': 5},\n",
              " {'clf__max_depth': 4, 'clf__n_estimators': 10},\n",
              " {'clf__max_depth': 4, 'clf__n_estimators': 20},\n",
              " {'clf__max_depth': 4, 'clf__n_estimators': 40},\n",
              " {'clf__max_depth': 5, 'clf__n_estimators': 1},\n",
              " {'clf__max_depth': 5, 'clf__n_estimators': 5},\n",
              " {'clf__max_depth': 5, 'clf__n_estimators': 10},\n",
              " {'clf__max_depth': 5, 'clf__n_estimators': 20},\n",
              " {'clf__max_depth': 5, 'clf__n_estimators': 40},\n",
              " {'clf__max_depth': 7, 'clf__n_estimators': 1},\n",
              " {'clf__max_depth': 7, 'clf__n_estimators': 5},\n",
              " {'clf__max_depth': 7, 'clf__n_estimators': 10},\n",
              " {'clf__max_depth': 7, 'clf__n_estimators': 20},\n",
              " {'clf__max_depth': 7, 'clf__n_estimators': 40}]"
            ]
          },
          "metadata": {
            "tags": []
          },
          "execution_count": 42
        }
      ]
    },
    {
      "cell_type": "markdown",
      "metadata": {
        "id": "x2yKa2I50-0m"
      },
      "source": [
        "Для получения наилучших параметров и оценки можно воспользоваться аттрибутами `best_params_` и `best_score_`."
      ]
    },
    {
      "cell_type": "code",
      "metadata": {
        "id": "mzZO93G-0_Eu",
        "colab": {
          "base_uri": "https://localhost:8080/"
        },
        "outputId": "ecb9e3b9-6dfb-491c-c9dd-f0fc4cde0130"
      },
      "source": [
        "print(grid_search.best_params_)\n",
        "print(grid_search.best_score_)"
      ],
      "execution_count": null,
      "outputs": [
        {
          "output_type": "stream",
          "text": [
            "{'clf__max_depth': 4, 'clf__n_estimators': 40}\n",
            "0.7924833908496982\n"
          ],
          "name": "stdout"
        }
      ]
    },
    {
      "cell_type": "markdown",
      "metadata": {
        "id": "zs3yq1WWgclZ"
      },
      "source": [
        "Аналогично для `ColumnTransformer`, для учета этапов необходимо использовать `__` для каждой агрегации операций (пайплайн или трансформер колонок). "
      ]
    },
    {
      "cell_type": "markdown",
      "metadata": {
        "id": "o1jNdLJv8lSc"
      },
      "source": [
        "# Задачи"
      ]
    },
    {
      "cell_type": "markdown",
      "metadata": {
        "id": "-gluX0Ug8p9W"
      },
      "source": [
        "- Проведите базовый анализ данных, разделите данные на обучение/тест, разработайте baseline модель решающего дерева [DecisionTreeClassifier](https://scikit-learn.org/stable/modules/generated/sklearn.tree.DecisionTreeClassifier.html), оцените работу модели, отобразите важности признаков;\n",
        "- Разработайте модель линейной регрессии, оцените и сравните с моделью дерева;\n",
        "- Произведите стандартизацию численных признаков и оцените (сравните) работу моделей с результатами обучения без стандартизации;\n",
        "- Изучите влияние `max_depth` и `criterion` на показатели дерева, попробуйте 5 разных значений для каждого критерия, оцените с помощью кросс-валидации на обучающей выборке, сделайте таблицу;\n",
        "- Проведите расширенный анализ данных, выберите наиболее приоритетные для классификации признаки, сравните выбранные признаки с показателями важности признаков, создайте новые признаки; В результате расширенного анализа обратите внимание на следующие особенностями:\n",
        "    - Проведите создание новых признаков, добавляя каждый новый признак проведите оценку модели:\n",
        "        - `FamilySize` - размер родственников на корабле;\n",
        "        - `IsAlone` - является ли пассажир один на корабле или нет (бинарный признак);\n",
        "        - `FarePerPerson` - оплата билета на человека в семье (воспользоваться `FamilySize`);\n",
        "        - \\*`NameTitle` (если придумаете как) - название титула, сформированое из признака `Name`, редкие титулы стоит объединить в одну группу;\n",
        "    - Оцените работу модели при добавлении группировки признаков `Age`, `Fare`;\n",
        "- Обучите модель дерева и модель леса [RandomForestClassifier](https://scikit-learn.org/stable/modules/generated/sklearn.ensemble.RandomForestClassifier.html) по подготовленным данным;\n",
        "- Оцените влияние аргументов `max_depth` и `n_estimators` на точность модели (5 значений для каждого) с помощью кросс-валидации на обучающей выборке. Постройте таблицу зависимости метрик от величин;\n",
        "- Определите наилучшие параметры для модели случайного леса через [GridSearchCV](https://scikit-learn.org/stable/modules/generated/sklearn.model_selection.GridSearchCV.html);\n",
        "- Определите наилучшие параметры для модели случайного леса через [RandomizedSearchCV](https://scikit-learn.org/stable/modules/generated/sklearn.model_selection.RandomizedSearchCV.html);\n",
        "- Постройте лучшие модели леса и решающего дерева и сравните их по показателям на выборке для теста.\n",
        "- Примените подход [Recursive Feature Elimination](https://scikit-learn.org/stable/modules/generated/sklearn.feature_selection.RFE.html) на лучшую модель случайного леса. Сравните оценку важности признаков RFE и то, что показывает лес.\n",
        "- Постройте ROC кривые моделей, сравните их и сделайте выводы:\n",
        "    - лучшая модель на всех признаках;\n",
        "    - лучшая модель только на топ-7 лучших признаках по RFE;\n",
        "    - лучшая модель на топ-5 лучших признаках по RFE."
      ]
    },
    {
      "cell_type": "markdown",
      "metadata": {
        "id": "-Ep13hr848mb"
      },
      "source": [
        "# Выполнение задания"
      ]
    },
    {
      "cell_type": "markdown",
      "metadata": {
        "id": "5pmoOdLS5Bba"
      },
      "source": [
        "## Разработка baseline модели"
      ]
    },
    {
      "cell_type": "code",
      "metadata": {
        "id": "DpzplNq8oUL1"
      },
      "source": [
        "URL = 'https://raw.githubusercontent.com/KaiL4eK/ml_edu/master/datasets/Titanic_train.csv'\n",
        "df = pd.read_csv(URL)"
      ],
      "execution_count": null,
      "outputs": []
    },
    {
      "cell_type": "code",
      "metadata": {
        "id": "sFZ_G4d-pVLb"
      },
      "source": [
        "categorical_features = ['Sex', 'Embarked']\n",
        "numeric_features = ['Age', 'Fare']\n",
        "\n",
        "categorical_transformer = Pipeline(\n",
        "    steps=[\n",
        "        ('imp', SimpleImputer(strategy='most_frequent')),\n",
        "        ('enc', OneHotEncoder(handle_unknown='error')),                   \n",
        "])\n",
        "\n",
        "numeric_transformer = SimpleImputer(strategy='median')\n",
        "\n",
        "preprocessor = ColumnTransformer(\n",
        "    transformers=[\n",
        "        ('cat', categorical_transformer, categorical_features),\n",
        "        ('num', numeric_transformer, numeric_features)\n",
        "    ],\n",
        "    remainder='drop'\n",
        ")\n",
        "\n",
        "preprocessor.fit(df)\n",
        "\n",
        "X_data = preprocessor.transform(df)"
      ],
      "execution_count": null,
      "outputs": []
    },
    {
      "cell_type": "code",
      "metadata": {
        "id": "zI236_bbpncf"
      },
      "source": [
        "ohe_column_names = preprocessor \\\n",
        "    .named_transformers_['cat'] \\\n",
        "    .named_steps['enc'] \\\n",
        "    .get_feature_names(categorical_features)\n",
        "\n",
        "recovered_feat_names = \\\n",
        "    list(ohe_column_names) + \\\n",
        "    list(numeric_features)\n",
        "\n",
        "df_enc = pd.DataFrame(X_data, columns=recovered_feat_names)"
      ],
      "execution_count": null,
      "outputs": []
    },
    {
      "cell_type": "code",
      "metadata": {
        "colab": {
          "base_uri": "https://localhost:8080/"
        },
        "id": "CnHShyGwqYp6",
        "outputId": "d585cb94-de92-4a08-f19a-043788b919a1"
      },
      "source": [
        "# Добавляем оставшиеся важные признаки\n",
        "df_enc['Pclass'] = df['Pclass']\n",
        "df_enc['Parch'] = df['Parch']\n",
        "df_enc['SibSp'] = df['SibSp']\n",
        "df_enc.info()"
      ],
      "execution_count": null,
      "outputs": [
        {
          "output_type": "stream",
          "text": [
            "<class 'pandas.core.frame.DataFrame'>\n",
            "RangeIndex: 891 entries, 0 to 890\n",
            "Data columns (total 10 columns):\n",
            " #   Column      Non-Null Count  Dtype  \n",
            "---  ------      --------------  -----  \n",
            " 0   Sex_female  891 non-null    float64\n",
            " 1   Sex_male    891 non-null    float64\n",
            " 2   Embarked_C  891 non-null    float64\n",
            " 3   Embarked_Q  891 non-null    float64\n",
            " 4   Embarked_S  891 non-null    float64\n",
            " 5   Age         891 non-null    float64\n",
            " 6   Fare        891 non-null    float64\n",
            " 7   Pclass      891 non-null    int64  \n",
            " 8   Parch       891 non-null    int64  \n",
            " 9   SibSp       891 non-null    int64  \n",
            "dtypes: float64(7), int64(3)\n",
            "memory usage: 69.7 KB\n"
          ],
          "name": "stdout"
        }
      ]
    },
    {
      "cell_type": "code",
      "metadata": {
        "id": "v8SoREkVtm8X"
      },
      "source": [
        "X = df_enc\n",
        "y = df['Survived']\n",
        "\n",
        "X_train, X_test, y_train, y_test = train_test_split(\n",
        "    X, y, \n",
        "    train_size=TRAIN_RATIO, \n",
        "    random_state=RANDOM_STATE,\n",
        "    stratify=y\n",
        ")\n",
        "tree = DecisionTreeClassifier(random_state=RANDOM_STATE)\n",
        "tree.fit(X_train, y_train)\n",
        "\n",
        "y_pred = tree.predict(X_test)"
      ],
      "execution_count": null,
      "outputs": []
    },
    {
      "cell_type": "code",
      "metadata": {
        "colab": {
          "base_uri": "https://localhost:8080/"
        },
        "id": "9JIHUO5qxcwD",
        "outputId": "03d470e6-9107-4d31-e245-73c05e2f3e11"
      },
      "source": [
        "from sklearn.metrics import classification_report\n",
        "\n",
        "report = classification_report(\n",
        "        y_test, y_pred\n",
        "    )\n",
        "print(report)"
      ],
      "execution_count": null,
      "outputs": [
        {
          "output_type": "stream",
          "text": [
            "              precision    recall  f1-score   support\n",
            "\n",
            "           0       0.84      0.88      0.86       110\n",
            "           1       0.79      0.72      0.76        69\n",
            "\n",
            "    accuracy                           0.82       179\n",
            "   macro avg       0.81      0.80      0.81       179\n",
            "weighted avg       0.82      0.82      0.82       179\n",
            "\n"
          ],
          "name": "stdout"
        }
      ]
    },
    {
      "cell_type": "markdown",
      "metadata": {
        "id": "SbhL8rqpxsZy"
      },
      "source": [
        "Разработанная baseline-модель решающего дерева обеспечивает точность accuracy = 0.82"
      ]
    },
    {
      "cell_type": "code",
      "metadata": {
        "colab": {
          "base_uri": "https://localhost:8080/",
          "height": 504
        },
        "id": "lONpjGMax-O9",
        "outputId": "cf8906c7-1317-4ea8-9fba-1bef114c2d06"
      },
      "source": [
        "show_importance(tree, X.columns, X_train)"
      ],
      "execution_count": null,
      "outputs": [
        {
          "output_type": "stream",
          "text": [
            "Feature: Sex_female | 0.3166378392171992\n",
            "Feature: Sex_male | 0.0\n",
            "Feature: Embarked_C | 0.008557944899657112\n",
            "Feature: Embarked_Q | 0.005963961838198596\n",
            "Feature: Embarked_S | 0.02043782191199972\n",
            "Feature: Age | 0.2763102876831591\n",
            "Feature: Fare | 0.22891719996605847\n",
            "Feature: Pclass | 0.11024670351338307\n",
            "Feature: Parch | 0.01205622064294014\n",
            "Feature: SibSp | 0.02087202032740467\n"
          ],
          "name": "stdout"
        },
        {
          "output_type": "display_data",
          "data": {
            "image/png": "[encoded data removed]",
            "text/plain": [
              "<Figure size 432x288 with 1 Axes>"
            ]
          },
          "metadata": {
            "tags": [],
            "needs_background": "light"
          }
        }
      ]
    },
    {
      "cell_type": "markdown",
      "metadata": {
        "id": "vFYPfutozbfh"
      },
      "source": [
        "Наиболее важным признаком получился Sex_female. И только потом Age и Fare."
      ]
    },
    {
      "cell_type": "markdown",
      "metadata": {
        "id": "kEvD6e7H0G30"
      },
      "source": [
        "## Модель линейной регрессии"
      ]
    },
    {
      "cell_type": "code",
      "metadata": {
        "id": "JzCDPY4x0PMl"
      },
      "source": [
        "from sklearn.metrics import mean_squared_error, mean_absolute_error, r2_score\n",
        "\n",
        "def evaluate_regressor(reg, X, y, mode):\n",
        "    y_pred = reg.predict(X)\n",
        "    r2_score_value = r2_score(y, y_pred)\n",
        "    rmse_score = np.sqrt(mean_squared_error(y, y_pred))\n",
        "    mae_score = mean_absolute_error(y, y_pred)\n",
        "\n",
        "    print(f'\\n----- Evaluation for {mode} -----')\n",
        "    print(f'  R2: {r2_score_value}')\n",
        "    print(f'  RMSE: {rmse_score}')\n",
        "    print(f'  MAE: {mae_score}')"
      ],
      "execution_count": null,
      "outputs": []
    },
    {
      "cell_type": "code",
      "metadata": {
        "colab": {
          "base_uri": "https://localhost:8080/"
        },
        "id": "htGalW4c1Iq7",
        "outputId": "0d6375cc-850f-4ede-ec21-751dd5496422"
      },
      "source": [
        "from sklearn.linear_model import LinearRegression\n",
        "\n",
        "reg = LinearRegression()\n",
        "reg.fit(X_train, y_train)\n",
        "\n",
        "evaluate_regressor(reg, X_test, y_test, 'test')"
      ],
      "execution_count": null,
      "outputs": [
        {
          "output_type": "stream",
          "text": [
            "\n",
            "----- Evaluation for test -----\n",
            "  R2: 0.36317072460029254\n",
            "  RMSE: 0.3884001303091628\n",
            "  MAE: 0.3049544015941986\n"
          ],
          "name": "stdout"
        }
      ]
    },
    {
      "cell_type": "markdown",
      "metadata": {
        "id": "1YE1VIif114F"
      },
      "source": [
        "Несмотря на небольшие отклонения RMSE и MAE (так как значения функции либо 0, либо 1), точность модели по метрике r2 получилась небольшой. Поэтому можно сделать вывод, что модель линейной регресии не справляется с задачами классификации. Но метрика r2 > 0, поэтому в целом кейс хоть и неточный, но является приемлемым."
      ]
    },
    {
      "cell_type": "markdown",
      "metadata": {
        "id": "WRwAnMIc2wau"
      },
      "source": [
        "## Стандартизация численных признаков"
      ]
    },
    {
      "cell_type": "code",
      "metadata": {
        "colab": {
          "base_uri": "https://localhost:8080/"
        },
        "id": "avX1lh2L30tp",
        "outputId": "219d6ca7-2c41-4d47-d99a-44c3fb4681ae"
      },
      "source": [
        "from sklearn.preprocessing import StandardScaler\n",
        "\n",
        "X = df_enc\n",
        "y = df['Survived']\n",
        "\n",
        "scaler = StandardScaler()\n",
        "X_scaled = scaler.fit_transform(X)\n",
        "\n",
        "X_train, X_test, y_train, y_test = train_test_split(\n",
        "    X_scaled, y, \n",
        "    train_size=TRAIN_RATIO, \n",
        "    random_state=RANDOM_STATE,\n",
        "    stratify=y\n",
        ")\n",
        "tree = DecisionTreeClassifier(random_state=RANDOM_STATE)\n",
        "tree.fit(X_train, y_train)\n",
        "\n",
        "y_pred = tree.predict(X_test)\n",
        "\n",
        "report = classification_report(\n",
        "        y_test, y_pred\n",
        "    )\n",
        "print(report)"
      ],
      "execution_count": null,
      "outputs": [
        {
          "output_type": "stream",
          "text": [
            "              precision    recall  f1-score   support\n",
            "\n",
            "           0       0.84      0.88      0.86       110\n",
            "           1       0.79      0.72      0.76        69\n",
            "\n",
            "    accuracy                           0.82       179\n",
            "   macro avg       0.81      0.80      0.81       179\n",
            "weighted avg       0.82      0.82      0.82       179\n",
            "\n"
          ],
          "name": "stdout"
        }
      ]
    },
    {
      "cell_type": "markdown",
      "metadata": {
        "id": "nEqHSFXDV4yI"
      },
      "source": [
        "С применением стандартизации данных точность модели не изменилась."
      ]
    },
    {
      "cell_type": "markdown",
      "metadata": {
        "id": "zSWcAMnjWCao"
      },
      "source": [
        "## Изменение параметров дерева"
      ]
    },
    {
      "cell_type": "code",
      "metadata": {
        "colab": {
          "base_uri": "https://localhost:8080/",
          "height": 111
        },
        "id": "lBE0ewvgwZ0m",
        "outputId": "4efb6fe4-2aec-4ad1-fd96-fc9e7912386f"
      },
      "source": [
        "# Вычисление таблицы для f1_macro\n",
        "from sklearn.model_selection import cross_val_score\n",
        "\n",
        "X = df_enc\n",
        "y = df['Survived']\n",
        "\n",
        "f1_mtrx = np.ndarray((2, 5))\n",
        "for i, criterion in enumerate(['gini', 'entropy']):\n",
        "    for j, max_depth in enumerate(range(2,7)):\n",
        "        tree = DecisionTreeClassifier(max_depth=max_depth, criterion=criterion,random_state=RANDOM_STATE)\n",
        "        scores = cross_val_score(\n",
        "            tree,     # Модель для оценки\n",
        "            X,          # Данные для обучения\n",
        "            y,          # Разметка для обучения\n",
        "            cv=5,       # Количество фолдов\n",
        "            scoring='f1_macro'  # Желаемая метрика\n",
        "        )\n",
        "        f1_mtrx[i, j] = scores.mean()\n",
        "\n",
        "f1_df = pd.DataFrame(f1_mtrx, columns=range(2,7), index=['gini', 'entropy'])\n",
        "f1_df "
      ],
      "execution_count": null,
      "outputs": [
        {
          "output_type": "execute_result",
          "data": {
            "text/html": [
              "<div>\n",
              "<style scoped>\n",
              "    .dataframe tbody tr th:only-of-type {\n",
              "        vertical-align: middle;\n",
              "    }\n",
              "\n",
              "    .dataframe tbody tr th {\n",
              "        vertical-align: top;\n",
              "    }\n",
              "\n",
              "    .dataframe thead th {\n",
              "        text-align: right;\n",
              "    }\n",
              "</style>\n",
              "<table border=\"1\" class=\"dataframe\">\n",
              "  <thead>\n",
              "    <tr style=\"text-align: right;\">\n",
              "      <th></th>\n",
              "      <th>2</th>\n",
              "      <th>3</th>\n",
              "      <th>4</th>\n",
              "      <th>5</th>\n",
              "      <th>6</th>\n",
              "    </tr>\n",
              "  </thead>\n",
              "  <tbody>\n",
              "    <tr>\n",
              "      <th>gini</th>\n",
              "      <td>0.740627</td>\n",
              "      <td>0.789666</td>\n",
              "      <td>0.778416</td>\n",
              "      <td>0.793395</td>\n",
              "      <td>0.794476</td>\n",
              "    </tr>\n",
              "    <tr>\n",
              "      <th>entropy</th>\n",
              "      <td>0.740627</td>\n",
              "      <td>0.798474</td>\n",
              "      <td>0.778904</td>\n",
              "      <td>0.791622</td>\n",
              "      <td>0.780710</td>\n",
              "    </tr>\n",
              "  </tbody>\n",
              "</table>\n",
              "</div>"
            ],
            "text/plain": [
              "                2         3         4         5         6\n",
              "gini     0.740627  0.789666  0.778416  0.793395  0.794476\n",
              "entropy  0.740627  0.798474  0.778904  0.791622  0.780710"
            ]
          },
          "metadata": {
            "tags": []
          },
          "execution_count": 72
        }
      ]
    },
    {
      "cell_type": "markdown",
      "metadata": {
        "id": "kvIe9IwEz5bH"
      },
      "source": [
        "Наилучшим значением метрики обладает модель с параметрами: criterion='entropy', max_depth=3"
      ]
    },
    {
      "cell_type": "markdown",
      "metadata": {
        "id": "Rjop6-wU0V-T"
      },
      "source": [
        "## Расширенный анализ данных"
      ]
    },
    {
      "cell_type": "code",
      "metadata": {
        "colab": {
          "base_uri": "https://localhost:8080/",
          "height": 357
        },
        "id": "hoDIuxhMJyqk",
        "outputId": "2f08eefb-5a6f-4770-ea7f-efb155a10c89"
      },
      "source": [
        "# Будем использовать наиболее важные признаки, которые обеспечивают максимальную точность модели\n",
        "important_features = ['Sex_female', 'Age', 'Fare', 'Pclass', 'SibSp']\n",
        "X = df_enc[important_features]\n",
        "y = df['Survived']\n",
        "\n",
        "X_train, X_test, y_train, y_test = train_test_split(\n",
        "    X, y, \n",
        "    train_size=TRAIN_RATIO, \n",
        "    random_state=RANDOM_STATE,\n",
        "    stratify=y\n",
        ")\n",
        "tree = DecisionTreeClassifier(criterion='entropy', max_depth=3, random_state=RANDOM_STATE)\n",
        "tree.fit(X_train, y_train)\n",
        "\n",
        "y_pred = tree.predict(X_test)\n",
        "\n",
        "report = classification_report(\n",
        "        y_test, y_pred\n",
        "    )\n",
        "print(report)\n",
        "X.head()"
      ],
      "execution_count": null,
      "outputs": [
        {
          "output_type": "stream",
          "text": [
            "              precision    recall  f1-score   support\n",
            "\n",
            "           0       0.80      0.90      0.85       110\n",
            "           1       0.80      0.65      0.72        69\n",
            "\n",
            "    accuracy                           0.80       179\n",
            "   macro avg       0.80      0.78      0.78       179\n",
            "weighted avg       0.80      0.80      0.80       179\n",
            "\n"
          ],
          "name": "stdout"
        },
        {
          "output_type": "execute_result",
          "data": {
            "text/html": [
              "<div>\n",
              "<style scoped>\n",
              "    .dataframe tbody tr th:only-of-type {\n",
              "        vertical-align: middle;\n",
              "    }\n",
              "\n",
              "    .dataframe tbody tr th {\n",
              "        vertical-align: top;\n",
              "    }\n",
              "\n",
              "    .dataframe thead th {\n",
              "        text-align: right;\n",
              "    }\n",
              "</style>\n",
              "<table border=\"1\" class=\"dataframe\">\n",
              "  <thead>\n",
              "    <tr style=\"text-align: right;\">\n",
              "      <th></th>\n",
              "      <th>Sex_female</th>\n",
              "      <th>Age</th>\n",
              "      <th>Fare</th>\n",
              "      <th>Pclass</th>\n",
              "      <th>SibSp</th>\n",
              "    </tr>\n",
              "  </thead>\n",
              "  <tbody>\n",
              "    <tr>\n",
              "      <th>0</th>\n",
              "      <td>0.0</td>\n",
              "      <td>22.0</td>\n",
              "      <td>7.2500</td>\n",
              "      <td>3</td>\n",
              "      <td>1</td>\n",
              "    </tr>\n",
              "    <tr>\n",
              "      <th>1</th>\n",
              "      <td>1.0</td>\n",
              "      <td>38.0</td>\n",
              "      <td>71.2833</td>\n",
              "      <td>1</td>\n",
              "      <td>1</td>\n",
              "    </tr>\n",
              "    <tr>\n",
              "      <th>2</th>\n",
              "      <td>1.0</td>\n",
              "      <td>26.0</td>\n",
              "      <td>7.9250</td>\n",
              "      <td>3</td>\n",
              "      <td>0</td>\n",
              "    </tr>\n",
              "    <tr>\n",
              "      <th>3</th>\n",
              "      <td>1.0</td>\n",
              "      <td>35.0</td>\n",
              "      <td>53.1000</td>\n",
              "      <td>1</td>\n",
              "      <td>1</td>\n",
              "    </tr>\n",
              "    <tr>\n",
              "      <th>4</th>\n",
              "      <td>0.0</td>\n",
              "      <td>35.0</td>\n",
              "      <td>8.0500</td>\n",
              "      <td>3</td>\n",
              "      <td>0</td>\n",
              "    </tr>\n",
              "  </tbody>\n",
              "</table>\n",
              "</div>"
            ],
            "text/plain": [
              "   Sex_female   Age     Fare  Pclass  SibSp\n",
              "0         0.0  22.0   7.2500       3      1\n",
              "1         1.0  38.0  71.2833       1      1\n",
              "2         1.0  26.0   7.9250       3      0\n",
              "3         1.0  35.0  53.1000       1      1\n",
              "4         0.0  35.0   8.0500       3      0"
            ]
          },
          "metadata": {
            "tags": []
          },
          "execution_count": 73
        }
      ]
    },
    {
      "cell_type": "markdown",
      "metadata": {
        "id": "IcGoLyih0bB-"
      },
      "source": [
        "### Добавление новых признаков"
      ]
    },
    {
      "cell_type": "code",
      "metadata": {
        "id": "6PSqIM-7Mfjq"
      },
      "source": [
        "import warnings\n",
        "\n",
        "warnings.filterwarnings(\"ignore\")"
      ],
      "execution_count": null,
      "outputs": []
    },
    {
      "cell_type": "code",
      "metadata": {
        "colab": {
          "base_uri": "https://localhost:8080/",
          "height": 357
        },
        "id": "z6sGri7S4MTq",
        "outputId": "c847649c-c7e4-4123-a7ac-3baa3836b55d"
      },
      "source": [
        "# Добавление FamilySize\n",
        "X['FamilySize'] = df['SibSp'] + df['Parch'] + 1\n",
        "\n",
        "X_train, X_test, y_train, y_test = train_test_split(\n",
        "    X, y, \n",
        "    train_size=TRAIN_RATIO, \n",
        "    random_state=RANDOM_STATE,\n",
        "    stratify=y\n",
        ")\n",
        "tree = DecisionTreeClassifier(criterion='entropy', max_depth=3, random_state=RANDOM_STATE)\n",
        "tree.fit(X_train, y_train)\n",
        "\n",
        "y_pred = tree.predict(X_test)\n",
        "\n",
        "report = classification_report(\n",
        "        y_test, y_pred\n",
        "    )\n",
        "print(report)\n",
        "X.head()"
      ],
      "execution_count": null,
      "outputs": [
        {
          "output_type": "stream",
          "text": [
            "              precision    recall  f1-score   support\n",
            "\n",
            "           0       0.80      0.90      0.85       110\n",
            "           1       0.80      0.65      0.72        69\n",
            "\n",
            "    accuracy                           0.80       179\n",
            "   macro avg       0.80      0.78      0.78       179\n",
            "weighted avg       0.80      0.80      0.80       179\n",
            "\n"
          ],
          "name": "stdout"
        },
        {
          "output_type": "execute_result",
          "data": {
            "text/html": [
              "<div>\n",
              "<style scoped>\n",
              "    .dataframe tbody tr th:only-of-type {\n",
              "        vertical-align: middle;\n",
              "    }\n",
              "\n",
              "    .dataframe tbody tr th {\n",
              "        vertical-align: top;\n",
              "    }\n",
              "\n",
              "    .dataframe thead th {\n",
              "        text-align: right;\n",
              "    }\n",
              "</style>\n",
              "<table border=\"1\" class=\"dataframe\">\n",
              "  <thead>\n",
              "    <tr style=\"text-align: right;\">\n",
              "      <th></th>\n",
              "      <th>Sex_female</th>\n",
              "      <th>Age</th>\n",
              "      <th>Fare</th>\n",
              "      <th>Pclass</th>\n",
              "      <th>SibSp</th>\n",
              "      <th>FamilySize</th>\n",
              "    </tr>\n",
              "  </thead>\n",
              "  <tbody>\n",
              "    <tr>\n",
              "      <th>0</th>\n",
              "      <td>0.0</td>\n",
              "      <td>22.0</td>\n",
              "      <td>7.2500</td>\n",
              "      <td>3</td>\n",
              "      <td>1</td>\n",
              "      <td>2</td>\n",
              "    </tr>\n",
              "    <tr>\n",
              "      <th>1</th>\n",
              "      <td>1.0</td>\n",
              "      <td>38.0</td>\n",
              "      <td>71.2833</td>\n",
              "      <td>1</td>\n",
              "      <td>1</td>\n",
              "      <td>2</td>\n",
              "    </tr>\n",
              "    <tr>\n",
              "      <th>2</th>\n",
              "      <td>1.0</td>\n",
              "      <td>26.0</td>\n",
              "      <td>7.9250</td>\n",
              "      <td>3</td>\n",
              "      <td>0</td>\n",
              "      <td>1</td>\n",
              "    </tr>\n",
              "    <tr>\n",
              "      <th>3</th>\n",
              "      <td>1.0</td>\n",
              "      <td>35.0</td>\n",
              "      <td>53.1000</td>\n",
              "      <td>1</td>\n",
              "      <td>1</td>\n",
              "      <td>2</td>\n",
              "    </tr>\n",
              "    <tr>\n",
              "      <th>4</th>\n",
              "      <td>0.0</td>\n",
              "      <td>35.0</td>\n",
              "      <td>8.0500</td>\n",
              "      <td>3</td>\n",
              "      <td>0</td>\n",
              "      <td>1</td>\n",
              "    </tr>\n",
              "  </tbody>\n",
              "</table>\n",
              "</div>"
            ],
            "text/plain": [
              "   Sex_female   Age     Fare  Pclass  SibSp  FamilySize\n",
              "0         0.0  22.0   7.2500       3      1           2\n",
              "1         1.0  38.0  71.2833       1      1           2\n",
              "2         1.0  26.0   7.9250       3      0           1\n",
              "3         1.0  35.0  53.1000       1      1           2\n",
              "4         0.0  35.0   8.0500       3      0           1"
            ]
          },
          "metadata": {
            "tags": []
          },
          "execution_count": 75
        }
      ]
    },
    {
      "cell_type": "code",
      "metadata": {
        "colab": {
          "base_uri": "https://localhost:8080/",
          "height": 357
        },
        "id": "IePsIiySMo0C",
        "outputId": "1d01e97f-bd78-4a07-cc78-bfe8015ffce1"
      },
      "source": [
        "# Добавление IsAlone\n",
        "mask = df['SibSp'] + df['Parch'] == 0\n",
        "X['IsAlone'] = mask.astype(int)\n",
        "\n",
        "X_train, X_test, y_train, y_test = train_test_split(\n",
        "    X, y, \n",
        "    train_size=TRAIN_RATIO, \n",
        "    random_state=RANDOM_STATE,\n",
        "    stratify=y\n",
        ")\n",
        "tree = DecisionTreeClassifier(criterion='entropy', max_depth=3, random_state=RANDOM_STATE)\n",
        "tree.fit(X_train, y_train)\n",
        "\n",
        "y_pred = tree.predict(X_test)\n",
        "\n",
        "report = classification_report(\n",
        "        y_test, y_pred\n",
        "    )\n",
        "print(report)\n",
        "X.head()"
      ],
      "execution_count": null,
      "outputs": [
        {
          "output_type": "stream",
          "text": [
            "              precision    recall  f1-score   support\n",
            "\n",
            "           0       0.80      0.90      0.85       110\n",
            "           1       0.80      0.65      0.72        69\n",
            "\n",
            "    accuracy                           0.80       179\n",
            "   macro avg       0.80      0.78      0.78       179\n",
            "weighted avg       0.80      0.80      0.80       179\n",
            "\n"
          ],
          "name": "stdout"
        },
        {
          "output_type": "execute_result",
          "data": {
            "text/html": [
              "<div>\n",
              "<style scoped>\n",
              "    .dataframe tbody tr th:only-of-type {\n",
              "        vertical-align: middle;\n",
              "    }\n",
              "\n",
              "    .dataframe tbody tr th {\n",
              "        vertical-align: top;\n",
              "    }\n",
              "\n",
              "    .dataframe thead th {\n",
              "        text-align: right;\n",
              "    }\n",
              "</style>\n",
              "<table border=\"1\" class=\"dataframe\">\n",
              "  <thead>\n",
              "    <tr style=\"text-align: right;\">\n",
              "      <th></th>\n",
              "      <th>Sex_female</th>\n",
              "      <th>Age</th>\n",
              "      <th>Fare</th>\n",
              "      <th>Pclass</th>\n",
              "      <th>SibSp</th>\n",
              "      <th>FamilySize</th>\n",
              "      <th>IsAlone</th>\n",
              "    </tr>\n",
              "  </thead>\n",
              "  <tbody>\n",
              "    <tr>\n",
              "      <th>0</th>\n",
              "      <td>0.0</td>\n",
              "      <td>22.0</td>\n",
              "      <td>7.2500</td>\n",
              "      <td>3</td>\n",
              "      <td>1</td>\n",
              "      <td>2</td>\n",
              "      <td>0</td>\n",
              "    </tr>\n",
              "    <tr>\n",
              "      <th>1</th>\n",
              "      <td>1.0</td>\n",
              "      <td>38.0</td>\n",
              "      <td>71.2833</td>\n",
              "      <td>1</td>\n",
              "      <td>1</td>\n",
              "      <td>2</td>\n",
              "      <td>0</td>\n",
              "    </tr>\n",
              "    <tr>\n",
              "      <th>2</th>\n",
              "      <td>1.0</td>\n",
              "      <td>26.0</td>\n",
              "      <td>7.9250</td>\n",
              "      <td>3</td>\n",
              "      <td>0</td>\n",
              "      <td>1</td>\n",
              "      <td>1</td>\n",
              "    </tr>\n",
              "    <tr>\n",
              "      <th>3</th>\n",
              "      <td>1.0</td>\n",
              "      <td>35.0</td>\n",
              "      <td>53.1000</td>\n",
              "      <td>1</td>\n",
              "      <td>1</td>\n",
              "      <td>2</td>\n",
              "      <td>0</td>\n",
              "    </tr>\n",
              "    <tr>\n",
              "      <th>4</th>\n",
              "      <td>0.0</td>\n",
              "      <td>35.0</td>\n",
              "      <td>8.0500</td>\n",
              "      <td>3</td>\n",
              "      <td>0</td>\n",
              "      <td>1</td>\n",
              "      <td>1</td>\n",
              "    </tr>\n",
              "  </tbody>\n",
              "</table>\n",
              "</div>"
            ],
            "text/plain": [
              "   Sex_female   Age     Fare  Pclass  SibSp  FamilySize  IsAlone\n",
              "0         0.0  22.0   7.2500       3      1           2        0\n",
              "1         1.0  38.0  71.2833       1      1           2        0\n",
              "2         1.0  26.0   7.9250       3      0           1        1\n",
              "3         1.0  35.0  53.1000       1      1           2        0\n",
              "4         0.0  35.0   8.0500       3      0           1        1"
            ]
          },
          "metadata": {
            "tags": []
          },
          "execution_count": 76
        }
      ]
    },
    {
      "cell_type": "code",
      "metadata": {
        "colab": {
          "base_uri": "https://localhost:8080/",
          "height": 357
        },
        "id": "bVPRIUfyP0_Y",
        "outputId": "90ecd99b-b374-478e-e0d2-c2696d0526da"
      },
      "source": [
        "# Добавление FarePerPerson\n",
        "X['FarePerPerson'] = X['Fare'] / X['FamilySize']\n",
        "\n",
        "X_train, X_test, y_train, y_test = train_test_split(\n",
        "    X, y, \n",
        "    train_size=TRAIN_RATIO, \n",
        "    random_state=RANDOM_STATE,\n",
        "    stratify=y\n",
        ")\n",
        "tree = DecisionTreeClassifier(criterion='entropy', max_depth=3, random_state=RANDOM_STATE)\n",
        "tree.fit(X_train, y_train)\n",
        "\n",
        "y_pred = tree.predict(X_test)\n",
        "\n",
        "report = classification_report(\n",
        "        y_test, y_pred\n",
        "    )\n",
        "print(report)\n",
        "X.head()"
      ],
      "execution_count": null,
      "outputs": [
        {
          "output_type": "stream",
          "text": [
            "              precision    recall  f1-score   support\n",
            "\n",
            "           0       0.83      0.79      0.81       110\n",
            "           1       0.69      0.74      0.71        69\n",
            "\n",
            "    accuracy                           0.77       179\n",
            "   macro avg       0.76      0.77      0.76       179\n",
            "weighted avg       0.77      0.77      0.77       179\n",
            "\n"
          ],
          "name": "stdout"
        },
        {
          "output_type": "execute_result",
          "data": {
            "text/html": [
              "<div>\n",
              "<style scoped>\n",
              "    .dataframe tbody tr th:only-of-type {\n",
              "        vertical-align: middle;\n",
              "    }\n",
              "\n",
              "    .dataframe tbody tr th {\n",
              "        vertical-align: top;\n",
              "    }\n",
              "\n",
              "    .dataframe thead th {\n",
              "        text-align: right;\n",
              "    }\n",
              "</style>\n",
              "<table border=\"1\" class=\"dataframe\">\n",
              "  <thead>\n",
              "    <tr style=\"text-align: right;\">\n",
              "      <th></th>\n",
              "      <th>Sex_female</th>\n",
              "      <th>Age</th>\n",
              "      <th>Fare</th>\n",
              "      <th>Pclass</th>\n",
              "      <th>SibSp</th>\n",
              "      <th>FamilySize</th>\n",
              "      <th>IsAlone</th>\n",
              "      <th>FarePerPerson</th>\n",
              "    </tr>\n",
              "  </thead>\n",
              "  <tbody>\n",
              "    <tr>\n",
              "      <th>0</th>\n",
              "      <td>0.0</td>\n",
              "      <td>22.0</td>\n",
              "      <td>7.2500</td>\n",
              "      <td>3</td>\n",
              "      <td>1</td>\n",
              "      <td>2</td>\n",
              "      <td>0</td>\n",
              "      <td>3.62500</td>\n",
              "    </tr>\n",
              "    <tr>\n",
              "      <th>1</th>\n",
              "      <td>1.0</td>\n",
              "      <td>38.0</td>\n",
              "      <td>71.2833</td>\n",
              "      <td>1</td>\n",
              "      <td>1</td>\n",
              "      <td>2</td>\n",
              "      <td>0</td>\n",
              "      <td>35.64165</td>\n",
              "    </tr>\n",
              "    <tr>\n",
              "      <th>2</th>\n",
              "      <td>1.0</td>\n",
              "      <td>26.0</td>\n",
              "      <td>7.9250</td>\n",
              "      <td>3</td>\n",
              "      <td>0</td>\n",
              "      <td>1</td>\n",
              "      <td>1</td>\n",
              "      <td>7.92500</td>\n",
              "    </tr>\n",
              "    <tr>\n",
              "      <th>3</th>\n",
              "      <td>1.0</td>\n",
              "      <td>35.0</td>\n",
              "      <td>53.1000</td>\n",
              "      <td>1</td>\n",
              "      <td>1</td>\n",
              "      <td>2</td>\n",
              "      <td>0</td>\n",
              "      <td>26.55000</td>\n",
              "    </tr>\n",
              "    <tr>\n",
              "      <th>4</th>\n",
              "      <td>0.0</td>\n",
              "      <td>35.0</td>\n",
              "      <td>8.0500</td>\n",
              "      <td>3</td>\n",
              "      <td>0</td>\n",
              "      <td>1</td>\n",
              "      <td>1</td>\n",
              "      <td>8.05000</td>\n",
              "    </tr>\n",
              "  </tbody>\n",
              "</table>\n",
              "</div>"
            ],
            "text/plain": [
              "   Sex_female   Age     Fare  Pclass  SibSp  FamilySize  IsAlone  FarePerPerson\n",
              "0         0.0  22.0   7.2500       3      1           2        0        3.62500\n",
              "1         1.0  38.0  71.2833       1      1           2        0       35.64165\n",
              "2         1.0  26.0   7.9250       3      0           1        1        7.92500\n",
              "3         1.0  35.0  53.1000       1      1           2        0       26.55000\n",
              "4         0.0  35.0   8.0500       3      0           1        1        8.05000"
            ]
          },
          "metadata": {
            "tags": []
          },
          "execution_count": 77
        }
      ]
    },
    {
      "cell_type": "markdown",
      "metadata": {
        "id": "FUoV-EiSyEKk"
      },
      "source": [
        "Так как точность модели уменьшилась, данный признак лучше не добавлять."
      ]
    },
    {
      "cell_type": "code",
      "metadata": {
        "colab": {
          "base_uri": "https://localhost:8080/",
          "height": 204
        },
        "id": "BCupRcNxQbAH",
        "outputId": "94976ef4-9d8e-4aa6-8738-1c0f8f3fa285"
      },
      "source": [
        "X.drop('FarePerPerson', inplace=True, axis=1)\n",
        "X.head()"
      ],
      "execution_count": null,
      "outputs": [
        {
          "output_type": "execute_result",
          "data": {
            "text/html": [
              "<div>\n",
              "<style scoped>\n",
              "    .dataframe tbody tr th:only-of-type {\n",
              "        vertical-align: middle;\n",
              "    }\n",
              "\n",
              "    .dataframe tbody tr th {\n",
              "        vertical-align: top;\n",
              "    }\n",
              "\n",
              "    .dataframe thead th {\n",
              "        text-align: right;\n",
              "    }\n",
              "</style>\n",
              "<table border=\"1\" class=\"dataframe\">\n",
              "  <thead>\n",
              "    <tr style=\"text-align: right;\">\n",
              "      <th></th>\n",
              "      <th>Sex_female</th>\n",
              "      <th>Age</th>\n",
              "      <th>Fare</th>\n",
              "      <th>Pclass</th>\n",
              "      <th>SibSp</th>\n",
              "      <th>FamilySize</th>\n",
              "      <th>IsAlone</th>\n",
              "    </tr>\n",
              "  </thead>\n",
              "  <tbody>\n",
              "    <tr>\n",
              "      <th>0</th>\n",
              "      <td>0.0</td>\n",
              "      <td>22.0</td>\n",
              "      <td>7.2500</td>\n",
              "      <td>3</td>\n",
              "      <td>1</td>\n",
              "      <td>2</td>\n",
              "      <td>0</td>\n",
              "    </tr>\n",
              "    <tr>\n",
              "      <th>1</th>\n",
              "      <td>1.0</td>\n",
              "      <td>38.0</td>\n",
              "      <td>71.2833</td>\n",
              "      <td>1</td>\n",
              "      <td>1</td>\n",
              "      <td>2</td>\n",
              "      <td>0</td>\n",
              "    </tr>\n",
              "    <tr>\n",
              "      <th>2</th>\n",
              "      <td>1.0</td>\n",
              "      <td>26.0</td>\n",
              "      <td>7.9250</td>\n",
              "      <td>3</td>\n",
              "      <td>0</td>\n",
              "      <td>1</td>\n",
              "      <td>1</td>\n",
              "    </tr>\n",
              "    <tr>\n",
              "      <th>3</th>\n",
              "      <td>1.0</td>\n",
              "      <td>35.0</td>\n",
              "      <td>53.1000</td>\n",
              "      <td>1</td>\n",
              "      <td>1</td>\n",
              "      <td>2</td>\n",
              "      <td>0</td>\n",
              "    </tr>\n",
              "    <tr>\n",
              "      <th>4</th>\n",
              "      <td>0.0</td>\n",
              "      <td>35.0</td>\n",
              "      <td>8.0500</td>\n",
              "      <td>3</td>\n",
              "      <td>0</td>\n",
              "      <td>1</td>\n",
              "      <td>1</td>\n",
              "    </tr>\n",
              "  </tbody>\n",
              "</table>\n",
              "</div>"
            ],
            "text/plain": [
              "   Sex_female   Age     Fare  Pclass  SibSp  FamilySize  IsAlone\n",
              "0         0.0  22.0   7.2500       3      1           2        0\n",
              "1         1.0  38.0  71.2833       1      1           2        0\n",
              "2         1.0  26.0   7.9250       3      0           1        1\n",
              "3         1.0  35.0  53.1000       1      1           2        0\n",
              "4         0.0  35.0   8.0500       3      0           1        1"
            ]
          },
          "metadata": {
            "tags": []
          },
          "execution_count": 78
        }
      ]
    },
    {
      "cell_type": "markdown",
      "metadata": {
        "id": "5g3S_7K-SLA0"
      },
      "source": [
        "### Группировка признаков"
      ]
    },
    {
      "cell_type": "code",
      "metadata": {
        "colab": {
          "base_uri": "https://localhost:8080/",
          "height": 357
        },
        "id": "73lnoj11SOdB",
        "outputId": "ce3715f3-0656-447a-8d09-7f53ceb7042b"
      },
      "source": [
        "X['Fare_groups'] = discr.fit_transform(X[['Fare']])\n",
        "\n",
        "X_train, X_test, y_train, y_test = train_test_split(\n",
        "    X, y, \n",
        "    train_size=TRAIN_RATIO, \n",
        "    random_state=RANDOM_STATE,\n",
        "    stratify=y\n",
        ")\n",
        "tree = DecisionTreeClassifier(criterion='entropy', max_depth=3, random_state=RANDOM_STATE)\n",
        "tree.fit(X_train, y_train)\n",
        "\n",
        "y_pred = tree.predict(X_test)\n",
        "\n",
        "report = classification_report(\n",
        "        y_test, y_pred\n",
        "    )\n",
        "print(report)\n",
        "X.head()"
      ],
      "execution_count": null,
      "outputs": [
        {
          "output_type": "stream",
          "text": [
            "              precision    recall  f1-score   support\n",
            "\n",
            "           0       0.80      0.90      0.85       110\n",
            "           1       0.80      0.65      0.72        69\n",
            "\n",
            "    accuracy                           0.80       179\n",
            "   macro avg       0.80      0.78      0.78       179\n",
            "weighted avg       0.80      0.80      0.80       179\n",
            "\n"
          ],
          "name": "stdout"
        },
        {
          "output_type": "execute_result",
          "data": {
            "text/html": [
              "<div>\n",
              "<style scoped>\n",
              "    .dataframe tbody tr th:only-of-type {\n",
              "        vertical-align: middle;\n",
              "    }\n",
              "\n",
              "    .dataframe tbody tr th {\n",
              "        vertical-align: top;\n",
              "    }\n",
              "\n",
              "    .dataframe thead th {\n",
              "        text-align: right;\n",
              "    }\n",
              "</style>\n",
              "<table border=\"1\" class=\"dataframe\">\n",
              "  <thead>\n",
              "    <tr style=\"text-align: right;\">\n",
              "      <th></th>\n",
              "      <th>Sex_female</th>\n",
              "      <th>Age</th>\n",
              "      <th>Fare</th>\n",
              "      <th>Pclass</th>\n",
              "      <th>SibSp</th>\n",
              "      <th>FamilySize</th>\n",
              "      <th>IsAlone</th>\n",
              "      <th>Fare_groups</th>\n",
              "    </tr>\n",
              "  </thead>\n",
              "  <tbody>\n",
              "    <tr>\n",
              "      <th>0</th>\n",
              "      <td>0.0</td>\n",
              "      <td>22.0</td>\n",
              "      <td>7.2500</td>\n",
              "      <td>3</td>\n",
              "      <td>1</td>\n",
              "      <td>2</td>\n",
              "      <td>0</td>\n",
              "      <td>0.0</td>\n",
              "    </tr>\n",
              "    <tr>\n",
              "      <th>1</th>\n",
              "      <td>1.0</td>\n",
              "      <td>38.0</td>\n",
              "      <td>71.2833</td>\n",
              "      <td>1</td>\n",
              "      <td>1</td>\n",
              "      <td>2</td>\n",
              "      <td>0</td>\n",
              "      <td>8.0</td>\n",
              "    </tr>\n",
              "    <tr>\n",
              "      <th>2</th>\n",
              "      <td>1.0</td>\n",
              "      <td>26.0</td>\n",
              "      <td>7.9250</td>\n",
              "      <td>3</td>\n",
              "      <td>0</td>\n",
              "      <td>1</td>\n",
              "      <td>1</td>\n",
              "      <td>2.0</td>\n",
              "    </tr>\n",
              "    <tr>\n",
              "      <th>3</th>\n",
              "      <td>1.0</td>\n",
              "      <td>35.0</td>\n",
              "      <td>53.1000</td>\n",
              "      <td>1</td>\n",
              "      <td>1</td>\n",
              "      <td>2</td>\n",
              "      <td>0</td>\n",
              "      <td>8.0</td>\n",
              "    </tr>\n",
              "    <tr>\n",
              "      <th>4</th>\n",
              "      <td>0.0</td>\n",
              "      <td>35.0</td>\n",
              "      <td>8.0500</td>\n",
              "      <td>3</td>\n",
              "      <td>0</td>\n",
              "      <td>1</td>\n",
              "      <td>1</td>\n",
              "      <td>3.0</td>\n",
              "    </tr>\n",
              "  </tbody>\n",
              "</table>\n",
              "</div>"
            ],
            "text/plain": [
              "   Sex_female   Age     Fare  Pclass  SibSp  FamilySize  IsAlone  Fare_groups\n",
              "0         0.0  22.0   7.2500       3      1           2        0          0.0\n",
              "1         1.0  38.0  71.2833       1      1           2        0          8.0\n",
              "2         1.0  26.0   7.9250       3      0           1        1          2.0\n",
              "3         1.0  35.0  53.1000       1      1           2        0          8.0\n",
              "4         0.0  35.0   8.0500       3      0           1        1          3.0"
            ]
          },
          "metadata": {
            "tags": []
          },
          "execution_count": 79
        }
      ]
    },
    {
      "cell_type": "code",
      "metadata": {
        "colab": {
          "base_uri": "https://localhost:8080/",
          "height": 357
        },
        "id": "KhjxPeW3S0VQ",
        "outputId": "fa1a90d9-2490-47fd-c632-561e102e9014"
      },
      "source": [
        "X['Age_groups'] = discr.fit_transform(X[['Age']])\n",
        "\n",
        "X_train, X_test, y_train, y_test = train_test_split(\n",
        "    X, y, \n",
        "    train_size=TRAIN_RATIO, \n",
        "    random_state=RANDOM_STATE,\n",
        "    stratify=y\n",
        ")\n",
        "tree = DecisionTreeClassifier(criterion='entropy', max_depth=3, random_state=RANDOM_STATE)\n",
        "tree.fit(X_train, y_train)\n",
        "\n",
        "y_pred = tree.predict(X_test)\n",
        "\n",
        "report = classification_report(\n",
        "        y_test, y_pred\n",
        "    )\n",
        "print(report)\n",
        "X.head()"
      ],
      "execution_count": null,
      "outputs": [
        {
          "output_type": "stream",
          "text": [
            "              precision    recall  f1-score   support\n",
            "\n",
            "           0       0.80      0.90      0.85       110\n",
            "           1       0.80      0.65      0.72        69\n",
            "\n",
            "    accuracy                           0.80       179\n",
            "   macro avg       0.80      0.78      0.78       179\n",
            "weighted avg       0.80      0.80      0.80       179\n",
            "\n"
          ],
          "name": "stdout"
        },
        {
          "output_type": "execute_result",
          "data": {
            "text/html": [
              "<div>\n",
              "<style scoped>\n",
              "    .dataframe tbody tr th:only-of-type {\n",
              "        vertical-align: middle;\n",
              "    }\n",
              "\n",
              "    .dataframe tbody tr th {\n",
              "        vertical-align: top;\n",
              "    }\n",
              "\n",
              "    .dataframe thead th {\n",
              "        text-align: right;\n",
              "    }\n",
              "</style>\n",
              "<table border=\"1\" class=\"dataframe\">\n",
              "  <thead>\n",
              "    <tr style=\"text-align: right;\">\n",
              "      <th></th>\n",
              "      <th>Sex_female</th>\n",
              "      <th>Age</th>\n",
              "      <th>Fare</th>\n",
              "      <th>Pclass</th>\n",
              "      <th>SibSp</th>\n",
              "      <th>FamilySize</th>\n",
              "      <th>IsAlone</th>\n",
              "      <th>Fare_groups</th>\n",
              "      <th>Age_groups</th>\n",
              "    </tr>\n",
              "  </thead>\n",
              "  <tbody>\n",
              "    <tr>\n",
              "      <th>0</th>\n",
              "      <td>0.0</td>\n",
              "      <td>22.0</td>\n",
              "      <td>7.2500</td>\n",
              "      <td>3</td>\n",
              "      <td>1</td>\n",
              "      <td>2</td>\n",
              "      <td>0</td>\n",
              "      <td>0.0</td>\n",
              "      <td>2.0</td>\n",
              "    </tr>\n",
              "    <tr>\n",
              "      <th>1</th>\n",
              "      <td>1.0</td>\n",
              "      <td>38.0</td>\n",
              "      <td>71.2833</td>\n",
              "      <td>1</td>\n",
              "      <td>1</td>\n",
              "      <td>2</td>\n",
              "      <td>0</td>\n",
              "      <td>8.0</td>\n",
              "      <td>6.0</td>\n",
              "    </tr>\n",
              "    <tr>\n",
              "      <th>2</th>\n",
              "      <td>1.0</td>\n",
              "      <td>26.0</td>\n",
              "      <td>7.9250</td>\n",
              "      <td>3</td>\n",
              "      <td>0</td>\n",
              "      <td>1</td>\n",
              "      <td>1</td>\n",
              "      <td>2.0</td>\n",
              "      <td>3.0</td>\n",
              "    </tr>\n",
              "    <tr>\n",
              "      <th>3</th>\n",
              "      <td>1.0</td>\n",
              "      <td>35.0</td>\n",
              "      <td>53.1000</td>\n",
              "      <td>1</td>\n",
              "      <td>1</td>\n",
              "      <td>2</td>\n",
              "      <td>0</td>\n",
              "      <td>8.0</td>\n",
              "      <td>5.0</td>\n",
              "    </tr>\n",
              "    <tr>\n",
              "      <th>4</th>\n",
              "      <td>0.0</td>\n",
              "      <td>35.0</td>\n",
              "      <td>8.0500</td>\n",
              "      <td>3</td>\n",
              "      <td>0</td>\n",
              "      <td>1</td>\n",
              "      <td>1</td>\n",
              "      <td>3.0</td>\n",
              "      <td>5.0</td>\n",
              "    </tr>\n",
              "  </tbody>\n",
              "</table>\n",
              "</div>"
            ],
            "text/plain": [
              "   Sex_female   Age     Fare  ...  IsAlone  Fare_groups  Age_groups\n",
              "0         0.0  22.0   7.2500  ...        0          0.0         2.0\n",
              "1         1.0  38.0  71.2833  ...        0          8.0         6.0\n",
              "2         1.0  26.0   7.9250  ...        1          2.0         3.0\n",
              "3         1.0  35.0  53.1000  ...        0          8.0         5.0\n",
              "4         0.0  35.0   8.0500  ...        1          3.0         5.0\n",
              "\n",
              "[5 rows x 9 columns]"
            ]
          },
          "metadata": {
            "tags": []
          },
          "execution_count": 80
        }
      ]
    },
    {
      "cell_type": "markdown",
      "metadata": {
        "id": "k9VtFatpTA4O"
      },
      "source": [
        "## RandomForestClassifier"
      ]
    },
    {
      "cell_type": "code",
      "metadata": {
        "colab": {
          "base_uri": "https://localhost:8080/",
          "height": 204
        },
        "id": "vBpUaeWdUT3O",
        "outputId": "e7f7bf46-5126-4653-f560-7ca2928f649f"
      },
      "source": [
        "max_depth = [1, 2, 4, 5, 7]\n",
        "n_estimators = [1, 5, 10, 20, 40]\n",
        "\n",
        "f1_mtrx = np.ndarray((5, 5))\n",
        "for i, md in enumerate(max_depth):\n",
        "    for j, est in enumerate(n_estimators):\n",
        "        rf_clf = RandomForestClassifier(max_depth=md, n_estimators=est, random_state=RANDOM_STATE)\n",
        "        scores = cross_val_score(\n",
        "            rf_clf,     # Модель для оценки\n",
        "            X,          # Данные для обучения\n",
        "            y,          # Разметка для обучения\n",
        "            cv=5,       # Количество фолдов\n",
        "            scoring='f1_macro'  # Желаемая метрика\n",
        "        )\n",
        "        f1_mtrx[i, j] = scores.mean()\n",
        "\n",
        "f1_df = pd.DataFrame(f1_mtrx, columns=n_estimators, index=max_depth)\n",
        "f1_df "
      ],
      "execution_count": null,
      "outputs": [
        {
          "output_type": "execute_result",
          "data": {
            "text/html": [
              "<div>\n",
              "<style scoped>\n",
              "    .dataframe tbody tr th:only-of-type {\n",
              "        vertical-align: middle;\n",
              "    }\n",
              "\n",
              "    .dataframe tbody tr th {\n",
              "        vertical-align: top;\n",
              "    }\n",
              "\n",
              "    .dataframe thead th {\n",
              "        text-align: right;\n",
              "    }\n",
              "</style>\n",
              "<table border=\"1\" class=\"dataframe\">\n",
              "  <thead>\n",
              "    <tr style=\"text-align: right;\">\n",
              "      <th></th>\n",
              "      <th>1</th>\n",
              "      <th>5</th>\n",
              "      <th>10</th>\n",
              "      <th>20</th>\n",
              "      <th>40</th>\n",
              "    </tr>\n",
              "  </thead>\n",
              "  <tbody>\n",
              "    <tr>\n",
              "      <th>1</th>\n",
              "      <td>0.770358</td>\n",
              "      <td>0.709283</td>\n",
              "      <td>0.725732</td>\n",
              "      <td>0.702356</td>\n",
              "      <td>0.723089</td>\n",
              "    </tr>\n",
              "    <tr>\n",
              "      <th>2</th>\n",
              "      <td>0.778593</td>\n",
              "      <td>0.731782</td>\n",
              "      <td>0.753170</td>\n",
              "      <td>0.750449</td>\n",
              "      <td>0.753027</td>\n",
              "    </tr>\n",
              "    <tr>\n",
              "      <th>4</th>\n",
              "      <td>0.781324</td>\n",
              "      <td>0.777898</td>\n",
              "      <td>0.785945</td>\n",
              "      <td>0.789618</td>\n",
              "      <td>0.793087</td>\n",
              "    </tr>\n",
              "    <tr>\n",
              "      <th>5</th>\n",
              "      <td>0.774048</td>\n",
              "      <td>0.795342</td>\n",
              "      <td>0.806657</td>\n",
              "      <td>0.801952</td>\n",
              "      <td>0.798747</td>\n",
              "    </tr>\n",
              "    <tr>\n",
              "      <th>7</th>\n",
              "      <td>0.776697</td>\n",
              "      <td>0.804606</td>\n",
              "      <td>0.800805</td>\n",
              "      <td>0.813910</td>\n",
              "      <td>0.815392</td>\n",
              "    </tr>\n",
              "  </tbody>\n",
              "</table>\n",
              "</div>"
            ],
            "text/plain": [
              "         1         5         10        20        40\n",
              "1  0.770358  0.709283  0.725732  0.702356  0.723089\n",
              "2  0.778593  0.731782  0.753170  0.750449  0.753027\n",
              "4  0.781324  0.777898  0.785945  0.789618  0.793087\n",
              "5  0.774048  0.795342  0.806657  0.801952  0.798747\n",
              "7  0.776697  0.804606  0.800805  0.813910  0.815392"
            ]
          },
          "metadata": {
            "tags": []
          },
          "execution_count": 86
        }
      ]
    },
    {
      "cell_type": "markdown",
      "metadata": {
        "id": "OjviPBLRWKQB"
      },
      "source": [
        "Наилучшим значением метрики f1 обладает модель с параметрами: max_depth=7, n_estimators=40 (f1 = 0.815392)."
      ]
    },
    {
      "cell_type": "markdown",
      "metadata": {
        "id": "h3mJDfq3WZsv"
      },
      "source": [
        "## GridSearchCV"
      ]
    },
    {
      "cell_type": "code",
      "metadata": {
        "colab": {
          "base_uri": "https://localhost:8080/"
        },
        "id": "9K_YFzRbWtEF",
        "outputId": "2f9a457d-2691-4d8d-8ec0-cb2bf218548f"
      },
      "source": [
        "X_train, X_test, y_train, y_test = train_test_split(\n",
        "    X, y, \n",
        "    train_size=TRAIN_RATIO, \n",
        "    random_state=RANDOM_STATE,\n",
        "    stratify=y\n",
        ")\n",
        "\n",
        "pipe = Pipeline(steps=[\n",
        "    ('clf', RandomForestClassifier(random_state=RANDOM_STATE)),\n",
        "])\n",
        "\n",
        "# В названии два подчеркивания!\n",
        "parameters = {\n",
        "    'clf__max_depth': [1, 2, 4, 5, 7],\n",
        "    'clf__n_estimators': [1, 5, 10, 20, 40],\n",
        "}\n",
        "\n",
        "grid_search = GridSearchCV(\n",
        "    # пайплайн\n",
        "    estimator=pipe,                   \n",
        "    param_grid=parameters,              \n",
        "    cv=5,                               \n",
        "    scoring='f1_macro',   \n",
        ")\n",
        "\n",
        "grid_search.fit(X_train, y_train)\n",
        "\n",
        "print(grid_search.best_params_)\n",
        "print(grid_search.best_score_)"
      ],
      "execution_count": null,
      "outputs": [
        {
          "output_type": "stream",
          "text": [
            "{'clf__max_depth': 7, 'clf__n_estimators': 10}\n",
            "0.81790128026739\n"
          ],
          "name": "stdout"
        }
      ]
    },
    {
      "cell_type": "markdown",
      "metadata": {
        "id": "ymHPsKhAXfpy"
      },
      "source": [
        "## RandomizeSearchCV"
      ]
    },
    {
      "cell_type": "code",
      "metadata": {
        "colab": {
          "base_uri": "https://localhost:8080/"
        },
        "id": "03ljPI8IXe7Y",
        "outputId": "8c672da3-30c9-42d7-902a-754f880c6841"
      },
      "source": [
        "from sklearn.model_selection import RandomizedSearchCV\n",
        "\n",
        "rsc = RandomizedSearchCV(estimator=pipe,\n",
        "                         param_distributions=parameters,\n",
        "                         cv=5,\n",
        "                         scoring='f1_macro',\n",
        "                         random_state=RANDOM_STATE\n",
        "                         )\n",
        "\n",
        "rsc.fit(X_train, y_train)\n",
        "\n",
        "print(rsc.best_params_)\n",
        "print(rsc.best_score_)"
      ],
      "execution_count": null,
      "outputs": [
        {
          "output_type": "stream",
          "text": [
            "{'clf__n_estimators': 10, 'clf__max_depth': 7}\n",
            "0.81790128026739\n"
          ],
          "name": "stdout"
        }
      ]
    },
    {
      "cell_type": "markdown",
      "metadata": {
        "id": "VRxUm5SZas3O"
      },
      "source": [
        "## Сравнение дерева и леса"
      ]
    },
    {
      "cell_type": "code",
      "metadata": {
        "colab": {
          "base_uri": "https://localhost:8080/"
        },
        "id": "dsn0YJDXa3sR",
        "outputId": "4333bd55-6047-4bb1-9c14-a7b93ac1a5dc"
      },
      "source": [
        "X_train, X_test, y_train, y_test = train_test_split(\n",
        "    X, y, \n",
        "    train_size=TRAIN_RATIO, \n",
        "    random_state=RANDOM_STATE,\n",
        "    stratify=y\n",
        ")\n",
        "tree = DecisionTreeClassifier(criterion='entropy', max_depth=3, random_state=RANDOM_STATE)\n",
        "tree.fit(X_train, y_train)\n",
        "\n",
        "y_pred = tree.predict(X_test)\n",
        "\n",
        "report = classification_report(\n",
        "        y_test, y_pred\n",
        "    )\n",
        "print(report)"
      ],
      "execution_count": null,
      "outputs": [
        {
          "output_type": "stream",
          "text": [
            "              precision    recall  f1-score   support\n",
            "\n",
            "           0       0.80      0.90      0.85       110\n",
            "           1       0.80      0.65      0.72        69\n",
            "\n",
            "    accuracy                           0.80       179\n",
            "   macro avg       0.80      0.78      0.78       179\n",
            "weighted avg       0.80      0.80      0.80       179\n",
            "\n"
          ],
          "name": "stdout"
        }
      ]
    },
    {
      "cell_type": "code",
      "metadata": {
        "colab": {
          "base_uri": "https://localhost:8080/"
        },
        "id": "jj2Wi_8VbLkN",
        "outputId": "daa8fadf-7527-422e-f9f0-c3e897cda865"
      },
      "source": [
        "X_train, X_test, y_train, y_test = train_test_split(\n",
        "    X, y, \n",
        "    train_size=TRAIN_RATIO, \n",
        "    random_state=RANDOM_STATE,\n",
        "    stratify=y\n",
        ")\n",
        "rf_clf = RandomForestClassifier(max_depth=7, n_estimators=40, random_state=RANDOM_STATE)\n",
        "rf_clf.fit(X_train, y_train)\n",
        "\n",
        "y_pred = rf_clf.predict(X_test)\n",
        "\n",
        "report = classification_report(\n",
        "        y_test, y_pred\n",
        "    )\n",
        "print(report)"
      ],
      "execution_count": null,
      "outputs": [
        {
          "output_type": "stream",
          "text": [
            "              precision    recall  f1-score   support\n",
            "\n",
            "           0       0.82      0.88      0.85       110\n",
            "           1       0.78      0.68      0.73        69\n",
            "\n",
            "    accuracy                           0.80       179\n",
            "   macro avg       0.80      0.78      0.79       179\n",
            "weighted avg       0.80      0.80      0.80       179\n",
            "\n"
          ],
          "name": "stdout"
        }
      ]
    },
    {
      "cell_type": "markdown",
      "metadata": {
        "id": "cyAesDgM0KIb"
      },
      "source": [
        "При сравнении метрики практически одинаковые."
      ]
    },
    {
      "cell_type": "markdown",
      "metadata": {
        "id": "qcwC_oXve7SI"
      },
      "source": [
        "## Recursive Feature Elimination"
      ]
    },
    {
      "cell_type": "code",
      "metadata": {
        "colab": {
          "base_uri": "https://localhost:8080/",
          "height": 464
        },
        "id": "nr7UCLIO-JHJ",
        "outputId": "1e0abd98-8980-414b-aa03-ecab0d9ba7a6"
      },
      "source": [
        "# Построим ROC-кривые для лучшей модели случайного леса\n",
        "from sklearn.metrics import roc_curve\n",
        "\n",
        "rf_clf = RandomForestClassifier(max_depth=7, n_estimators=40, random_state=RANDOM_STATE)\n",
        "rf_clf.fit(X_train, y_train)\n",
        "\n",
        "matplotlib.rcParams['figure.figsize'] = (15, 10)\n",
        "\n",
        "oh_enc = OneHotEncoder(sparse=False)\n",
        "y_true = oh_enc.fit_transform(np.array(y_test).reshape(-1, 1))\n",
        "y_pred = rf_clf.predict_proba(X_test)\n",
        "\n",
        "for i in np.unique(y):\n",
        "    plt.subplot(2, 2, i+1)\n",
        "    fpr, tpr, thresholds = roc_curve(y_true[:, i], y_pred[:, i])\n",
        "    plt.plot(fpr, tpr)\n",
        "    plt.plot([0, 1], [0, 1], color='navy', lw=2, linestyle='--')\n",
        "    plt.title(f'ROC curve class {i}')\n",
        "\n",
        "report = classification_report(\n",
        "        y_test, rf_clf.predict(X_test)\n",
        "    )\n",
        "print(report)"
      ],
      "execution_count": null,
      "outputs": [
        {
          "output_type": "stream",
          "text": [
            "              precision    recall  f1-score   support\n",
            "\n",
            "           0       0.82      0.88      0.85       110\n",
            "           1       0.78      0.68      0.73        69\n",
            "\n",
            "    accuracy                           0.80       179\n",
            "   macro avg       0.80      0.78      0.79       179\n",
            "weighted avg       0.80      0.80      0.80       179\n",
            "\n"
          ],
          "name": "stdout"
        },
        {
          "output_type": "display_data",
          "data": {
            "image/png": "[encoded data removed]",
            "text/plain": [
              "<Figure size 1080x720 with 2 Axes>"
            ]
          },
          "metadata": {
            "tags": [],
            "needs_background": "light"
          }
        }
      ]
    },
    {
      "cell_type": "code",
      "metadata": {
        "colab": {
          "base_uri": "https://localhost:8080/"
        },
        "id": "J4Ivcf0XfIBH",
        "outputId": "225684dd-c12d-4261-cf8e-2ded914cdcf4"
      },
      "source": [
        "from sklearn.feature_selection import RFE\n",
        "\n",
        "rf_clf = RandomForestClassifier(max_depth=7, n_estimators=40, random_state=RANDOM_STATE)\n",
        "rfe = RFE(estimator=rf_clf, n_features_to_select=5)\n",
        "pipe = Pipeline(steps=[('s',rfe),('m',rf_clf)])\n",
        "\n",
        "pipe.fit(X_train, y_train)\n",
        "print(pipe.named_steps['s'].support_)\n",
        "print(pipe.named_steps['s'].ranking_)\n",
        "X.columns"
      ],
      "execution_count": null,
      "outputs": [
        {
          "output_type": "stream",
          "text": [
            "[ True  True  True  True False  True False False False]\n",
            "[1 1 1 1 4 1 5 2 3]\n"
          ],
          "name": "stdout"
        },
        {
          "output_type": "execute_result",
          "data": {
            "text/plain": [
              "Index(['Sex_female', 'Age', 'Fare', 'Pclass', 'SibSp', 'FamilySize', 'IsAlone',\n",
              "       'Fare_groups', 'Age_groups'],\n",
              "      dtype='object')"
            ]
          },
          "metadata": {
            "tags": []
          },
          "execution_count": 100
        }
      ]
    },
    {
      "cell_type": "markdown",
      "metadata": {
        "id": "iz0bA90H0vNB"
      },
      "source": [
        "Пятью наиболее важными признаками являются Sex_female, Age, Fare, Pclass, FamilySize."
      ]
    },
    {
      "cell_type": "code",
      "metadata": {
        "colab": {
          "base_uri": "https://localhost:8080/",
          "height": 464
        },
        "id": "iQyYOXYYFeXA",
        "outputId": "d46b1a44-ff1d-4957-9af7-61917290e754"
      },
      "source": [
        "# Построим ROC-кривые для топ-5 признаков\n",
        "y_pred = pipe.predict_proba(X_test)\n",
        "\n",
        "for i in np.unique(y):\n",
        "    plt.subplot(2, 2, i+1)\n",
        "    fpr, tpr, thresholds = roc_curve(y_true[:, i], y_pred[:, i])\n",
        "    plt.plot(fpr, tpr)\n",
        "    plt.plot([0, 1], [0, 1], color='navy', lw=2, linestyle='--')\n",
        "    plt.title(f'ROC curve class {i}')\n",
        "\n",
        "report = classification_report(\n",
        "        y_test, pipe.predict(X_test)\n",
        "    )\n",
        "print(report)"
      ],
      "execution_count": null,
      "outputs": [
        {
          "output_type": "stream",
          "text": [
            "              precision    recall  f1-score   support\n",
            "\n",
            "           0       0.80      0.88      0.84       110\n",
            "           1       0.77      0.64      0.70        69\n",
            "\n",
            "    accuracy                           0.79       179\n",
            "   macro avg       0.78      0.76      0.77       179\n",
            "weighted avg       0.79      0.79      0.78       179\n",
            "\n"
          ],
          "name": "stdout"
        },
        {
          "output_type": "display_data",
          "data": {
            "image/png": "[encoded data removed]",
            "text/plain": [
              "<Figure size 1080x720 with 2 Axes>"
            ]
          },
          "metadata": {
            "tags": [],
            "needs_background": "light"
          }
        }
      ]
    },
    {
      "cell_type": "markdown",
      "metadata": {
        "id": "WEvvSz_S1uil"
      },
      "source": [
        "Метрики стали немного хуже."
      ]
    },
    {
      "cell_type": "code",
      "metadata": {
        "colab": {
          "base_uri": "https://localhost:8080/"
        },
        "id": "HB9PtMgM9kAm",
        "outputId": "99a3ab2c-c9a8-4be7-db30-70e28e7b7514"
      },
      "source": [
        "rfe = RFE(estimator=rf_clf, n_features_to_select=7)\n",
        "pipe = Pipeline(steps=[('s',rfe),('m',rf_clf)])\n",
        "\n",
        "pipe.fit(X_train, y_train)\n",
        "print(pipe.named_steps['s'].support_)\n",
        "print(pipe.named_steps['s'].ranking_)\n",
        "X.columns"
      ],
      "execution_count": null,
      "outputs": [
        {
          "output_type": "stream",
          "text": [
            "[ True  True  True  True False  True False  True  True]\n",
            "[1 1 1 1 2 1 3 1 1]\n"
          ],
          "name": "stdout"
        },
        {
          "output_type": "execute_result",
          "data": {
            "text/plain": [
              "Index(['Sex_female', 'Age', 'Fare', 'Pclass', 'SibSp', 'FamilySize', 'IsAlone',\n",
              "       'Fare_groups', 'Age_groups'],\n",
              "      dtype='object')"
            ]
          },
          "metadata": {
            "tags": []
          },
          "execution_count": 103
        }
      ]
    },
    {
      "cell_type": "markdown",
      "metadata": {
        "id": "doyBLYdv1hM6"
      },
      "source": [
        "В топ-7 также входят Fare_groups, Age_groups."
      ]
    },
    {
      "cell_type": "code",
      "metadata": {
        "colab": {
          "base_uri": "https://localhost:8080/",
          "height": 464
        },
        "id": "azvNvMN8F__1",
        "outputId": "4f320d90-ed1e-4834-9c6e-cd9fda6cf957"
      },
      "source": [
        "y_pred = pipe.predict_proba(X_test)\n",
        "\n",
        "for i in np.unique(y):\n",
        "    plt.subplot(2, 2, i+1)\n",
        "    fpr, tpr, thresholds = roc_curve(y_true[:, i], y_pred[:, i])\n",
        "    plt.plot(fpr, tpr)\n",
        "    plt.plot([0, 1], [0, 1], color='navy', lw=2, linestyle='--')\n",
        "    plt.title(f'ROC curve class {i}')\n",
        "\n",
        "report = classification_report(\n",
        "        y_test, pipe.predict(X_test)\n",
        "    )\n",
        "print(report)"
      ],
      "execution_count": null,
      "outputs": [
        {
          "output_type": "stream",
          "text": [
            "              precision    recall  f1-score   support\n",
            "\n",
            "           0       0.86      0.88      0.87       110\n",
            "           1       0.80      0.77      0.79        69\n",
            "\n",
            "    accuracy                           0.84       179\n",
            "   macro avg       0.83      0.82      0.83       179\n",
            "weighted avg       0.84      0.84      0.84       179\n",
            "\n"
          ],
          "name": "stdout"
        },
        {
          "output_type": "display_data",
          "data": {
            "image/png": "[encoded data removed]",
            "text/plain": [
              "<Figure size 1080x720 with 2 Axes>"
            ]
          },
          "metadata": {
            "tags": [],
            "needs_background": "light"
          }
        }
      ]
    },
    {
      "cell_type": "markdown",
      "metadata": {
        "id": "yuFBMDnh2BWQ"
      },
      "source": [
        "Наилучшая точность при разделении данных на обучение/тест обеспечивается топ-7 признаками."
      ]
    },
    {
      "cell_type": "code",
      "metadata": {
        "colab": {
          "base_uri": "https://localhost:8080/"
        },
        "id": "xRxlJuCm3wpI",
        "outputId": "fc81dcef-fc8e-472c-ba09-c86250b28fa8"
      },
      "source": [
        "scores = cross_val_score(\n",
        "            pipe,     # Модель для оценки\n",
        "            X,          # Данные для обучения\n",
        "            y,          # Разметка для обучения\n",
        "            cv=10,       # Количество фолдов\n",
        "            scoring='accuracy'  # Желаемая метрика\n",
        "        )\n",
        "print(f'Cross-validation accuracy = {scores.mean()}')"
      ],
      "execution_count": null,
      "outputs": [
        {
          "output_type": "stream",
          "text": [
            "Cross-validation accuracy = 0.8417852684144819\n"
          ],
          "name": "stdout"
        }
      ]
    },
    {
      "cell_type": "markdown",
      "metadata": {
        "id": "fGcy3id75E79"
      },
      "source": [
        "При использовании кросс-валидации точность оказалась примерно такой же как при разделении данных (accuracy=0.84)."
      ]
    },
    {
      "cell_type": "markdown",
      "metadata": {
        "id": "APk6mh5eMbBe"
      },
      "source": [
        "# Вопросы"
      ]
    },
    {
      "cell_type": "markdown",
      "metadata": {
        "id": "vv8T3Z8QMcFb"
      },
      "source": [
        "- Какой метод оценки модели лучше использовать в данной работе? Разделение на обучение/тест или кросс-валидация? Можно/нужно ли применять их вместе?\n",
        "- За что отвечают параметры `max_depth` и `n_estimators` в модели случайных лесов? Как они влияют на работу модели?\n",
        "- В чем отличие GridSearch от RandomSearch?\n",
        "- Как влияет стандартизация признаков на работу модели леса?\n",
        "- Что такое \"важность признака\"? Есть ли аналоги показателя в моделях линейной и логистической регрессии?\n"
      ]
    },
    {
      "cell_type": "markdown",
      "metadata": {
        "id": "Oy_sQRkO5ycM"
      },
      "source": [
        "# Ответы на вопросы"
      ]
    },
    {
      "cell_type": "markdown",
      "metadata": {
        "id": "YrS-iM0h51jB"
      },
      "source": [
        "1. Каких-то больших различий между разделением на обучение/тест и кросс-валидацией обнаружено не было.\n",
        "\n",
        "2. max_depth - максимальная глубина решающего дерева, n_estimators - количество деревьев в лесу.\n",
        "\n",
        "3. В отличие от GridSearchCV, не все значения параметров проверяются, а скорее фиксированное количество настроек параметров выбирается из указанных распределений. \n",
        "\n",
        "4. Влияние стандартизации на работу модели не было выявлено.\n",
        "\n",
        "5. Важность признаков заключается в том, каким образом признаки влияли на построение деревьев и насколько каждый из них важен по отношению к другим. Аналогами в линейной и логистической регрессиях являются веса модели."
      ]
    }
  ]
}