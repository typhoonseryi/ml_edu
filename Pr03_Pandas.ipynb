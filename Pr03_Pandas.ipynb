{
  "nbformat": 4,
  "nbformat_minor": 0,
  "metadata": {
    "kernelspec": {
      "display_name": "Python 3",
      "language": "python",
      "name": "python3"
    },
    "language_info": {
      "codemirror_mode": {
        "name": "ipython",
        "version": 3
      },
      "file_extension": ".py",
      "mimetype": "text/x-python",
      "name": "python",
      "nbconvert_exporter": "python",
      "pygments_lexer": "ipython3",
      "version": "3.8.3"
    },
    "colab": {
      "name": "Pr03_Pandas.ipynb",
      "provenance": [],
      "collapsed_sections": [],
      "toc_visible": true
    }
  },
  "cells": [
    {
      "cell_type": "markdown",
      "metadata": {
        "id": "_hmXpj3l1WIL"
      },
      "source": [
        "# Pandas"
      ]
    },
    {
      "cell_type": "markdown",
      "metadata": {
        "id": "ZvFbiSZm1bP7"
      },
      "source": [
        "Pandas - это библиотека для работы с табличными данными.\n",
        "\n",
        "Как всегда, [официальный сайт](https://pandas.pydata.org/) предоставляет самую актуальную и полезную информацию. Доки по функциям и классам [здесь](https://pandas.pydata.org/pandas-docs/stable/reference/index.html)."
      ]
    },
    {
      "cell_type": "markdown",
      "metadata": {
        "id": "1Dy-A1LZ2JUs"
      },
      "source": [
        "Установка pandas как обычно не составляет сложностей:"
      ]
    },
    {
      "cell_type": "code",
      "metadata": {
        "id": "7VCWliX_2MeI",
        "outputId": "0e6fe13a-0e88-40ec-8fe4-dbe6580c4cef",
        "colab": {
          "base_uri": "https://localhost:8080/",
          "height": 121
        }
      },
      "source": [
        "!pip install pandas==1.0.0"
      ],
      "execution_count": 1,
      "outputs": [
        {
          "output_type": "stream",
          "text": [
            "Requirement already satisfied: pandas==1.0.0 in /usr/local/lib/python3.6/dist-packages (1.0.0)\n",
            "Requirement already satisfied: python-dateutil>=2.6.1 in /usr/local/lib/python3.6/dist-packages (from pandas==1.0.0) (2.8.1)\n",
            "Requirement already satisfied: numpy>=1.13.3 in /usr/local/lib/python3.6/dist-packages (from pandas==1.0.0) (1.18.5)\n",
            "Requirement already satisfied: pytz>=2017.2 in /usr/local/lib/python3.6/dist-packages (from pandas==1.0.0) (2018.9)\n",
            "Requirement already satisfied: six>=1.5 in /usr/local/lib/python3.6/dist-packages (from python-dateutil>=2.6.1->pandas==1.0.0) (1.15.0)\n"
          ],
          "name": "stdout"
        }
      ]
    },
    {
      "cell_type": "markdown",
      "metadata": {
        "id": "TlwBz_g72OMg"
      },
      "source": [
        "Импорт библиотеки с устоявшимся сокращением:"
      ]
    },
    {
      "cell_type": "code",
      "metadata": {
        "id": "JGQnosLe2TiZ"
      },
      "source": [
        "import pandas as pd"
      ],
      "execution_count": 2,
      "outputs": []
    },
    {
      "cell_type": "markdown",
      "metadata": {
        "id": "yHJyRJ5M64Mr"
      },
      "source": [
        ""
      ]
    },
    {
      "cell_type": "markdown",
      "metadata": {
        "id": "lD9rbk7k2auF"
      },
      "source": [
        "# Создание объекта таблицы"
      ]
    },
    {
      "cell_type": "markdown",
      "metadata": {
        "id": "M6V26pIT2if3"
      },
      "source": [
        "Начнем с простого создания объекта основного класса в pandas - `DataFrame`. Фреймы в pandas представляют собой двумерные массивы (матрицы) данных. Для применения в машинном обучении визуально можно представить данные следующим образом:\n",
        "\n",
        "$$\n",
        "X = \n",
        "\\begin{bmatrix}\n",
        "x^{(1)}_1 & \\dots & x^{(1)}_{m-1} & x^{(1)}_m \\\\\n",
        "x^{(2)}_1 & \\dots & x^{(2)}_{m-1} & x^{(2)}_m \\\\\n",
        "\\vdots & \\ddots &  \\vdots & \\vdots  \\\\\n",
        "x^{(n)}_1 & \\dots & x^{(n)}_{m-1} & x^{(n)}_m \\\\\n",
        "\\end{bmatrix}\n",
        "$$\n",
        "\n",
        "где $n$ - количество записей (сэмплов/рядов) в данных, $m$ - количество признаков (предикторов/фич) в данных.\n",
        "\n",
        "> **Признаки** в данных - это те данные, на основе которых производится анализ данных, обучение модели и предсказание. В реальной задаче признаками могут быть \"цена\", \"пол\", \"группа крови\", \"текст в заявке\" и т.д. [Колонки в таблице]\n",
        "\n",
        "> **Записи** в данных - сущности, каждая из которых имеет свой набор значений признаков. В базе данных банка это могут быть отдельные транзакции. Все транзакции имеют одинаковые признаки, но значения этих признаков у каждой записи свои. [Строки в таблице]"
      ]
    },
    {
      "cell_type": "markdown",
      "metadata": {
        "id": "YGZ0Le_m6866"
      },
      "source": [
        "Создание `DataFrame` возможно разными способами, для начала попробуем создать фрейм из двумерного массива:"
      ]
    },
    {
      "cell_type": "code",
      "metadata": {
        "id": "6ffPZfw67l5u",
        "outputId": "9e91b18a-efff-407d-85c0-2777e442289f",
        "colab": {
          "base_uri": "https://localhost:8080/",
          "height": 101
        }
      },
      "source": [
        "import numpy as np\n",
        "\n",
        "arr = np.random.randint(0, 10, size=(5, 3))\n",
        "print(arr)"
      ],
      "execution_count": 3,
      "outputs": [
        {
          "output_type": "stream",
          "text": [
            "[[0 6 2]\n",
            " [6 0 1]\n",
            " [0 5 4]\n",
            " [1 1 2]\n",
            " [9 9 6]]\n"
          ],
          "name": "stdout"
        }
      ]
    },
    {
      "cell_type": "code",
      "metadata": {
        "id": "AHGZmnLI7x6R",
        "outputId": "d8acef0b-3ba1-4822-be3b-2315e8a81197",
        "colab": {
          "base_uri": "https://localhost:8080/",
          "height": 195
        }
      },
      "source": [
        "# Создание фрейма - просто вызвать конструктор\n",
        "df = pd.DataFrame(data=arr)\n",
        "# Фреймы удобнее отображать с помощью встроенных средств Jupyter\n",
        "df"
      ],
      "execution_count": 4,
      "outputs": [
        {
          "output_type": "execute_result",
          "data": {
            "text/html": [
              "<div>\n",
              "<style scoped>\n",
              "    .dataframe tbody tr th:only-of-type {\n",
              "        vertical-align: middle;\n",
              "    }\n",
              "\n",
              "    .dataframe tbody tr th {\n",
              "        vertical-align: top;\n",
              "    }\n",
              "\n",
              "    .dataframe thead th {\n",
              "        text-align: right;\n",
              "    }\n",
              "</style>\n",
              "<table border=\"1\" class=\"dataframe\">\n",
              "  <thead>\n",
              "    <tr style=\"text-align: right;\">\n",
              "      <th></th>\n",
              "      <th>0</th>\n",
              "      <th>1</th>\n",
              "      <th>2</th>\n",
              "    </tr>\n",
              "  </thead>\n",
              "  <tbody>\n",
              "    <tr>\n",
              "      <th>0</th>\n",
              "      <td>0</td>\n",
              "      <td>6</td>\n",
              "      <td>2</td>\n",
              "    </tr>\n",
              "    <tr>\n",
              "      <th>1</th>\n",
              "      <td>6</td>\n",
              "      <td>0</td>\n",
              "      <td>1</td>\n",
              "    </tr>\n",
              "    <tr>\n",
              "      <th>2</th>\n",
              "      <td>0</td>\n",
              "      <td>5</td>\n",
              "      <td>4</td>\n",
              "    </tr>\n",
              "    <tr>\n",
              "      <th>3</th>\n",
              "      <td>1</td>\n",
              "      <td>1</td>\n",
              "      <td>2</td>\n",
              "    </tr>\n",
              "    <tr>\n",
              "      <th>4</th>\n",
              "      <td>9</td>\n",
              "      <td>9</td>\n",
              "      <td>6</td>\n",
              "    </tr>\n",
              "  </tbody>\n",
              "</table>\n",
              "</div>"
            ],
            "text/plain": [
              "   0  1  2\n",
              "0  0  6  2\n",
              "1  6  0  1\n",
              "2  0  5  4\n",
              "3  1  1  2\n",
              "4  9  9  6"
            ]
          },
          "metadata": {
            "tags": []
          },
          "execution_count": 4
        }
      ]
    },
    {
      "cell_type": "markdown",
      "metadata": {
        "id": "GDmWQFBI9TmN"
      },
      "source": [
        "В представленном фрейме важно отметить две особенности:\n",
        "- Колонки (признаки) имеют имена, но так как мы их (имена) не задали, то они создались автоматически;\n",
        "- Каждая строка (запись) имеет **уникальный** индекс, тоже создались сами, так как мы не передавали своих индексов.\n",
        "\n",
        "Для задания имен колонок используется аргумент в конструкторе `columns`, в который передаеся список имен по количеству признаков. Для задания индексов аргумент `index`, в который передается список индексов по количеству записей в массиве."
      ]
    },
    {
      "cell_type": "markdown",
      "metadata": {
        "id": "kcJdh-ES_bsy"
      },
      "source": [
        "## Задание\n",
        "\n",
        "Создайте фрейм с именами колонок `'col_1', 'col_2', 'col_3'` и индексами по алфавиту (`'A', 'B', 'C', ...` или `'A', 'Б', 'В', ...`)."
      ]
    },
    {
      "cell_type": "code",
      "metadata": {
        "id": "fes-4j4U_1ts",
        "outputId": "e914444d-05e8-4f5f-ff0e-b73062ec03cc",
        "colab": {
          "base_uri": "https://localhost:8080/",
          "height": 195
        }
      },
      "source": [
        "# TODO\n",
        "arr = np.random.randint(0, 10, size=(5, 3))\n",
        "df = pd.DataFrame(data=arr, columns=['col_1', 'col_2', 'col_3'], index=['A', 'B', 'C', 'D', 'E'])\n",
        "df"
      ],
      "execution_count": 7,
      "outputs": [
        {
          "output_type": "execute_result",
          "data": {
            "text/html": [
              "<div>\n",
              "<style scoped>\n",
              "    .dataframe tbody tr th:only-of-type {\n",
              "        vertical-align: middle;\n",
              "    }\n",
              "\n",
              "    .dataframe tbody tr th {\n",
              "        vertical-align: top;\n",
              "    }\n",
              "\n",
              "    .dataframe thead th {\n",
              "        text-align: right;\n",
              "    }\n",
              "</style>\n",
              "<table border=\"1\" class=\"dataframe\">\n",
              "  <thead>\n",
              "    <tr style=\"text-align: right;\">\n",
              "      <th></th>\n",
              "      <th>col_1</th>\n",
              "      <th>col_2</th>\n",
              "      <th>col_3</th>\n",
              "    </tr>\n",
              "  </thead>\n",
              "  <tbody>\n",
              "    <tr>\n",
              "      <th>A</th>\n",
              "      <td>2</td>\n",
              "      <td>2</td>\n",
              "      <td>2</td>\n",
              "    </tr>\n",
              "    <tr>\n",
              "      <th>B</th>\n",
              "      <td>0</td>\n",
              "      <td>4</td>\n",
              "      <td>3</td>\n",
              "    </tr>\n",
              "    <tr>\n",
              "      <th>C</th>\n",
              "      <td>8</td>\n",
              "      <td>0</td>\n",
              "      <td>0</td>\n",
              "    </tr>\n",
              "    <tr>\n",
              "      <th>D</th>\n",
              "      <td>3</td>\n",
              "      <td>7</td>\n",
              "      <td>2</td>\n",
              "    </tr>\n",
              "    <tr>\n",
              "      <th>E</th>\n",
              "      <td>5</td>\n",
              "      <td>9</td>\n",
              "      <td>9</td>\n",
              "    </tr>\n",
              "  </tbody>\n",
              "</table>\n",
              "</div>"
            ],
            "text/plain": [
              "   col_1  col_2  col_3\n",
              "A      2      2      2\n",
              "B      0      4      3\n",
              "C      8      0      0\n",
              "D      3      7      2\n",
              "E      5      9      9"
            ]
          },
          "metadata": {
            "tags": []
          },
          "execution_count": 7
        }
      ]
    },
    {
      "cell_type": "markdown",
      "metadata": {
        "id": "kdd9oZeYBd3P"
      },
      "source": [
        "# Создание фрейма из словарей"
      ]
    },
    {
      "cell_type": "markdown",
      "metadata": {
        "id": "E1TqHsVxBhKy"
      },
      "source": [
        "Другим способом создания фрейма является конструктор на основе словаря с данными:"
      ]
    },
    {
      "cell_type": "code",
      "metadata": {
        "id": "ifWrFrLUCJ5r",
        "outputId": "06e0fe34-fbe4-4224-9787-ec8ac4c9c2f9",
        "colab": {
          "base_uri": "https://localhost:8080/",
          "height": 166
        }
      },
      "source": [
        "# Создается словарь, в котором ключи будут названиями колонок,\n",
        "#   а значения - данные по этим колонкам\n",
        "data = {\n",
        "    'test_1_mark': [4.6, 3.8, 5.0, 4.5],\n",
        "    'test_2_mark': [5.0, 3.9, 4.7, 4.5]\n",
        "}\n",
        "\n",
        "pd.DataFrame(data)"
      ],
      "execution_count": 8,
      "outputs": [
        {
          "output_type": "execute_result",
          "data": {
            "text/html": [
              "<div>\n",
              "<style scoped>\n",
              "    .dataframe tbody tr th:only-of-type {\n",
              "        vertical-align: middle;\n",
              "    }\n",
              "\n",
              "    .dataframe tbody tr th {\n",
              "        vertical-align: top;\n",
              "    }\n",
              "\n",
              "    .dataframe thead th {\n",
              "        text-align: right;\n",
              "    }\n",
              "</style>\n",
              "<table border=\"1\" class=\"dataframe\">\n",
              "  <thead>\n",
              "    <tr style=\"text-align: right;\">\n",
              "      <th></th>\n",
              "      <th>test_1_mark</th>\n",
              "      <th>test_2_mark</th>\n",
              "    </tr>\n",
              "  </thead>\n",
              "  <tbody>\n",
              "    <tr>\n",
              "      <th>0</th>\n",
              "      <td>4.6</td>\n",
              "      <td>5.0</td>\n",
              "    </tr>\n",
              "    <tr>\n",
              "      <th>1</th>\n",
              "      <td>3.8</td>\n",
              "      <td>3.9</td>\n",
              "    </tr>\n",
              "    <tr>\n",
              "      <th>2</th>\n",
              "      <td>5.0</td>\n",
              "      <td>4.7</td>\n",
              "    </tr>\n",
              "    <tr>\n",
              "      <th>3</th>\n",
              "      <td>4.5</td>\n",
              "      <td>4.5</td>\n",
              "    </tr>\n",
              "  </tbody>\n",
              "</table>\n",
              "</div>"
            ],
            "text/plain": [
              "   test_1_mark  test_2_mark\n",
              "0          4.6          5.0\n",
              "1          3.8          3.9\n",
              "2          5.0          4.7\n",
              "3          4.5          4.5"
            ]
          },
          "metadata": {
            "tags": []
          },
          "execution_count": 8
        }
      ]
    },
    {
      "cell_type": "markdown",
      "metadata": {
        "id": "qr6mFv5xDmZc"
      },
      "source": [
        "Альтернативой использования словарей является создание массива словарей:"
      ]
    },
    {
      "cell_type": "code",
      "metadata": {
        "id": "C037OQaSD8yY",
        "outputId": "42910148-d8d2-4080-db08-4f36ead5f7cd",
        "colab": {
          "base_uri": "https://localhost:8080/",
          "height": 136
        }
      },
      "source": [
        "# Создается список записей, каждая запись представлена словарем\n",
        "# В словаре ключи - названия колонок\n",
        "# При создании фрейма pandas просмотри все возможные ключи словарей в списке\n",
        "#   и создаст колонок по их названиям\n",
        "data = [\n",
        "    {\n",
        "        'test_1_mark': 4.6,\n",
        "        'test_2_mark': 5.0\n",
        "    },\n",
        "    {\n",
        "        'test_1_mark': 3.8,\n",
        "        'test_2_mark': 3.9\n",
        "    },\n",
        "    {\n",
        "        'test_1_mark': 5.0\n",
        "    },\n",
        "]\n",
        "\n",
        "pd.DataFrame(data)"
      ],
      "execution_count": 9,
      "outputs": [
        {
          "output_type": "execute_result",
          "data": {
            "text/html": [
              "<div>\n",
              "<style scoped>\n",
              "    .dataframe tbody tr th:only-of-type {\n",
              "        vertical-align: middle;\n",
              "    }\n",
              "\n",
              "    .dataframe tbody tr th {\n",
              "        vertical-align: top;\n",
              "    }\n",
              "\n",
              "    .dataframe thead th {\n",
              "        text-align: right;\n",
              "    }\n",
              "</style>\n",
              "<table border=\"1\" class=\"dataframe\">\n",
              "  <thead>\n",
              "    <tr style=\"text-align: right;\">\n",
              "      <th></th>\n",
              "      <th>test_1_mark</th>\n",
              "      <th>test_2_mark</th>\n",
              "    </tr>\n",
              "  </thead>\n",
              "  <tbody>\n",
              "    <tr>\n",
              "      <th>0</th>\n",
              "      <td>4.6</td>\n",
              "      <td>5.0</td>\n",
              "    </tr>\n",
              "    <tr>\n",
              "      <th>1</th>\n",
              "      <td>3.8</td>\n",
              "      <td>3.9</td>\n",
              "    </tr>\n",
              "    <tr>\n",
              "      <th>2</th>\n",
              "      <td>5.0</td>\n",
              "      <td>NaN</td>\n",
              "    </tr>\n",
              "  </tbody>\n",
              "</table>\n",
              "</div>"
            ],
            "text/plain": [
              "   test_1_mark  test_2_mark\n",
              "0          4.6          5.0\n",
              "1          3.8          3.9\n",
              "2          5.0          NaN"
            ]
          },
          "metadata": {
            "tags": []
          },
          "execution_count": 9
        }
      ]
    },
    {
      "cell_type": "markdown",
      "metadata": {
        "id": "Xz-spCzKEl4m"
      },
      "source": [
        "Обратите внимание, в одной записи отсутсвовало значение для колонки и во фрейме такое значение обозначено как `NaN`.\n",
        "\n",
        "> **NaN** (Not a Number) - представление пропусков во фрейме.\n",
        "\n",
        "Пропуски в данных являение достаточно распространенное. Например, если данные собираются путем анкетирования, то опциональный вопрос может не иметь ответа, поэтому такие записи пропускаются. При разработке моделей машинного обучения с пропусками ведется отдельная работа, но для сырых данных - это нормальное явление."
      ]
    },
    {
      "cell_type": "markdown",
      "metadata": {
        "id": "N8tbu882Hmqj"
      },
      "source": [
        "# Типы данных"
      ]
    },
    {
      "cell_type": "markdown",
      "metadata": {
        "id": "JhS1UIMCHoIE"
      },
      "source": [
        "Как и в numpy, pandas поддерживает различные типы данных. Для примера создадим фрейм, в котором колонки имеют разные типы данных:"
      ]
    },
    {
      "cell_type": "code",
      "metadata": {
        "id": "Gals1YglIwGr",
        "outputId": "0b5b906d-43e3-4764-8023-d37d4eada711",
        "colab": {
          "base_uri": "https://localhost:8080/",
          "height": 166
        }
      },
      "source": [
        "df = pd.DataFrame({'A': 1.,\n",
        "                   'B': pd.Timestamp('20130102'),\n",
        "                   'C': np.array([2.] * 4, dtype='float32'),\n",
        "                   'D': np.array([3] * 4, dtype='int32'),\n",
        "                   'E': pd.Categorical([\"test\", \"train\", \"test\", \"train\"]),\n",
        "                   'F': 'foo'})\n",
        "df"
      ],
      "execution_count": 10,
      "outputs": [
        {
          "output_type": "execute_result",
          "data": {
            "text/html": [
              "<div>\n",
              "<style scoped>\n",
              "    .dataframe tbody tr th:only-of-type {\n",
              "        vertical-align: middle;\n",
              "    }\n",
              "\n",
              "    .dataframe tbody tr th {\n",
              "        vertical-align: top;\n",
              "    }\n",
              "\n",
              "    .dataframe thead th {\n",
              "        text-align: right;\n",
              "    }\n",
              "</style>\n",
              "<table border=\"1\" class=\"dataframe\">\n",
              "  <thead>\n",
              "    <tr style=\"text-align: right;\">\n",
              "      <th></th>\n",
              "      <th>A</th>\n",
              "      <th>B</th>\n",
              "      <th>C</th>\n",
              "      <th>D</th>\n",
              "      <th>E</th>\n",
              "      <th>F</th>\n",
              "    </tr>\n",
              "  </thead>\n",
              "  <tbody>\n",
              "    <tr>\n",
              "      <th>0</th>\n",
              "      <td>1.0</td>\n",
              "      <td>2013-01-02</td>\n",
              "      <td>2.0</td>\n",
              "      <td>3</td>\n",
              "      <td>test</td>\n",
              "      <td>foo</td>\n",
              "    </tr>\n",
              "    <tr>\n",
              "      <th>1</th>\n",
              "      <td>1.0</td>\n",
              "      <td>2013-01-02</td>\n",
              "      <td>2.0</td>\n",
              "      <td>3</td>\n",
              "      <td>train</td>\n",
              "      <td>foo</td>\n",
              "    </tr>\n",
              "    <tr>\n",
              "      <th>2</th>\n",
              "      <td>1.0</td>\n",
              "      <td>2013-01-02</td>\n",
              "      <td>2.0</td>\n",
              "      <td>3</td>\n",
              "      <td>test</td>\n",
              "      <td>foo</td>\n",
              "    </tr>\n",
              "    <tr>\n",
              "      <th>3</th>\n",
              "      <td>1.0</td>\n",
              "      <td>2013-01-02</td>\n",
              "      <td>2.0</td>\n",
              "      <td>3</td>\n",
              "      <td>train</td>\n",
              "      <td>foo</td>\n",
              "    </tr>\n",
              "  </tbody>\n",
              "</table>\n",
              "</div>"
            ],
            "text/plain": [
              "     A          B    C  D      E    F\n",
              "0  1.0 2013-01-02  2.0  3   test  foo\n",
              "1  1.0 2013-01-02  2.0  3  train  foo\n",
              "2  1.0 2013-01-02  2.0  3   test  foo\n",
              "3  1.0 2013-01-02  2.0  3  train  foo"
            ]
          },
          "metadata": {
            "tags": []
          },
          "execution_count": 10
        }
      ]
    },
    {
      "cell_type": "markdown",
      "metadata": {
        "id": "RmHIzPEnJCj3"
      },
      "source": [
        "Как видите, создается фрейм, в котором каждая колонка имеет свой тип. Из них для нас имеются два новых типа:\n",
        "- `Timestamp` - конструктор для временного типа в pandas (`datetime64`);\n",
        "- `Categorical` - категориальный тип, который в большинстве своем является альтернативой численным данным.\n",
        "\n",
        "> **Категориальные данные** - данные, значения которых ограничены списком категорий (одно из возможных значений);\n",
        "> **Численные данные** - данные, которые имеют численное значение (вещественное или целочисленное).\n",
        "\n",
        "Для просмотра информации о фрейме полезно использовать метод `DataFrame.info()`:"
      ]
    },
    {
      "cell_type": "code",
      "metadata": {
        "id": "yQ-DhPj8I7HZ",
        "outputId": "5d1e0fbf-cd10-453b-9226-860fe11ca3c6",
        "colab": {
          "base_uri": "https://localhost:8080/",
          "height": 235
        }
      },
      "source": [
        "df.info()"
      ],
      "execution_count": 11,
      "outputs": [
        {
          "output_type": "stream",
          "text": [
            "<class 'pandas.core.frame.DataFrame'>\n",
            "RangeIndex: 4 entries, 0 to 3\n",
            "Data columns (total 6 columns):\n",
            " #   Column  Non-Null Count  Dtype         \n",
            "---  ------  --------------  -----         \n",
            " 0   A       4 non-null      float64       \n",
            " 1   B       4 non-null      datetime64[ns]\n",
            " 2   C       4 non-null      float32       \n",
            " 3   D       4 non-null      int32         \n",
            " 4   E       4 non-null      category      \n",
            " 5   F       4 non-null      object        \n",
            "dtypes: category(1), datetime64[ns](1), float32(1), float64(1), int32(1), object(1)\n",
            "memory usage: 356.0+ bytes\n"
          ],
          "name": "stdout"
        }
      ]
    },
    {
      "cell_type": "markdown",
      "metadata": {
        "id": "MKHizp4tLCQ3"
      },
      "source": [
        "Если тип данных не задан явно как категориальный, то строки будут иметь тип `object`, как универсальный тип данных."
      ]
    },
    {
      "cell_type": "markdown",
      "metadata": {
        "id": "XtXeG0mrNRwW"
      },
      "source": [
        "# Обзор данных"
      ]
    },
    {
      "cell_type": "markdown",
      "metadata": {
        "id": "9EM78zz3NTY1"
      },
      "source": [
        "Начало любого анализа данных происходит с того, что мы должны разобраться, с чем имеем дело, поэтому возможности быстрого обзора данных - то, что нужно:"
      ]
    },
    {
      "cell_type": "code",
      "metadata": {
        "id": "bJNK6MJANiJc",
        "outputId": "a0953396-f2dd-4970-bb3d-5806f10c72af",
        "colab": {
          "base_uri": "https://localhost:8080/",
          "height": 166
        }
      },
      "source": [
        "df = pd.DataFrame(\n",
        "    data=np.random.randint(-10, 10, size=(15, 3)), \n",
        "    columns=['x1', 'x2', 'x3']\n",
        ")\n",
        "\n",
        "# Функция получения первых записей фрейма\n",
        "# Аргументом задается количество выводимых данных\n",
        "#   Если не задано - 5 по-умолчанию\n",
        "df.head(4)"
      ],
      "execution_count": 12,
      "outputs": [
        {
          "output_type": "execute_result",
          "data": {
            "text/html": [
              "<div>\n",
              "<style scoped>\n",
              "    .dataframe tbody tr th:only-of-type {\n",
              "        vertical-align: middle;\n",
              "    }\n",
              "\n",
              "    .dataframe tbody tr th {\n",
              "        vertical-align: top;\n",
              "    }\n",
              "\n",
              "    .dataframe thead th {\n",
              "        text-align: right;\n",
              "    }\n",
              "</style>\n",
              "<table border=\"1\" class=\"dataframe\">\n",
              "  <thead>\n",
              "    <tr style=\"text-align: right;\">\n",
              "      <th></th>\n",
              "      <th>x1</th>\n",
              "      <th>x2</th>\n",
              "      <th>x3</th>\n",
              "    </tr>\n",
              "  </thead>\n",
              "  <tbody>\n",
              "    <tr>\n",
              "      <th>0</th>\n",
              "      <td>1</td>\n",
              "      <td>-8</td>\n",
              "      <td>-5</td>\n",
              "    </tr>\n",
              "    <tr>\n",
              "      <th>1</th>\n",
              "      <td>0</td>\n",
              "      <td>-9</td>\n",
              "      <td>-4</td>\n",
              "    </tr>\n",
              "    <tr>\n",
              "      <th>2</th>\n",
              "      <td>-10</td>\n",
              "      <td>3</td>\n",
              "      <td>-10</td>\n",
              "    </tr>\n",
              "    <tr>\n",
              "      <th>3</th>\n",
              "      <td>6</td>\n",
              "      <td>-8</td>\n",
              "      <td>8</td>\n",
              "    </tr>\n",
              "  </tbody>\n",
              "</table>\n",
              "</div>"
            ],
            "text/plain": [
              "   x1  x2  x3\n",
              "0   1  -8  -5\n",
              "1   0  -9  -4\n",
              "2 -10   3 -10\n",
              "3   6  -8   8"
            ]
          },
          "metadata": {
            "tags": []
          },
          "execution_count": 12
        }
      ]
    },
    {
      "cell_type": "code",
      "metadata": {
        "id": "cuGijZBWN0Rc",
        "outputId": "4209ed26-a3c7-4e59-e1c8-7b4ade6c6546",
        "colab": {
          "base_uri": "https://localhost:8080/",
          "height": 166
        }
      },
      "source": [
        "# Функция получения последних записей фрейма\n",
        "# Аргументом задается количество выводимых данных\n",
        "#   Если не задано - 5 по-умолчанию\n",
        "df.tail(4)"
      ],
      "execution_count": 13,
      "outputs": [
        {
          "output_type": "execute_result",
          "data": {
            "text/html": [
              "<div>\n",
              "<style scoped>\n",
              "    .dataframe tbody tr th:only-of-type {\n",
              "        vertical-align: middle;\n",
              "    }\n",
              "\n",
              "    .dataframe tbody tr th {\n",
              "        vertical-align: top;\n",
              "    }\n",
              "\n",
              "    .dataframe thead th {\n",
              "        text-align: right;\n",
              "    }\n",
              "</style>\n",
              "<table border=\"1\" class=\"dataframe\">\n",
              "  <thead>\n",
              "    <tr style=\"text-align: right;\">\n",
              "      <th></th>\n",
              "      <th>x1</th>\n",
              "      <th>x2</th>\n",
              "      <th>x3</th>\n",
              "    </tr>\n",
              "  </thead>\n",
              "  <tbody>\n",
              "    <tr>\n",
              "      <th>11</th>\n",
              "      <td>-5</td>\n",
              "      <td>-8</td>\n",
              "      <td>-5</td>\n",
              "    </tr>\n",
              "    <tr>\n",
              "      <th>12</th>\n",
              "      <td>-4</td>\n",
              "      <td>7</td>\n",
              "      <td>-10</td>\n",
              "    </tr>\n",
              "    <tr>\n",
              "      <th>13</th>\n",
              "      <td>7</td>\n",
              "      <td>-4</td>\n",
              "      <td>2</td>\n",
              "    </tr>\n",
              "    <tr>\n",
              "      <th>14</th>\n",
              "      <td>-3</td>\n",
              "      <td>3</td>\n",
              "      <td>2</td>\n",
              "    </tr>\n",
              "  </tbody>\n",
              "</table>\n",
              "</div>"
            ],
            "text/plain": [
              "    x1  x2  x3\n",
              "11  -5  -8  -5\n",
              "12  -4   7 -10\n",
              "13   7  -4   2\n",
              "14  -3   3   2"
            ]
          },
          "metadata": {
            "tags": []
          },
          "execution_count": 13
        }
      ]
    },
    {
      "cell_type": "code",
      "metadata": {
        "id": "uXCm5zZiN6HB",
        "outputId": "a263048a-4b20-4050-81d4-41b168f302a8",
        "colab": {
          "base_uri": "https://localhost:8080/",
          "height": 185
        }
      },
      "source": [
        "# Функция отображения основной информации о фрейме:\n",
        "#   Количество записей\n",
        "#   Типы колонок\n",
        "#   Количество ненулевых значений\n",
        "#   Тип индекса\n",
        "df.info()"
      ],
      "execution_count": 14,
      "outputs": [
        {
          "output_type": "stream",
          "text": [
            "<class 'pandas.core.frame.DataFrame'>\n",
            "RangeIndex: 15 entries, 0 to 14\n",
            "Data columns (total 3 columns):\n",
            " #   Column  Non-Null Count  Dtype\n",
            "---  ------  --------------  -----\n",
            " 0   x1      15 non-null     int64\n",
            " 1   x2      15 non-null     int64\n",
            " 2   x3      15 non-null     int64\n",
            "dtypes: int64(3)\n",
            "memory usage: 488.0 bytes\n"
          ],
          "name": "stdout"
        }
      ]
    },
    {
      "cell_type": "code",
      "metadata": {
        "id": "Y0MfbDxMOPC4",
        "outputId": "808dbc04-9f11-4445-f0bf-f3b5d4111177",
        "colab": {
          "base_uri": "https://localhost:8080/",
          "height": 284
        }
      },
      "source": [
        "# Функция отображения статистики по численным колонкам\n",
        "df.describe()"
      ],
      "execution_count": 15,
      "outputs": [
        {
          "output_type": "execute_result",
          "data": {
            "text/html": [
              "<div>\n",
              "<style scoped>\n",
              "    .dataframe tbody tr th:only-of-type {\n",
              "        vertical-align: middle;\n",
              "    }\n",
              "\n",
              "    .dataframe tbody tr th {\n",
              "        vertical-align: top;\n",
              "    }\n",
              "\n",
              "    .dataframe thead th {\n",
              "        text-align: right;\n",
              "    }\n",
              "</style>\n",
              "<table border=\"1\" class=\"dataframe\">\n",
              "  <thead>\n",
              "    <tr style=\"text-align: right;\">\n",
              "      <th></th>\n",
              "      <th>x1</th>\n",
              "      <th>x2</th>\n",
              "      <th>x3</th>\n",
              "    </tr>\n",
              "  </thead>\n",
              "  <tbody>\n",
              "    <tr>\n",
              "      <th>count</th>\n",
              "      <td>15.000000</td>\n",
              "      <td>15.000000</td>\n",
              "      <td>15.000000</td>\n",
              "    </tr>\n",
              "    <tr>\n",
              "      <th>mean</th>\n",
              "      <td>-0.466667</td>\n",
              "      <td>-3.666667</td>\n",
              "      <td>-3.400000</td>\n",
              "    </tr>\n",
              "    <tr>\n",
              "      <th>std</th>\n",
              "      <td>5.289702</td>\n",
              "      <td>5.327378</td>\n",
              "      <td>5.629007</td>\n",
              "    </tr>\n",
              "    <tr>\n",
              "      <th>min</th>\n",
              "      <td>-10.000000</td>\n",
              "      <td>-10.000000</td>\n",
              "      <td>-10.000000</td>\n",
              "    </tr>\n",
              "    <tr>\n",
              "      <th>25%</th>\n",
              "      <td>-3.500000</td>\n",
              "      <td>-8.000000</td>\n",
              "      <td>-7.500000</td>\n",
              "    </tr>\n",
              "    <tr>\n",
              "      <th>50%</th>\n",
              "      <td>0.000000</td>\n",
              "      <td>-6.000000</td>\n",
              "      <td>-5.000000</td>\n",
              "    </tr>\n",
              "    <tr>\n",
              "      <th>75%</th>\n",
              "      <td>3.000000</td>\n",
              "      <td>1.000000</td>\n",
              "      <td>0.500000</td>\n",
              "    </tr>\n",
              "    <tr>\n",
              "      <th>max</th>\n",
              "      <td>7.000000</td>\n",
              "      <td>7.000000</td>\n",
              "      <td>8.000000</td>\n",
              "    </tr>\n",
              "  </tbody>\n",
              "</table>\n",
              "</div>"
            ],
            "text/plain": [
              "              x1         x2         x3\n",
              "count  15.000000  15.000000  15.000000\n",
              "mean   -0.466667  -3.666667  -3.400000\n",
              "std     5.289702   5.327378   5.629007\n",
              "min   -10.000000 -10.000000 -10.000000\n",
              "25%    -3.500000  -8.000000  -7.500000\n",
              "50%     0.000000  -6.000000  -5.000000\n",
              "75%     3.000000   1.000000   0.500000\n",
              "max     7.000000   7.000000   8.000000"
            ]
          },
          "metadata": {
            "tags": []
          },
          "execution_count": 15
        }
      ]
    },
    {
      "cell_type": "code",
      "metadata": {
        "id": "-kRXV1P2OfHP",
        "outputId": "0ef66258-ce18-4bea-a2ec-1641e1c08962",
        "colab": {
          "base_uri": "https://localhost:8080/",
          "height": 34
        }
      },
      "source": [
        "# Атрибут получения индексов фрейма\n",
        "df.index"
      ],
      "execution_count": 16,
      "outputs": [
        {
          "output_type": "execute_result",
          "data": {
            "text/plain": [
              "RangeIndex(start=0, stop=15, step=1)"
            ]
          },
          "metadata": {
            "tags": []
          },
          "execution_count": 16
        }
      ]
    },
    {
      "cell_type": "code",
      "metadata": {
        "id": "TsPphCdAapK9",
        "outputId": "0c6449ca-cd01-4ec2-c235-b4a23a6f0e53",
        "colab": {
          "base_uri": "https://localhost:8080/",
          "height": 34
        }
      },
      "source": [
        "# Или чтобы представить в виде списка\n",
        "list(df.index)"
      ],
      "execution_count": 17,
      "outputs": [
        {
          "output_type": "execute_result",
          "data": {
            "text/plain": [
              "[0, 1, 2, 3, 4, 5, 6, 7, 8, 9, 10, 11, 12, 13, 14]"
            ]
          },
          "metadata": {
            "tags": []
          },
          "execution_count": 17
        }
      ]
    },
    {
      "cell_type": "code",
      "metadata": {
        "id": "H-ohc7UJOmIO",
        "outputId": "27297ac5-60a1-4c73-95a8-6cf0df6429ea",
        "colab": {
          "base_uri": "https://localhost:8080/",
          "height": 34
        }
      },
      "source": [
        "# Атрибут получения имен колонок фрейма\n",
        "df.columns"
      ],
      "execution_count": 18,
      "outputs": [
        {
          "output_type": "execute_result",
          "data": {
            "text/plain": [
              "Index(['x1', 'x2', 'x3'], dtype='object')"
            ]
          },
          "metadata": {
            "tags": []
          },
          "execution_count": 18
        }
      ]
    },
    {
      "cell_type": "code",
      "metadata": {
        "id": "na-OEHT92dln",
        "outputId": "5003e93d-67fa-4b55-b983-39a082421106",
        "colab": {
          "base_uri": "https://localhost:8080/",
          "height": 34
        }
      },
      "source": [
        "# Атрибут размерности фрейма\n",
        "df.shape"
      ],
      "execution_count": 19,
      "outputs": [
        {
          "output_type": "execute_result",
          "data": {
            "text/plain": [
              "(15, 3)"
            ]
          },
          "metadata": {
            "tags": []
          },
          "execution_count": 19
        }
      ]
    },
    {
      "cell_type": "code",
      "metadata": {
        "id": "Qa5POknMO2xm",
        "outputId": "4db05a20-b9f4-4945-eb2d-5e0c6df3b562",
        "colab": {
          "base_uri": "https://localhost:8080/",
          "height": 269
        }
      },
      "source": [
        "# Преобразование к двумерному массиву numpy\n",
        "df.to_numpy()"
      ],
      "execution_count": 20,
      "outputs": [
        {
          "output_type": "execute_result",
          "data": {
            "text/plain": [
              "array([[  1,  -8,  -5],\n",
              "       [  0,  -9,  -4],\n",
              "       [-10,   3, -10],\n",
              "       [  6,  -8,   8],\n",
              "       [ -9,  -1,  -2],\n",
              "       [  3,  -6,  -8],\n",
              "       [ -3,  -6,  -7],\n",
              "       [  3,  -6, -10],\n",
              "       [ -1, -10,  -6],\n",
              "       [  1,   3,   5],\n",
              "       [  7,  -5,  -1],\n",
              "       [ -5,  -8,  -5],\n",
              "       [ -4,   7, -10],\n",
              "       [  7,  -4,   2],\n",
              "       [ -3,   3,   2]])"
            ]
          },
          "metadata": {
            "tags": []
          },
          "execution_count": 20
        }
      ]
    },
    {
      "cell_type": "code",
      "metadata": {
        "id": "kdILwsLJPGJf",
        "outputId": "1b2bcb8f-62c6-406b-ed2a-5a8eb4d01eed",
        "colab": {
          "base_uri": "https://localhost:8080/",
          "height": 136
        }
      },
      "source": [
        "# Получение транспонированного представления\n",
        "# Колонки -> ряды, ряды -> колонки\n",
        "df.T\n",
        "\n",
        "# (*) Транспонирование вряд ли часто понадобится при анализе, но учитывать стоит"
      ],
      "execution_count": 21,
      "outputs": [
        {
          "output_type": "execute_result",
          "data": {
            "text/html": [
              "<div>\n",
              "<style scoped>\n",
              "    .dataframe tbody tr th:only-of-type {\n",
              "        vertical-align: middle;\n",
              "    }\n",
              "\n",
              "    .dataframe tbody tr th {\n",
              "        vertical-align: top;\n",
              "    }\n",
              "\n",
              "    .dataframe thead th {\n",
              "        text-align: right;\n",
              "    }\n",
              "</style>\n",
              "<table border=\"1\" class=\"dataframe\">\n",
              "  <thead>\n",
              "    <tr style=\"text-align: right;\">\n",
              "      <th></th>\n",
              "      <th>0</th>\n",
              "      <th>1</th>\n",
              "      <th>2</th>\n",
              "      <th>3</th>\n",
              "      <th>4</th>\n",
              "      <th>5</th>\n",
              "      <th>6</th>\n",
              "      <th>7</th>\n",
              "      <th>8</th>\n",
              "      <th>9</th>\n",
              "      <th>10</th>\n",
              "      <th>11</th>\n",
              "      <th>12</th>\n",
              "      <th>13</th>\n",
              "      <th>14</th>\n",
              "    </tr>\n",
              "  </thead>\n",
              "  <tbody>\n",
              "    <tr>\n",
              "      <th>x1</th>\n",
              "      <td>1</td>\n",
              "      <td>0</td>\n",
              "      <td>-10</td>\n",
              "      <td>6</td>\n",
              "      <td>-9</td>\n",
              "      <td>3</td>\n",
              "      <td>-3</td>\n",
              "      <td>3</td>\n",
              "      <td>-1</td>\n",
              "      <td>1</td>\n",
              "      <td>7</td>\n",
              "      <td>-5</td>\n",
              "      <td>-4</td>\n",
              "      <td>7</td>\n",
              "      <td>-3</td>\n",
              "    </tr>\n",
              "    <tr>\n",
              "      <th>x2</th>\n",
              "      <td>-8</td>\n",
              "      <td>-9</td>\n",
              "      <td>3</td>\n",
              "      <td>-8</td>\n",
              "      <td>-1</td>\n",
              "      <td>-6</td>\n",
              "      <td>-6</td>\n",
              "      <td>-6</td>\n",
              "      <td>-10</td>\n",
              "      <td>3</td>\n",
              "      <td>-5</td>\n",
              "      <td>-8</td>\n",
              "      <td>7</td>\n",
              "      <td>-4</td>\n",
              "      <td>3</td>\n",
              "    </tr>\n",
              "    <tr>\n",
              "      <th>x3</th>\n",
              "      <td>-5</td>\n",
              "      <td>-4</td>\n",
              "      <td>-10</td>\n",
              "      <td>8</td>\n",
              "      <td>-2</td>\n",
              "      <td>-8</td>\n",
              "      <td>-7</td>\n",
              "      <td>-10</td>\n",
              "      <td>-6</td>\n",
              "      <td>5</td>\n",
              "      <td>-1</td>\n",
              "      <td>-5</td>\n",
              "      <td>-10</td>\n",
              "      <td>2</td>\n",
              "      <td>2</td>\n",
              "    </tr>\n",
              "  </tbody>\n",
              "</table>\n",
              "</div>"
            ],
            "text/plain": [
              "    0  1   2  3  4  5  6   7   8  9  10  11  12  13  14\n",
              "x1  1  0 -10  6 -9  3 -3   3  -1  1   7  -5  -4   7  -3\n",
              "x2 -8 -9   3 -8 -1 -6 -6  -6 -10  3  -5  -8   7  -4   3\n",
              "x3 -5 -4 -10  8 -2 -8 -7 -10  -6  5  -1  -5 -10   2   2"
            ]
          },
          "metadata": {
            "tags": []
          },
          "execution_count": 21
        }
      ]
    },
    {
      "cell_type": "markdown",
      "metadata": {
        "id": "jJ-4jpR4Amqg"
      },
      "source": [
        "# Обращение к данным"
      ]
    },
    {
      "cell_type": "markdown",
      "metadata": {
        "id": "3zVtiVD4Bb_o"
      },
      "source": [
        "Так как данные представлены в виде двумерного массива, то обращение к ним является важным инструментом.\n",
        "\n",
        "Начнем с того, чтобы обращаться к конкретной колонке:"
      ]
    },
    {
      "cell_type": "code",
      "metadata": {
        "id": "L84Jgn8xFqeZ",
        "outputId": "a0e616b4-22da-485f-b4eb-22b51f8625bf",
        "colab": {
          "base_uri": "https://localhost:8080/",
          "height": 195
        }
      },
      "source": [
        "df = pd.DataFrame(\n",
        "    data=np.random.randint(0, 10, size=(5, 3)), \n",
        "    columns=['x1', 'x2', 'x3']\n",
        ")\n",
        "\n",
        "df"
      ],
      "execution_count": 22,
      "outputs": [
        {
          "output_type": "execute_result",
          "data": {
            "text/html": [
              "<div>\n",
              "<style scoped>\n",
              "    .dataframe tbody tr th:only-of-type {\n",
              "        vertical-align: middle;\n",
              "    }\n",
              "\n",
              "    .dataframe tbody tr th {\n",
              "        vertical-align: top;\n",
              "    }\n",
              "\n",
              "    .dataframe thead th {\n",
              "        text-align: right;\n",
              "    }\n",
              "</style>\n",
              "<table border=\"1\" class=\"dataframe\">\n",
              "  <thead>\n",
              "    <tr style=\"text-align: right;\">\n",
              "      <th></th>\n",
              "      <th>x1</th>\n",
              "      <th>x2</th>\n",
              "      <th>x3</th>\n",
              "    </tr>\n",
              "  </thead>\n",
              "  <tbody>\n",
              "    <tr>\n",
              "      <th>0</th>\n",
              "      <td>1</td>\n",
              "      <td>6</td>\n",
              "      <td>5</td>\n",
              "    </tr>\n",
              "    <tr>\n",
              "      <th>1</th>\n",
              "      <td>1</td>\n",
              "      <td>6</td>\n",
              "      <td>7</td>\n",
              "    </tr>\n",
              "    <tr>\n",
              "      <th>2</th>\n",
              "      <td>1</td>\n",
              "      <td>7</td>\n",
              "      <td>9</td>\n",
              "    </tr>\n",
              "    <tr>\n",
              "      <th>3</th>\n",
              "      <td>7</td>\n",
              "      <td>5</td>\n",
              "      <td>8</td>\n",
              "    </tr>\n",
              "    <tr>\n",
              "      <th>4</th>\n",
              "      <td>9</td>\n",
              "      <td>8</td>\n",
              "      <td>3</td>\n",
              "    </tr>\n",
              "  </tbody>\n",
              "</table>\n",
              "</div>"
            ],
            "text/plain": [
              "   x1  x2  x3\n",
              "0   1   6   5\n",
              "1   1   6   7\n",
              "2   1   7   9\n",
              "3   7   5   8\n",
              "4   9   8   3"
            ]
          },
          "metadata": {
            "tags": []
          },
          "execution_count": 22
        }
      ]
    },
    {
      "cell_type": "code",
      "metadata": {
        "id": "xi4PIyZpFzzp",
        "outputId": "45e4c444-ff4b-4ef8-c4da-d5179a46c3b3",
        "colab": {
          "base_uri": "https://localhost:8080/",
          "height": 134
        }
      },
      "source": [
        "print(df['x1'])\n",
        "print(type(df['x1']))"
      ],
      "execution_count": 23,
      "outputs": [
        {
          "output_type": "stream",
          "text": [
            "0    1\n",
            "1    1\n",
            "2    1\n",
            "3    7\n",
            "4    9\n",
            "Name: x1, dtype: int64\n",
            "<class 'pandas.core.series.Series'>\n"
          ],
          "name": "stdout"
        }
      ]
    },
    {
      "cell_type": "markdown",
      "metadata": {
        "id": "yt-YPbzyF8zS"
      },
      "source": [
        "Индексация во фрейме по колонкам производится по имени колонок. В результате создается объект `Series` (ряд), который является одномерным массивом. В случае индексации по колонкам каждая запись в ряду имеет индекс из основного фрейма."
      ]
    },
    {
      "cell_type": "markdown",
      "metadata": {
        "id": "jdz_KJZNP7FK"
      },
      "source": [
        "Аналогичный тип данных создается, когда мы обращаемся к конкретной записи в данных. Кстати, просто так не обратиться, поэтому для индексации по записям используются методы `DataFrame.iloc[]` и `DataFrame.loc[]`.\n",
        "\n",
        "Взгляните на разницу:"
      ]
    },
    {
      "cell_type": "code",
      "metadata": {
        "id": "6Qk0PYvSQfJ2",
        "outputId": "5492fdab-26fd-42f3-fe05-d3d9e74d9075",
        "colab": {
          "base_uri": "https://localhost:8080/",
          "height": 195
        }
      },
      "source": [
        "data = {\n",
        "    'feature1': np.arange(15),\n",
        "    'feature2': np.linspace(0, 10, 15),\n",
        "    'feature3': 'string',\n",
        "}\n",
        "df = pd.DataFrame(data, index=list('ABCDEFGHIJKLMNO'))\n",
        "df.head()"
      ],
      "execution_count": 24,
      "outputs": [
        {
          "output_type": "execute_result",
          "data": {
            "text/html": [
              "<div>\n",
              "<style scoped>\n",
              "    .dataframe tbody tr th:only-of-type {\n",
              "        vertical-align: middle;\n",
              "    }\n",
              "\n",
              "    .dataframe tbody tr th {\n",
              "        vertical-align: top;\n",
              "    }\n",
              "\n",
              "    .dataframe thead th {\n",
              "        text-align: right;\n",
              "    }\n",
              "</style>\n",
              "<table border=\"1\" class=\"dataframe\">\n",
              "  <thead>\n",
              "    <tr style=\"text-align: right;\">\n",
              "      <th></th>\n",
              "      <th>feature1</th>\n",
              "      <th>feature2</th>\n",
              "      <th>feature3</th>\n",
              "    </tr>\n",
              "  </thead>\n",
              "  <tbody>\n",
              "    <tr>\n",
              "      <th>A</th>\n",
              "      <td>0</td>\n",
              "      <td>0.000000</td>\n",
              "      <td>string</td>\n",
              "    </tr>\n",
              "    <tr>\n",
              "      <th>B</th>\n",
              "      <td>1</td>\n",
              "      <td>0.714286</td>\n",
              "      <td>string</td>\n",
              "    </tr>\n",
              "    <tr>\n",
              "      <th>C</th>\n",
              "      <td>2</td>\n",
              "      <td>1.428571</td>\n",
              "      <td>string</td>\n",
              "    </tr>\n",
              "    <tr>\n",
              "      <th>D</th>\n",
              "      <td>3</td>\n",
              "      <td>2.142857</td>\n",
              "      <td>string</td>\n",
              "    </tr>\n",
              "    <tr>\n",
              "      <th>E</th>\n",
              "      <td>4</td>\n",
              "      <td>2.857143</td>\n",
              "      <td>string</td>\n",
              "    </tr>\n",
              "  </tbody>\n",
              "</table>\n",
              "</div>"
            ],
            "text/plain": [
              "   feature1  feature2 feature3\n",
              "A         0  0.000000   string\n",
              "B         1  0.714286   string\n",
              "C         2  1.428571   string\n",
              "D         3  2.142857   string\n",
              "E         4  2.857143   string"
            ]
          },
          "metadata": {
            "tags": []
          },
          "execution_count": 24
        }
      ]
    },
    {
      "cell_type": "code",
      "metadata": {
        "id": "146jUYuDRIqL",
        "outputId": "be40c055-1047-4cd2-fe1f-5640ef018afb",
        "colab": {
          "base_uri": "https://localhost:8080/",
          "height": 84
        }
      },
      "source": [
        "df.iloc[2]"
      ],
      "execution_count": 25,
      "outputs": [
        {
          "output_type": "execute_result",
          "data": {
            "text/plain": [
              "feature1          2\n",
              "feature2    1.42857\n",
              "feature3     string\n",
              "Name: C, dtype: object"
            ]
          },
          "metadata": {
            "tags": []
          },
          "execution_count": 25
        }
      ]
    },
    {
      "cell_type": "code",
      "metadata": {
        "id": "xNER-5W-RK_4",
        "outputId": "f0af2e6e-1547-45c8-8bef-bbb79c6fbb83",
        "colab": {
          "base_uri": "https://localhost:8080/",
          "height": 84
        }
      },
      "source": [
        "df.loc['C']"
      ],
      "execution_count": 26,
      "outputs": [
        {
          "output_type": "execute_result",
          "data": {
            "text/plain": [
              "feature1          2\n",
              "feature2    1.42857\n",
              "feature3     string\n",
              "Name: C, dtype: object"
            ]
          },
          "metadata": {
            "tags": []
          },
          "execution_count": 26
        }
      ]
    },
    {
      "cell_type": "code",
      "metadata": {
        "id": "WUGvwU1vRTvj",
        "outputId": "4381bd71-6cb1-4064-d8b8-1afaddf072c9",
        "colab": {
          "base_uri": "https://localhost:8080/",
          "height": 34
        }
      },
      "source": [
        "df.iloc[2, 1]"
      ],
      "execution_count": 27,
      "outputs": [
        {
          "output_type": "execute_result",
          "data": {
            "text/plain": [
              "1.4285714285714286"
            ]
          },
          "metadata": {
            "tags": []
          },
          "execution_count": 27
        }
      ]
    },
    {
      "cell_type": "code",
      "metadata": {
        "id": "8CnUrklnRb0M",
        "outputId": "3c95ebef-bc3b-4529-8fef-b3570a5b2a4a",
        "colab": {
          "base_uri": "https://localhost:8080/",
          "height": 34
        }
      },
      "source": [
        "df.loc['C', 'feature2']"
      ],
      "execution_count": 28,
      "outputs": [
        {
          "output_type": "execute_result",
          "data": {
            "text/plain": [
              "1.4285714285714286"
            ]
          },
          "metadata": {
            "tags": []
          },
          "execution_count": 28
        }
      ]
    },
    {
      "cell_type": "markdown",
      "metadata": {
        "id": "TXzXJmmbRilU"
      },
      "source": [
        "Если разница не явна, то обсудим:\n",
        "> `.iloc[]` используется для обращения по индексам как рядов, так и колонок;\n",
        "\n",
        "> `.loc[]` используется для обращения по именованиям как рядов, так и колонок.\n",
        "\n",
        "В индексации можно применять как слайсы, подобно тем, что научились применять в numpy, так и массивы в качестве индексов.\n",
        "\n",
        "При индексации по единственной строке создается объект `Series`, но уже с индексами в виде колонок.\n"
      ]
    },
    {
      "cell_type": "markdown",
      "metadata": {
        "id": "IQZEyGyrR3cb"
      },
      "source": [
        "## Задание\n",
        "\n",
        "Выведите часть фрейма со второго ряда по девятый (индексы с 'C' по 'I') и только `feature1` и `feature3`:"
      ]
    },
    {
      "cell_type": "code",
      "metadata": {
        "id": "Cp60LdlbSC4C",
        "outputId": "42524eef-a734-4847-d7bf-34fb30314286",
        "colab": {
          "base_uri": "https://localhost:8080/",
          "height": 195
        }
      },
      "source": [
        "data = {\n",
        "    'feature1': np.arange(15),\n",
        "    'feature2': np.linspace(0, 10, 15),\n",
        "    'feature3': 'string',\n",
        "}\n",
        "df = pd.DataFrame(data, index=list('ABCDEFGHIJKLMNO'))\n",
        "df.head()"
      ],
      "execution_count": 29,
      "outputs": [
        {
          "output_type": "execute_result",
          "data": {
            "text/html": [
              "<div>\n",
              "<style scoped>\n",
              "    .dataframe tbody tr th:only-of-type {\n",
              "        vertical-align: middle;\n",
              "    }\n",
              "\n",
              "    .dataframe tbody tr th {\n",
              "        vertical-align: top;\n",
              "    }\n",
              "\n",
              "    .dataframe thead th {\n",
              "        text-align: right;\n",
              "    }\n",
              "</style>\n",
              "<table border=\"1\" class=\"dataframe\">\n",
              "  <thead>\n",
              "    <tr style=\"text-align: right;\">\n",
              "      <th></th>\n",
              "      <th>feature1</th>\n",
              "      <th>feature2</th>\n",
              "      <th>feature3</th>\n",
              "    </tr>\n",
              "  </thead>\n",
              "  <tbody>\n",
              "    <tr>\n",
              "      <th>A</th>\n",
              "      <td>0</td>\n",
              "      <td>0.000000</td>\n",
              "      <td>string</td>\n",
              "    </tr>\n",
              "    <tr>\n",
              "      <th>B</th>\n",
              "      <td>1</td>\n",
              "      <td>0.714286</td>\n",
              "      <td>string</td>\n",
              "    </tr>\n",
              "    <tr>\n",
              "      <th>C</th>\n",
              "      <td>2</td>\n",
              "      <td>1.428571</td>\n",
              "      <td>string</td>\n",
              "    </tr>\n",
              "    <tr>\n",
              "      <th>D</th>\n",
              "      <td>3</td>\n",
              "      <td>2.142857</td>\n",
              "      <td>string</td>\n",
              "    </tr>\n",
              "    <tr>\n",
              "      <th>E</th>\n",
              "      <td>4</td>\n",
              "      <td>2.857143</td>\n",
              "      <td>string</td>\n",
              "    </tr>\n",
              "  </tbody>\n",
              "</table>\n",
              "</div>"
            ],
            "text/plain": [
              "   feature1  feature2 feature3\n",
              "A         0  0.000000   string\n",
              "B         1  0.714286   string\n",
              "C         2  1.428571   string\n",
              "D         3  2.142857   string\n",
              "E         4  2.857143   string"
            ]
          },
          "metadata": {
            "tags": []
          },
          "execution_count": 29
        }
      ]
    },
    {
      "cell_type": "code",
      "metadata": {
        "id": "8qMFOU26SEKw",
        "outputId": "0ca361c1-6df6-44f3-9b00-465de54bb521",
        "colab": {
          "base_uri": "https://localhost:8080/",
          "height": 254
        }
      },
      "source": [
        "# TODO - выделите часть фрейма с помощью .loc[]\n",
        "df.loc[list('CDEFGHI'), ('feature1', 'feature3')]"
      ],
      "execution_count": 34,
      "outputs": [
        {
          "output_type": "execute_result",
          "data": {
            "text/html": [
              "<div>\n",
              "<style scoped>\n",
              "    .dataframe tbody tr th:only-of-type {\n",
              "        vertical-align: middle;\n",
              "    }\n",
              "\n",
              "    .dataframe tbody tr th {\n",
              "        vertical-align: top;\n",
              "    }\n",
              "\n",
              "    .dataframe thead th {\n",
              "        text-align: right;\n",
              "    }\n",
              "</style>\n",
              "<table border=\"1\" class=\"dataframe\">\n",
              "  <thead>\n",
              "    <tr style=\"text-align: right;\">\n",
              "      <th></th>\n",
              "      <th>feature1</th>\n",
              "      <th>feature3</th>\n",
              "    </tr>\n",
              "  </thead>\n",
              "  <tbody>\n",
              "    <tr>\n",
              "      <th>C</th>\n",
              "      <td>2</td>\n",
              "      <td>string</td>\n",
              "    </tr>\n",
              "    <tr>\n",
              "      <th>D</th>\n",
              "      <td>3</td>\n",
              "      <td>string</td>\n",
              "    </tr>\n",
              "    <tr>\n",
              "      <th>E</th>\n",
              "      <td>4</td>\n",
              "      <td>string</td>\n",
              "    </tr>\n",
              "    <tr>\n",
              "      <th>F</th>\n",
              "      <td>5</td>\n",
              "      <td>string</td>\n",
              "    </tr>\n",
              "    <tr>\n",
              "      <th>G</th>\n",
              "      <td>6</td>\n",
              "      <td>string</td>\n",
              "    </tr>\n",
              "    <tr>\n",
              "      <th>H</th>\n",
              "      <td>7</td>\n",
              "      <td>string</td>\n",
              "    </tr>\n",
              "    <tr>\n",
              "      <th>I</th>\n",
              "      <td>8</td>\n",
              "      <td>string</td>\n",
              "    </tr>\n",
              "  </tbody>\n",
              "</table>\n",
              "</div>"
            ],
            "text/plain": [
              "   feature1 feature3\n",
              "C         2   string\n",
              "D         3   string\n",
              "E         4   string\n",
              "F         5   string\n",
              "G         6   string\n",
              "H         7   string\n",
              "I         8   string"
            ]
          },
          "metadata": {
            "tags": []
          },
          "execution_count": 34
        }
      ]
    },
    {
      "cell_type": "code",
      "metadata": {
        "id": "t7AO3Ge5SwgT",
        "outputId": "44434e21-4fc3-4fe8-f55c-39ba8c328f8e",
        "colab": {
          "base_uri": "https://localhost:8080/",
          "height": 254
        }
      },
      "source": [
        "# TODO - выделите часть фрейма с помощью .iloc[]\n",
        "df.iloc[2:9, [0, 2]]"
      ],
      "execution_count": 41,
      "outputs": [
        {
          "output_type": "execute_result",
          "data": {
            "text/html": [
              "<div>\n",
              "<style scoped>\n",
              "    .dataframe tbody tr th:only-of-type {\n",
              "        vertical-align: middle;\n",
              "    }\n",
              "\n",
              "    .dataframe tbody tr th {\n",
              "        vertical-align: top;\n",
              "    }\n",
              "\n",
              "    .dataframe thead th {\n",
              "        text-align: right;\n",
              "    }\n",
              "</style>\n",
              "<table border=\"1\" class=\"dataframe\">\n",
              "  <thead>\n",
              "    <tr style=\"text-align: right;\">\n",
              "      <th></th>\n",
              "      <th>feature1</th>\n",
              "      <th>feature3</th>\n",
              "    </tr>\n",
              "  </thead>\n",
              "  <tbody>\n",
              "    <tr>\n",
              "      <th>C</th>\n",
              "      <td>2</td>\n",
              "      <td>string</td>\n",
              "    </tr>\n",
              "    <tr>\n",
              "      <th>D</th>\n",
              "      <td>3</td>\n",
              "      <td>string</td>\n",
              "    </tr>\n",
              "    <tr>\n",
              "      <th>E</th>\n",
              "      <td>4</td>\n",
              "      <td>string</td>\n",
              "    </tr>\n",
              "    <tr>\n",
              "      <th>F</th>\n",
              "      <td>5</td>\n",
              "      <td>string</td>\n",
              "    </tr>\n",
              "    <tr>\n",
              "      <th>G</th>\n",
              "      <td>6</td>\n",
              "      <td>string</td>\n",
              "    </tr>\n",
              "    <tr>\n",
              "      <th>H</th>\n",
              "      <td>7</td>\n",
              "      <td>string</td>\n",
              "    </tr>\n",
              "    <tr>\n",
              "      <th>I</th>\n",
              "      <td>8</td>\n",
              "      <td>string</td>\n",
              "    </tr>\n",
              "  </tbody>\n",
              "</table>\n",
              "</div>"
            ],
            "text/plain": [
              "   feature1 feature3\n",
              "C         2   string\n",
              "D         3   string\n",
              "E         4   string\n",
              "F         5   string\n",
              "G         6   string\n",
              "H         7   string\n",
              "I         8   string"
            ]
          },
          "metadata": {
            "tags": []
          },
          "execution_count": 41
        }
      ]
    },
    {
      "cell_type": "markdown",
      "metadata": {
        "id": "TTAoF4zjENYG"
      },
      "source": [
        "# Условная индексация"
      ]
    },
    {
      "cell_type": "markdown",
      "metadata": {
        "id": "z_s9peSYEPaB"
      },
      "source": [
        "При работе с данными часто необходимо выбрать часть данных по условному признаку. По аналогии с работой в numpy, применение булевых операторов на ряд данных создает такой же по размеру ряд из булевых элементов, представляющих собой маску:"
      ]
    },
    {
      "cell_type": "code",
      "metadata": {
        "id": "lnbE8vUyE1f4",
        "outputId": "51bb444c-781e-487d-9aaf-8f566b69a581",
        "colab": {
          "base_uri": "https://localhost:8080/",
          "height": 136
        }
      },
      "source": [
        "df = pd.DataFrame(\n",
        "    data=np.random.randint(0, 10, size=(15, 3)), \n",
        "    columns=['x1', 'x2', 'x3']\n",
        ")\n",
        "df.head(3)"
      ],
      "execution_count": 42,
      "outputs": [
        {
          "output_type": "execute_result",
          "data": {
            "text/html": [
              "<div>\n",
              "<style scoped>\n",
              "    .dataframe tbody tr th:only-of-type {\n",
              "        vertical-align: middle;\n",
              "    }\n",
              "\n",
              "    .dataframe tbody tr th {\n",
              "        vertical-align: top;\n",
              "    }\n",
              "\n",
              "    .dataframe thead th {\n",
              "        text-align: right;\n",
              "    }\n",
              "</style>\n",
              "<table border=\"1\" class=\"dataframe\">\n",
              "  <thead>\n",
              "    <tr style=\"text-align: right;\">\n",
              "      <th></th>\n",
              "      <th>x1</th>\n",
              "      <th>x2</th>\n",
              "      <th>x3</th>\n",
              "    </tr>\n",
              "  </thead>\n",
              "  <tbody>\n",
              "    <tr>\n",
              "      <th>0</th>\n",
              "      <td>7</td>\n",
              "      <td>2</td>\n",
              "      <td>2</td>\n",
              "    </tr>\n",
              "    <tr>\n",
              "      <th>1</th>\n",
              "      <td>6</td>\n",
              "      <td>1</td>\n",
              "      <td>6</td>\n",
              "    </tr>\n",
              "    <tr>\n",
              "      <th>2</th>\n",
              "      <td>7</td>\n",
              "      <td>8</td>\n",
              "      <td>9</td>\n",
              "    </tr>\n",
              "  </tbody>\n",
              "</table>\n",
              "</div>"
            ],
            "text/plain": [
              "   x1  x2  x3\n",
              "0   7   2   2\n",
              "1   6   1   6\n",
              "2   7   8   9"
            ]
          },
          "metadata": {
            "tags": []
          },
          "execution_count": 42
        }
      ]
    },
    {
      "cell_type": "code",
      "metadata": {
        "id": "p3AUBZupE2ke",
        "outputId": "a2cdcad2-327f-45ff-cb9c-45de1c548a43",
        "colab": {
          "base_uri": "https://localhost:8080/",
          "height": 286
        }
      },
      "source": [
        "df['x1'] > 5"
      ],
      "execution_count": 43,
      "outputs": [
        {
          "output_type": "execute_result",
          "data": {
            "text/plain": [
              "0      True\n",
              "1      True\n",
              "2      True\n",
              "3     False\n",
              "4      True\n",
              "5     False\n",
              "6     False\n",
              "7     False\n",
              "8     False\n",
              "9     False\n",
              "10    False\n",
              "11     True\n",
              "12    False\n",
              "13    False\n",
              "14    False\n",
              "Name: x1, dtype: bool"
            ]
          },
          "metadata": {
            "tags": []
          },
          "execution_count": 43
        }
      ]
    },
    {
      "cell_type": "markdown",
      "metadata": {
        "id": "KMgR5QXlHrci"
      },
      "source": [
        "После того, как маска получена, можно применить ее, чтобы выбрать конкретные записи (строки) данных. При этом, индексация маской работает как при использовании `[]`, так и при использовании `.loc[]`."
      ]
    },
    {
      "cell_type": "code",
      "metadata": {
        "id": "PDUJHQJxH8Ix",
        "outputId": "b7dea044-5dc8-4334-8c9b-365e81d4a2b2",
        "colab": {
          "base_uri": "https://localhost:8080/",
          "height": 195
        }
      },
      "source": [
        "mask = df['x1'] > 5\n",
        "df[mask]\n",
        "\n",
        "# Или df[df['x1'] > 5]"
      ],
      "execution_count": 44,
      "outputs": [
        {
          "output_type": "execute_result",
          "data": {
            "text/html": [
              "<div>\n",
              "<style scoped>\n",
              "    .dataframe tbody tr th:only-of-type {\n",
              "        vertical-align: middle;\n",
              "    }\n",
              "\n",
              "    .dataframe tbody tr th {\n",
              "        vertical-align: top;\n",
              "    }\n",
              "\n",
              "    .dataframe thead th {\n",
              "        text-align: right;\n",
              "    }\n",
              "</style>\n",
              "<table border=\"1\" class=\"dataframe\">\n",
              "  <thead>\n",
              "    <tr style=\"text-align: right;\">\n",
              "      <th></th>\n",
              "      <th>x1</th>\n",
              "      <th>x2</th>\n",
              "      <th>x3</th>\n",
              "    </tr>\n",
              "  </thead>\n",
              "  <tbody>\n",
              "    <tr>\n",
              "      <th>0</th>\n",
              "      <td>7</td>\n",
              "      <td>2</td>\n",
              "      <td>2</td>\n",
              "    </tr>\n",
              "    <tr>\n",
              "      <th>1</th>\n",
              "      <td>6</td>\n",
              "      <td>1</td>\n",
              "      <td>6</td>\n",
              "    </tr>\n",
              "    <tr>\n",
              "      <th>2</th>\n",
              "      <td>7</td>\n",
              "      <td>8</td>\n",
              "      <td>9</td>\n",
              "    </tr>\n",
              "    <tr>\n",
              "      <th>4</th>\n",
              "      <td>9</td>\n",
              "      <td>5</td>\n",
              "      <td>0</td>\n",
              "    </tr>\n",
              "    <tr>\n",
              "      <th>11</th>\n",
              "      <td>6</td>\n",
              "      <td>0</td>\n",
              "      <td>1</td>\n",
              "    </tr>\n",
              "  </tbody>\n",
              "</table>\n",
              "</div>"
            ],
            "text/plain": [
              "    x1  x2  x3\n",
              "0    7   2   2\n",
              "1    6   1   6\n",
              "2    7   8   9\n",
              "4    9   5   0\n",
              "11   6   0   1"
            ]
          },
          "metadata": {
            "tags": []
          },
          "execution_count": 44
        }
      ]
    },
    {
      "cell_type": "markdown",
      "metadata": {
        "id": "xiPo4TS8bScn"
      },
      "source": [
        "Чтобы получить значения, обратные условию, можно воспользоваться оператором НЕ: `~` - он инвертирует маску условия:"
      ]
    },
    {
      "cell_type": "code",
      "metadata": {
        "id": "pE8S310qbb41",
        "outputId": "d9fe4c63-af50-4c19-b104-2918db37dbfc",
        "colab": {
          "base_uri": "https://localhost:8080/",
          "height": 343
        }
      },
      "source": [
        "df[~(df['x1'] > 5)]"
      ],
      "execution_count": 45,
      "outputs": [
        {
          "output_type": "execute_result",
          "data": {
            "text/html": [
              "<div>\n",
              "<style scoped>\n",
              "    .dataframe tbody tr th:only-of-type {\n",
              "        vertical-align: middle;\n",
              "    }\n",
              "\n",
              "    .dataframe tbody tr th {\n",
              "        vertical-align: top;\n",
              "    }\n",
              "\n",
              "    .dataframe thead th {\n",
              "        text-align: right;\n",
              "    }\n",
              "</style>\n",
              "<table border=\"1\" class=\"dataframe\">\n",
              "  <thead>\n",
              "    <tr style=\"text-align: right;\">\n",
              "      <th></th>\n",
              "      <th>x1</th>\n",
              "      <th>x2</th>\n",
              "      <th>x3</th>\n",
              "    </tr>\n",
              "  </thead>\n",
              "  <tbody>\n",
              "    <tr>\n",
              "      <th>3</th>\n",
              "      <td>5</td>\n",
              "      <td>6</td>\n",
              "      <td>1</td>\n",
              "    </tr>\n",
              "    <tr>\n",
              "      <th>5</th>\n",
              "      <td>4</td>\n",
              "      <td>3</td>\n",
              "      <td>1</td>\n",
              "    </tr>\n",
              "    <tr>\n",
              "      <th>6</th>\n",
              "      <td>5</td>\n",
              "      <td>8</td>\n",
              "      <td>9</td>\n",
              "    </tr>\n",
              "    <tr>\n",
              "      <th>7</th>\n",
              "      <td>4</td>\n",
              "      <td>4</td>\n",
              "      <td>6</td>\n",
              "    </tr>\n",
              "    <tr>\n",
              "      <th>8</th>\n",
              "      <td>1</td>\n",
              "      <td>6</td>\n",
              "      <td>7</td>\n",
              "    </tr>\n",
              "    <tr>\n",
              "      <th>9</th>\n",
              "      <td>5</td>\n",
              "      <td>2</td>\n",
              "      <td>9</td>\n",
              "    </tr>\n",
              "    <tr>\n",
              "      <th>10</th>\n",
              "      <td>2</td>\n",
              "      <td>4</td>\n",
              "      <td>3</td>\n",
              "    </tr>\n",
              "    <tr>\n",
              "      <th>12</th>\n",
              "      <td>5</td>\n",
              "      <td>2</td>\n",
              "      <td>9</td>\n",
              "    </tr>\n",
              "    <tr>\n",
              "      <th>13</th>\n",
              "      <td>2</td>\n",
              "      <td>9</td>\n",
              "      <td>7</td>\n",
              "    </tr>\n",
              "    <tr>\n",
              "      <th>14</th>\n",
              "      <td>0</td>\n",
              "      <td>8</td>\n",
              "      <td>0</td>\n",
              "    </tr>\n",
              "  </tbody>\n",
              "</table>\n",
              "</div>"
            ],
            "text/plain": [
              "    x1  x2  x3\n",
              "3    5   6   1\n",
              "5    4   3   1\n",
              "6    5   8   9\n",
              "7    4   4   6\n",
              "8    1   6   7\n",
              "9    5   2   9\n",
              "10   2   4   3\n",
              "12   5   2   9\n",
              "13   2   9   7\n",
              "14   0   8   0"
            ]
          },
          "metadata": {
            "tags": []
          },
          "execution_count": 45
        }
      ]
    },
    {
      "cell_type": "markdown",
      "metadata": {
        "id": "Ax96PHGlIDnL"
      },
      "source": [
        "> Как и в numpy, для применения нескольких операций необходимо оборачивать каждую в скобки."
      ]
    },
    {
      "cell_type": "markdown",
      "metadata": {
        "id": "nbpi-IeCILB2"
      },
      "source": [
        "## Задание\n",
        "\n",
        "Выберите записи во фрейме, которые по признаку `x1` имеют значение больше 3, а по признаку `x3` - меньше 8."
      ]
    },
    {
      "cell_type": "code",
      "metadata": {
        "id": "j1vNwIhkIZD4",
        "outputId": "c33daf48-ce76-4f74-d143-1d7c9a928f50",
        "colab": {
          "base_uri": "https://localhost:8080/",
          "height": 136
        }
      },
      "source": [
        "df = pd.DataFrame(\n",
        "    data=np.random.randint(0, 10, size=(15, 3)), \n",
        "    columns=['x1', 'x2', 'x3']\n",
        ")\n",
        "df.head(3)"
      ],
      "execution_count": 52,
      "outputs": [
        {
          "output_type": "execute_result",
          "data": {
            "text/html": [
              "<div>\n",
              "<style scoped>\n",
              "    .dataframe tbody tr th:only-of-type {\n",
              "        vertical-align: middle;\n",
              "    }\n",
              "\n",
              "    .dataframe tbody tr th {\n",
              "        vertical-align: top;\n",
              "    }\n",
              "\n",
              "    .dataframe thead th {\n",
              "        text-align: right;\n",
              "    }\n",
              "</style>\n",
              "<table border=\"1\" class=\"dataframe\">\n",
              "  <thead>\n",
              "    <tr style=\"text-align: right;\">\n",
              "      <th></th>\n",
              "      <th>x1</th>\n",
              "      <th>x2</th>\n",
              "      <th>x3</th>\n",
              "    </tr>\n",
              "  </thead>\n",
              "  <tbody>\n",
              "    <tr>\n",
              "      <th>0</th>\n",
              "      <td>1</td>\n",
              "      <td>6</td>\n",
              "      <td>3</td>\n",
              "    </tr>\n",
              "    <tr>\n",
              "      <th>1</th>\n",
              "      <td>5</td>\n",
              "      <td>7</td>\n",
              "      <td>2</td>\n",
              "    </tr>\n",
              "    <tr>\n",
              "      <th>2</th>\n",
              "      <td>9</td>\n",
              "      <td>7</td>\n",
              "      <td>0</td>\n",
              "    </tr>\n",
              "  </tbody>\n",
              "</table>\n",
              "</div>"
            ],
            "text/plain": [
              "   x1  x2  x3\n",
              "0   1   6   3\n",
              "1   5   7   2\n",
              "2   9   7   0"
            ]
          },
          "metadata": {
            "tags": []
          },
          "execution_count": 52
        }
      ]
    },
    {
      "cell_type": "code",
      "metadata": {
        "id": "eDmDbM8nIZeE",
        "outputId": "846f3445-b5d5-4bb1-c294-e96f551e9b85",
        "colab": {
          "base_uri": "https://localhost:8080/",
          "height": 286
        }
      },
      "source": [
        "# TODO - отфильтровать фрейм по значениям признаков\n",
        "mask = (df['x1'] > 3) & (df['x3'] < 8)"
      ],
      "execution_count": 51,
      "outputs": [
        {
          "output_type": "execute_result",
          "data": {
            "text/plain": [
              "0      True\n",
              "1     False\n",
              "2      True\n",
              "3     False\n",
              "4     False\n",
              "5      True\n",
              "6      True\n",
              "7     False\n",
              "8      True\n",
              "9     False\n",
              "10     True\n",
              "11    False\n",
              "12    False\n",
              "13    False\n",
              "14     True\n",
              "dtype: bool"
            ]
          },
          "metadata": {
            "tags": []
          },
          "execution_count": 51
        }
      ]
    },
    {
      "cell_type": "code",
      "metadata": {
        "id": "3zHk7Z2SIkra",
        "outputId": "09deb25f-838f-43ca-88d7-d38fa3ca4959",
        "colab": {
          "base_uri": "https://localhost:8080/",
          "height": 254
        }
      },
      "source": [
        "# TODO - отобразите только колонки x1 и x2 с учетом условий \n",
        "#           (используйте .loc[])\n",
        "df[mask].loc[:, ('x1', 'x2')]"
      ],
      "execution_count": 56,
      "outputs": [
        {
          "output_type": "execute_result",
          "data": {
            "text/html": [
              "<div>\n",
              "<style scoped>\n",
              "    .dataframe tbody tr th:only-of-type {\n",
              "        vertical-align: middle;\n",
              "    }\n",
              "\n",
              "    .dataframe tbody tr th {\n",
              "        vertical-align: top;\n",
              "    }\n",
              "\n",
              "    .dataframe thead th {\n",
              "        text-align: right;\n",
              "    }\n",
              "</style>\n",
              "<table border=\"1\" class=\"dataframe\">\n",
              "  <thead>\n",
              "    <tr style=\"text-align: right;\">\n",
              "      <th></th>\n",
              "      <th>x1</th>\n",
              "      <th>x2</th>\n",
              "    </tr>\n",
              "  </thead>\n",
              "  <tbody>\n",
              "    <tr>\n",
              "      <th>0</th>\n",
              "      <td>1</td>\n",
              "      <td>6</td>\n",
              "    </tr>\n",
              "    <tr>\n",
              "      <th>2</th>\n",
              "      <td>9</td>\n",
              "      <td>7</td>\n",
              "    </tr>\n",
              "    <tr>\n",
              "      <th>5</th>\n",
              "      <td>7</td>\n",
              "      <td>6</td>\n",
              "    </tr>\n",
              "    <tr>\n",
              "      <th>6</th>\n",
              "      <td>1</td>\n",
              "      <td>5</td>\n",
              "    </tr>\n",
              "    <tr>\n",
              "      <th>8</th>\n",
              "      <td>2</td>\n",
              "      <td>7</td>\n",
              "    </tr>\n",
              "    <tr>\n",
              "      <th>10</th>\n",
              "      <td>9</td>\n",
              "      <td>2</td>\n",
              "    </tr>\n",
              "    <tr>\n",
              "      <th>14</th>\n",
              "      <td>3</td>\n",
              "      <td>2</td>\n",
              "    </tr>\n",
              "  </tbody>\n",
              "</table>\n",
              "</div>"
            ],
            "text/plain": [
              "    x1  x2\n",
              "0    1   6\n",
              "2    9   7\n",
              "5    7   6\n",
              "6    1   5\n",
              "8    2   7\n",
              "10   9   2\n",
              "14   3   2"
            ]
          },
          "metadata": {
            "tags": []
          },
          "execution_count": 56
        }
      ]
    },
    {
      "cell_type": "markdown",
      "metadata": {
        "id": "pppYzrYDulwx"
      },
      "source": [
        "## Задание\n",
        "\n",
        "С помощью метода `DataFrame.query()` получите записи, которые соответсвуют условию сравнения колонок $x1 > x3$:"
      ]
    },
    {
      "cell_type": "code",
      "metadata": {
        "id": "WqFcnjEEuzBq",
        "outputId": "f359463a-0ec6-4075-ef2c-23bdb37ec5e1",
        "colab": {
          "base_uri": "https://localhost:8080/",
          "height": 254
        }
      },
      "source": [
        "df = pd.DataFrame(\n",
        "    [[1, 2, 6], [5, 1, 1], [8, 4, 6], [4, 1, 1], [9, 9, 0], [-1, 2, 1], [5, 5, 5]],\n",
        "    columns = ['x1', 'x2', 'x3']\n",
        ")\n",
        "df"
      ],
      "execution_count": 57,
      "outputs": [
        {
          "output_type": "execute_result",
          "data": {
            "text/html": [
              "<div>\n",
              "<style scoped>\n",
              "    .dataframe tbody tr th:only-of-type {\n",
              "        vertical-align: middle;\n",
              "    }\n",
              "\n",
              "    .dataframe tbody tr th {\n",
              "        vertical-align: top;\n",
              "    }\n",
              "\n",
              "    .dataframe thead th {\n",
              "        text-align: right;\n",
              "    }\n",
              "</style>\n",
              "<table border=\"1\" class=\"dataframe\">\n",
              "  <thead>\n",
              "    <tr style=\"text-align: right;\">\n",
              "      <th></th>\n",
              "      <th>x1</th>\n",
              "      <th>x2</th>\n",
              "      <th>x3</th>\n",
              "    </tr>\n",
              "  </thead>\n",
              "  <tbody>\n",
              "    <tr>\n",
              "      <th>0</th>\n",
              "      <td>1</td>\n",
              "      <td>2</td>\n",
              "      <td>6</td>\n",
              "    </tr>\n",
              "    <tr>\n",
              "      <th>1</th>\n",
              "      <td>5</td>\n",
              "      <td>1</td>\n",
              "      <td>1</td>\n",
              "    </tr>\n",
              "    <tr>\n",
              "      <th>2</th>\n",
              "      <td>8</td>\n",
              "      <td>4</td>\n",
              "      <td>6</td>\n",
              "    </tr>\n",
              "    <tr>\n",
              "      <th>3</th>\n",
              "      <td>4</td>\n",
              "      <td>1</td>\n",
              "      <td>1</td>\n",
              "    </tr>\n",
              "    <tr>\n",
              "      <th>4</th>\n",
              "      <td>9</td>\n",
              "      <td>9</td>\n",
              "      <td>0</td>\n",
              "    </tr>\n",
              "    <tr>\n",
              "      <th>5</th>\n",
              "      <td>-1</td>\n",
              "      <td>2</td>\n",
              "      <td>1</td>\n",
              "    </tr>\n",
              "    <tr>\n",
              "      <th>6</th>\n",
              "      <td>5</td>\n",
              "      <td>5</td>\n",
              "      <td>5</td>\n",
              "    </tr>\n",
              "  </tbody>\n",
              "</table>\n",
              "</div>"
            ],
            "text/plain": [
              "   x1  x2  x3\n",
              "0   1   2   6\n",
              "1   5   1   1\n",
              "2   8   4   6\n",
              "3   4   1   1\n",
              "4   9   9   0\n",
              "5  -1   2   1\n",
              "6   5   5   5"
            ]
          },
          "metadata": {
            "tags": []
          },
          "execution_count": 57
        }
      ]
    },
    {
      "cell_type": "code",
      "metadata": {
        "id": "y4CjO3YfvFXq",
        "outputId": "cf64d94b-3ad3-4477-df06-65ebf37cac0f",
        "colab": {
          "base_uri": "https://localhost:8080/",
          "height": 166
        }
      },
      "source": [
        "# TODO - Методом DataFrame.query() получить записи, удовлетворяющие условию\n",
        "#           x1 > x3\n",
        "df.query('x1 > x3')"
      ],
      "execution_count": 59,
      "outputs": [
        {
          "output_type": "execute_result",
          "data": {
            "text/html": [
              "<div>\n",
              "<style scoped>\n",
              "    .dataframe tbody tr th:only-of-type {\n",
              "        vertical-align: middle;\n",
              "    }\n",
              "\n",
              "    .dataframe tbody tr th {\n",
              "        vertical-align: top;\n",
              "    }\n",
              "\n",
              "    .dataframe thead th {\n",
              "        text-align: right;\n",
              "    }\n",
              "</style>\n",
              "<table border=\"1\" class=\"dataframe\">\n",
              "  <thead>\n",
              "    <tr style=\"text-align: right;\">\n",
              "      <th></th>\n",
              "      <th>x1</th>\n",
              "      <th>x2</th>\n",
              "      <th>x3</th>\n",
              "    </tr>\n",
              "  </thead>\n",
              "  <tbody>\n",
              "    <tr>\n",
              "      <th>1</th>\n",
              "      <td>5</td>\n",
              "      <td>1</td>\n",
              "      <td>1</td>\n",
              "    </tr>\n",
              "    <tr>\n",
              "      <th>2</th>\n",
              "      <td>8</td>\n",
              "      <td>4</td>\n",
              "      <td>6</td>\n",
              "    </tr>\n",
              "    <tr>\n",
              "      <th>3</th>\n",
              "      <td>4</td>\n",
              "      <td>1</td>\n",
              "      <td>1</td>\n",
              "    </tr>\n",
              "    <tr>\n",
              "      <th>4</th>\n",
              "      <td>9</td>\n",
              "      <td>9</td>\n",
              "      <td>0</td>\n",
              "    </tr>\n",
              "  </tbody>\n",
              "</table>\n",
              "</div>"
            ],
            "text/plain": [
              "   x1  x2  x3\n",
              "1   5   1   1\n",
              "2   8   4   6\n",
              "3   4   1   1\n",
              "4   9   9   0"
            ]
          },
          "metadata": {
            "tags": []
          },
          "execution_count": 59
        }
      ]
    },
    {
      "cell_type": "code",
      "metadata": {
        "id": "A4nFNejgvSAN",
        "outputId": "0c57b517-a714-4c75-c817-f3f7bd8d94e9",
        "colab": {
          "base_uri": "https://localhost:8080/",
          "height": 166
        }
      },
      "source": [
        "# TODO - Сделать аналогичное действие, но уже с помощью условной индексации\n",
        "mask = df['x1'] > df['x3']\n",
        "df[mask]"
      ],
      "execution_count": 61,
      "outputs": [
        {
          "output_type": "execute_result",
          "data": {
            "text/html": [
              "<div>\n",
              "<style scoped>\n",
              "    .dataframe tbody tr th:only-of-type {\n",
              "        vertical-align: middle;\n",
              "    }\n",
              "\n",
              "    .dataframe tbody tr th {\n",
              "        vertical-align: top;\n",
              "    }\n",
              "\n",
              "    .dataframe thead th {\n",
              "        text-align: right;\n",
              "    }\n",
              "</style>\n",
              "<table border=\"1\" class=\"dataframe\">\n",
              "  <thead>\n",
              "    <tr style=\"text-align: right;\">\n",
              "      <th></th>\n",
              "      <th>x1</th>\n",
              "      <th>x2</th>\n",
              "      <th>x3</th>\n",
              "    </tr>\n",
              "  </thead>\n",
              "  <tbody>\n",
              "    <tr>\n",
              "      <th>1</th>\n",
              "      <td>5</td>\n",
              "      <td>1</td>\n",
              "      <td>1</td>\n",
              "    </tr>\n",
              "    <tr>\n",
              "      <th>2</th>\n",
              "      <td>8</td>\n",
              "      <td>4</td>\n",
              "      <td>6</td>\n",
              "    </tr>\n",
              "    <tr>\n",
              "      <th>3</th>\n",
              "      <td>4</td>\n",
              "      <td>1</td>\n",
              "      <td>1</td>\n",
              "    </tr>\n",
              "    <tr>\n",
              "      <th>4</th>\n",
              "      <td>9</td>\n",
              "      <td>9</td>\n",
              "      <td>0</td>\n",
              "    </tr>\n",
              "  </tbody>\n",
              "</table>\n",
              "</div>"
            ],
            "text/plain": [
              "   x1  x2  x3\n",
              "1   5   1   1\n",
              "2   8   4   6\n",
              "3   4   1   1\n",
              "4   9   9   0"
            ]
          },
          "metadata": {
            "tags": []
          },
          "execution_count": 61
        }
      ]
    },
    {
      "cell_type": "markdown",
      "metadata": {
        "id": "9nLi9I9k1lT4"
      },
      "source": [
        "# Операции с рядами / Новые колонки"
      ]
    },
    {
      "cell_type": "markdown",
      "metadata": {
        "id": "pUqSlAwi17k1"
      },
      "source": [
        "Работа с фреймами и рядами данных в pandas поддерживает многие операции по аналогии с работой в numpy."
      ]
    },
    {
      "cell_type": "code",
      "metadata": {
        "id": "xxdg5abT22ZJ",
        "outputId": "9bcc6bd6-c475-4cc2-b8e4-b9eb737b899c",
        "colab": {
          "base_uri": "https://localhost:8080/",
          "height": 136
        }
      },
      "source": [
        "df = pd.DataFrame(\n",
        "    data=np.random.randint(0, 10, size=(15, 3)), \n",
        "    columns=['x1', 'x2', 'x3']\n",
        ")\n",
        "df.head(3)"
      ],
      "execution_count": 62,
      "outputs": [
        {
          "output_type": "execute_result",
          "data": {
            "text/html": [
              "<div>\n",
              "<style scoped>\n",
              "    .dataframe tbody tr th:only-of-type {\n",
              "        vertical-align: middle;\n",
              "    }\n",
              "\n",
              "    .dataframe tbody tr th {\n",
              "        vertical-align: top;\n",
              "    }\n",
              "\n",
              "    .dataframe thead th {\n",
              "        text-align: right;\n",
              "    }\n",
              "</style>\n",
              "<table border=\"1\" class=\"dataframe\">\n",
              "  <thead>\n",
              "    <tr style=\"text-align: right;\">\n",
              "      <th></th>\n",
              "      <th>x1</th>\n",
              "      <th>x2</th>\n",
              "      <th>x3</th>\n",
              "    </tr>\n",
              "  </thead>\n",
              "  <tbody>\n",
              "    <tr>\n",
              "      <th>0</th>\n",
              "      <td>1</td>\n",
              "      <td>6</td>\n",
              "      <td>2</td>\n",
              "    </tr>\n",
              "    <tr>\n",
              "      <th>1</th>\n",
              "      <td>2</td>\n",
              "      <td>9</td>\n",
              "      <td>4</td>\n",
              "    </tr>\n",
              "    <tr>\n",
              "      <th>2</th>\n",
              "      <td>7</td>\n",
              "      <td>0</td>\n",
              "      <td>9</td>\n",
              "    </tr>\n",
              "  </tbody>\n",
              "</table>\n",
              "</div>"
            ],
            "text/plain": [
              "   x1  x2  x3\n",
              "0   1   6   2\n",
              "1   2   9   4\n",
              "2   7   0   9"
            ]
          },
          "metadata": {
            "tags": []
          },
          "execution_count": 62
        }
      ]
    },
    {
      "cell_type": "code",
      "metadata": {
        "id": "DBbdLqIv3DAG",
        "outputId": "38da7d07-91ff-4e91-cbe1-82ebc40c364f",
        "colab": {
          "base_uri": "https://localhost:8080/",
          "height": 136
        }
      },
      "source": [
        "# Создать новую колонку можно по аналогии с новым ключем в словаре\n",
        "# Сложение нескольких Series и запись в новую колонку\n",
        "df['x1+x2'] = df['x1'] + df['x2']\n",
        "df.head(3)"
      ],
      "execution_count": 63,
      "outputs": [
        {
          "output_type": "execute_result",
          "data": {
            "text/html": [
              "<div>\n",
              "<style scoped>\n",
              "    .dataframe tbody tr th:only-of-type {\n",
              "        vertical-align: middle;\n",
              "    }\n",
              "\n",
              "    .dataframe tbody tr th {\n",
              "        vertical-align: top;\n",
              "    }\n",
              "\n",
              "    .dataframe thead th {\n",
              "        text-align: right;\n",
              "    }\n",
              "</style>\n",
              "<table border=\"1\" class=\"dataframe\">\n",
              "  <thead>\n",
              "    <tr style=\"text-align: right;\">\n",
              "      <th></th>\n",
              "      <th>x1</th>\n",
              "      <th>x2</th>\n",
              "      <th>x3</th>\n",
              "      <th>x1+x2</th>\n",
              "    </tr>\n",
              "  </thead>\n",
              "  <tbody>\n",
              "    <tr>\n",
              "      <th>0</th>\n",
              "      <td>1</td>\n",
              "      <td>6</td>\n",
              "      <td>2</td>\n",
              "      <td>7</td>\n",
              "    </tr>\n",
              "    <tr>\n",
              "      <th>1</th>\n",
              "      <td>2</td>\n",
              "      <td>9</td>\n",
              "      <td>4</td>\n",
              "      <td>11</td>\n",
              "    </tr>\n",
              "    <tr>\n",
              "      <th>2</th>\n",
              "      <td>7</td>\n",
              "      <td>0</td>\n",
              "      <td>9</td>\n",
              "      <td>7</td>\n",
              "    </tr>\n",
              "  </tbody>\n",
              "</table>\n",
              "</div>"
            ],
            "text/plain": [
              "   x1  x2  x3  x1+x2\n",
              "0   1   6   2      7\n",
              "1   2   9   4     11\n",
              "2   7   0   9      7"
            ]
          },
          "metadata": {
            "tags": []
          },
          "execution_count": 63
        }
      ]
    },
    {
      "cell_type": "code",
      "metadata": {
        "id": "YHsGI82a32Dy",
        "outputId": "e8940482-4f56-4d4e-aee7-89dcc55e6b80",
        "colab": {
          "base_uri": "https://localhost:8080/",
          "height": 136
        }
      },
      "source": [
        "# Поэлементное умножение\n",
        "df['x1*x3'] = df['x1'] * df['x3']\n",
        "df.head(3)"
      ],
      "execution_count": 64,
      "outputs": [
        {
          "output_type": "execute_result",
          "data": {
            "text/html": [
              "<div>\n",
              "<style scoped>\n",
              "    .dataframe tbody tr th:only-of-type {\n",
              "        vertical-align: middle;\n",
              "    }\n",
              "\n",
              "    .dataframe tbody tr th {\n",
              "        vertical-align: top;\n",
              "    }\n",
              "\n",
              "    .dataframe thead th {\n",
              "        text-align: right;\n",
              "    }\n",
              "</style>\n",
              "<table border=\"1\" class=\"dataframe\">\n",
              "  <thead>\n",
              "    <tr style=\"text-align: right;\">\n",
              "      <th></th>\n",
              "      <th>x1</th>\n",
              "      <th>x2</th>\n",
              "      <th>x3</th>\n",
              "      <th>x1+x2</th>\n",
              "      <th>x1*x3</th>\n",
              "    </tr>\n",
              "  </thead>\n",
              "  <tbody>\n",
              "    <tr>\n",
              "      <th>0</th>\n",
              "      <td>1</td>\n",
              "      <td>6</td>\n",
              "      <td>2</td>\n",
              "      <td>7</td>\n",
              "      <td>2</td>\n",
              "    </tr>\n",
              "    <tr>\n",
              "      <th>1</th>\n",
              "      <td>2</td>\n",
              "      <td>9</td>\n",
              "      <td>4</td>\n",
              "      <td>11</td>\n",
              "      <td>8</td>\n",
              "    </tr>\n",
              "    <tr>\n",
              "      <th>2</th>\n",
              "      <td>7</td>\n",
              "      <td>0</td>\n",
              "      <td>9</td>\n",
              "      <td>7</td>\n",
              "      <td>63</td>\n",
              "    </tr>\n",
              "  </tbody>\n",
              "</table>\n",
              "</div>"
            ],
            "text/plain": [
              "   x1  x2  x3  x1+x2  x1*x3\n",
              "0   1   6   2      7      2\n",
              "1   2   9   4     11      8\n",
              "2   7   0   9      7     63"
            ]
          },
          "metadata": {
            "tags": []
          },
          "execution_count": 64
        }
      ]
    },
    {
      "cell_type": "code",
      "metadata": {
        "id": "2WLH7E1_37Zd",
        "outputId": "4fd7e32a-8e49-4eaa-b212-15cc33597a97",
        "colab": {
          "base_uri": "https://localhost:8080/",
          "height": 34
        }
      },
      "source": [
        "# Взятие среднего по колонке (метод Series.mean())\n",
        "df['x1'].mean()"
      ],
      "execution_count": 65,
      "outputs": [
        {
          "output_type": "execute_result",
          "data": {
            "text/plain": [
              "2.6666666666666665"
            ]
          },
          "metadata": {
            "tags": []
          },
          "execution_count": 65
        }
      ]
    },
    {
      "cell_type": "code",
      "metadata": {
        "id": "okj2LQ8a4X0c",
        "outputId": "7368c849-4611-420e-d8dc-d179f02c4116",
        "colab": {
          "base_uri": "https://localhost:8080/",
          "height": 136
        }
      },
      "source": [
        "# Использование функций numpy для работы с колонками\n",
        "df['x2_exp'] = np.exp(df['x2'])\n",
        "df.head(3)"
      ],
      "execution_count": 66,
      "outputs": [
        {
          "output_type": "execute_result",
          "data": {
            "text/html": [
              "<div>\n",
              "<style scoped>\n",
              "    .dataframe tbody tr th:only-of-type {\n",
              "        vertical-align: middle;\n",
              "    }\n",
              "\n",
              "    .dataframe tbody tr th {\n",
              "        vertical-align: top;\n",
              "    }\n",
              "\n",
              "    .dataframe thead th {\n",
              "        text-align: right;\n",
              "    }\n",
              "</style>\n",
              "<table border=\"1\" class=\"dataframe\">\n",
              "  <thead>\n",
              "    <tr style=\"text-align: right;\">\n",
              "      <th></th>\n",
              "      <th>x1</th>\n",
              "      <th>x2</th>\n",
              "      <th>x3</th>\n",
              "      <th>x1+x2</th>\n",
              "      <th>x1*x3</th>\n",
              "      <th>x2_exp</th>\n",
              "    </tr>\n",
              "  </thead>\n",
              "  <tbody>\n",
              "    <tr>\n",
              "      <th>0</th>\n",
              "      <td>1</td>\n",
              "      <td>6</td>\n",
              "      <td>2</td>\n",
              "      <td>7</td>\n",
              "      <td>2</td>\n",
              "      <td>403.428793</td>\n",
              "    </tr>\n",
              "    <tr>\n",
              "      <th>1</th>\n",
              "      <td>2</td>\n",
              "      <td>9</td>\n",
              "      <td>4</td>\n",
              "      <td>11</td>\n",
              "      <td>8</td>\n",
              "      <td>8103.083928</td>\n",
              "    </tr>\n",
              "    <tr>\n",
              "      <th>2</th>\n",
              "      <td>7</td>\n",
              "      <td>0</td>\n",
              "      <td>9</td>\n",
              "      <td>7</td>\n",
              "      <td>63</td>\n",
              "      <td>1.000000</td>\n",
              "    </tr>\n",
              "  </tbody>\n",
              "</table>\n",
              "</div>"
            ],
            "text/plain": [
              "   x1  x2  x3  x1+x2  x1*x3       x2_exp\n",
              "0   1   6   2      7      2   403.428793\n",
              "1   2   9   4     11      8  8103.083928\n",
              "2   7   0   9      7     63     1.000000"
            ]
          },
          "metadata": {
            "tags": []
          },
          "execution_count": 66
        }
      ]
    },
    {
      "cell_type": "markdown",
      "metadata": {
        "id": "lGfjIyV14wC8"
      },
      "source": [
        "Как вы заметили, ряды (это же одномерные массивы) можно обрабатывать:\n",
        "- операциями Python;\n",
        "- методами класса Series;\n",
        "- функциями numpy.\n",
        "\n",
        "> Для создания новой колонки достаточно просто задать имя новой колонки и записать ряд данных (может быть даже одномерным массивом numpy), который имеет такой же размер, куда пишется."
      ]
    },
    {
      "cell_type": "markdown",
      "metadata": {
        "id": "5RF8V86g-JMk"
      },
      "source": [
        "Для случая, если нужной функции нет, то можно создать свою с помощью метода `Series.apply()`, которой передается название функции для применения над всем рядом."
      ]
    },
    {
      "cell_type": "code",
      "metadata": {
        "id": "a1hhrKsn-pSy",
        "outputId": "1574c01a-b239-4e41-c8ae-66620dd58308",
        "colab": {
          "base_uri": "https://localhost:8080/",
          "height": 136
        }
      },
      "source": [
        "df = pd.DataFrame(\n",
        "    data=np.random.randint(0, 10, size=(3, 3)), \n",
        "    columns=['x1', 'x2', 'x3']\n",
        ")\n",
        "df"
      ],
      "execution_count": 67,
      "outputs": [
        {
          "output_type": "execute_result",
          "data": {
            "text/html": [
              "<div>\n",
              "<style scoped>\n",
              "    .dataframe tbody tr th:only-of-type {\n",
              "        vertical-align: middle;\n",
              "    }\n",
              "\n",
              "    .dataframe tbody tr th {\n",
              "        vertical-align: top;\n",
              "    }\n",
              "\n",
              "    .dataframe thead th {\n",
              "        text-align: right;\n",
              "    }\n",
              "</style>\n",
              "<table border=\"1\" class=\"dataframe\">\n",
              "  <thead>\n",
              "    <tr style=\"text-align: right;\">\n",
              "      <th></th>\n",
              "      <th>x1</th>\n",
              "      <th>x2</th>\n",
              "      <th>x3</th>\n",
              "    </tr>\n",
              "  </thead>\n",
              "  <tbody>\n",
              "    <tr>\n",
              "      <th>0</th>\n",
              "      <td>4</td>\n",
              "      <td>0</td>\n",
              "      <td>1</td>\n",
              "    </tr>\n",
              "    <tr>\n",
              "      <th>1</th>\n",
              "      <td>1</td>\n",
              "      <td>6</td>\n",
              "      <td>0</td>\n",
              "    </tr>\n",
              "    <tr>\n",
              "      <th>2</th>\n",
              "      <td>9</td>\n",
              "      <td>7</td>\n",
              "      <td>9</td>\n",
              "    </tr>\n",
              "  </tbody>\n",
              "</table>\n",
              "</div>"
            ],
            "text/plain": [
              "   x1  x2  x3\n",
              "0   4   0   1\n",
              "1   1   6   0\n",
              "2   9   7   9"
            ]
          },
          "metadata": {
            "tags": []
          },
          "execution_count": 67
        }
      ]
    },
    {
      "cell_type": "code",
      "metadata": {
        "id": "Cl1cdYh5_Bsu",
        "outputId": "817ea521-5c27-4300-a58a-53d8f85af0d4",
        "colab": {
          "base_uri": "https://localhost:8080/",
          "height": 237
        }
      },
      "source": [
        "# Обязательно требование к функции - один аргумент\n",
        "# Эта функция будет передана в apply() и pandas\n",
        "#   будет вызывать ее и передавать в нее \n",
        "#   по одному элементу из ряда\n",
        "# Возвращать функция должна результат операции над элементом\n",
        "def my_func(x):\n",
        "    print(type(x))\n",
        "    print(x)\n",
        "    return x*2\n",
        "\n",
        "df['result'] = df['x1'].apply(my_func)\n",
        "df"
      ],
      "execution_count": 68,
      "outputs": [
        {
          "output_type": "stream",
          "text": [
            "<class 'int'>\n",
            "4\n",
            "<class 'int'>\n",
            "1\n",
            "<class 'int'>\n",
            "9\n"
          ],
          "name": "stdout"
        },
        {
          "output_type": "execute_result",
          "data": {
            "text/html": [
              "<div>\n",
              "<style scoped>\n",
              "    .dataframe tbody tr th:only-of-type {\n",
              "        vertical-align: middle;\n",
              "    }\n",
              "\n",
              "    .dataframe tbody tr th {\n",
              "        vertical-align: top;\n",
              "    }\n",
              "\n",
              "    .dataframe thead th {\n",
              "        text-align: right;\n",
              "    }\n",
              "</style>\n",
              "<table border=\"1\" class=\"dataframe\">\n",
              "  <thead>\n",
              "    <tr style=\"text-align: right;\">\n",
              "      <th></th>\n",
              "      <th>x1</th>\n",
              "      <th>x2</th>\n",
              "      <th>x3</th>\n",
              "      <th>result</th>\n",
              "    </tr>\n",
              "  </thead>\n",
              "  <tbody>\n",
              "    <tr>\n",
              "      <th>0</th>\n",
              "      <td>4</td>\n",
              "      <td>0</td>\n",
              "      <td>1</td>\n",
              "      <td>8</td>\n",
              "    </tr>\n",
              "    <tr>\n",
              "      <th>1</th>\n",
              "      <td>1</td>\n",
              "      <td>6</td>\n",
              "      <td>0</td>\n",
              "      <td>2</td>\n",
              "    </tr>\n",
              "    <tr>\n",
              "      <th>2</th>\n",
              "      <td>9</td>\n",
              "      <td>7</td>\n",
              "      <td>9</td>\n",
              "      <td>18</td>\n",
              "    </tr>\n",
              "  </tbody>\n",
              "</table>\n",
              "</div>"
            ],
            "text/plain": [
              "   x1  x2  x3  result\n",
              "0   4   0   1       8\n",
              "1   1   6   0       2\n",
              "2   9   7   9      18"
            ]
          },
          "metadata": {
            "tags": []
          },
          "execution_count": 68
        }
      ]
    },
    {
      "cell_type": "markdown",
      "metadata": {
        "id": "EiCkYETi_LOr"
      },
      "source": [
        "Как видно, в функцию передается каждый элемент в ряду, тип элемента соответсвует типу колонки. Результат метода `.apply()` - новый ряд с примененной функцией."
      ]
    },
    {
      "cell_type": "markdown",
      "metadata": {
        "id": "cL0aNoDx6hmU"
      },
      "source": [
        "# Операции с фреймами"
      ]
    },
    {
      "cell_type": "markdown",
      "metadata": {
        "id": "CIiispWG6s-N"
      },
      "source": [
        "## Переименование колонок / индексов"
      ]
    },
    {
      "cell_type": "markdown",
      "metadata": {
        "id": "X82Dz47d5vym"
      },
      "source": [
        "Одной из полезных функций является возможность переименования имен колонок. Для этого имеется метод `DataFrame.rename()`:"
      ]
    },
    {
      "cell_type": "code",
      "metadata": {
        "id": "r5a3F6Dw56dr",
        "outputId": "c5331ec9-0889-4967-a770-8d8b0b2d6d8e",
        "colab": {
          "base_uri": "https://localhost:8080/",
          "height": 136
        }
      },
      "source": [
        "df = pd.DataFrame(\n",
        "    data=np.random.randint(0, 10, size=(15, 3)), \n",
        "    columns=['x1', 'x2', 'x3']\n",
        ")\n",
        "df.head(3)"
      ],
      "execution_count": 69,
      "outputs": [
        {
          "output_type": "execute_result",
          "data": {
            "text/html": [
              "<div>\n",
              "<style scoped>\n",
              "    .dataframe tbody tr th:only-of-type {\n",
              "        vertical-align: middle;\n",
              "    }\n",
              "\n",
              "    .dataframe tbody tr th {\n",
              "        vertical-align: top;\n",
              "    }\n",
              "\n",
              "    .dataframe thead th {\n",
              "        text-align: right;\n",
              "    }\n",
              "</style>\n",
              "<table border=\"1\" class=\"dataframe\">\n",
              "  <thead>\n",
              "    <tr style=\"text-align: right;\">\n",
              "      <th></th>\n",
              "      <th>x1</th>\n",
              "      <th>x2</th>\n",
              "      <th>x3</th>\n",
              "    </tr>\n",
              "  </thead>\n",
              "  <tbody>\n",
              "    <tr>\n",
              "      <th>0</th>\n",
              "      <td>6</td>\n",
              "      <td>6</td>\n",
              "      <td>9</td>\n",
              "    </tr>\n",
              "    <tr>\n",
              "      <th>1</th>\n",
              "      <td>6</td>\n",
              "      <td>3</td>\n",
              "      <td>1</td>\n",
              "    </tr>\n",
              "    <tr>\n",
              "      <th>2</th>\n",
              "      <td>8</td>\n",
              "      <td>0</td>\n",
              "      <td>5</td>\n",
              "    </tr>\n",
              "  </tbody>\n",
              "</table>\n",
              "</div>"
            ],
            "text/plain": [
              "   x1  x2  x3\n",
              "0   6   6   9\n",
              "1   6   3   1\n",
              "2   8   0   5"
            ]
          },
          "metadata": {
            "tags": []
          },
          "execution_count": 69
        }
      ]
    },
    {
      "cell_type": "code",
      "metadata": {
        "id": "fWw_Wo_D59FT",
        "outputId": "9dd47c04-625a-4c6c-9de2-26c64a4d2ea5",
        "colab": {
          "base_uri": "https://localhost:8080/",
          "height": 136
        }
      },
      "source": [
        "# Методу передается в аргумент columns словарь, \n",
        "#   в котором ключи - имена колонок,\n",
        "#   значения - новые имена для переименования\n",
        "df.rename(\n",
        "    columns={\n",
        "        'x1': 'new_name_for_x1',\n",
        "        'x3': 'that_not_x3' \n",
        "    },\n",
        "    inplace=True\n",
        ")\n",
        "df.head(3)"
      ],
      "execution_count": 70,
      "outputs": [
        {
          "output_type": "execute_result",
          "data": {
            "text/html": [
              "<div>\n",
              "<style scoped>\n",
              "    .dataframe tbody tr th:only-of-type {\n",
              "        vertical-align: middle;\n",
              "    }\n",
              "\n",
              "    .dataframe tbody tr th {\n",
              "        vertical-align: top;\n",
              "    }\n",
              "\n",
              "    .dataframe thead th {\n",
              "        text-align: right;\n",
              "    }\n",
              "</style>\n",
              "<table border=\"1\" class=\"dataframe\">\n",
              "  <thead>\n",
              "    <tr style=\"text-align: right;\">\n",
              "      <th></th>\n",
              "      <th>new_name_for_x1</th>\n",
              "      <th>x2</th>\n",
              "      <th>that_not_x3</th>\n",
              "    </tr>\n",
              "  </thead>\n",
              "  <tbody>\n",
              "    <tr>\n",
              "      <th>0</th>\n",
              "      <td>6</td>\n",
              "      <td>6</td>\n",
              "      <td>9</td>\n",
              "    </tr>\n",
              "    <tr>\n",
              "      <th>1</th>\n",
              "      <td>6</td>\n",
              "      <td>3</td>\n",
              "      <td>1</td>\n",
              "    </tr>\n",
              "    <tr>\n",
              "      <th>2</th>\n",
              "      <td>8</td>\n",
              "      <td>0</td>\n",
              "      <td>5</td>\n",
              "    </tr>\n",
              "  </tbody>\n",
              "</table>\n",
              "</div>"
            ],
            "text/plain": [
              "   new_name_for_x1  x2  that_not_x3\n",
              "0                6   6            9\n",
              "1                6   3            1\n",
              "2                8   0            5"
            ]
          },
          "metadata": {
            "tags": []
          },
          "execution_count": 70
        }
      ]
    },
    {
      "cell_type": "markdown",
      "metadata": {
        "id": "3GP6Mkby6mIb"
      },
      "source": [
        "> Аргумент `inplace` является достаточно распространенным в методах фреймов. Этот аргумент управляет тем, как произвести операцию: прямо в этом классе (при установленном True) или вернуть результатом новый фрейм с произведенной операцией (при установленном False).\n",
        "\n",
        "Для сравнения аналогичный код без `inplace` выглядел бы так:\n",
        "```python\n",
        "df_renamed = df.rename(columns={\n",
        "    'x1': 'new_name_for_x1',\n",
        "    'x3': 'that_not_x3'\n",
        "})\n",
        "```"
      ]
    },
    {
      "cell_type": "markdown",
      "metadata": {
        "id": "Pn5PWfi18Nn1"
      },
      "source": [
        "Для переименования индексов (названий записей) используется тот же принцип, но словарь передается в аргумент `index` с ключами - исходными названиями индексов, значениями - новыми значениями."
      ]
    },
    {
      "cell_type": "markdown",
      "metadata": {
        "id": "ZJ0GeWkG8qqc"
      },
      "source": [
        "### Задание\n",
        "\n",
        "Переименуйте индексы и колонки во фрейме"
      ]
    },
    {
      "cell_type": "code",
      "metadata": {
        "id": "8ItPTn_887Sc",
        "outputId": "5dd602e3-a06d-496f-cda6-c05aaaf37557",
        "colab": {
          "base_uri": "https://localhost:8080/",
          "height": 195
        }
      },
      "source": [
        "df = pd.DataFrame(\n",
        "    data=np.random.randint(0, 10, size=(5, 3)), \n",
        "    index=['A', 'B', 'C', 'D', 'E'], \n",
        "    columns=['x1', 'x2', 'x3']\n",
        ")\n",
        "df"
      ],
      "execution_count": 71,
      "outputs": [
        {
          "output_type": "execute_result",
          "data": {
            "text/html": [
              "<div>\n",
              "<style scoped>\n",
              "    .dataframe tbody tr th:only-of-type {\n",
              "        vertical-align: middle;\n",
              "    }\n",
              "\n",
              "    .dataframe tbody tr th {\n",
              "        vertical-align: top;\n",
              "    }\n",
              "\n",
              "    .dataframe thead th {\n",
              "        text-align: right;\n",
              "    }\n",
              "</style>\n",
              "<table border=\"1\" class=\"dataframe\">\n",
              "  <thead>\n",
              "    <tr style=\"text-align: right;\">\n",
              "      <th></th>\n",
              "      <th>x1</th>\n",
              "      <th>x2</th>\n",
              "      <th>x3</th>\n",
              "    </tr>\n",
              "  </thead>\n",
              "  <tbody>\n",
              "    <tr>\n",
              "      <th>A</th>\n",
              "      <td>8</td>\n",
              "      <td>9</td>\n",
              "      <td>8</td>\n",
              "    </tr>\n",
              "    <tr>\n",
              "      <th>B</th>\n",
              "      <td>3</td>\n",
              "      <td>5</td>\n",
              "      <td>8</td>\n",
              "    </tr>\n",
              "    <tr>\n",
              "      <th>C</th>\n",
              "      <td>9</td>\n",
              "      <td>5</td>\n",
              "      <td>4</td>\n",
              "    </tr>\n",
              "    <tr>\n",
              "      <th>D</th>\n",
              "      <td>8</td>\n",
              "      <td>9</td>\n",
              "      <td>9</td>\n",
              "    </tr>\n",
              "    <tr>\n",
              "      <th>E</th>\n",
              "      <td>8</td>\n",
              "      <td>5</td>\n",
              "      <td>2</td>\n",
              "    </tr>\n",
              "  </tbody>\n",
              "</table>\n",
              "</div>"
            ],
            "text/plain": [
              "   x1  x2  x3\n",
              "A   8   9   8\n",
              "B   3   5   8\n",
              "C   9   5   4\n",
              "D   8   9   9\n",
              "E   8   5   2"
            ]
          },
          "metadata": {
            "tags": []
          },
          "execution_count": 71
        }
      ]
    },
    {
      "cell_type": "code",
      "metadata": {
        "id": "wHgJGm0A9Jib",
        "outputId": "2c4ccb0e-0ffd-41f8-b89d-68d072eff071",
        "colab": {
          "base_uri": "https://localhost:8080/",
          "height": 195
        }
      },
      "source": [
        "# TODO - переименуйте индексы [A, C] -> [indA, indC] \n",
        "#           и колонки [x1, x3] -> [new1, new3]\n",
        "df.rename(columns={\n",
        "    'x1': 'new1',\n",
        "    'x3': 'new3'\n",
        "    },\n",
        "    index={\n",
        "        'A': 'indA',\n",
        "        'C': 'indC'\n",
        "    }\n",
        ")"
      ],
      "execution_count": 72,
      "outputs": [
        {
          "output_type": "execute_result",
          "data": {
            "text/html": [
              "<div>\n",
              "<style scoped>\n",
              "    .dataframe tbody tr th:only-of-type {\n",
              "        vertical-align: middle;\n",
              "    }\n",
              "\n",
              "    .dataframe tbody tr th {\n",
              "        vertical-align: top;\n",
              "    }\n",
              "\n",
              "    .dataframe thead th {\n",
              "        text-align: right;\n",
              "    }\n",
              "</style>\n",
              "<table border=\"1\" class=\"dataframe\">\n",
              "  <thead>\n",
              "    <tr style=\"text-align: right;\">\n",
              "      <th></th>\n",
              "      <th>new1</th>\n",
              "      <th>x2</th>\n",
              "      <th>new3</th>\n",
              "    </tr>\n",
              "  </thead>\n",
              "  <tbody>\n",
              "    <tr>\n",
              "      <th>indA</th>\n",
              "      <td>8</td>\n",
              "      <td>9</td>\n",
              "      <td>8</td>\n",
              "    </tr>\n",
              "    <tr>\n",
              "      <th>B</th>\n",
              "      <td>3</td>\n",
              "      <td>5</td>\n",
              "      <td>8</td>\n",
              "    </tr>\n",
              "    <tr>\n",
              "      <th>indC</th>\n",
              "      <td>9</td>\n",
              "      <td>5</td>\n",
              "      <td>4</td>\n",
              "    </tr>\n",
              "    <tr>\n",
              "      <th>D</th>\n",
              "      <td>8</td>\n",
              "      <td>9</td>\n",
              "      <td>9</td>\n",
              "    </tr>\n",
              "    <tr>\n",
              "      <th>E</th>\n",
              "      <td>8</td>\n",
              "      <td>5</td>\n",
              "      <td>2</td>\n",
              "    </tr>\n",
              "  </tbody>\n",
              "</table>\n",
              "</div>"
            ],
            "text/plain": [
              "      new1  x2  new3\n",
              "indA     8   9     8\n",
              "B        3   5     8\n",
              "indC     9   5     4\n",
              "D        8   9     9\n",
              "E        8   5     2"
            ]
          },
          "metadata": {
            "tags": []
          },
          "execution_count": 72
        }
      ]
    },
    {
      "cell_type": "markdown",
      "metadata": {
        "id": "PIxEiYeA7fCT"
      },
      "source": [
        "## Удаление колонок / строк\n",
        "\n",
        "Данную операцию можно произвести двумя способами:\n",
        "1. Выбрать колонки, которые необходимо оставить, простой индексацией;\n",
        "2. Метод `DataFrame.drop()`."
      ]
    },
    {
      "cell_type": "code",
      "metadata": {
        "id": "614A8LHV7t7d",
        "outputId": "d839517e-2799-4971-8108-d5e487725234",
        "colab": {
          "base_uri": "https://localhost:8080/",
          "height": 136
        }
      },
      "source": [
        "df = pd.DataFrame(\n",
        "    data=np.random.randint(0, 10, size=(15, 3)), \n",
        "    columns=['x1', 'x2', 'x3']\n",
        ")\n",
        "df.head(3)"
      ],
      "execution_count": 73,
      "outputs": [
        {
          "output_type": "execute_result",
          "data": {
            "text/html": [
              "<div>\n",
              "<style scoped>\n",
              "    .dataframe tbody tr th:only-of-type {\n",
              "        vertical-align: middle;\n",
              "    }\n",
              "\n",
              "    .dataframe tbody tr th {\n",
              "        vertical-align: top;\n",
              "    }\n",
              "\n",
              "    .dataframe thead th {\n",
              "        text-align: right;\n",
              "    }\n",
              "</style>\n",
              "<table border=\"1\" class=\"dataframe\">\n",
              "  <thead>\n",
              "    <tr style=\"text-align: right;\">\n",
              "      <th></th>\n",
              "      <th>x1</th>\n",
              "      <th>x2</th>\n",
              "      <th>x3</th>\n",
              "    </tr>\n",
              "  </thead>\n",
              "  <tbody>\n",
              "    <tr>\n",
              "      <th>0</th>\n",
              "      <td>5</td>\n",
              "      <td>5</td>\n",
              "      <td>3</td>\n",
              "    </tr>\n",
              "    <tr>\n",
              "      <th>1</th>\n",
              "      <td>2</td>\n",
              "      <td>0</td>\n",
              "      <td>1</td>\n",
              "    </tr>\n",
              "    <tr>\n",
              "      <th>2</th>\n",
              "      <td>1</td>\n",
              "      <td>4</td>\n",
              "      <td>4</td>\n",
              "    </tr>\n",
              "  </tbody>\n",
              "</table>\n",
              "</div>"
            ],
            "text/plain": [
              "   x1  x2  x3\n",
              "0   5   5   3\n",
              "1   2   0   1\n",
              "2   1   4   4"
            ]
          },
          "metadata": {
            "tags": []
          },
          "execution_count": 73
        }
      ]
    },
    {
      "cell_type": "code",
      "metadata": {
        "id": "RpIHpNdd94Sl",
        "outputId": "6775c39e-5f71-47dc-c59e-9f58ff4620ab",
        "colab": {
          "base_uri": "https://localhost:8080/",
          "height": 136
        }
      },
      "source": [
        "df.drop(columns=['x2'], inplace=True)\n",
        "df.head(3)"
      ],
      "execution_count": 74,
      "outputs": [
        {
          "output_type": "execute_result",
          "data": {
            "text/html": [
              "<div>\n",
              "<style scoped>\n",
              "    .dataframe tbody tr th:only-of-type {\n",
              "        vertical-align: middle;\n",
              "    }\n",
              "\n",
              "    .dataframe tbody tr th {\n",
              "        vertical-align: top;\n",
              "    }\n",
              "\n",
              "    .dataframe thead th {\n",
              "        text-align: right;\n",
              "    }\n",
              "</style>\n",
              "<table border=\"1\" class=\"dataframe\">\n",
              "  <thead>\n",
              "    <tr style=\"text-align: right;\">\n",
              "      <th></th>\n",
              "      <th>x1</th>\n",
              "      <th>x3</th>\n",
              "    </tr>\n",
              "  </thead>\n",
              "  <tbody>\n",
              "    <tr>\n",
              "      <th>0</th>\n",
              "      <td>5</td>\n",
              "      <td>3</td>\n",
              "    </tr>\n",
              "    <tr>\n",
              "      <th>1</th>\n",
              "      <td>2</td>\n",
              "      <td>1</td>\n",
              "    </tr>\n",
              "    <tr>\n",
              "      <th>2</th>\n",
              "      <td>1</td>\n",
              "      <td>4</td>\n",
              "    </tr>\n",
              "  </tbody>\n",
              "</table>\n",
              "</div>"
            ],
            "text/plain": [
              "   x1  x3\n",
              "0   5   3\n",
              "1   2   1\n",
              "2   1   4"
            ]
          },
          "metadata": {
            "tags": []
          },
          "execution_count": 74
        }
      ]
    },
    {
      "cell_type": "markdown",
      "metadata": {
        "id": "2jgzUMWxJO6N"
      },
      "source": [
        "## Определение количества NaN"
      ]
    },
    {
      "cell_type": "markdown",
      "metadata": {
        "id": "ymvbguTYJUhn"
      },
      "source": [
        "В данных часто бывают пропуски (NaN), при этом на первых этапах анализа важно понять их количество по каждому признаку. Для этого можно воспользоваться методом `DataFrame.isna()`, который создаст двумерный булевый фрейм, отвечающий на вопрос \"является ли значение NaN?\". После этого над всем фреймом можно применить метод `DataFrame.sum()`, который вернет ряд (Series) с количеством элементов True в булевом фрейме (элементов NaN в основном фрейме)."
      ]
    },
    {
      "cell_type": "code",
      "metadata": {
        "id": "u6ySClv7KEUo",
        "outputId": "49d78f1a-9c60-4fce-f9f4-8a38f09eab54",
        "colab": {
          "base_uri": "https://localhost:8080/",
          "height": 195
        }
      },
      "source": [
        "df = pd.DataFrame(\n",
        "    data=np.random.randint(0, 10, size=(5, 3)), \n",
        "    columns=['x1', 'x2', 'x3']\n",
        ")\n",
        "df.iloc[0, :2] = np.nan\n",
        "df.iloc[2, 1:] = np.nan\n",
        "\n",
        "df"
      ],
      "execution_count": 75,
      "outputs": [
        {
          "output_type": "execute_result",
          "data": {
            "text/html": [
              "<div>\n",
              "<style scoped>\n",
              "    .dataframe tbody tr th:only-of-type {\n",
              "        vertical-align: middle;\n",
              "    }\n",
              "\n",
              "    .dataframe tbody tr th {\n",
              "        vertical-align: top;\n",
              "    }\n",
              "\n",
              "    .dataframe thead th {\n",
              "        text-align: right;\n",
              "    }\n",
              "</style>\n",
              "<table border=\"1\" class=\"dataframe\">\n",
              "  <thead>\n",
              "    <tr style=\"text-align: right;\">\n",
              "      <th></th>\n",
              "      <th>x1</th>\n",
              "      <th>x2</th>\n",
              "      <th>x3</th>\n",
              "    </tr>\n",
              "  </thead>\n",
              "  <tbody>\n",
              "    <tr>\n",
              "      <th>0</th>\n",
              "      <td>NaN</td>\n",
              "      <td>NaN</td>\n",
              "      <td>0.0</td>\n",
              "    </tr>\n",
              "    <tr>\n",
              "      <th>1</th>\n",
              "      <td>9.0</td>\n",
              "      <td>1.0</td>\n",
              "      <td>3.0</td>\n",
              "    </tr>\n",
              "    <tr>\n",
              "      <th>2</th>\n",
              "      <td>9.0</td>\n",
              "      <td>NaN</td>\n",
              "      <td>NaN</td>\n",
              "    </tr>\n",
              "    <tr>\n",
              "      <th>3</th>\n",
              "      <td>0.0</td>\n",
              "      <td>6.0</td>\n",
              "      <td>2.0</td>\n",
              "    </tr>\n",
              "    <tr>\n",
              "      <th>4</th>\n",
              "      <td>8.0</td>\n",
              "      <td>1.0</td>\n",
              "      <td>7.0</td>\n",
              "    </tr>\n",
              "  </tbody>\n",
              "</table>\n",
              "</div>"
            ],
            "text/plain": [
              "    x1   x2   x3\n",
              "0  NaN  NaN  0.0\n",
              "1  9.0  1.0  3.0\n",
              "2  9.0  NaN  NaN\n",
              "3  0.0  6.0  2.0\n",
              "4  8.0  1.0  7.0"
            ]
          },
          "metadata": {
            "tags": []
          },
          "execution_count": 75
        }
      ]
    },
    {
      "cell_type": "code",
      "metadata": {
        "id": "OYFxtfNQKRkq",
        "outputId": "73aa71da-c081-4fe0-a49a-069b08e2b0c6",
        "colab": {
          "base_uri": "https://localhost:8080/",
          "height": 195
        }
      },
      "source": [
        "df.isna()"
      ],
      "execution_count": 76,
      "outputs": [
        {
          "output_type": "execute_result",
          "data": {
            "text/html": [
              "<div>\n",
              "<style scoped>\n",
              "    .dataframe tbody tr th:only-of-type {\n",
              "        vertical-align: middle;\n",
              "    }\n",
              "\n",
              "    .dataframe tbody tr th {\n",
              "        vertical-align: top;\n",
              "    }\n",
              "\n",
              "    .dataframe thead th {\n",
              "        text-align: right;\n",
              "    }\n",
              "</style>\n",
              "<table border=\"1\" class=\"dataframe\">\n",
              "  <thead>\n",
              "    <tr style=\"text-align: right;\">\n",
              "      <th></th>\n",
              "      <th>x1</th>\n",
              "      <th>x2</th>\n",
              "      <th>x3</th>\n",
              "    </tr>\n",
              "  </thead>\n",
              "  <tbody>\n",
              "    <tr>\n",
              "      <th>0</th>\n",
              "      <td>True</td>\n",
              "      <td>True</td>\n",
              "      <td>False</td>\n",
              "    </tr>\n",
              "    <tr>\n",
              "      <th>1</th>\n",
              "      <td>False</td>\n",
              "      <td>False</td>\n",
              "      <td>False</td>\n",
              "    </tr>\n",
              "    <tr>\n",
              "      <th>2</th>\n",
              "      <td>False</td>\n",
              "      <td>True</td>\n",
              "      <td>True</td>\n",
              "    </tr>\n",
              "    <tr>\n",
              "      <th>3</th>\n",
              "      <td>False</td>\n",
              "      <td>False</td>\n",
              "      <td>False</td>\n",
              "    </tr>\n",
              "    <tr>\n",
              "      <th>4</th>\n",
              "      <td>False</td>\n",
              "      <td>False</td>\n",
              "      <td>False</td>\n",
              "    </tr>\n",
              "  </tbody>\n",
              "</table>\n",
              "</div>"
            ],
            "text/plain": [
              "      x1     x2     x3\n",
              "0   True   True  False\n",
              "1  False  False  False\n",
              "2  False   True   True\n",
              "3  False  False  False\n",
              "4  False  False  False"
            ]
          },
          "metadata": {
            "tags": []
          },
          "execution_count": 76
        }
      ]
    },
    {
      "cell_type": "code",
      "metadata": {
        "id": "FMmdpRcUKTsT",
        "outputId": "5069f74d-3943-4854-f89b-26118515082e",
        "colab": {
          "base_uri": "https://localhost:8080/",
          "height": 84
        }
      },
      "source": [
        "df.isna().sum()"
      ],
      "execution_count": 77,
      "outputs": [
        {
          "output_type": "execute_result",
          "data": {
            "text/plain": [
              "x1    1\n",
              "x2    2\n",
              "x3    1\n",
              "dtype: int64"
            ]
          },
          "metadata": {
            "tags": []
          },
          "execution_count": 77
        }
      ]
    },
    {
      "cell_type": "markdown",
      "metadata": {
        "id": "DE4eBYciLiHc"
      },
      "source": [
        "## Заполнение пустых значений"
      ]
    },
    {
      "cell_type": "markdown",
      "metadata": {
        "id": "159PGj1jLkeX"
      },
      "source": [
        "Техники заполнения пустых значений имеют разнообразное представление, но одним из простых методов является заполнение константой. Для этого ряд данных имеет метод `Series.fillna()`, в который можно передать значение и вместо NaN элементов будет поставлена константа, указанная в аргументах."
      ]
    },
    {
      "cell_type": "code",
      "metadata": {
        "id": "rVrv2pvGL7FT",
        "outputId": "9c4171b7-1b7f-414d-ee9d-cb35f1c41787",
        "colab": {
          "base_uri": "https://localhost:8080/",
          "height": 195
        }
      },
      "source": [
        "df"
      ],
      "execution_count": 78,
      "outputs": [
        {
          "output_type": "execute_result",
          "data": {
            "text/html": [
              "<div>\n",
              "<style scoped>\n",
              "    .dataframe tbody tr th:only-of-type {\n",
              "        vertical-align: middle;\n",
              "    }\n",
              "\n",
              "    .dataframe tbody tr th {\n",
              "        vertical-align: top;\n",
              "    }\n",
              "\n",
              "    .dataframe thead th {\n",
              "        text-align: right;\n",
              "    }\n",
              "</style>\n",
              "<table border=\"1\" class=\"dataframe\">\n",
              "  <thead>\n",
              "    <tr style=\"text-align: right;\">\n",
              "      <th></th>\n",
              "      <th>x1</th>\n",
              "      <th>x2</th>\n",
              "      <th>x3</th>\n",
              "    </tr>\n",
              "  </thead>\n",
              "  <tbody>\n",
              "    <tr>\n",
              "      <th>0</th>\n",
              "      <td>NaN</td>\n",
              "      <td>NaN</td>\n",
              "      <td>0.0</td>\n",
              "    </tr>\n",
              "    <tr>\n",
              "      <th>1</th>\n",
              "      <td>9.0</td>\n",
              "      <td>1.0</td>\n",
              "      <td>3.0</td>\n",
              "    </tr>\n",
              "    <tr>\n",
              "      <th>2</th>\n",
              "      <td>9.0</td>\n",
              "      <td>NaN</td>\n",
              "      <td>NaN</td>\n",
              "    </tr>\n",
              "    <tr>\n",
              "      <th>3</th>\n",
              "      <td>0.0</td>\n",
              "      <td>6.0</td>\n",
              "      <td>2.0</td>\n",
              "    </tr>\n",
              "    <tr>\n",
              "      <th>4</th>\n",
              "      <td>8.0</td>\n",
              "      <td>1.0</td>\n",
              "      <td>7.0</td>\n",
              "    </tr>\n",
              "  </tbody>\n",
              "</table>\n",
              "</div>"
            ],
            "text/plain": [
              "    x1   x2   x3\n",
              "0  NaN  NaN  0.0\n",
              "1  9.0  1.0  3.0\n",
              "2  9.0  NaN  NaN\n",
              "3  0.0  6.0  2.0\n",
              "4  8.0  1.0  7.0"
            ]
          },
          "metadata": {
            "tags": []
          },
          "execution_count": 78
        }
      ]
    },
    {
      "cell_type": "code",
      "metadata": {
        "id": "CNEGPZRnL9Ji",
        "outputId": "4b738897-bbf3-4719-ceca-86079a043064",
        "colab": {
          "base_uri": "https://localhost:8080/",
          "height": 195
        }
      },
      "source": [
        "df['x2'].fillna(3, inplace=True)\n",
        "df"
      ],
      "execution_count": 79,
      "outputs": [
        {
          "output_type": "execute_result",
          "data": {
            "text/html": [
              "<div>\n",
              "<style scoped>\n",
              "    .dataframe tbody tr th:only-of-type {\n",
              "        vertical-align: middle;\n",
              "    }\n",
              "\n",
              "    .dataframe tbody tr th {\n",
              "        vertical-align: top;\n",
              "    }\n",
              "\n",
              "    .dataframe thead th {\n",
              "        text-align: right;\n",
              "    }\n",
              "</style>\n",
              "<table border=\"1\" class=\"dataframe\">\n",
              "  <thead>\n",
              "    <tr style=\"text-align: right;\">\n",
              "      <th></th>\n",
              "      <th>x1</th>\n",
              "      <th>x2</th>\n",
              "      <th>x3</th>\n",
              "    </tr>\n",
              "  </thead>\n",
              "  <tbody>\n",
              "    <tr>\n",
              "      <th>0</th>\n",
              "      <td>NaN</td>\n",
              "      <td>3.0</td>\n",
              "      <td>0.0</td>\n",
              "    </tr>\n",
              "    <tr>\n",
              "      <th>1</th>\n",
              "      <td>9.0</td>\n",
              "      <td>1.0</td>\n",
              "      <td>3.0</td>\n",
              "    </tr>\n",
              "    <tr>\n",
              "      <th>2</th>\n",
              "      <td>9.0</td>\n",
              "      <td>3.0</td>\n",
              "      <td>NaN</td>\n",
              "    </tr>\n",
              "    <tr>\n",
              "      <th>3</th>\n",
              "      <td>0.0</td>\n",
              "      <td>6.0</td>\n",
              "      <td>2.0</td>\n",
              "    </tr>\n",
              "    <tr>\n",
              "      <th>4</th>\n",
              "      <td>8.0</td>\n",
              "      <td>1.0</td>\n",
              "      <td>7.0</td>\n",
              "    </tr>\n",
              "  </tbody>\n",
              "</table>\n",
              "</div>"
            ],
            "text/plain": [
              "    x1   x2   x3\n",
              "0  NaN  3.0  0.0\n",
              "1  9.0  1.0  3.0\n",
              "2  9.0  3.0  NaN\n",
              "3  0.0  6.0  2.0\n",
              "4  8.0  1.0  7.0"
            ]
          },
          "metadata": {
            "tags": []
          },
          "execution_count": 79
        }
      ]
    },
    {
      "cell_type": "markdown",
      "metadata": {
        "id": "qMLVYwcAsjv8"
      },
      "source": [
        "## Информация об уникальных значениях\n",
        "\n"
      ]
    },
    {
      "cell_type": "markdown",
      "metadata": {
        "id": "CA1B55wAson8"
      },
      "source": [
        "При работе с категориальными данными полезна информация об уникальных значения признака, поэтому важно понимать, как проверить их количество:"
      ]
    },
    {
      "cell_type": "code",
      "metadata": {
        "id": "ipzBgmO-soWq",
        "outputId": "9154904c-e529-411a-d453-1862589d937f",
        "colab": {
          "base_uri": "https://localhost:8080/",
          "height": 343
        }
      },
      "source": [
        "df = pd.DataFrame({\n",
        "    'col1': ['high', 'high', 'low', 'med', 'low', 'low', 'med', 'low', 'low', 'high'],\n",
        "    'col2': [0, 1, 1, 2, 3, 1, 1, 2, 2, 2]\n",
        "})\n",
        "df"
      ],
      "execution_count": 80,
      "outputs": [
        {
          "output_type": "execute_result",
          "data": {
            "text/html": [
              "<div>\n",
              "<style scoped>\n",
              "    .dataframe tbody tr th:only-of-type {\n",
              "        vertical-align: middle;\n",
              "    }\n",
              "\n",
              "    .dataframe tbody tr th {\n",
              "        vertical-align: top;\n",
              "    }\n",
              "\n",
              "    .dataframe thead th {\n",
              "        text-align: right;\n",
              "    }\n",
              "</style>\n",
              "<table border=\"1\" class=\"dataframe\">\n",
              "  <thead>\n",
              "    <tr style=\"text-align: right;\">\n",
              "      <th></th>\n",
              "      <th>col1</th>\n",
              "      <th>col2</th>\n",
              "    </tr>\n",
              "  </thead>\n",
              "  <tbody>\n",
              "    <tr>\n",
              "      <th>0</th>\n",
              "      <td>high</td>\n",
              "      <td>0</td>\n",
              "    </tr>\n",
              "    <tr>\n",
              "      <th>1</th>\n",
              "      <td>high</td>\n",
              "      <td>1</td>\n",
              "    </tr>\n",
              "    <tr>\n",
              "      <th>2</th>\n",
              "      <td>low</td>\n",
              "      <td>1</td>\n",
              "    </tr>\n",
              "    <tr>\n",
              "      <th>3</th>\n",
              "      <td>med</td>\n",
              "      <td>2</td>\n",
              "    </tr>\n",
              "    <tr>\n",
              "      <th>4</th>\n",
              "      <td>low</td>\n",
              "      <td>3</td>\n",
              "    </tr>\n",
              "    <tr>\n",
              "      <th>5</th>\n",
              "      <td>low</td>\n",
              "      <td>1</td>\n",
              "    </tr>\n",
              "    <tr>\n",
              "      <th>6</th>\n",
              "      <td>med</td>\n",
              "      <td>1</td>\n",
              "    </tr>\n",
              "    <tr>\n",
              "      <th>7</th>\n",
              "      <td>low</td>\n",
              "      <td>2</td>\n",
              "    </tr>\n",
              "    <tr>\n",
              "      <th>8</th>\n",
              "      <td>low</td>\n",
              "      <td>2</td>\n",
              "    </tr>\n",
              "    <tr>\n",
              "      <th>9</th>\n",
              "      <td>high</td>\n",
              "      <td>2</td>\n",
              "    </tr>\n",
              "  </tbody>\n",
              "</table>\n",
              "</div>"
            ],
            "text/plain": [
              "   col1  col2\n",
              "0  high     0\n",
              "1  high     1\n",
              "2   low     1\n",
              "3   med     2\n",
              "4   low     3\n",
              "5   low     1\n",
              "6   med     1\n",
              "7   low     2\n",
              "8   low     2\n",
              "9  high     2"
            ]
          },
          "metadata": {
            "tags": []
          },
          "execution_count": 80
        }
      ]
    },
    {
      "cell_type": "code",
      "metadata": {
        "id": "GQZBjAektbHR",
        "outputId": "b67f394e-3515-4322-dcc1-f890b8d2c3b8",
        "colab": {
          "base_uri": "https://localhost:8080/",
          "height": 67
        }
      },
      "source": [
        "# Метод DataFrame.nunique() позволяет вывести \n",
        "#   количество уникальных значений в каждой колонке\n",
        "# Результат - Series с индексами - названиями колонок\n",
        "df.nunique()"
      ],
      "execution_count": 81,
      "outputs": [
        {
          "output_type": "execute_result",
          "data": {
            "text/plain": [
              "col1    3\n",
              "col2    4\n",
              "dtype: int64"
            ]
          },
          "metadata": {
            "tags": []
          },
          "execution_count": 81
        }
      ]
    },
    {
      "cell_type": "code",
      "metadata": {
        "id": "w2Ffo-nHtvaq",
        "outputId": "cfce6bda-25a3-4d75-f62e-8d82beb7e18e",
        "colab": {
          "base_uri": "https://localhost:8080/",
          "height": 84
        }
      },
      "source": [
        "# Метод Series.value_counts() показывает уникальные значения в ряду\n",
        "#   и указывает их количество\n",
        "df['col1'].value_counts()"
      ],
      "execution_count": 82,
      "outputs": [
        {
          "output_type": "execute_result",
          "data": {
            "text/plain": [
              "low     5\n",
              "high    3\n",
              "med     2\n",
              "Name: col1, dtype: int64"
            ]
          },
          "metadata": {
            "tags": []
          },
          "execution_count": 82
        }
      ]
    },
    {
      "cell_type": "code",
      "metadata": {
        "id": "5IQjN3OCt7Hs",
        "outputId": "63274d9e-e3e2-45a8-9f8e-fb097ca109cb",
        "colab": {
          "base_uri": "https://localhost:8080/",
          "height": 101
        }
      },
      "source": [
        "# Результат - Series с индексами - уникальными значениями\n",
        "df['col2'].value_counts()"
      ],
      "execution_count": 83,
      "outputs": [
        {
          "output_type": "execute_result",
          "data": {
            "text/plain": [
              "2    4\n",
              "1    4\n",
              "3    1\n",
              "0    1\n",
              "Name: col2, dtype: int64"
            ]
          },
          "metadata": {
            "tags": []
          },
          "execution_count": 83
        }
      ]
    },
    {
      "cell_type": "markdown",
      "metadata": {
        "id": "7u9_i7LXTuHm"
      },
      "source": [
        "## Фильтрация"
      ]
    },
    {
      "cell_type": "markdown",
      "metadata": {
        "id": "uosoHO-Sokh8"
      },
      "source": [
        "Метод `DataFrame.filter()` позволяет отфильтровать и выбрать только те колонки/записи, котрые соответсвуют условию, заданному в аргументах:"
      ]
    },
    {
      "cell_type": "code",
      "metadata": {
        "id": "rzgkdyi0opus",
        "outputId": "5f5157de-8c2f-46dc-9479-83c7d26b4b85",
        "colab": {
          "base_uri": "https://localhost:8080/",
          "height": 106
        }
      },
      "source": [
        "df = pd.DataFrame(np.array(([1, 2, 3], [4, 5, 6])),\n",
        "                  index=['mouse', 'rabbit'],\n",
        "                  columns=['col_one', 'col_two', 'col_three'])\n",
        "df"
      ],
      "execution_count": 84,
      "outputs": [
        {
          "output_type": "execute_result",
          "data": {
            "text/html": [
              "<div>\n",
              "<style scoped>\n",
              "    .dataframe tbody tr th:only-of-type {\n",
              "        vertical-align: middle;\n",
              "    }\n",
              "\n",
              "    .dataframe tbody tr th {\n",
              "        vertical-align: top;\n",
              "    }\n",
              "\n",
              "    .dataframe thead th {\n",
              "        text-align: right;\n",
              "    }\n",
              "</style>\n",
              "<table border=\"1\" class=\"dataframe\">\n",
              "  <thead>\n",
              "    <tr style=\"text-align: right;\">\n",
              "      <th></th>\n",
              "      <th>col_one</th>\n",
              "      <th>col_two</th>\n",
              "      <th>col_three</th>\n",
              "    </tr>\n",
              "  </thead>\n",
              "  <tbody>\n",
              "    <tr>\n",
              "      <th>mouse</th>\n",
              "      <td>1</td>\n",
              "      <td>2</td>\n",
              "      <td>3</td>\n",
              "    </tr>\n",
              "    <tr>\n",
              "      <th>rabbit</th>\n",
              "      <td>4</td>\n",
              "      <td>5</td>\n",
              "      <td>6</td>\n",
              "    </tr>\n",
              "  </tbody>\n",
              "</table>\n",
              "</div>"
            ],
            "text/plain": [
              "        col_one  col_two  col_three\n",
              "mouse         1        2          3\n",
              "rabbit        4        5          6"
            ]
          },
          "metadata": {
            "tags": []
          },
          "execution_count": 84
        }
      ]
    },
    {
      "cell_type": "code",
      "metadata": {
        "id": "vYYUgNBRottW",
        "outputId": "a972a5ae-9d25-4021-8450-fca1535e6025",
        "colab": {
          "base_uri": "https://localhost:8080/",
          "height": 106
        }
      },
      "source": [
        "# Отфильтровать по именам колонок\n",
        "# Аналогично df[['col_one', 'col_three']]\n",
        "df.filter(items=['col_one', 'col_three'], axis='columns')"
      ],
      "execution_count": 85,
      "outputs": [
        {
          "output_type": "execute_result",
          "data": {
            "text/html": [
              "<div>\n",
              "<style scoped>\n",
              "    .dataframe tbody tr th:only-of-type {\n",
              "        vertical-align: middle;\n",
              "    }\n",
              "\n",
              "    .dataframe tbody tr th {\n",
              "        vertical-align: top;\n",
              "    }\n",
              "\n",
              "    .dataframe thead th {\n",
              "        text-align: right;\n",
              "    }\n",
              "</style>\n",
              "<table border=\"1\" class=\"dataframe\">\n",
              "  <thead>\n",
              "    <tr style=\"text-align: right;\">\n",
              "      <th></th>\n",
              "      <th>col_one</th>\n",
              "      <th>col_three</th>\n",
              "    </tr>\n",
              "  </thead>\n",
              "  <tbody>\n",
              "    <tr>\n",
              "      <th>mouse</th>\n",
              "      <td>1</td>\n",
              "      <td>3</td>\n",
              "    </tr>\n",
              "    <tr>\n",
              "      <th>rabbit</th>\n",
              "      <td>4</td>\n",
              "      <td>6</td>\n",
              "    </tr>\n",
              "  </tbody>\n",
              "</table>\n",
              "</div>"
            ],
            "text/plain": [
              "        col_one  col_three\n",
              "mouse         1          3\n",
              "rabbit        4          6"
            ]
          },
          "metadata": {
            "tags": []
          },
          "execution_count": 85
        }
      ]
    },
    {
      "cell_type": "code",
      "metadata": {
        "id": "a6ofBx49pYSq",
        "outputId": "379258eb-3565-4f59-9dc1-3c419d192d8e",
        "colab": {
          "base_uri": "https://localhost:8080/",
          "height": 106
        }
      },
      "source": [
        "# Отфильтровать по регулярному выражению\n",
        "# Оставить только те колонки, которые оканчиваются на букву \"o\"\n",
        "df.filter(regex='o$', axis='columns')"
      ],
      "execution_count": 86,
      "outputs": [
        {
          "output_type": "execute_result",
          "data": {
            "text/html": [
              "<div>\n",
              "<style scoped>\n",
              "    .dataframe tbody tr th:only-of-type {\n",
              "        vertical-align: middle;\n",
              "    }\n",
              "\n",
              "    .dataframe tbody tr th {\n",
              "        vertical-align: top;\n",
              "    }\n",
              "\n",
              "    .dataframe thead th {\n",
              "        text-align: right;\n",
              "    }\n",
              "</style>\n",
              "<table border=\"1\" class=\"dataframe\">\n",
              "  <thead>\n",
              "    <tr style=\"text-align: right;\">\n",
              "      <th></th>\n",
              "      <th>col_two</th>\n",
              "    </tr>\n",
              "  </thead>\n",
              "  <tbody>\n",
              "    <tr>\n",
              "      <th>mouse</th>\n",
              "      <td>2</td>\n",
              "    </tr>\n",
              "    <tr>\n",
              "      <th>rabbit</th>\n",
              "      <td>5</td>\n",
              "    </tr>\n",
              "  </tbody>\n",
              "</table>\n",
              "</div>"
            ],
            "text/plain": [
              "        col_two\n",
              "mouse         2\n",
              "rabbit        5"
            ]
          },
          "metadata": {
            "tags": []
          },
          "execution_count": 86
        }
      ]
    },
    {
      "cell_type": "markdown",
      "metadata": {
        "id": "YqiHEBFbptwT"
      },
      "source": [
        "### Задание\n",
        "\n",
        "Отфильруйте записи по строке, содержащейся в имени индекса (аргумент `like`):"
      ]
    },
    {
      "cell_type": "code",
      "metadata": {
        "id": "bpguGOH1p6Ju",
        "outputId": "752a4f3b-2b5a-49c6-fbbf-cd1c2c574c32",
        "colab": {
          "base_uri": "https://localhost:8080/",
          "height": 136
        }
      },
      "source": [
        "df = pd.DataFrame(np.array(([1, 2, 3], [4, 5, 6], [7, 8, 9])),\n",
        "                  index=['dog in house', 'cat in house', 'pig in farm'],\n",
        "                  columns=['x1', 'x2', 'x3'])\n",
        "df"
      ],
      "execution_count": 87,
      "outputs": [
        {
          "output_type": "execute_result",
          "data": {
            "text/html": [
              "<div>\n",
              "<style scoped>\n",
              "    .dataframe tbody tr th:only-of-type {\n",
              "        vertical-align: middle;\n",
              "    }\n",
              "\n",
              "    .dataframe tbody tr th {\n",
              "        vertical-align: top;\n",
              "    }\n",
              "\n",
              "    .dataframe thead th {\n",
              "        text-align: right;\n",
              "    }\n",
              "</style>\n",
              "<table border=\"1\" class=\"dataframe\">\n",
              "  <thead>\n",
              "    <tr style=\"text-align: right;\">\n",
              "      <th></th>\n",
              "      <th>x1</th>\n",
              "      <th>x2</th>\n",
              "      <th>x3</th>\n",
              "    </tr>\n",
              "  </thead>\n",
              "  <tbody>\n",
              "    <tr>\n",
              "      <th>dog in house</th>\n",
              "      <td>1</td>\n",
              "      <td>2</td>\n",
              "      <td>3</td>\n",
              "    </tr>\n",
              "    <tr>\n",
              "      <th>cat in house</th>\n",
              "      <td>4</td>\n",
              "      <td>5</td>\n",
              "      <td>6</td>\n",
              "    </tr>\n",
              "    <tr>\n",
              "      <th>pig in farm</th>\n",
              "      <td>7</td>\n",
              "      <td>8</td>\n",
              "      <td>9</td>\n",
              "    </tr>\n",
              "  </tbody>\n",
              "</table>\n",
              "</div>"
            ],
            "text/plain": [
              "              x1  x2  x3\n",
              "dog in house   1   2   3\n",
              "cat in house   4   5   6\n",
              "pig in farm    7   8   9"
            ]
          },
          "metadata": {
            "tags": []
          },
          "execution_count": 87
        }
      ]
    },
    {
      "cell_type": "code",
      "metadata": {
        "id": "-yGYrEPCqJMl",
        "outputId": "ac6aff4e-bf82-4963-f3e9-45b27a3e9b9f",
        "colab": {
          "base_uri": "https://localhost:8080/",
          "height": 106
        }
      },
      "source": [
        "# TODO - отфильтруйте по записям, должны остаться записи, \n",
        "#           индекс которых содержит слово \"house\"\n",
        "df.filter(like='house', axis='index')"
      ],
      "execution_count": 89,
      "outputs": [
        {
          "output_type": "execute_result",
          "data": {
            "text/html": [
              "<div>\n",
              "<style scoped>\n",
              "    .dataframe tbody tr th:only-of-type {\n",
              "        vertical-align: middle;\n",
              "    }\n",
              "\n",
              "    .dataframe tbody tr th {\n",
              "        vertical-align: top;\n",
              "    }\n",
              "\n",
              "    .dataframe thead th {\n",
              "        text-align: right;\n",
              "    }\n",
              "</style>\n",
              "<table border=\"1\" class=\"dataframe\">\n",
              "  <thead>\n",
              "    <tr style=\"text-align: right;\">\n",
              "      <th></th>\n",
              "      <th>x1</th>\n",
              "      <th>x2</th>\n",
              "      <th>x3</th>\n",
              "    </tr>\n",
              "  </thead>\n",
              "  <tbody>\n",
              "    <tr>\n",
              "      <th>dog in house</th>\n",
              "      <td>1</td>\n",
              "      <td>2</td>\n",
              "      <td>3</td>\n",
              "    </tr>\n",
              "    <tr>\n",
              "      <th>cat in house</th>\n",
              "      <td>4</td>\n",
              "      <td>5</td>\n",
              "      <td>6</td>\n",
              "    </tr>\n",
              "  </tbody>\n",
              "</table>\n",
              "</div>"
            ],
            "text/plain": [
              "              x1  x2  x3\n",
              "dog in house   1   2   3\n",
              "cat in house   4   5   6"
            ]
          },
          "metadata": {
            "tags": []
          },
          "execution_count": 89
        }
      ]
    },
    {
      "cell_type": "markdown",
      "metadata": {
        "id": "b-YLfI7_T--K"
      },
      "source": [
        "## Сортировка"
      ]
    },
    {
      "cell_type": "markdown",
      "metadata": {
        "id": "cRGU2oQcqiAD"
      },
      "source": [
        "Всегда полезно знать, как отсортировать данные, для этого мы воспользуемся методом `DataFrame.sort_values()`:"
      ]
    },
    {
      "cell_type": "code",
      "metadata": {
        "id": "-7UkJ8_nq6vQ",
        "outputId": "82f6eccb-ea20-49a6-e3ac-f59791df6eac",
        "colab": {
          "base_uri": "https://localhost:8080/",
          "height": 225
        }
      },
      "source": [
        "df = pd.DataFrame({\n",
        "    'col1': ['A', 'A', 'B', np.nan, 'D', 'C'],\n",
        "    'col2': [2, 1, 9, 8, 7, 4],\n",
        "    'col3': [0, 1, 9, 4, 2, 3],\n",
        "    'col4': ['a', 'B', 'c', 'D', 'e', 'F']\n",
        "}, index=['A', 'B', 'C', 'D', 'E', 'F'])\n",
        "df"
      ],
      "execution_count": 90,
      "outputs": [
        {
          "output_type": "execute_result",
          "data": {
            "text/html": [
              "<div>\n",
              "<style scoped>\n",
              "    .dataframe tbody tr th:only-of-type {\n",
              "        vertical-align: middle;\n",
              "    }\n",
              "\n",
              "    .dataframe tbody tr th {\n",
              "        vertical-align: top;\n",
              "    }\n",
              "\n",
              "    .dataframe thead th {\n",
              "        text-align: right;\n",
              "    }\n",
              "</style>\n",
              "<table border=\"1\" class=\"dataframe\">\n",
              "  <thead>\n",
              "    <tr style=\"text-align: right;\">\n",
              "      <th></th>\n",
              "      <th>col1</th>\n",
              "      <th>col2</th>\n",
              "      <th>col3</th>\n",
              "      <th>col4</th>\n",
              "    </tr>\n",
              "  </thead>\n",
              "  <tbody>\n",
              "    <tr>\n",
              "      <th>A</th>\n",
              "      <td>A</td>\n",
              "      <td>2</td>\n",
              "      <td>0</td>\n",
              "      <td>a</td>\n",
              "    </tr>\n",
              "    <tr>\n",
              "      <th>B</th>\n",
              "      <td>A</td>\n",
              "      <td>1</td>\n",
              "      <td>1</td>\n",
              "      <td>B</td>\n",
              "    </tr>\n",
              "    <tr>\n",
              "      <th>C</th>\n",
              "      <td>B</td>\n",
              "      <td>9</td>\n",
              "      <td>9</td>\n",
              "      <td>c</td>\n",
              "    </tr>\n",
              "    <tr>\n",
              "      <th>D</th>\n",
              "      <td>NaN</td>\n",
              "      <td>8</td>\n",
              "      <td>4</td>\n",
              "      <td>D</td>\n",
              "    </tr>\n",
              "    <tr>\n",
              "      <th>E</th>\n",
              "      <td>D</td>\n",
              "      <td>7</td>\n",
              "      <td>2</td>\n",
              "      <td>e</td>\n",
              "    </tr>\n",
              "    <tr>\n",
              "      <th>F</th>\n",
              "      <td>C</td>\n",
              "      <td>4</td>\n",
              "      <td>3</td>\n",
              "      <td>F</td>\n",
              "    </tr>\n",
              "  </tbody>\n",
              "</table>\n",
              "</div>"
            ],
            "text/plain": [
              "  col1  col2  col3 col4\n",
              "A    A     2     0    a\n",
              "B    A     1     1    B\n",
              "C    B     9     9    c\n",
              "D  NaN     8     4    D\n",
              "E    D     7     2    e\n",
              "F    C     4     3    F"
            ]
          },
          "metadata": {
            "tags": []
          },
          "execution_count": 90
        }
      ]
    },
    {
      "cell_type": "code",
      "metadata": {
        "id": "RDgqmbx0rEUl",
        "outputId": "4339d4fa-2fda-46c7-b668-ac23e5f4f450",
        "colab": {
          "base_uri": "https://localhost:8080/",
          "height": 225
        }
      },
      "source": [
        "# Отсортируем записи колонки col2\n",
        "# Именно поэтому в axis ставится rows, так как\n",
        "#   операция производится в колонке по каждому ряду\n",
        "df.sort_values(by='col2', axis='rows')"
      ],
      "execution_count": 91,
      "outputs": [
        {
          "output_type": "execute_result",
          "data": {
            "text/html": [
              "<div>\n",
              "<style scoped>\n",
              "    .dataframe tbody tr th:only-of-type {\n",
              "        vertical-align: middle;\n",
              "    }\n",
              "\n",
              "    .dataframe tbody tr th {\n",
              "        vertical-align: top;\n",
              "    }\n",
              "\n",
              "    .dataframe thead th {\n",
              "        text-align: right;\n",
              "    }\n",
              "</style>\n",
              "<table border=\"1\" class=\"dataframe\">\n",
              "  <thead>\n",
              "    <tr style=\"text-align: right;\">\n",
              "      <th></th>\n",
              "      <th>col1</th>\n",
              "      <th>col2</th>\n",
              "      <th>col3</th>\n",
              "      <th>col4</th>\n",
              "    </tr>\n",
              "  </thead>\n",
              "  <tbody>\n",
              "    <tr>\n",
              "      <th>B</th>\n",
              "      <td>A</td>\n",
              "      <td>1</td>\n",
              "      <td>1</td>\n",
              "      <td>B</td>\n",
              "    </tr>\n",
              "    <tr>\n",
              "      <th>A</th>\n",
              "      <td>A</td>\n",
              "      <td>2</td>\n",
              "      <td>0</td>\n",
              "      <td>a</td>\n",
              "    </tr>\n",
              "    <tr>\n",
              "      <th>F</th>\n",
              "      <td>C</td>\n",
              "      <td>4</td>\n",
              "      <td>3</td>\n",
              "      <td>F</td>\n",
              "    </tr>\n",
              "    <tr>\n",
              "      <th>E</th>\n",
              "      <td>D</td>\n",
              "      <td>7</td>\n",
              "      <td>2</td>\n",
              "      <td>e</td>\n",
              "    </tr>\n",
              "    <tr>\n",
              "      <th>D</th>\n",
              "      <td>NaN</td>\n",
              "      <td>8</td>\n",
              "      <td>4</td>\n",
              "      <td>D</td>\n",
              "    </tr>\n",
              "    <tr>\n",
              "      <th>C</th>\n",
              "      <td>B</td>\n",
              "      <td>9</td>\n",
              "      <td>9</td>\n",
              "      <td>c</td>\n",
              "    </tr>\n",
              "  </tbody>\n",
              "</table>\n",
              "</div>"
            ],
            "text/plain": [
              "  col1  col2  col3 col4\n",
              "B    A     1     1    B\n",
              "A    A     2     0    a\n",
              "F    C     4     3    F\n",
              "E    D     7     2    e\n",
              "D  NaN     8     4    D\n",
              "C    B     9     9    c"
            ]
          },
          "metadata": {
            "tags": []
          },
          "execution_count": 91
        }
      ]
    },
    {
      "cell_type": "markdown",
      "metadata": {
        "id": "yLlPKSRArVGN"
      },
      "source": [
        "### Задание\n",
        "\n",
        "Отсортируйте данные:"
      ]
    },
    {
      "cell_type": "code",
      "metadata": {
        "id": "5t5K1QlBr00d",
        "outputId": "02ea09d8-c675-458a-c8ca-6812369db84a",
        "colab": {
          "base_uri": "https://localhost:8080/",
          "height": 195
        }
      },
      "source": [
        "df = pd.DataFrame(\n",
        "    np.random.randint(0, 20, size=(5, 5)), \n",
        "    columns=['col1', 'col2', 'col3', 'col4', 'col5']\n",
        ")\n",
        "df"
      ],
      "execution_count": 92,
      "outputs": [
        {
          "output_type": "execute_result",
          "data": {
            "text/html": [
              "<div>\n",
              "<style scoped>\n",
              "    .dataframe tbody tr th:only-of-type {\n",
              "        vertical-align: middle;\n",
              "    }\n",
              "\n",
              "    .dataframe tbody tr th {\n",
              "        vertical-align: top;\n",
              "    }\n",
              "\n",
              "    .dataframe thead th {\n",
              "        text-align: right;\n",
              "    }\n",
              "</style>\n",
              "<table border=\"1\" class=\"dataframe\">\n",
              "  <thead>\n",
              "    <tr style=\"text-align: right;\">\n",
              "      <th></th>\n",
              "      <th>col1</th>\n",
              "      <th>col2</th>\n",
              "      <th>col3</th>\n",
              "      <th>col4</th>\n",
              "      <th>col5</th>\n",
              "    </tr>\n",
              "  </thead>\n",
              "  <tbody>\n",
              "    <tr>\n",
              "      <th>0</th>\n",
              "      <td>15</td>\n",
              "      <td>4</td>\n",
              "      <td>4</td>\n",
              "      <td>4</td>\n",
              "      <td>11</td>\n",
              "    </tr>\n",
              "    <tr>\n",
              "      <th>1</th>\n",
              "      <td>6</td>\n",
              "      <td>10</td>\n",
              "      <td>6</td>\n",
              "      <td>6</td>\n",
              "      <td>8</td>\n",
              "    </tr>\n",
              "    <tr>\n",
              "      <th>2</th>\n",
              "      <td>9</td>\n",
              "      <td>13</td>\n",
              "      <td>12</td>\n",
              "      <td>8</td>\n",
              "      <td>18</td>\n",
              "    </tr>\n",
              "    <tr>\n",
              "      <th>3</th>\n",
              "      <td>17</td>\n",
              "      <td>18</td>\n",
              "      <td>4</td>\n",
              "      <td>0</td>\n",
              "      <td>3</td>\n",
              "    </tr>\n",
              "    <tr>\n",
              "      <th>4</th>\n",
              "      <td>12</td>\n",
              "      <td>1</td>\n",
              "      <td>1</td>\n",
              "      <td>10</td>\n",
              "      <td>2</td>\n",
              "    </tr>\n",
              "  </tbody>\n",
              "</table>\n",
              "</div>"
            ],
            "text/plain": [
              "   col1  col2  col3  col4  col5\n",
              "0    15     4     4     4    11\n",
              "1     6    10     6     6     8\n",
              "2     9    13    12     8    18\n",
              "3    17    18     4     0     3\n",
              "4    12     1     1    10     2"
            ]
          },
          "metadata": {
            "tags": []
          },
          "execution_count": 92
        }
      ]
    },
    {
      "cell_type": "code",
      "metadata": {
        "id": "SEHuw4hJsoUP",
        "outputId": "f8e8a098-b9b7-42f4-a6ec-d1a56a1435e2",
        "colab": {
          "base_uri": "https://localhost:8080/",
          "height": 195
        }
      },
      "source": [
        "# TODO - отсортируйте данные индекса 3 по убыванию\n",
        "df.sort_values(by=3, axis='columns', ascending=False)"
      ],
      "execution_count": 96,
      "outputs": [
        {
          "output_type": "execute_result",
          "data": {
            "text/html": [
              "<div>\n",
              "<style scoped>\n",
              "    .dataframe tbody tr th:only-of-type {\n",
              "        vertical-align: middle;\n",
              "    }\n",
              "\n",
              "    .dataframe tbody tr th {\n",
              "        vertical-align: top;\n",
              "    }\n",
              "\n",
              "    .dataframe thead th {\n",
              "        text-align: right;\n",
              "    }\n",
              "</style>\n",
              "<table border=\"1\" class=\"dataframe\">\n",
              "  <thead>\n",
              "    <tr style=\"text-align: right;\">\n",
              "      <th></th>\n",
              "      <th>col2</th>\n",
              "      <th>col1</th>\n",
              "      <th>col3</th>\n",
              "      <th>col5</th>\n",
              "      <th>col4</th>\n",
              "    </tr>\n",
              "  </thead>\n",
              "  <tbody>\n",
              "    <tr>\n",
              "      <th>0</th>\n",
              "      <td>4</td>\n",
              "      <td>15</td>\n",
              "      <td>4</td>\n",
              "      <td>11</td>\n",
              "      <td>4</td>\n",
              "    </tr>\n",
              "    <tr>\n",
              "      <th>1</th>\n",
              "      <td>10</td>\n",
              "      <td>6</td>\n",
              "      <td>6</td>\n",
              "      <td>8</td>\n",
              "      <td>6</td>\n",
              "    </tr>\n",
              "    <tr>\n",
              "      <th>2</th>\n",
              "      <td>13</td>\n",
              "      <td>9</td>\n",
              "      <td>12</td>\n",
              "      <td>18</td>\n",
              "      <td>8</td>\n",
              "    </tr>\n",
              "    <tr>\n",
              "      <th>3</th>\n",
              "      <td>18</td>\n",
              "      <td>17</td>\n",
              "      <td>4</td>\n",
              "      <td>3</td>\n",
              "      <td>0</td>\n",
              "    </tr>\n",
              "    <tr>\n",
              "      <th>4</th>\n",
              "      <td>1</td>\n",
              "      <td>12</td>\n",
              "      <td>1</td>\n",
              "      <td>2</td>\n",
              "      <td>10</td>\n",
              "    </tr>\n",
              "  </tbody>\n",
              "</table>\n",
              "</div>"
            ],
            "text/plain": [
              "   col2  col1  col3  col5  col4\n",
              "0     4    15     4    11     4\n",
              "1    10     6     6     8     6\n",
              "2    13     9    12    18     8\n",
              "3    18    17     4     3     0\n",
              "4     1    12     1     2    10"
            ]
          },
          "metadata": {
            "tags": []
          },
          "execution_count": 96
        }
      ]
    },
    {
      "cell_type": "markdown",
      "metadata": {
        "id": "1NiNk_Z4swrf"
      },
      "source": [
        "## Разделение данных на категории"
      ]
    },
    {
      "cell_type": "markdown",
      "metadata": {
        "id": "GqVFtAOws2vY"
      },
      "source": [
        "В ходе работы с данными часто бывает необходимо диапазон числовой переменной разбить на несколько групп (категорий). Например, заменить числовой диапазон температур воды $[-10; 60]$ на три категории $[низкая, средняя, высокая]$. Для таких целей используется функция `pd.cut()`:"
      ]
    },
    {
      "cell_type": "code",
      "metadata": {
        "id": "RMGX8awRtsQb",
        "outputId": "1a21d317-a312-4dcf-8892-50bc30b7a6c4",
        "colab": {
          "base_uri": "https://localhost:8080/",
          "height": 195
        }
      },
      "source": [
        "df = pd.DataFrame({\n",
        "    'temp': [59, 22, -10, 38, 20, 40, 38, 47, 20, 15, 13, 44, 57, 32, 38]\n",
        "})\n",
        "df.head()"
      ],
      "execution_count": 97,
      "outputs": [
        {
          "output_type": "execute_result",
          "data": {
            "text/html": [
              "<div>\n",
              "<style scoped>\n",
              "    .dataframe tbody tr th:only-of-type {\n",
              "        vertical-align: middle;\n",
              "    }\n",
              "\n",
              "    .dataframe tbody tr th {\n",
              "        vertical-align: top;\n",
              "    }\n",
              "\n",
              "    .dataframe thead th {\n",
              "        text-align: right;\n",
              "    }\n",
              "</style>\n",
              "<table border=\"1\" class=\"dataframe\">\n",
              "  <thead>\n",
              "    <tr style=\"text-align: right;\">\n",
              "      <th></th>\n",
              "      <th>temp</th>\n",
              "    </tr>\n",
              "  </thead>\n",
              "  <tbody>\n",
              "    <tr>\n",
              "      <th>0</th>\n",
              "      <td>59</td>\n",
              "    </tr>\n",
              "    <tr>\n",
              "      <th>1</th>\n",
              "      <td>22</td>\n",
              "    </tr>\n",
              "    <tr>\n",
              "      <th>2</th>\n",
              "      <td>-10</td>\n",
              "    </tr>\n",
              "    <tr>\n",
              "      <th>3</th>\n",
              "      <td>38</td>\n",
              "    </tr>\n",
              "    <tr>\n",
              "      <th>4</th>\n",
              "      <td>20</td>\n",
              "    </tr>\n",
              "  </tbody>\n",
              "</table>\n",
              "</div>"
            ],
            "text/plain": [
              "   temp\n",
              "0    59\n",
              "1    22\n",
              "2   -10\n",
              "3    38\n",
              "4    20"
            ]
          },
          "metadata": {
            "tags": []
          },
          "execution_count": 97
        }
      ]
    },
    {
      "cell_type": "code",
      "metadata": {
        "id": "8s2DpnH8uPPI",
        "outputId": "1e7d6005-45e8-4e91-f1d7-cda7d6c6748d",
        "colab": {
          "base_uri": "https://localhost:8080/",
          "height": 195
        }
      },
      "source": [
        "# Можно задать свои границы диапазона и названия категорий\n",
        "# Если планируется три категории, то границ должно быть на одну больше - \n",
        "#   так задаются диапазоны для категорий\n",
        "df['temp_cat'] = pd.cut(\n",
        "    x=df['temp'],\n",
        "    bins=[-10, 10, 25, 60],\n",
        "    labels=['low', 'medium', 'high'],\n",
        "    # Флаг, чтобы самое левое значение границы входило в первый диапазон\n",
        "    include_lowest=True\n",
        ")\n",
        "df.head()"
      ],
      "execution_count": 98,
      "outputs": [
        {
          "output_type": "execute_result",
          "data": {
            "text/html": [
              "<div>\n",
              "<style scoped>\n",
              "    .dataframe tbody tr th:only-of-type {\n",
              "        vertical-align: middle;\n",
              "    }\n",
              "\n",
              "    .dataframe tbody tr th {\n",
              "        vertical-align: top;\n",
              "    }\n",
              "\n",
              "    .dataframe thead th {\n",
              "        text-align: right;\n",
              "    }\n",
              "</style>\n",
              "<table border=\"1\" class=\"dataframe\">\n",
              "  <thead>\n",
              "    <tr style=\"text-align: right;\">\n",
              "      <th></th>\n",
              "      <th>temp</th>\n",
              "      <th>temp_cat</th>\n",
              "    </tr>\n",
              "  </thead>\n",
              "  <tbody>\n",
              "    <tr>\n",
              "      <th>0</th>\n",
              "      <td>59</td>\n",
              "      <td>high</td>\n",
              "    </tr>\n",
              "    <tr>\n",
              "      <th>1</th>\n",
              "      <td>22</td>\n",
              "      <td>medium</td>\n",
              "    </tr>\n",
              "    <tr>\n",
              "      <th>2</th>\n",
              "      <td>-10</td>\n",
              "      <td>low</td>\n",
              "    </tr>\n",
              "    <tr>\n",
              "      <th>3</th>\n",
              "      <td>38</td>\n",
              "      <td>high</td>\n",
              "    </tr>\n",
              "    <tr>\n",
              "      <th>4</th>\n",
              "      <td>20</td>\n",
              "      <td>medium</td>\n",
              "    </tr>\n",
              "  </tbody>\n",
              "</table>\n",
              "</div>"
            ],
            "text/plain": [
              "   temp temp_cat\n",
              "0    59     high\n",
              "1    22   medium\n",
              "2   -10      low\n",
              "3    38     high\n",
              "4    20   medium"
            ]
          },
          "metadata": {
            "tags": []
          },
          "execution_count": 98
        }
      ]
    },
    {
      "cell_type": "code",
      "metadata": {
        "id": "xq8zAyhSvIh-",
        "outputId": "cdcecceb-8622-4858-e479-1530aeb5e20d",
        "colab": {
          "base_uri": "https://localhost:8080/",
          "height": 34
        }
      },
      "source": [
        "# Результат разделения имеет категориальный тип\n",
        "df['temp_cat'].dtype"
      ],
      "execution_count": 99,
      "outputs": [
        {
          "output_type": "execute_result",
          "data": {
            "text/plain": [
              "CategoricalDtype(categories=['low', 'medium', 'high'], ordered=True)"
            ]
          },
          "metadata": {
            "tags": []
          },
          "execution_count": 99
        }
      ]
    },
    {
      "cell_type": "code",
      "metadata": {
        "id": "er1CIaTvvTAY",
        "outputId": "4f3d8f49-bb27-4c9a-f659-7b745f1f18db",
        "colab": {
          "base_uri": "https://localhost:8080/",
          "height": 50
        }
      },
      "source": [
        "# Можно не задавать имена категориям, тогда он сам их назовет\n",
        "result_after_cut = pd.cut(\n",
        "    x=df['temp'],\n",
        "    bins=[-10, 10, 25, 60],\n",
        "    include_lowest=True\n",
        ")\n",
        "# Взглянем на имена\n",
        "result_after_cut.unique()"
      ],
      "execution_count": 100,
      "outputs": [
        {
          "output_type": "execute_result",
          "data": {
            "text/plain": [
              "[(25.0, 60.0], (10.0, 25.0], (-10.001, 10.0]]\n",
              "Categories (3, interval[float64]): [(-10.001, 10.0] < (10.0, 25.0] < (25.0, 60.0]]"
            ]
          },
          "metadata": {
            "tags": []
          },
          "execution_count": 100
        }
      ]
    },
    {
      "cell_type": "code",
      "metadata": {
        "id": "t_3YYiaWwKZB",
        "outputId": "46de5375-e158-405b-e46a-942713b94c9a",
        "colab": {
          "base_uri": "https://localhost:8080/",
          "height": 50
        }
      },
      "source": [
        "# Можно не задавать границы, лишь количество категорий - \n",
        "#   разделение будет на категории с одинаковой шириной диапазонов\n",
        "result_after_cut = pd.cut(\n",
        "    x=df['temp'],\n",
        "    bins=3\n",
        ")\n",
        "result_after_cut.unique()"
      ],
      "execution_count": 101,
      "outputs": [
        {
          "output_type": "execute_result",
          "data": {
            "text/plain": [
              "[(36.0, 59.0], (13.0, 36.0], (-10.069, 13.0]]\n",
              "Categories (3, interval[float64]): [(-10.069, 13.0] < (13.0, 36.0] < (36.0, 59.0]]"
            ]
          },
          "metadata": {
            "tags": []
          },
          "execution_count": 101
        }
      ]
    },
    {
      "cell_type": "markdown",
      "metadata": {
        "id": "iXKi1PEJxin2"
      },
      "source": [
        "### Задание\n",
        "\n",
        "Разделите показатель качества в диапазоне $[0, 100]$ на три группы: плохое $[0-20]$, среднее $(20-45]$, хорошее $(45-85]$, отличное $(85-100]$. Выясните, что происходит со значениями, которые не попадают в диапазоны категорий:"
      ]
    },
    {
      "cell_type": "code",
      "metadata": {
        "id": "Z1zFynfFyiZk",
        "outputId": "c1d61419-95b2-4da4-cebe-903c56401afd",
        "colab": {
          "base_uri": "https://localhost:8080/",
          "height": 195
        }
      },
      "source": [
        "df = pd.DataFrame({\n",
        "    'quality': [ 7, 67, 21, 38,  2, -2, 79, 22,  5, 31, 77, 72, 23, 64, 99]\n",
        "})\n",
        "df.head()"
      ],
      "execution_count": 102,
      "outputs": [
        {
          "output_type": "execute_result",
          "data": {
            "text/html": [
              "<div>\n",
              "<style scoped>\n",
              "    .dataframe tbody tr th:only-of-type {\n",
              "        vertical-align: middle;\n",
              "    }\n",
              "\n",
              "    .dataframe tbody tr th {\n",
              "        vertical-align: top;\n",
              "    }\n",
              "\n",
              "    .dataframe thead th {\n",
              "        text-align: right;\n",
              "    }\n",
              "</style>\n",
              "<table border=\"1\" class=\"dataframe\">\n",
              "  <thead>\n",
              "    <tr style=\"text-align: right;\">\n",
              "      <th></th>\n",
              "      <th>quality</th>\n",
              "    </tr>\n",
              "  </thead>\n",
              "  <tbody>\n",
              "    <tr>\n",
              "      <th>0</th>\n",
              "      <td>7</td>\n",
              "    </tr>\n",
              "    <tr>\n",
              "      <th>1</th>\n",
              "      <td>67</td>\n",
              "    </tr>\n",
              "    <tr>\n",
              "      <th>2</th>\n",
              "      <td>21</td>\n",
              "    </tr>\n",
              "    <tr>\n",
              "      <th>3</th>\n",
              "      <td>38</td>\n",
              "    </tr>\n",
              "    <tr>\n",
              "      <th>4</th>\n",
              "      <td>2</td>\n",
              "    </tr>\n",
              "  </tbody>\n",
              "</table>\n",
              "</div>"
            ],
            "text/plain": [
              "   quality\n",
              "0        7\n",
              "1       67\n",
              "2       21\n",
              "3       38\n",
              "4        2"
            ]
          },
          "metadata": {
            "tags": []
          },
          "execution_count": 102
        }
      ]
    },
    {
      "cell_type": "code",
      "metadata": {
        "id": "AYlnGVTGyxWh",
        "outputId": "44425466-3360-495b-8e73-d2a6df960ef6",
        "colab": {
          "base_uri": "https://localhost:8080/",
          "height": 491
        }
      },
      "source": [
        "# TODO - разделите данные на категории\n",
        "# TODO - определите, какие записи не имеют категорий и почему\n",
        "df['quality_group'] = pd.cut(\n",
        "    x=df['quality'],\n",
        "    bins=[0, 20, 45, 85, 100],\n",
        "    labels=['плохое', 'среднее', 'хорошее', 'отличное'],\n",
        "    include_lowest=True\n",
        ")\n",
        "df\n",
        "# Не имеют категории те записи, значение которых не попадает в выьранные диапазоны"
      ],
      "execution_count": 109,
      "outputs": [
        {
          "output_type": "execute_result",
          "data": {
            "text/html": [
              "<div>\n",
              "<style scoped>\n",
              "    .dataframe tbody tr th:only-of-type {\n",
              "        vertical-align: middle;\n",
              "    }\n",
              "\n",
              "    .dataframe tbody tr th {\n",
              "        vertical-align: top;\n",
              "    }\n",
              "\n",
              "    .dataframe thead th {\n",
              "        text-align: right;\n",
              "    }\n",
              "</style>\n",
              "<table border=\"1\" class=\"dataframe\">\n",
              "  <thead>\n",
              "    <tr style=\"text-align: right;\">\n",
              "      <th></th>\n",
              "      <th>quality</th>\n",
              "      <th>quality_group</th>\n",
              "    </tr>\n",
              "  </thead>\n",
              "  <tbody>\n",
              "    <tr>\n",
              "      <th>0</th>\n",
              "      <td>7</td>\n",
              "      <td>плохое</td>\n",
              "    </tr>\n",
              "    <tr>\n",
              "      <th>1</th>\n",
              "      <td>67</td>\n",
              "      <td>хорошее</td>\n",
              "    </tr>\n",
              "    <tr>\n",
              "      <th>2</th>\n",
              "      <td>21</td>\n",
              "      <td>среднее</td>\n",
              "    </tr>\n",
              "    <tr>\n",
              "      <th>3</th>\n",
              "      <td>38</td>\n",
              "      <td>среднее</td>\n",
              "    </tr>\n",
              "    <tr>\n",
              "      <th>4</th>\n",
              "      <td>2</td>\n",
              "      <td>плохое</td>\n",
              "    </tr>\n",
              "    <tr>\n",
              "      <th>5</th>\n",
              "      <td>-2</td>\n",
              "      <td>NaN</td>\n",
              "    </tr>\n",
              "    <tr>\n",
              "      <th>6</th>\n",
              "      <td>79</td>\n",
              "      <td>хорошее</td>\n",
              "    </tr>\n",
              "    <tr>\n",
              "      <th>7</th>\n",
              "      <td>22</td>\n",
              "      <td>среднее</td>\n",
              "    </tr>\n",
              "    <tr>\n",
              "      <th>8</th>\n",
              "      <td>5</td>\n",
              "      <td>плохое</td>\n",
              "    </tr>\n",
              "    <tr>\n",
              "      <th>9</th>\n",
              "      <td>31</td>\n",
              "      <td>среднее</td>\n",
              "    </tr>\n",
              "    <tr>\n",
              "      <th>10</th>\n",
              "      <td>77</td>\n",
              "      <td>хорошее</td>\n",
              "    </tr>\n",
              "    <tr>\n",
              "      <th>11</th>\n",
              "      <td>72</td>\n",
              "      <td>хорошее</td>\n",
              "    </tr>\n",
              "    <tr>\n",
              "      <th>12</th>\n",
              "      <td>23</td>\n",
              "      <td>среднее</td>\n",
              "    </tr>\n",
              "    <tr>\n",
              "      <th>13</th>\n",
              "      <td>64</td>\n",
              "      <td>хорошее</td>\n",
              "    </tr>\n",
              "    <tr>\n",
              "      <th>14</th>\n",
              "      <td>99</td>\n",
              "      <td>отличное</td>\n",
              "    </tr>\n",
              "  </tbody>\n",
              "</table>\n",
              "</div>"
            ],
            "text/plain": [
              "    quality quality_group\n",
              "0         7        плохое\n",
              "1        67       хорошее\n",
              "2        21       среднее\n",
              "3        38       среднее\n",
              "4         2        плохое\n",
              "5        -2           NaN\n",
              "6        79       хорошее\n",
              "7        22       среднее\n",
              "8         5        плохое\n",
              "9        31       среднее\n",
              "10       77       хорошее\n",
              "11       72       хорошее\n",
              "12       23       среднее\n",
              "13       64       хорошее\n",
              "14       99      отличное"
            ]
          },
          "metadata": {
            "tags": []
          },
          "execution_count": 109
        }
      ]
    },
    {
      "cell_type": "markdown",
      "metadata": {
        "id": "Bmguv4P80S4s"
      },
      "source": [
        "## Агрегация данных"
      ]
    },
    {
      "cell_type": "markdown",
      "metadata": {
        "id": "pGSptZbq0Vn7"
      },
      "source": [
        "Агрегация данных - объединение группы данных для получения информации. Примерами операций аргегации являются: сумма, среднее, максимум, минимум.\n",
        "\n",
        "В pandas агрегация может быть выполнена путем метода `DataFrame.aggregate()`:"
      ]
    },
    {
      "cell_type": "code",
      "metadata": {
        "id": "Op1RTE8P1UCT",
        "outputId": "03b13632-a8b8-402a-800f-60460b3ae6ba",
        "colab": {
          "base_uri": "https://localhost:8080/",
          "height": 166
        }
      },
      "source": [
        "df = pd.DataFrame([[1, 2, 3],\n",
        "                   [4, 5, 6],\n",
        "                   [7, 8, 9],\n",
        "                   [np.nan, np.nan, np.nan]],\n",
        "                  columns=['A', 'B', 'C'])\n",
        "df"
      ],
      "execution_count": 110,
      "outputs": [
        {
          "output_type": "execute_result",
          "data": {
            "text/html": [
              "<div>\n",
              "<style scoped>\n",
              "    .dataframe tbody tr th:only-of-type {\n",
              "        vertical-align: middle;\n",
              "    }\n",
              "\n",
              "    .dataframe tbody tr th {\n",
              "        vertical-align: top;\n",
              "    }\n",
              "\n",
              "    .dataframe thead th {\n",
              "        text-align: right;\n",
              "    }\n",
              "</style>\n",
              "<table border=\"1\" class=\"dataframe\">\n",
              "  <thead>\n",
              "    <tr style=\"text-align: right;\">\n",
              "      <th></th>\n",
              "      <th>A</th>\n",
              "      <th>B</th>\n",
              "      <th>C</th>\n",
              "    </tr>\n",
              "  </thead>\n",
              "  <tbody>\n",
              "    <tr>\n",
              "      <th>0</th>\n",
              "      <td>1.0</td>\n",
              "      <td>2.0</td>\n",
              "      <td>3.0</td>\n",
              "    </tr>\n",
              "    <tr>\n",
              "      <th>1</th>\n",
              "      <td>4.0</td>\n",
              "      <td>5.0</td>\n",
              "      <td>6.0</td>\n",
              "    </tr>\n",
              "    <tr>\n",
              "      <th>2</th>\n",
              "      <td>7.0</td>\n",
              "      <td>8.0</td>\n",
              "      <td>9.0</td>\n",
              "    </tr>\n",
              "    <tr>\n",
              "      <th>3</th>\n",
              "      <td>NaN</td>\n",
              "      <td>NaN</td>\n",
              "      <td>NaN</td>\n",
              "    </tr>\n",
              "  </tbody>\n",
              "</table>\n",
              "</div>"
            ],
            "text/plain": [
              "     A    B    C\n",
              "0  1.0  2.0  3.0\n",
              "1  4.0  5.0  6.0\n",
              "2  7.0  8.0  9.0\n",
              "3  NaN  NaN  NaN"
            ]
          },
          "metadata": {
            "tags": []
          },
          "execution_count": 110
        }
      ]
    },
    {
      "cell_type": "code",
      "metadata": {
        "id": "7WW-Y5fG1ozf",
        "outputId": "c05a65c6-424c-4634-a04d-70b97d381613",
        "colab": {
          "base_uri": "https://localhost:8080/",
          "height": 106
        }
      },
      "source": [
        "# Получим значения минимумов и средних по всем колонкам\n",
        "# Принцип аналогичен операциям в numpy - \n",
        "#   для агрегации по колонка операция должна пройти по рядам,\n",
        "#   соответсвенно, axis='rows'\n",
        "df.aggregate(['min', 'mean'], axis='rows')"
      ],
      "execution_count": 111,
      "outputs": [
        {
          "output_type": "execute_result",
          "data": {
            "text/html": [
              "<div>\n",
              "<style scoped>\n",
              "    .dataframe tbody tr th:only-of-type {\n",
              "        vertical-align: middle;\n",
              "    }\n",
              "\n",
              "    .dataframe tbody tr th {\n",
              "        vertical-align: top;\n",
              "    }\n",
              "\n",
              "    .dataframe thead th {\n",
              "        text-align: right;\n",
              "    }\n",
              "</style>\n",
              "<table border=\"1\" class=\"dataframe\">\n",
              "  <thead>\n",
              "    <tr style=\"text-align: right;\">\n",
              "      <th></th>\n",
              "      <th>A</th>\n",
              "      <th>B</th>\n",
              "      <th>C</th>\n",
              "    </tr>\n",
              "  </thead>\n",
              "  <tbody>\n",
              "    <tr>\n",
              "      <th>min</th>\n",
              "      <td>1.0</td>\n",
              "      <td>2.0</td>\n",
              "      <td>3.0</td>\n",
              "    </tr>\n",
              "    <tr>\n",
              "      <th>mean</th>\n",
              "      <td>4.0</td>\n",
              "      <td>5.0</td>\n",
              "      <td>6.0</td>\n",
              "    </tr>\n",
              "  </tbody>\n",
              "</table>\n",
              "</div>"
            ],
            "text/plain": [
              "        A    B    C\n",
              "min   1.0  2.0  3.0\n",
              "mean  4.0  5.0  6.0"
            ]
          },
          "metadata": {
            "tags": []
          },
          "execution_count": 111
        }
      ]
    },
    {
      "cell_type": "code",
      "metadata": {
        "id": "4xER9_e_2BdW",
        "outputId": "da87409c-590e-4691-a445-5980f9d954a8",
        "colab": {
          "base_uri": "https://localhost:8080/",
          "height": 166
        }
      },
      "source": [
        "# Зададим правила агрегации для каждой колонки\n",
        "# Операции можно задавать строками или функциями numpy\n",
        "df.aggregate({\n",
        "    'A': ['sum', 'min'],\n",
        "    'B': ['max', 'min'],\n",
        "    'C': [np.sum, np.mean],\n",
        "})"
      ],
      "execution_count": 112,
      "outputs": [
        {
          "output_type": "execute_result",
          "data": {
            "text/html": [
              "<div>\n",
              "<style scoped>\n",
              "    .dataframe tbody tr th:only-of-type {\n",
              "        vertical-align: middle;\n",
              "    }\n",
              "\n",
              "    .dataframe tbody tr th {\n",
              "        vertical-align: top;\n",
              "    }\n",
              "\n",
              "    .dataframe thead th {\n",
              "        text-align: right;\n",
              "    }\n",
              "</style>\n",
              "<table border=\"1\" class=\"dataframe\">\n",
              "  <thead>\n",
              "    <tr style=\"text-align: right;\">\n",
              "      <th></th>\n",
              "      <th>A</th>\n",
              "      <th>B</th>\n",
              "      <th>C</th>\n",
              "    </tr>\n",
              "  </thead>\n",
              "  <tbody>\n",
              "    <tr>\n",
              "      <th>max</th>\n",
              "      <td>NaN</td>\n",
              "      <td>8.0</td>\n",
              "      <td>NaN</td>\n",
              "    </tr>\n",
              "    <tr>\n",
              "      <th>mean</th>\n",
              "      <td>NaN</td>\n",
              "      <td>NaN</td>\n",
              "      <td>6.0</td>\n",
              "    </tr>\n",
              "    <tr>\n",
              "      <th>min</th>\n",
              "      <td>1.0</td>\n",
              "      <td>2.0</td>\n",
              "      <td>NaN</td>\n",
              "    </tr>\n",
              "    <tr>\n",
              "      <th>sum</th>\n",
              "      <td>12.0</td>\n",
              "      <td>NaN</td>\n",
              "      <td>18.0</td>\n",
              "    </tr>\n",
              "  </tbody>\n",
              "</table>\n",
              "</div>"
            ],
            "text/plain": [
              "         A    B     C\n",
              "max    NaN  8.0   NaN\n",
              "mean   NaN  NaN   6.0\n",
              "min    1.0  2.0   NaN\n",
              "sum   12.0  NaN  18.0"
            ]
          },
          "metadata": {
            "tags": []
          },
          "execution_count": 112
        }
      ]
    },
    {
      "cell_type": "markdown",
      "metadata": {
        "id": "yGZz-fgz2iR0"
      },
      "source": [
        "### Задание\n",
        "\n",
        "Произведите агрегацию средним по рядам"
      ]
    },
    {
      "cell_type": "code",
      "metadata": {
        "id": "19vF30JF2pu_",
        "outputId": "1be0986d-cccb-4d92-a876-552f3d15ebf5",
        "colab": {
          "base_uri": "https://localhost:8080/",
          "height": 136
        }
      },
      "source": [
        "df = pd.DataFrame(\n",
        "    ([1, 2, 3], [4, 5, 6], [7, 8, 9]), \n",
        "    columns=['x1', 'x2', 'x3'])\n",
        "df"
      ],
      "execution_count": 113,
      "outputs": [
        {
          "output_type": "execute_result",
          "data": {
            "text/html": [
              "<div>\n",
              "<style scoped>\n",
              "    .dataframe tbody tr th:only-of-type {\n",
              "        vertical-align: middle;\n",
              "    }\n",
              "\n",
              "    .dataframe tbody tr th {\n",
              "        vertical-align: top;\n",
              "    }\n",
              "\n",
              "    .dataframe thead th {\n",
              "        text-align: right;\n",
              "    }\n",
              "</style>\n",
              "<table border=\"1\" class=\"dataframe\">\n",
              "  <thead>\n",
              "    <tr style=\"text-align: right;\">\n",
              "      <th></th>\n",
              "      <th>x1</th>\n",
              "      <th>x2</th>\n",
              "      <th>x3</th>\n",
              "    </tr>\n",
              "  </thead>\n",
              "  <tbody>\n",
              "    <tr>\n",
              "      <th>0</th>\n",
              "      <td>1</td>\n",
              "      <td>2</td>\n",
              "      <td>3</td>\n",
              "    </tr>\n",
              "    <tr>\n",
              "      <th>1</th>\n",
              "      <td>4</td>\n",
              "      <td>5</td>\n",
              "      <td>6</td>\n",
              "    </tr>\n",
              "    <tr>\n",
              "      <th>2</th>\n",
              "      <td>7</td>\n",
              "      <td>8</td>\n",
              "      <td>9</td>\n",
              "    </tr>\n",
              "  </tbody>\n",
              "</table>\n",
              "</div>"
            ],
            "text/plain": [
              "   x1  x2  x3\n",
              "0   1   2   3\n",
              "1   4   5   6\n",
              "2   7   8   9"
            ]
          },
          "metadata": {
            "tags": []
          },
          "execution_count": 113
        }
      ]
    },
    {
      "cell_type": "code",
      "metadata": {
        "id": "NCi-jyrA20b5",
        "outputId": "0df18ff9-b897-48c4-c2bc-b82e2df79119",
        "colab": {
          "base_uri": "https://localhost:8080/",
          "height": 84
        }
      },
      "source": [
        "# TODO - произведите агрегацию по рядам (найти среднее)\n",
        "df.aggregate('mean', axis='columns')"
      ],
      "execution_count": 114,
      "outputs": [
        {
          "output_type": "execute_result",
          "data": {
            "text/plain": [
              "0    2.0\n",
              "1    5.0\n",
              "2    8.0\n",
              "dtype: float64"
            ]
          },
          "metadata": {
            "tags": []
          },
          "execution_count": 114
        }
      ]
    },
    {
      "cell_type": "markdown",
      "metadata": {
        "id": "C12HB8hxuHi7"
      },
      "source": [
        "## Группировки"
      ]
    },
    {
      "cell_type": "markdown",
      "metadata": {
        "id": "jSyxFTtFue8h"
      },
      "source": [
        "Игры закончились - начались серьезные вещи. Группировки это один из сильнейших инструментов, которые позволяют вытаскивать из данных полезную информацию!\n",
        "\n",
        "Для понимания разберем пример: допустим, у нас есть база данных студентов с 1 по 4 курсы. Одна из колонок будет иметь в качестве значения номер курса и так, как количество допустимых значений ограничено - то правильно считать эту колонку категориальной. Другая колонка - оценка за общий университетский тест (все курсы его проходили). Третьей колонкой будет время выполнения:"
      ]
    },
    {
      "cell_type": "code",
      "metadata": {
        "id": "gj4gFhFpxmuq",
        "outputId": "5ad3de11-ca6a-4e65-c97b-f04aa7affa2c",
        "colab": {
          "base_uri": "https://localhost:8080/",
          "height": 314
        }
      },
      "source": [
        "data = [\n",
        "    [1, 4.7, 60],\n",
        "    [3, 4.5, 45],\n",
        "    [4, 4.8, 40],\n",
        "    [1, 4.9, 58],\n",
        "    [2, 4.1, 50],\n",
        "    [2, 4.2, 49],\n",
        "    [2, 4.4, 49],\n",
        "    [3, 4.9, 46],\n",
        "    [4, 4.3, 33],\n",
        "]\n",
        "\n",
        "stud_df = pd.DataFrame(data, columns=['Grade', 'Test_Mark', 'Time'])\n",
        "stud_df"
      ],
      "execution_count": 115,
      "outputs": [
        {
          "output_type": "execute_result",
          "data": {
            "text/html": [
              "<div>\n",
              "<style scoped>\n",
              "    .dataframe tbody tr th:only-of-type {\n",
              "        vertical-align: middle;\n",
              "    }\n",
              "\n",
              "    .dataframe tbody tr th {\n",
              "        vertical-align: top;\n",
              "    }\n",
              "\n",
              "    .dataframe thead th {\n",
              "        text-align: right;\n",
              "    }\n",
              "</style>\n",
              "<table border=\"1\" class=\"dataframe\">\n",
              "  <thead>\n",
              "    <tr style=\"text-align: right;\">\n",
              "      <th></th>\n",
              "      <th>Grade</th>\n",
              "      <th>Test_Mark</th>\n",
              "      <th>Time</th>\n",
              "    </tr>\n",
              "  </thead>\n",
              "  <tbody>\n",
              "    <tr>\n",
              "      <th>0</th>\n",
              "      <td>1</td>\n",
              "      <td>4.7</td>\n",
              "      <td>60</td>\n",
              "    </tr>\n",
              "    <tr>\n",
              "      <th>1</th>\n",
              "      <td>3</td>\n",
              "      <td>4.5</td>\n",
              "      <td>45</td>\n",
              "    </tr>\n",
              "    <tr>\n",
              "      <th>2</th>\n",
              "      <td>4</td>\n",
              "      <td>4.8</td>\n",
              "      <td>40</td>\n",
              "    </tr>\n",
              "    <tr>\n",
              "      <th>3</th>\n",
              "      <td>1</td>\n",
              "      <td>4.9</td>\n",
              "      <td>58</td>\n",
              "    </tr>\n",
              "    <tr>\n",
              "      <th>4</th>\n",
              "      <td>2</td>\n",
              "      <td>4.1</td>\n",
              "      <td>50</td>\n",
              "    </tr>\n",
              "    <tr>\n",
              "      <th>5</th>\n",
              "      <td>2</td>\n",
              "      <td>4.2</td>\n",
              "      <td>49</td>\n",
              "    </tr>\n",
              "    <tr>\n",
              "      <th>6</th>\n",
              "      <td>2</td>\n",
              "      <td>4.4</td>\n",
              "      <td>49</td>\n",
              "    </tr>\n",
              "    <tr>\n",
              "      <th>7</th>\n",
              "      <td>3</td>\n",
              "      <td>4.9</td>\n",
              "      <td>46</td>\n",
              "    </tr>\n",
              "    <tr>\n",
              "      <th>8</th>\n",
              "      <td>4</td>\n",
              "      <td>4.3</td>\n",
              "      <td>33</td>\n",
              "    </tr>\n",
              "  </tbody>\n",
              "</table>\n",
              "</div>"
            ],
            "text/plain": [
              "   Grade  Test_Mark  Time\n",
              "0      1        4.7    60\n",
              "1      3        4.5    45\n",
              "2      4        4.8    40\n",
              "3      1        4.9    58\n",
              "4      2        4.1    50\n",
              "5      2        4.2    49\n",
              "6      2        4.4    49\n",
              "7      3        4.9    46\n",
              "8      4        4.3    33"
            ]
          },
          "metadata": {
            "tags": []
          },
          "execution_count": 115
        }
      ]
    },
    {
      "cell_type": "markdown",
      "metadata": {
        "id": "REtVnk-JyEbH"
      },
      "source": [
        "Теперь представим, что мы сложим каждый курс в свою корзинку путем группировки:\n"
      ]
    },
    {
      "cell_type": "code",
      "metadata": {
        "id": "Cv2ttcWmyO_8",
        "outputId": "3e38e395-0876-4ded-e853-efdc0debbbb8",
        "colab": {
          "base_uri": "https://localhost:8080/",
          "height": 101
        }
      },
      "source": [
        "gr_stud_df = stud_df.groupby(by='Grade')\n",
        "\n",
        "# Тип результата - pd.DataFrameGroupBy\n",
        "print(type(gr_stud_df))\n",
        "\n",
        "# Таким образом увидим словарь:\n",
        "#   Ключи - названия групп\n",
        "#   Значения - индексы из данных для группы\n",
        "gr_stud_df.groups"
      ],
      "execution_count": 116,
      "outputs": [
        {
          "output_type": "stream",
          "text": [
            "<class 'pandas.core.groupby.generic.DataFrameGroupBy'>\n"
          ],
          "name": "stdout"
        },
        {
          "output_type": "execute_result",
          "data": {
            "text/plain": [
              "{1: Int64Index([0, 3], dtype='int64'),\n",
              " 2: Int64Index([4, 5, 6], dtype='int64'),\n",
              " 3: Int64Index([1, 7], dtype='int64'),\n",
              " 4: Int64Index([2, 8], dtype='int64')}"
            ]
          },
          "metadata": {
            "tags": []
          },
          "execution_count": 116
        }
      ]
    },
    {
      "cell_type": "markdown",
      "metadata": {
        "id": "qA5LXUaEys_8"
      },
      "source": [
        "После того, как мы сложили записи по группам, мы можем вычислить, например, среднее значение в каждой группе:"
      ]
    },
    {
      "cell_type": "code",
      "metadata": {
        "id": "akIG2VcFy1Mq",
        "outputId": "715385e2-be26-4e9f-e902-62bdd671359f",
        "colab": {
          "base_uri": "https://localhost:8080/",
          "height": 195
        }
      },
      "source": [
        "gr_stud_df.agg('mean')"
      ],
      "execution_count": 117,
      "outputs": [
        {
          "output_type": "execute_result",
          "data": {
            "text/html": [
              "<div>\n",
              "<style scoped>\n",
              "    .dataframe tbody tr th:only-of-type {\n",
              "        vertical-align: middle;\n",
              "    }\n",
              "\n",
              "    .dataframe tbody tr th {\n",
              "        vertical-align: top;\n",
              "    }\n",
              "\n",
              "    .dataframe thead th {\n",
              "        text-align: right;\n",
              "    }\n",
              "</style>\n",
              "<table border=\"1\" class=\"dataframe\">\n",
              "  <thead>\n",
              "    <tr style=\"text-align: right;\">\n",
              "      <th></th>\n",
              "      <th>Test_Mark</th>\n",
              "      <th>Time</th>\n",
              "    </tr>\n",
              "    <tr>\n",
              "      <th>Grade</th>\n",
              "      <th></th>\n",
              "      <th></th>\n",
              "    </tr>\n",
              "  </thead>\n",
              "  <tbody>\n",
              "    <tr>\n",
              "      <th>1</th>\n",
              "      <td>4.800000</td>\n",
              "      <td>59.000000</td>\n",
              "    </tr>\n",
              "    <tr>\n",
              "      <th>2</th>\n",
              "      <td>4.233333</td>\n",
              "      <td>49.333333</td>\n",
              "    </tr>\n",
              "    <tr>\n",
              "      <th>3</th>\n",
              "      <td>4.700000</td>\n",
              "      <td>45.500000</td>\n",
              "    </tr>\n",
              "    <tr>\n",
              "      <th>4</th>\n",
              "      <td>4.550000</td>\n",
              "      <td>36.500000</td>\n",
              "    </tr>\n",
              "  </tbody>\n",
              "</table>\n",
              "</div>"
            ],
            "text/plain": [
              "       Test_Mark       Time\n",
              "Grade                      \n",
              "1       4.800000  59.000000\n",
              "2       4.233333  49.333333\n",
              "3       4.700000  45.500000\n",
              "4       4.550000  36.500000"
            ]
          },
          "metadata": {
            "tags": []
          },
          "execution_count": 117
        }
      ]
    },
    {
      "cell_type": "markdown",
      "metadata": {
        "id": "243rNrpUzHvL"
      },
      "source": [
        "В результате, мы смогли вычислить среднюю оценку за тест по каждому курсу! И для этого нам потребовалось всего два метода! Ручным вариантом нам бы пришлось создавать контейнеры, складывать в них значения и потом вычислять средние значения..."
      ]
    },
    {
      "cell_type": "markdown",
      "metadata": {
        "id": "_4axNP1MzP7u"
      },
      "source": [
        "Резюмируя, группировка - размещение данных по группам уникальных значений признака, по которому группируется. После группировки можно произвести агрегацию данных в каждой группе."
      ]
    },
    {
      "cell_type": "code",
      "metadata": {
        "id": "1RjQadBi3XYL",
        "outputId": "a03259b7-58e6-4320-d511-1474f0484f77",
        "colab": {
          "base_uri": "https://localhost:8080/",
          "height": 225
        }
      },
      "source": [
        "# Более сложный вариант - найдем средние и минимальные время и оценку \n",
        "\n",
        "gr_stud_df.agg(['mean', 'min'])"
      ],
      "execution_count": 118,
      "outputs": [
        {
          "output_type": "execute_result",
          "data": {
            "text/html": [
              "<div>\n",
              "<style scoped>\n",
              "    .dataframe tbody tr th:only-of-type {\n",
              "        vertical-align: middle;\n",
              "    }\n",
              "\n",
              "    .dataframe tbody tr th {\n",
              "        vertical-align: top;\n",
              "    }\n",
              "\n",
              "    .dataframe thead tr th {\n",
              "        text-align: left;\n",
              "    }\n",
              "\n",
              "    .dataframe thead tr:last-of-type th {\n",
              "        text-align: right;\n",
              "    }\n",
              "</style>\n",
              "<table border=\"1\" class=\"dataframe\">\n",
              "  <thead>\n",
              "    <tr>\n",
              "      <th></th>\n",
              "      <th colspan=\"2\" halign=\"left\">Test_Mark</th>\n",
              "      <th colspan=\"2\" halign=\"left\">Time</th>\n",
              "    </tr>\n",
              "    <tr>\n",
              "      <th></th>\n",
              "      <th>mean</th>\n",
              "      <th>min</th>\n",
              "      <th>mean</th>\n",
              "      <th>min</th>\n",
              "    </tr>\n",
              "    <tr>\n",
              "      <th>Grade</th>\n",
              "      <th></th>\n",
              "      <th></th>\n",
              "      <th></th>\n",
              "      <th></th>\n",
              "    </tr>\n",
              "  </thead>\n",
              "  <tbody>\n",
              "    <tr>\n",
              "      <th>1</th>\n",
              "      <td>4.800000</td>\n",
              "      <td>4.7</td>\n",
              "      <td>59.000000</td>\n",
              "      <td>58</td>\n",
              "    </tr>\n",
              "    <tr>\n",
              "      <th>2</th>\n",
              "      <td>4.233333</td>\n",
              "      <td>4.1</td>\n",
              "      <td>49.333333</td>\n",
              "      <td>49</td>\n",
              "    </tr>\n",
              "    <tr>\n",
              "      <th>3</th>\n",
              "      <td>4.700000</td>\n",
              "      <td>4.5</td>\n",
              "      <td>45.500000</td>\n",
              "      <td>45</td>\n",
              "    </tr>\n",
              "    <tr>\n",
              "      <th>4</th>\n",
              "      <td>4.550000</td>\n",
              "      <td>4.3</td>\n",
              "      <td>36.500000</td>\n",
              "      <td>33</td>\n",
              "    </tr>\n",
              "  </tbody>\n",
              "</table>\n",
              "</div>"
            ],
            "text/plain": [
              "      Test_Mark            Time    \n",
              "           mean  min       mean min\n",
              "Grade                              \n",
              "1      4.800000  4.7  59.000000  58\n",
              "2      4.233333  4.1  49.333333  49\n",
              "3      4.700000  4.5  45.500000  45\n",
              "4      4.550000  4.3  36.500000  33"
            ]
          },
          "metadata": {
            "tags": []
          },
          "execution_count": 118
        }
      ]
    },
    {
      "cell_type": "code",
      "metadata": {
        "id": "9SEk__CQ4wtP",
        "outputId": "827bc331-da07-426c-d6be-d828a1699556",
        "colab": {
          "base_uri": "https://localhost:8080/",
          "height": 242
        }
      },
      "source": [
        "# Или зададим правила для каждого признака по отдельности\n",
        "\n",
        "res = gr_stud_df.agg({\n",
        "    'Test_Mark': ['mean', 'min'],\n",
        "    'Time': ['min']\n",
        "})\n",
        "\n",
        "print(type(res))\n",
        "res"
      ],
      "execution_count": 119,
      "outputs": [
        {
          "output_type": "stream",
          "text": [
            "<class 'pandas.core.frame.DataFrame'>\n"
          ],
          "name": "stdout"
        },
        {
          "output_type": "execute_result",
          "data": {
            "text/html": [
              "<div>\n",
              "<style scoped>\n",
              "    .dataframe tbody tr th:only-of-type {\n",
              "        vertical-align: middle;\n",
              "    }\n",
              "\n",
              "    .dataframe tbody tr th {\n",
              "        vertical-align: top;\n",
              "    }\n",
              "\n",
              "    .dataframe thead tr th {\n",
              "        text-align: left;\n",
              "    }\n",
              "\n",
              "    .dataframe thead tr:last-of-type th {\n",
              "        text-align: right;\n",
              "    }\n",
              "</style>\n",
              "<table border=\"1\" class=\"dataframe\">\n",
              "  <thead>\n",
              "    <tr>\n",
              "      <th></th>\n",
              "      <th colspan=\"2\" halign=\"left\">Test_Mark</th>\n",
              "      <th>Time</th>\n",
              "    </tr>\n",
              "    <tr>\n",
              "      <th></th>\n",
              "      <th>mean</th>\n",
              "      <th>min</th>\n",
              "      <th>min</th>\n",
              "    </tr>\n",
              "    <tr>\n",
              "      <th>Grade</th>\n",
              "      <th></th>\n",
              "      <th></th>\n",
              "      <th></th>\n",
              "    </tr>\n",
              "  </thead>\n",
              "  <tbody>\n",
              "    <tr>\n",
              "      <th>1</th>\n",
              "      <td>4.800000</td>\n",
              "      <td>4.7</td>\n",
              "      <td>58</td>\n",
              "    </tr>\n",
              "    <tr>\n",
              "      <th>2</th>\n",
              "      <td>4.233333</td>\n",
              "      <td>4.1</td>\n",
              "      <td>49</td>\n",
              "    </tr>\n",
              "    <tr>\n",
              "      <th>3</th>\n",
              "      <td>4.700000</td>\n",
              "      <td>4.5</td>\n",
              "      <td>45</td>\n",
              "    </tr>\n",
              "    <tr>\n",
              "      <th>4</th>\n",
              "      <td>4.550000</td>\n",
              "      <td>4.3</td>\n",
              "      <td>33</td>\n",
              "    </tr>\n",
              "  </tbody>\n",
              "</table>\n",
              "</div>"
            ],
            "text/plain": [
              "      Test_Mark      Time\n",
              "           mean  min  min\n",
              "Grade                    \n",
              "1      4.800000  4.7   58\n",
              "2      4.233333  4.1   49\n",
              "3      4.700000  4.5   45\n",
              "4      4.550000  4.3   33"
            ]
          },
          "metadata": {
            "tags": []
          },
          "execution_count": 119
        }
      ]
    },
    {
      "cell_type": "code",
      "metadata": {
        "id": "T78u8tYt6Kn6",
        "outputId": "64d34013-6842-4331-ee15-2d14f2c264b4",
        "colab": {
          "base_uri": "https://localhost:8080/",
          "height": 118
        }
      },
      "source": [
        "# Для обращения к данным просто используем несколько индексов, \n",
        "#   так как это DataFrame\n",
        "res['Test_Mark']['mean']"
      ],
      "execution_count": 120,
      "outputs": [
        {
          "output_type": "execute_result",
          "data": {
            "text/plain": [
              "Grade\n",
              "1    4.800000\n",
              "2    4.233333\n",
              "3    4.700000\n",
              "4    4.550000\n",
              "Name: mean, dtype: float64"
            ]
          },
          "metadata": {
            "tags": []
          },
          "execution_count": 120
        }
      ]
    },
    {
      "cell_type": "markdown",
      "metadata": {
        "id": "D0WysErg5FyX"
      },
      "source": [
        "### Задание\n",
        "\n",
        "Сгруппируйте данные по признаку x2 и найдите медиану и максимальное значения по признакам x1, x3:"
      ]
    },
    {
      "cell_type": "code",
      "metadata": {
        "id": "inrIEOBN7tIJ",
        "outputId": "6dbc4433-e4c0-4add-a461-6212b515e078",
        "colab": {
          "base_uri": "https://localhost:8080/",
          "height": 195
        }
      },
      "source": [
        "df = pd.DataFrame({\n",
        "    'x1': np.random.randint(10, 100, size=(200, )),\n",
        "    'x2': np.random.choice(['low', 'high', 'medium'], size=(200, )),\n",
        "    'x3': np.random.randint(-20, 30, size=(200, )),\n",
        "})\n",
        "df.head()"
      ],
      "execution_count": 121,
      "outputs": [
        {
          "output_type": "execute_result",
          "data": {
            "text/html": [
              "<div>\n",
              "<style scoped>\n",
              "    .dataframe tbody tr th:only-of-type {\n",
              "        vertical-align: middle;\n",
              "    }\n",
              "\n",
              "    .dataframe tbody tr th {\n",
              "        vertical-align: top;\n",
              "    }\n",
              "\n",
              "    .dataframe thead th {\n",
              "        text-align: right;\n",
              "    }\n",
              "</style>\n",
              "<table border=\"1\" class=\"dataframe\">\n",
              "  <thead>\n",
              "    <tr style=\"text-align: right;\">\n",
              "      <th></th>\n",
              "      <th>x1</th>\n",
              "      <th>x2</th>\n",
              "      <th>x3</th>\n",
              "    </tr>\n",
              "  </thead>\n",
              "  <tbody>\n",
              "    <tr>\n",
              "      <th>0</th>\n",
              "      <td>23</td>\n",
              "      <td>medium</td>\n",
              "      <td>1</td>\n",
              "    </tr>\n",
              "    <tr>\n",
              "      <th>1</th>\n",
              "      <td>43</td>\n",
              "      <td>high</td>\n",
              "      <td>10</td>\n",
              "    </tr>\n",
              "    <tr>\n",
              "      <th>2</th>\n",
              "      <td>55</td>\n",
              "      <td>low</td>\n",
              "      <td>-19</td>\n",
              "    </tr>\n",
              "    <tr>\n",
              "      <th>3</th>\n",
              "      <td>11</td>\n",
              "      <td>medium</td>\n",
              "      <td>24</td>\n",
              "    </tr>\n",
              "    <tr>\n",
              "      <th>4</th>\n",
              "      <td>46</td>\n",
              "      <td>medium</td>\n",
              "      <td>-11</td>\n",
              "    </tr>\n",
              "  </tbody>\n",
              "</table>\n",
              "</div>"
            ],
            "text/plain": [
              "   x1      x2  x3\n",
              "0  23  medium   1\n",
              "1  43    high  10\n",
              "2  55     low -19\n",
              "3  11  medium  24\n",
              "4  46  medium -11"
            ]
          },
          "metadata": {
            "tags": []
          },
          "execution_count": 121
        }
      ]
    },
    {
      "cell_type": "code",
      "metadata": {
        "id": "s9YIb62P8NZR",
        "outputId": "7abb31be-6003-42fb-9bbe-4232fb5e4f07",
        "colab": {
          "base_uri": "https://localhost:8080/",
          "height": 195
        }
      },
      "source": [
        "# TODO - произведите групировку данных\n",
        "#           и получите средние и максимальные значения по каждой группе\n",
        "x2_df = df.groupby(by='x2')\n",
        "x2_df.agg(['mean', 'max'])"
      ],
      "execution_count": 122,
      "outputs": [
        {
          "output_type": "execute_result",
          "data": {
            "text/html": [
              "<div>\n",
              "<style scoped>\n",
              "    .dataframe tbody tr th:only-of-type {\n",
              "        vertical-align: middle;\n",
              "    }\n",
              "\n",
              "    .dataframe tbody tr th {\n",
              "        vertical-align: top;\n",
              "    }\n",
              "\n",
              "    .dataframe thead tr th {\n",
              "        text-align: left;\n",
              "    }\n",
              "\n",
              "    .dataframe thead tr:last-of-type th {\n",
              "        text-align: right;\n",
              "    }\n",
              "</style>\n",
              "<table border=\"1\" class=\"dataframe\">\n",
              "  <thead>\n",
              "    <tr>\n",
              "      <th></th>\n",
              "      <th colspan=\"2\" halign=\"left\">x1</th>\n",
              "      <th colspan=\"2\" halign=\"left\">x3</th>\n",
              "    </tr>\n",
              "    <tr>\n",
              "      <th></th>\n",
              "      <th>mean</th>\n",
              "      <th>max</th>\n",
              "      <th>mean</th>\n",
              "      <th>max</th>\n",
              "    </tr>\n",
              "    <tr>\n",
              "      <th>x2</th>\n",
              "      <th></th>\n",
              "      <th></th>\n",
              "      <th></th>\n",
              "      <th></th>\n",
              "    </tr>\n",
              "  </thead>\n",
              "  <tbody>\n",
              "    <tr>\n",
              "      <th>high</th>\n",
              "      <td>59.115942</td>\n",
              "      <td>99</td>\n",
              "      <td>1.811594</td>\n",
              "      <td>29</td>\n",
              "    </tr>\n",
              "    <tr>\n",
              "      <th>low</th>\n",
              "      <td>52.000000</td>\n",
              "      <td>99</td>\n",
              "      <td>5.746479</td>\n",
              "      <td>29</td>\n",
              "    </tr>\n",
              "    <tr>\n",
              "      <th>medium</th>\n",
              "      <td>55.866667</td>\n",
              "      <td>99</td>\n",
              "      <td>1.516667</td>\n",
              "      <td>28</td>\n",
              "    </tr>\n",
              "  </tbody>\n",
              "</table>\n",
              "</div>"
            ],
            "text/plain": [
              "               x1            x3    \n",
              "             mean max      mean max\n",
              "x2                                 \n",
              "high    59.115942  99  1.811594  29\n",
              "low     52.000000  99  5.746479  29\n",
              "medium  55.866667  99  1.516667  28"
            ]
          },
          "metadata": {
            "tags": []
          },
          "execution_count": 122
        }
      ]
    },
    {
      "cell_type": "markdown",
      "metadata": {
        "id": "QoA5WcSp_1am"
      },
      "source": [
        "# Сохранение / загрузка данных (работа с CSV)"
      ]
    },
    {
      "cell_type": "markdown",
      "metadata": {
        "id": "FRzJjPfe_55Q"
      },
      "source": [
        "Одним из важных инструментов в работе с таблицами является возможность сохранить результаты работы в файл или загрузить данные из файла. Пользоваться мы будем форматом CSV, который является текстовым форматом для хранения таблицы. Формат представляет собой текстовые строки, каждая колонка разделяется разделителем (запятая, точка запятой и др.), поэтому его просто понять и обрабатывать, так как не требуется никакого специального протокола для понимания.\n",
        "\n",
        "Для сохранения данных имеется метод `DataFrame.to_csv()`:"
      ]
    },
    {
      "cell_type": "code",
      "metadata": {
        "id": "DmYMxecrAq10",
        "outputId": "9e3ba6e7-0f8f-42d6-848f-c2827fe4da0c",
        "colab": {
          "base_uri": "https://localhost:8080/",
          "height": 136
        }
      },
      "source": [
        "import string\n",
        "\n",
        "df = pd.DataFrame(\n",
        "    data=np.random.randint(0, 10, size=(15, 3)), \n",
        "    columns=['x1', 'x2', 'x3'],\n",
        "    index=list(string.ascii_uppercase)[:15]\n",
        ")\n",
        "df.head(3)"
      ],
      "execution_count": 123,
      "outputs": [
        {
          "output_type": "execute_result",
          "data": {
            "text/html": [
              "<div>\n",
              "<style scoped>\n",
              "    .dataframe tbody tr th:only-of-type {\n",
              "        vertical-align: middle;\n",
              "    }\n",
              "\n",
              "    .dataframe tbody tr th {\n",
              "        vertical-align: top;\n",
              "    }\n",
              "\n",
              "    .dataframe thead th {\n",
              "        text-align: right;\n",
              "    }\n",
              "</style>\n",
              "<table border=\"1\" class=\"dataframe\">\n",
              "  <thead>\n",
              "    <tr style=\"text-align: right;\">\n",
              "      <th></th>\n",
              "      <th>x1</th>\n",
              "      <th>x2</th>\n",
              "      <th>x3</th>\n",
              "    </tr>\n",
              "  </thead>\n",
              "  <tbody>\n",
              "    <tr>\n",
              "      <th>A</th>\n",
              "      <td>7</td>\n",
              "      <td>5</td>\n",
              "      <td>1</td>\n",
              "    </tr>\n",
              "    <tr>\n",
              "      <th>B</th>\n",
              "      <td>8</td>\n",
              "      <td>5</td>\n",
              "      <td>1</td>\n",
              "    </tr>\n",
              "    <tr>\n",
              "      <th>C</th>\n",
              "      <td>1</td>\n",
              "      <td>4</td>\n",
              "      <td>0</td>\n",
              "    </tr>\n",
              "  </tbody>\n",
              "</table>\n",
              "</div>"
            ],
            "text/plain": [
              "   x1  x2  x3\n",
              "A   7   5   1\n",
              "B   8   5   1\n",
              "C   1   4   0"
            ]
          },
          "metadata": {
            "tags": []
          },
          "execution_count": 123
        }
      ]
    },
    {
      "cell_type": "code",
      "metadata": {
        "id": "KMNVroGbA7Vw"
      },
      "source": [
        "# Для сохранения задается путь до файла\n",
        "df.to_csv('my_first_file.csv')"
      ],
      "execution_count": 124,
      "outputs": []
    },
    {
      "cell_type": "markdown",
      "metadata": {
        "id": "s8k6zkCrBgJf"
      },
      "source": [
        "Чтобы убедиться в работе метода найдите файл рядом с ноутбуком и откройте его через редактор.\n",
        "\n",
        "> При работе в Google Colab слева есть вкладка, которая показывает файлы на сервере.\n",
        "\n",
        "При открытии можно увидеть четыре колонки:\n",
        "- Колонка индекса;\n",
        "- Три колонки из наших данных.\n",
        "\n",
        "Теперь, когда мы имеем файл CSV в системе - можем испытать функцию загрузки `pd.read_csv()`:"
      ]
    },
    {
      "cell_type": "code",
      "metadata": {
        "id": "Hu1Cn2dAAtZE",
        "outputId": "4bfd6568-ae8f-4e61-bf91-8dedd52207de",
        "colab": {
          "base_uri": "https://localhost:8080/",
          "height": 136
        }
      },
      "source": [
        "df = pd.read_csv('my_first_file.csv')\n",
        "df.head(3)"
      ],
      "execution_count": 125,
      "outputs": [
        {
          "output_type": "execute_result",
          "data": {
            "text/html": [
              "<div>\n",
              "<style scoped>\n",
              "    .dataframe tbody tr th:only-of-type {\n",
              "        vertical-align: middle;\n",
              "    }\n",
              "\n",
              "    .dataframe tbody tr th {\n",
              "        vertical-align: top;\n",
              "    }\n",
              "\n",
              "    .dataframe thead th {\n",
              "        text-align: right;\n",
              "    }\n",
              "</style>\n",
              "<table border=\"1\" class=\"dataframe\">\n",
              "  <thead>\n",
              "    <tr style=\"text-align: right;\">\n",
              "      <th></th>\n",
              "      <th>Unnamed: 0</th>\n",
              "      <th>x1</th>\n",
              "      <th>x2</th>\n",
              "      <th>x3</th>\n",
              "    </tr>\n",
              "  </thead>\n",
              "  <tbody>\n",
              "    <tr>\n",
              "      <th>0</th>\n",
              "      <td>A</td>\n",
              "      <td>7</td>\n",
              "      <td>5</td>\n",
              "      <td>1</td>\n",
              "    </tr>\n",
              "    <tr>\n",
              "      <th>1</th>\n",
              "      <td>B</td>\n",
              "      <td>8</td>\n",
              "      <td>5</td>\n",
              "      <td>1</td>\n",
              "    </tr>\n",
              "    <tr>\n",
              "      <th>2</th>\n",
              "      <td>C</td>\n",
              "      <td>1</td>\n",
              "      <td>4</td>\n",
              "      <td>0</td>\n",
              "    </tr>\n",
              "  </tbody>\n",
              "</table>\n",
              "</div>"
            ],
            "text/plain": [
              "  Unnamed: 0  x1  x2  x3\n",
              "0          A   7   5   1\n",
              "1          B   8   5   1\n",
              "2          C   1   4   0"
            ]
          },
          "metadata": {
            "tags": []
          },
          "execution_count": 125
        }
      ]
    },
    {
      "cell_type": "markdown",
      "metadata": {
        "id": "826nsjTTDELg"
      },
      "source": [
        "Видна одна явная проблема - у нас появилась колонка, которая должна быть индексом, но она стала новой колонкой, а индексы создались новые. Для решения проблемы при загрузке необходимо явно задать, какая колонка считается индексом:"
      ]
    },
    {
      "cell_type": "code",
      "metadata": {
        "id": "4ro4a8XQD7NU",
        "outputId": "0a53baff-c902-47fc-f168-839f847883cb",
        "colab": {
          "base_uri": "https://localhost:8080/",
          "height": 136
        }
      },
      "source": [
        "df = pd.read_csv('my_first_file.csv', index_col=0)\n",
        "df.head(3)"
      ],
      "execution_count": 126,
      "outputs": [
        {
          "output_type": "execute_result",
          "data": {
            "text/html": [
              "<div>\n",
              "<style scoped>\n",
              "    .dataframe tbody tr th:only-of-type {\n",
              "        vertical-align: middle;\n",
              "    }\n",
              "\n",
              "    .dataframe tbody tr th {\n",
              "        vertical-align: top;\n",
              "    }\n",
              "\n",
              "    .dataframe thead th {\n",
              "        text-align: right;\n",
              "    }\n",
              "</style>\n",
              "<table border=\"1\" class=\"dataframe\">\n",
              "  <thead>\n",
              "    <tr style=\"text-align: right;\">\n",
              "      <th></th>\n",
              "      <th>x1</th>\n",
              "      <th>x2</th>\n",
              "      <th>x3</th>\n",
              "    </tr>\n",
              "  </thead>\n",
              "  <tbody>\n",
              "    <tr>\n",
              "      <th>A</th>\n",
              "      <td>7</td>\n",
              "      <td>5</td>\n",
              "      <td>1</td>\n",
              "    </tr>\n",
              "    <tr>\n",
              "      <th>B</th>\n",
              "      <td>8</td>\n",
              "      <td>5</td>\n",
              "      <td>1</td>\n",
              "    </tr>\n",
              "    <tr>\n",
              "      <th>C</th>\n",
              "      <td>1</td>\n",
              "      <td>4</td>\n",
              "      <td>0</td>\n",
              "    </tr>\n",
              "  </tbody>\n",
              "</table>\n",
              "</div>"
            ],
            "text/plain": [
              "   x1  x2  x3\n",
              "A   7   5   1\n",
              "B   8   5   1\n",
              "C   1   4   0"
            ]
          },
          "metadata": {
            "tags": []
          },
          "execution_count": 126
        }
      ]
    },
    {
      "cell_type": "markdown",
      "metadata": {
        "id": "VvNbDFPlD-kK"
      },
      "source": [
        "Теперь все отлично и данные загрузились так, как они должны быть."
      ]
    },
    {
      "cell_type": "markdown",
      "metadata": {
        "id": "iji4lnn2DRrF"
      },
      "source": [
        "## Задание\n",
        "\n",
        "Разберитесь в аргументах `DataFrame.to_csv()` и сохраните данные в файл так, чтобы в файл индекс не сохранялся."
      ]
    },
    {
      "cell_type": "code",
      "metadata": {
        "id": "QmxqqhksDdZz"
      },
      "source": [
        "df = pd.DataFrame(\n",
        "    data=np.random.randint(0, 10, size=(15, 3)), \n",
        "    columns=['x1', 'x2', 'x3'],\n",
        "    index=list(string.ascii_uppercase)[:15]\n",
        ")\n",
        "df.head(3)\n",
        "\n",
        "# TODO - сохранить в файл no_index.csv без индексов\n",
        "df.to_csv('no_index.csv', index=False)"
      ],
      "execution_count": 129,
      "outputs": []
    },
    {
      "cell_type": "markdown",
      "metadata": {
        "id": "irt2kdlT1Y5g"
      },
      "source": [
        "# Задачки\n"
      ]
    },
    {
      "cell_type": "markdown",
      "metadata": {
        "id": "ia4T__g3U7JG"
      },
      "source": [
        "Создайте фрейм с тремя колонками:\n",
        "- Колонка с именами (тип - объекты);\n",
        "- Колонка с стажем работы (тип - вещественный);\n",
        "- Колонка с возрастом (тип - целочисленный);\n",
        "- Колонка с названием любимого цвета (тип - категориальный);\n",
        "\n",
        "Имена колонок и значения любые, не менее трех записей (строк) в фрейме."
      ]
    },
    {
      "cell_type": "code",
      "metadata": {
        "id": "gjI5Zey31Ntq",
        "outputId": "67785e31-6458-401c-9a9d-d7107eba6724",
        "colab": {
          "base_uri": "https://localhost:8080/",
          "height": 136
        }
      },
      "source": [
        "# TODO - создайте фрейм и настройте правильные типы колонок\n",
        "#           DataFrame.info() дожен отображать указанные типы\n",
        "df = pd.DataFrame({'name': np.array(['Сергей', 'Георгий', 'Оксана']),\n",
        "                   'stage': np.array([2.]*3, dtype='float32'),\n",
        "                   'age': np.array([23, 24, 25], dtype='int32'),\n",
        "                   'color': pd.Categorical([\"red\", \"green\", \"blue\"])})\n",
        "df"
      ],
      "execution_count": 131,
      "outputs": [
        {
          "output_type": "execute_result",
          "data": {
            "text/html": [
              "<div>\n",
              "<style scoped>\n",
              "    .dataframe tbody tr th:only-of-type {\n",
              "        vertical-align: middle;\n",
              "    }\n",
              "\n",
              "    .dataframe tbody tr th {\n",
              "        vertical-align: top;\n",
              "    }\n",
              "\n",
              "    .dataframe thead th {\n",
              "        text-align: right;\n",
              "    }\n",
              "</style>\n",
              "<table border=\"1\" class=\"dataframe\">\n",
              "  <thead>\n",
              "    <tr style=\"text-align: right;\">\n",
              "      <th></th>\n",
              "      <th>name</th>\n",
              "      <th>stage</th>\n",
              "      <th>age</th>\n",
              "      <th>color</th>\n",
              "    </tr>\n",
              "  </thead>\n",
              "  <tbody>\n",
              "    <tr>\n",
              "      <th>0</th>\n",
              "      <td>Сергей</td>\n",
              "      <td>2.0</td>\n",
              "      <td>23</td>\n",
              "      <td>red</td>\n",
              "    </tr>\n",
              "    <tr>\n",
              "      <th>1</th>\n",
              "      <td>Георгий</td>\n",
              "      <td>2.0</td>\n",
              "      <td>24</td>\n",
              "      <td>green</td>\n",
              "    </tr>\n",
              "    <tr>\n",
              "      <th>2</th>\n",
              "      <td>Оксана</td>\n",
              "      <td>2.0</td>\n",
              "      <td>25</td>\n",
              "      <td>blue</td>\n",
              "    </tr>\n",
              "  </tbody>\n",
              "</table>\n",
              "</div>"
            ],
            "text/plain": [
              "      name  stage  age  color\n",
              "0   Сергей    2.0   23    red\n",
              "1  Георгий    2.0   24  green\n",
              "2   Оксана    2.0   25   blue"
            ]
          },
          "metadata": {
            "tags": []
          },
          "execution_count": 131
        }
      ]
    },
    {
      "cell_type": "markdown",
      "metadata": {
        "id": "Mq_Iapt6Wuzq"
      },
      "source": [
        "Выберите числа в ряду `ds1`, которых нет в ряду `ds2`:\n",
        "\n",
        "> Почитайте и примение метод `Series.isin()`"
      ]
    },
    {
      "cell_type": "code",
      "metadata": {
        "id": "EndB77j2XxBd",
        "outputId": "58b65e05-5bb6-4a96-f690-bf03286284cd",
        "colab": {
          "base_uri": "https://localhost:8080/",
          "height": 34
        }
      },
      "source": [
        "ds1 = pd.Series([1, 2, 3, 4, 5])\n",
        "ds2 = pd.Series([4, 5, 6, 7, 8, 1, 9])\n",
        "\n",
        "# TODO - выберите значения в ds1, которых нет в ds2: \n",
        "# [2, 3]\n",
        "mask = ds1.isin(ds2)\n",
        "list(ds1[~mask])"
      ],
      "execution_count": 140,
      "outputs": [
        {
          "output_type": "execute_result",
          "data": {
            "text/plain": [
              "[2, 3]"
            ]
          },
          "metadata": {
            "tags": []
          },
          "execution_count": 140
        }
      ]
    },
    {
      "cell_type": "markdown",
      "metadata": {
        "id": "zpEVG3hjZGfS"
      },
      "source": [
        "Оставьте в ряду два наиболее частых значения, остальные замените значением 'Другое':\n",
        "\n",
        "<details>\n",
        "<summary>Подсказка 1</summary>\n",
        "\n",
        "Для определения наиболее частых значений воспользуйтесь методом `Series.value_counts()`\n",
        "</details>\n",
        "\n",
        "<details>\n",
        "<summary>Подсказка 2</summary>\n",
        "\n",
        "Чтобы получить наиболее частые значения можно воспользоваться результатом `Series.value_counts()` - атрибутом `Series.index`\n",
        "</details>\n",
        "\n",
        "<details>\n",
        "<summary>Подсказка 3</summary>\n",
        "\n",
        "Получив наиболее частые значения, можно индексировать другие через маску метода `Series.isin()`\n",
        "</details>\n"
      ]
    },
    {
      "cell_type": "code",
      "metadata": {
        "id": "6hexIuIsYw-D",
        "outputId": "dd70805d-8683-4d60-a559-5e7a8fcf2dbc",
        "colab": {
          "base_uri": "https://localhost:8080/",
          "height": 34
        }
      },
      "source": [
        "ds = pd.Series([2, 2, 2, 4, 4, 4, 3, 1, 1, 1, 1, 4])\n",
        "\n",
        "# TODO - определите два наиболее частых значения в ряду (1, 4),\n",
        "#           остальные замените значением 'Другое'\n",
        "# ['Другое', 'Другое', 'Другое', 4, 4, 4, 'Другое', 1, 1, 1, 1, 4]\n",
        "values = ds.value_counts().index[0:2]\n",
        "mask = ds.isin(values)\n",
        "ds[~mask]='Другое'\n",
        "list(ds)"
      ],
      "execution_count": 147,
      "outputs": [
        {
          "output_type": "execute_result",
          "data": {
            "text/plain": [
              "['Другое', 'Другое', 'Другое', 4, 4, 4, 'Другое', 1, 1, 1, 1, 4]"
            ]
          },
          "metadata": {
            "tags": []
          },
          "execution_count": 147
        }
      ]
    },
    {
      "cell_type": "markdown",
      "metadata": {
        "id": "oz2HQvOcb5SN"
      },
      "source": [
        "Сделайте каждую первую букву в словах ряда заглавной:"
      ]
    },
    {
      "cell_type": "code",
      "metadata": {
        "id": "BN5CToI2ZhRK",
        "outputId": "b74b6c83-7a0b-456f-b584-023c2b6d02cc",
        "colab": {
          "base_uri": "https://localhost:8080/",
          "height": 34
        }
      },
      "source": [
        "ds = pd.Series(['how', 'to', 'use', 'pandas?'])\n",
        "\n",
        "# TODO - сделайте каждую первую букву заглавной с помощью Series.apply()\n",
        "def upper(x):\n",
        "  x = x[0].upper() + x[1:]\n",
        "  return x\n",
        "\n",
        "list(ds.apply(upper))"
      ],
      "execution_count": 155,
      "outputs": [
        {
          "output_type": "execute_result",
          "data": {
            "text/plain": [
              "['How', 'To', 'Use', 'Pandas?']"
            ]
          },
          "metadata": {
            "tags": []
          },
          "execution_count": 155
        }
      ]
    },
    {
      "cell_type": "markdown",
      "metadata": {
        "id": "DMVceUcqd9RF"
      },
      "source": [
        "Выберите записи с максимальным значением по колонке `x1`:"
      ]
    },
    {
      "cell_type": "code",
      "metadata": {
        "id": "W5CrazwJcF1O",
        "outputId": "5ce378b4-f8d7-479e-d112-dfb0201a5171",
        "colab": {
          "base_uri": "https://localhost:8080/",
          "height": 254
        }
      },
      "source": [
        "df = pd.DataFrame(\n",
        "    np.random.randint(0, 4, size=(15, 3)), \n",
        "    columns=['x1', 'x2', 'x3']\n",
        ")\n",
        "\n",
        "# TODO - выберите те записи, которые имеют x1 равный \n",
        "#           максимальному значению в колонке x1\n",
        "max_el = df['x1'].max()\n",
        "df[df['x1'] == max_el]"
      ],
      "execution_count": 160,
      "outputs": [
        {
          "output_type": "execute_result",
          "data": {
            "text/html": [
              "<div>\n",
              "<style scoped>\n",
              "    .dataframe tbody tr th:only-of-type {\n",
              "        vertical-align: middle;\n",
              "    }\n",
              "\n",
              "    .dataframe tbody tr th {\n",
              "        vertical-align: top;\n",
              "    }\n",
              "\n",
              "    .dataframe thead th {\n",
              "        text-align: right;\n",
              "    }\n",
              "</style>\n",
              "<table border=\"1\" class=\"dataframe\">\n",
              "  <thead>\n",
              "    <tr style=\"text-align: right;\">\n",
              "      <th></th>\n",
              "      <th>x1</th>\n",
              "      <th>x2</th>\n",
              "      <th>x3</th>\n",
              "    </tr>\n",
              "  </thead>\n",
              "  <tbody>\n",
              "    <tr>\n",
              "      <th>3</th>\n",
              "      <td>3</td>\n",
              "      <td>3</td>\n",
              "      <td>1</td>\n",
              "    </tr>\n",
              "    <tr>\n",
              "      <th>4</th>\n",
              "      <td>3</td>\n",
              "      <td>3</td>\n",
              "      <td>3</td>\n",
              "    </tr>\n",
              "    <tr>\n",
              "      <th>7</th>\n",
              "      <td>3</td>\n",
              "      <td>3</td>\n",
              "      <td>2</td>\n",
              "    </tr>\n",
              "    <tr>\n",
              "      <th>8</th>\n",
              "      <td>3</td>\n",
              "      <td>2</td>\n",
              "      <td>2</td>\n",
              "    </tr>\n",
              "    <tr>\n",
              "      <th>11</th>\n",
              "      <td>3</td>\n",
              "      <td>2</td>\n",
              "      <td>3</td>\n",
              "    </tr>\n",
              "    <tr>\n",
              "      <th>12</th>\n",
              "      <td>3</td>\n",
              "      <td>1</td>\n",
              "      <td>3</td>\n",
              "    </tr>\n",
              "    <tr>\n",
              "      <th>13</th>\n",
              "      <td>3</td>\n",
              "      <td>1</td>\n",
              "      <td>3</td>\n",
              "    </tr>\n",
              "  </tbody>\n",
              "</table>\n",
              "</div>"
            ],
            "text/plain": [
              "    x1  x2  x3\n",
              "3    3   3   1\n",
              "4    3   3   3\n",
              "7    3   3   2\n",
              "8    3   2   2\n",
              "11   3   2   3\n",
              "12   3   1   3\n",
              "13   3   1   3"
            ]
          },
          "metadata": {
            "tags": []
          },
          "execution_count": 160
        }
      ]
    },
    {
      "cell_type": "markdown",
      "metadata": {
        "id": "Ct6PN4nCeqOA"
      },
      "source": [
        "Выведите количество пропусков в каждой колонке данных:"
      ]
    },
    {
      "cell_type": "code",
      "metadata": {
        "id": "Nqmv3g3EeODD",
        "outputId": "7ecd632a-f566-449e-88ab-094bcda87eae",
        "colab": {
          "base_uri": "https://localhost:8080/",
          "height": 487
        }
      },
      "source": [
        "df = pd.read_csv('https://raw.githubusercontent.com/Kail4eK/ml_edu/master/datasets/Cars93_miss.csv')\n",
        "\n",
        "# TODO - отобразите количество пропусков в данных по каждой колонке\n",
        "df.isna().aggregate('sum', axis='rows')"
      ],
      "execution_count": 165,
      "outputs": [
        {
          "output_type": "execute_result",
          "data": {
            "text/plain": [
              "Manufacturer           4\n",
              "Model                  1\n",
              "Type                   3\n",
              "Min.Price              7\n",
              "Price                  2\n",
              "Max.Price              5\n",
              "MPG.city               9\n",
              "MPG.highway            2\n",
              "AirBags                6\n",
              "DriveTrain             7\n",
              "Cylinders              5\n",
              "EngineSize             2\n",
              "Horsepower             7\n",
              "RPM                    3\n",
              "Rev.per.mile           6\n",
              "Man.trans.avail        5\n",
              "Fuel.tank.capacity     8\n",
              "Passengers             2\n",
              "Length                 4\n",
              "Wheelbase              1\n",
              "Width                  6\n",
              "Turn.circle            5\n",
              "Rear.seat.room         4\n",
              "Luggage.room          19\n",
              "Weight                 7\n",
              "Origin                 5\n",
              "Make                   3\n",
              "dtype: int64"
            ]
          },
          "metadata": {
            "tags": []
          },
          "execution_count": 165
        }
      ]
    },
    {
      "cell_type": "markdown",
      "metadata": {
        "id": "suuzAbGzhlX1"
      },
      "source": [
        "Замените пропущенные значения в колонке `Min.Price` средним значениям по этой колонке:"
      ]
    },
    {
      "cell_type": "code",
      "metadata": {
        "id": "JVSvCfgThTh3",
        "outputId": "8e68f597-1b57-4227-d05f-2a77dd72dc75",
        "colab": {
          "base_uri": "https://localhost:8080/",
          "height": 34
        }
      },
      "source": [
        "df = pd.read_csv('https://raw.githubusercontent.com/Kail4eK/ml_edu/master/datasets/Cars93_miss.csv')\n",
        "\n",
        "# TODO - заполните NaN в колонке Min.Price средним значением по этой колонке\n",
        "# NOTE - после заполнения убедитесь, что в этой колонке нет пропущенных\n",
        "df['Min.Price'].fillna(df['Min.Price'].mean(), inplace=True)\n",
        "df['Min.Price'].isna().sum()"
      ],
      "execution_count": 170,
      "outputs": [
        {
          "output_type": "execute_result",
          "data": {
            "text/plain": [
              "0"
            ]
          },
          "metadata": {
            "tags": []
          },
          "execution_count": 170
        }
      ]
    },
    {
      "cell_type": "markdown",
      "metadata": {
        "id": "FMmDLiwxg3W1"
      },
      "source": [
        "Отсортируйте и выведите фрейм с колонками в алфавитном порядке:"
      ]
    },
    {
      "cell_type": "code",
      "metadata": {
        "id": "0rcW6H5qf70T",
        "outputId": "c6ced078-0e9b-4ee5-e54c-19078abc1c47",
        "colab": {
          "base_uri": "https://localhost:8080/",
          "height": 195
        }
      },
      "source": [
        "df = pd.DataFrame(np.random.randint(0, 10, size=(5, 6)), columns=list('fbecda'))\n",
        "\n",
        "# TODO - получите фрейм с отсортированными по именам колонкам (f e d c b a)\n",
        "# NOTE - сортировка должна быть автоматической\n",
        "df[list(df.columns.sort_values(ascending=False))]"
      ],
      "execution_count": 195,
      "outputs": [
        {
          "output_type": "execute_result",
          "data": {
            "text/html": [
              "<div>\n",
              "<style scoped>\n",
              "    .dataframe tbody tr th:only-of-type {\n",
              "        vertical-align: middle;\n",
              "    }\n",
              "\n",
              "    .dataframe tbody tr th {\n",
              "        vertical-align: top;\n",
              "    }\n",
              "\n",
              "    .dataframe thead th {\n",
              "        text-align: right;\n",
              "    }\n",
              "</style>\n",
              "<table border=\"1\" class=\"dataframe\">\n",
              "  <thead>\n",
              "    <tr style=\"text-align: right;\">\n",
              "      <th></th>\n",
              "      <th>f</th>\n",
              "      <th>e</th>\n",
              "      <th>d</th>\n",
              "      <th>c</th>\n",
              "      <th>b</th>\n",
              "      <th>a</th>\n",
              "    </tr>\n",
              "  </thead>\n",
              "  <tbody>\n",
              "    <tr>\n",
              "      <th>0</th>\n",
              "      <td>8</td>\n",
              "      <td>1</td>\n",
              "      <td>1</td>\n",
              "      <td>7</td>\n",
              "      <td>7</td>\n",
              "      <td>5</td>\n",
              "    </tr>\n",
              "    <tr>\n",
              "      <th>1</th>\n",
              "      <td>3</td>\n",
              "      <td>0</td>\n",
              "      <td>9</td>\n",
              "      <td>8</td>\n",
              "      <td>4</td>\n",
              "      <td>6</td>\n",
              "    </tr>\n",
              "    <tr>\n",
              "      <th>2</th>\n",
              "      <td>6</td>\n",
              "      <td>8</td>\n",
              "      <td>6</td>\n",
              "      <td>8</td>\n",
              "      <td>3</td>\n",
              "      <td>6</td>\n",
              "    </tr>\n",
              "    <tr>\n",
              "      <th>3</th>\n",
              "      <td>1</td>\n",
              "      <td>0</td>\n",
              "      <td>8</td>\n",
              "      <td>9</td>\n",
              "      <td>9</td>\n",
              "      <td>6</td>\n",
              "    </tr>\n",
              "    <tr>\n",
              "      <th>4</th>\n",
              "      <td>7</td>\n",
              "      <td>6</td>\n",
              "      <td>2</td>\n",
              "      <td>5</td>\n",
              "      <td>1</td>\n",
              "      <td>4</td>\n",
              "    </tr>\n",
              "  </tbody>\n",
              "</table>\n",
              "</div>"
            ],
            "text/plain": [
              "   f  e  d  c  b  a\n",
              "0  8  1  1  7  7  5\n",
              "1  3  0  9  8  4  6\n",
              "2  6  8  6  8  3  6\n",
              "3  1  0  8  9  9  6\n",
              "4  7  6  2  5  1  4"
            ]
          },
          "metadata": {
            "tags": []
          },
          "execution_count": 195
        }
      ]
    },
    {
      "cell_type": "markdown",
      "metadata": {
        "id": "sRobyGHAjlRm"
      },
      "source": [
        "Отобразите каждую 20ю запись во фрейме и только колонки `Manufacturer`, `Model`, `Type`:"
      ]
    },
    {
      "cell_type": "code",
      "metadata": {
        "id": "kNNS2B5ai9GU",
        "outputId": "0a820adf-5db2-4c19-9ba1-6acde4e61027",
        "colab": {
          "base_uri": "https://localhost:8080/",
          "height": 166
        }
      },
      "source": [
        "df = pd.read_csv('https://raw.githubusercontent.com/Kail4eK/ml_edu/master/datasets/Cars93_miss.csv')\n",
        "\n",
        "# TODO - отобразите запись с периодичностью во фрейме и определенные колонки\n",
        "df.iloc[20::20, :].loc[ :, ['Manufacturer', 'Model', 'Type']]"
      ],
      "execution_count": 177,
      "outputs": [
        {
          "output_type": "execute_result",
          "data": {
            "text/html": [
              "<div>\n",
              "<style scoped>\n",
              "    .dataframe tbody tr th:only-of-type {\n",
              "        vertical-align: middle;\n",
              "    }\n",
              "\n",
              "    .dataframe tbody tr th {\n",
              "        vertical-align: top;\n",
              "    }\n",
              "\n",
              "    .dataframe thead th {\n",
              "        text-align: right;\n",
              "    }\n",
              "</style>\n",
              "<table border=\"1\" class=\"dataframe\">\n",
              "  <thead>\n",
              "    <tr style=\"text-align: right;\">\n",
              "      <th></th>\n",
              "      <th>Manufacturer</th>\n",
              "      <th>Model</th>\n",
              "      <th>Type</th>\n",
              "    </tr>\n",
              "  </thead>\n",
              "  <tbody>\n",
              "    <tr>\n",
              "      <th>20</th>\n",
              "      <td>Chrysler</td>\n",
              "      <td>LeBaron</td>\n",
              "      <td>Compact</td>\n",
              "    </tr>\n",
              "    <tr>\n",
              "      <th>40</th>\n",
              "      <td>Honda</td>\n",
              "      <td>Prelude</td>\n",
              "      <td>Sporty</td>\n",
              "    </tr>\n",
              "    <tr>\n",
              "      <th>60</th>\n",
              "      <td>Mercury</td>\n",
              "      <td>Cougar</td>\n",
              "      <td>Midsize</td>\n",
              "    </tr>\n",
              "    <tr>\n",
              "      <th>80</th>\n",
              "      <td>Subaru</td>\n",
              "      <td>Loyale</td>\n",
              "      <td>Small</td>\n",
              "    </tr>\n",
              "  </tbody>\n",
              "</table>\n",
              "</div>"
            ],
            "text/plain": [
              "   Manufacturer    Model     Type\n",
              "20     Chrysler  LeBaron  Compact\n",
              "40        Honda  Prelude   Sporty\n",
              "60      Mercury   Cougar  Midsize\n",
              "80       Subaru   Loyale    Small"
            ]
          },
          "metadata": {
            "tags": []
          },
          "execution_count": 177
        }
      ]
    },
    {
      "cell_type": "markdown",
      "metadata": {
        "id": "im7s33LdkZPq"
      },
      "source": [
        "Получите ряд, который содержит длины строк:"
      ]
    },
    {
      "cell_type": "code",
      "metadata": {
        "id": "WKREEgzYj9Dv",
        "outputId": "55fac867-652b-4577-bc90-494d86d73fbc",
        "colab": {
          "base_uri": "https://localhost:8080/",
          "height": 101
        }
      },
      "source": [
        "ds = pd.Series(['how', 'to', 'use', 'pandas?'])\n",
        "\n",
        "# TODO - создайте ряд, содержащий длины строк:\n",
        "# 0    3\n",
        "# 1    2\n",
        "# 2    3\n",
        "# 3    7\n",
        "# dtype: int64\n",
        "ds.apply(lambda x: len(x))"
      ],
      "execution_count": 178,
      "outputs": [
        {
          "output_type": "execute_result",
          "data": {
            "text/plain": [
              "0    3\n",
              "1    2\n",
              "2    3\n",
              "3    7\n",
              "dtype: int64"
            ]
          },
          "metadata": {
            "tags": []
          },
          "execution_count": 178
        }
      ]
    },
    {
      "cell_type": "code",
      "metadata": {
        "id": "C7LrZvzjmjdE"
      },
      "source": [
        ""
      ],
      "execution_count": null,
      "outputs": []
    }
  ]
}